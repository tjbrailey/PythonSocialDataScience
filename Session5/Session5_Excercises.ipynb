{
  "cells": [
    {
      "cell_type": "markdown",
      "metadata": {
        "colab_type": "text",
        "id": "view-in-github"
      },
      "source": [
        "<a href=\"https://colab.research.google.com/github/aelshehawy/PythonSocialDataScience/blob/main/Session5_Excercises.ipynb\" target=\"_parent\"><img src=\"https://colab.research.google.com/assets/colab-badge.svg\" alt=\"Open In Colab\"/></a>"
      ]
    },
    {
      "cell_type": "markdown",
      "metadata": {
        "id": "1JLdC6fDZwuM"
      },
      "source": [
        "# Session 5 Excercises\n",
        "\n",
        "## Web Scraping"
      ]
    },
    {
      "cell_type": "markdown",
      "metadata": {
        "id": "Y52kc48IZwuM"
      },
      "source": [
        "**TASK: Import any libraries you think you'll need to scrape a website.**"
      ]
    },
    {
      "cell_type": "code",
      "execution_count": 2,
      "metadata": {
        "collapsed": true,
        "id": "sBhHv8MbZwuM"
      },
      "outputs": [],
      "source": [
        "# CODE HERE\n",
        "import pandas as pd \n",
        "import re\n",
        "from bs4 import BeautifulSoup\n",
        "import requests"
      ]
    },
    {
      "cell_type": "markdown",
      "metadata": {
        "id": "K9W3GWZ5ZwuN"
      },
      "source": [
        "**TASK: Use requests library and BeautifulSoup to connect to http://quotes.toscrape.com/ and get the HMTL text from the homepage.**"
      ]
    },
    {
      "cell_type": "code",
      "execution_count": 3,
      "metadata": {
        "collapsed": true,
        "id": "np-zfhC9ZwuN"
      },
      "outputs": [
        {
          "name": "stdout",
          "output_type": "stream",
          "text": [
            "<!DOCTYPE html>\n",
            "<html lang=\"en\">\n",
            "<head>\n",
            "\t<meta charset=\"UTF-8\">\n",
            "\t<title>Quotes to Scrape</title>\n",
            "    <link rel=\"stylesheet\" href=\"/static/bootstrap.min.css\">\n",
            "    <link rel=\"stylesheet\" href=\"/static/main.css\">\n",
            "</head>\n",
            "<body>\n",
            "    <div class=\"container\">\n",
            "        <div class=\"row header-box\">\n",
            "            <div class=\"col-md-8\">\n",
            "                <h1>\n",
            "                    <a href=\"/\" style=\"text-decoration: none\">Quotes to Scrape</a>\n",
            "                </h1>\n",
            "            </div>\n",
            "            <div class=\"col-md-4\">\n",
            "                <p>\n",
            "                \n",
            "                    <a href=\"/login\">Login</a>\n",
            "                \n",
            "                </p>\n",
            "            </div>\n",
            "        </div>\n",
            "    \n",
            "\n",
            "<div class=\"row\">\n",
            "    <div class=\"col-md-8\">\n",
            "\n",
            "    <div class=\"quote\" itemscope itemtype=\"http://schema.org/CreativeWork\">\n",
            "        <span class=\"text\" itemprop=\"text\">“The world as we have created it is a process of our thinking. It cannot be changed without changing our thinking.”</span>\n",
            "        <span>by <small class=\"author\" itemprop=\"author\">Albert Einstein</small>\n",
            "        <a href=\"/author/Albert-Einstein\">(about)</a>\n",
            "        </span>\n",
            "        <div class=\"tags\">\n",
            "            Tags:\n",
            "            <meta class=\"keywords\" itemprop=\"keywords\" content=\"change,deep-thoughts,thinking,world\" /    > \n",
            "            \n",
            "            <a class=\"tag\" href=\"/tag/change/page/1/\">change</a>\n",
            "            \n",
            "            <a class=\"tag\" href=\"/tag/deep-thoughts/page/1/\">deep-thoughts</a>\n",
            "            \n",
            "            <a class=\"tag\" href=\"/tag/thinking/page/1/\">thinking</a>\n",
            "            \n",
            "            <a class=\"tag\" href=\"/tag/world/page/1/\">world</a>\n",
            "            \n",
            "        </div>\n",
            "    </div>\n",
            "\n",
            "    <div class=\"quote\" itemscope itemtype=\"http://schema.org/CreativeWork\">\n",
            "        <span class=\"text\" itemprop=\"text\">“It is our choices, Harry, that show what we truly are, far more than our abilities.”</span>\n",
            "        <span>by <small class=\"author\" itemprop=\"author\">J.K. Rowling</small>\n",
            "        <a href=\"/author/J-K-Rowling\">(about)</a>\n",
            "        </span>\n",
            "        <div class=\"tags\">\n",
            "            Tags:\n",
            "            <meta class=\"keywords\" itemprop=\"keywords\" content=\"abilities,choices\" /    > \n",
            "            \n",
            "            <a class=\"tag\" href=\"/tag/abilities/page/1/\">abilities</a>\n",
            "            \n",
            "            <a class=\"tag\" href=\"/tag/choices/page/1/\">choices</a>\n",
            "            \n",
            "        </div>\n",
            "    </div>\n",
            "\n",
            "    <div class=\"quote\" itemscope itemtype=\"http://schema.org/CreativeWork\">\n",
            "        <span class=\"text\" itemprop=\"text\">“There are only two ways to live your life. One is as though nothing is a miracle. The other is as though everything is a miracle.”</span>\n",
            "        <span>by <small class=\"author\" itemprop=\"author\">Albert Einstein</small>\n",
            "        <a href=\"/author/Albert-Einstein\">(about)</a>\n",
            "        </span>\n",
            "        <div class=\"tags\">\n",
            "            Tags:\n",
            "            <meta class=\"keywords\" itemprop=\"keywords\" content=\"inspirational,life,live,miracle,miracles\" /    > \n",
            "            \n",
            "            <a class=\"tag\" href=\"/tag/inspirational/page/1/\">inspirational</a>\n",
            "            \n",
            "            <a class=\"tag\" href=\"/tag/life/page/1/\">life</a>\n",
            "            \n",
            "            <a class=\"tag\" href=\"/tag/live/page/1/\">live</a>\n",
            "            \n",
            "            <a class=\"tag\" href=\"/tag/miracle/page/1/\">miracle</a>\n",
            "            \n",
            "            <a class=\"tag\" href=\"/tag/miracles/page/1/\">miracles</a>\n",
            "            \n",
            "        </div>\n",
            "    </div>\n",
            "\n",
            "    <div class=\"quote\" itemscope itemtype=\"http://schema.org/CreativeWork\">\n",
            "        <span class=\"text\" itemprop=\"text\">“The person, be it gentleman or lady, who has not pleasure in a good novel, must be intolerably stupid.”</span>\n",
            "        <span>by <small class=\"author\" itemprop=\"author\">Jane Austen</small>\n",
            "        <a href=\"/author/Jane-Austen\">(about)</a>\n",
            "        </span>\n",
            "        <div class=\"tags\">\n",
            "            Tags:\n",
            "            <meta class=\"keywords\" itemprop=\"keywords\" content=\"aliteracy,books,classic,humor\" /    > \n",
            "            \n",
            "            <a class=\"tag\" href=\"/tag/aliteracy/page/1/\">aliteracy</a>\n",
            "            \n",
            "            <a class=\"tag\" href=\"/tag/books/page/1/\">books</a>\n",
            "            \n",
            "            <a class=\"tag\" href=\"/tag/classic/page/1/\">classic</a>\n",
            "            \n",
            "            <a class=\"tag\" href=\"/tag/humor/page/1/\">humor</a>\n",
            "            \n",
            "        </div>\n",
            "    </div>\n",
            "\n",
            "    <div class=\"quote\" itemscope itemtype=\"http://schema.org/CreativeWork\">\n",
            "        <span class=\"text\" itemprop=\"text\">“Imperfection is beauty, madness is genius and it&#39;s better to be absolutely ridiculous than absolutely boring.”</span>\n",
            "        <span>by <small class=\"author\" itemprop=\"author\">Marilyn Monroe</small>\n",
            "        <a href=\"/author/Marilyn-Monroe\">(about)</a>\n",
            "        </span>\n",
            "        <div class=\"tags\">\n",
            "            Tags:\n",
            "            <meta class=\"keywords\" itemprop=\"keywords\" content=\"be-yourself,inspirational\" /    > \n",
            "            \n",
            "            <a class=\"tag\" href=\"/tag/be-yourself/page/1/\">be-yourself</a>\n",
            "            \n",
            "            <a class=\"tag\" href=\"/tag/inspirational/page/1/\">inspirational</a>\n",
            "            \n",
            "        </div>\n",
            "    </div>\n",
            "\n",
            "    <div class=\"quote\" itemscope itemtype=\"http://schema.org/CreativeWork\">\n",
            "        <span class=\"text\" itemprop=\"text\">“Try not to become a man of success. Rather become a man of value.”</span>\n",
            "        <span>by <small class=\"author\" itemprop=\"author\">Albert Einstein</small>\n",
            "        <a href=\"/author/Albert-Einstein\">(about)</a>\n",
            "        </span>\n",
            "        <div class=\"tags\">\n",
            "            Tags:\n",
            "            <meta class=\"keywords\" itemprop=\"keywords\" content=\"adulthood,success,value\" /    > \n",
            "            \n",
            "            <a class=\"tag\" href=\"/tag/adulthood/page/1/\">adulthood</a>\n",
            "            \n",
            "            <a class=\"tag\" href=\"/tag/success/page/1/\">success</a>\n",
            "            \n",
            "            <a class=\"tag\" href=\"/tag/value/page/1/\">value</a>\n",
            "            \n",
            "        </div>\n",
            "    </div>\n",
            "\n",
            "    <div class=\"quote\" itemscope itemtype=\"http://schema.org/CreativeWork\">\n",
            "        <span class=\"text\" itemprop=\"text\">“It is better to be hated for what you are than to be loved for what you are not.”</span>\n",
            "        <span>by <small class=\"author\" itemprop=\"author\">André Gide</small>\n",
            "        <a href=\"/author/Andre-Gide\">(about)</a>\n",
            "        </span>\n",
            "        <div class=\"tags\">\n",
            "            Tags:\n",
            "            <meta class=\"keywords\" itemprop=\"keywords\" content=\"life,love\" /    > \n",
            "            \n",
            "            <a class=\"tag\" href=\"/tag/life/page/1/\">life</a>\n",
            "            \n",
            "            <a class=\"tag\" href=\"/tag/love/page/1/\">love</a>\n",
            "            \n",
            "        </div>\n",
            "    </div>\n",
            "\n",
            "    <div class=\"quote\" itemscope itemtype=\"http://schema.org/CreativeWork\">\n",
            "        <span class=\"text\" itemprop=\"text\">“I have not failed. I&#39;ve just found 10,000 ways that won&#39;t work.”</span>\n",
            "        <span>by <small class=\"author\" itemprop=\"author\">Thomas A. Edison</small>\n",
            "        <a href=\"/author/Thomas-A-Edison\">(about)</a>\n",
            "        </span>\n",
            "        <div class=\"tags\">\n",
            "            Tags:\n",
            "            <meta class=\"keywords\" itemprop=\"keywords\" content=\"edison,failure,inspirational,paraphrased\" /    > \n",
            "            \n",
            "            <a class=\"tag\" href=\"/tag/edison/page/1/\">edison</a>\n",
            "            \n",
            "            <a class=\"tag\" href=\"/tag/failure/page/1/\">failure</a>\n",
            "            \n",
            "            <a class=\"tag\" href=\"/tag/inspirational/page/1/\">inspirational</a>\n",
            "            \n",
            "            <a class=\"tag\" href=\"/tag/paraphrased/page/1/\">paraphrased</a>\n",
            "            \n",
            "        </div>\n",
            "    </div>\n",
            "\n",
            "    <div class=\"quote\" itemscope itemtype=\"http://schema.org/CreativeWork\">\n",
            "        <span class=\"text\" itemprop=\"text\">“A woman is like a tea bag; you never know how strong it is until it&#39;s in hot water.”</span>\n",
            "        <span>by <small class=\"author\" itemprop=\"author\">Eleanor Roosevelt</small>\n",
            "        <a href=\"/author/Eleanor-Roosevelt\">(about)</a>\n",
            "        </span>\n",
            "        <div class=\"tags\">\n",
            "            Tags:\n",
            "            <meta class=\"keywords\" itemprop=\"keywords\" content=\"misattributed-eleanor-roosevelt\" /    > \n",
            "            \n",
            "            <a class=\"tag\" href=\"/tag/misattributed-eleanor-roosevelt/page/1/\">misattributed-eleanor-roosevelt</a>\n",
            "            \n",
            "        </div>\n",
            "    </div>\n",
            "\n",
            "    <div class=\"quote\" itemscope itemtype=\"http://schema.org/CreativeWork\">\n",
            "        <span class=\"text\" itemprop=\"text\">“A day without sunshine is like, you know, night.”</span>\n",
            "        <span>by <small class=\"author\" itemprop=\"author\">Steve Martin</small>\n",
            "        <a href=\"/author/Steve-Martin\">(about)</a>\n",
            "        </span>\n",
            "        <div class=\"tags\">\n",
            "            Tags:\n",
            "            <meta class=\"keywords\" itemprop=\"keywords\" content=\"humor,obvious,simile\" /    > \n",
            "            \n",
            "            <a class=\"tag\" href=\"/tag/humor/page/1/\">humor</a>\n",
            "            \n",
            "            <a class=\"tag\" href=\"/tag/obvious/page/1/\">obvious</a>\n",
            "            \n",
            "            <a class=\"tag\" href=\"/tag/simile/page/1/\">simile</a>\n",
            "            \n",
            "        </div>\n",
            "    </div>\n",
            "\n",
            "    <nav>\n",
            "        <ul class=\"pager\">\n",
            "            \n",
            "            \n",
            "            <li class=\"next\">\n",
            "                <a href=\"/page/2/\">Next <span aria-hidden=\"true\">&rarr;</span></a>\n",
            "            </li>\n",
            "            \n",
            "        </ul>\n",
            "    </nav>\n",
            "    </div>\n",
            "    <div class=\"col-md-4 tags-box\">\n",
            "        \n",
            "            <h2>Top Ten tags</h2>\n",
            "            \n",
            "            <span class=\"tag-item\">\n",
            "            <a class=\"tag\" style=\"font-size: 28px\" href=\"/tag/love/\">love</a>\n",
            "            </span>\n",
            "            \n",
            "            <span class=\"tag-item\">\n",
            "            <a class=\"tag\" style=\"font-size: 26px\" href=\"/tag/inspirational/\">inspirational</a>\n",
            "            </span>\n",
            "            \n",
            "            <span class=\"tag-item\">\n",
            "            <a class=\"tag\" style=\"font-size: 26px\" href=\"/tag/life/\">life</a>\n",
            "            </span>\n",
            "            \n",
            "            <span class=\"tag-item\">\n",
            "            <a class=\"tag\" style=\"font-size: 24px\" href=\"/tag/humor/\">humor</a>\n",
            "            </span>\n",
            "            \n",
            "            <span class=\"tag-item\">\n",
            "            <a class=\"tag\" style=\"font-size: 22px\" href=\"/tag/books/\">books</a>\n",
            "            </span>\n",
            "            \n",
            "            <span class=\"tag-item\">\n",
            "            <a class=\"tag\" style=\"font-size: 14px\" href=\"/tag/reading/\">reading</a>\n",
            "            </span>\n",
            "            \n",
            "            <span class=\"tag-item\">\n",
            "            <a class=\"tag\" style=\"font-size: 10px\" href=\"/tag/friendship/\">friendship</a>\n",
            "            </span>\n",
            "            \n",
            "            <span class=\"tag-item\">\n",
            "            <a class=\"tag\" style=\"font-size: 8px\" href=\"/tag/friends/\">friends</a>\n",
            "            </span>\n",
            "            \n",
            "            <span class=\"tag-item\">\n",
            "            <a class=\"tag\" style=\"font-size: 8px\" href=\"/tag/truth/\">truth</a>\n",
            "            </span>\n",
            "            \n",
            "            <span class=\"tag-item\">\n",
            "            <a class=\"tag\" style=\"font-size: 6px\" href=\"/tag/simile/\">simile</a>\n",
            "            </span>\n",
            "            \n",
            "        \n",
            "    </div>\n",
            "</div>\n",
            "\n",
            "    </div>\n",
            "    <footer class=\"footer\">\n",
            "        <div class=\"container\">\n",
            "            <p class=\"text-muted\">\n",
            "                Quotes by: <a href=\"https://www.goodreads.com/quotes\">GoodReads.com</a>\n",
            "            </p>\n",
            "            <p class=\"copyright\">\n",
            "                Made with <span class='sh-red'>❤</span> by <a href=\"https://scrapinghub.com\">Scrapinghub</a>\n",
            "            </p>\n",
            "        </div>\n",
            "    </footer>\n",
            "</body>\n",
            "</html>\n"
          ]
        }
      ],
      "source": [
        "# CODE HERE\n",
        "url = \"http://quotes.toscrape.com/\"\n",
        "\n",
        "session = requests.Session()\n",
        "\n",
        "page = session.get(url)\n",
        "print(page.text)\n"
      ]
    },
    {
      "cell_type": "code",
      "execution_count": 4,
      "metadata": {},
      "outputs": [
        {
          "data": {
            "text/plain": [
              "[<a href=\"/\" style=\"text-decoration: none\">Quotes to Scrape</a>,\n",
              " <a href=\"/login\">Login</a>,\n",
              " <a href=\"/author/Albert-Einstein\">(about)</a>,\n",
              " <a class=\"tag\" href=\"/tag/change/page/1/\">change</a>,\n",
              " <a class=\"tag\" href=\"/tag/deep-thoughts/page/1/\">deep-thoughts</a>,\n",
              " <a class=\"tag\" href=\"/tag/thinking/page/1/\">thinking</a>,\n",
              " <a class=\"tag\" href=\"/tag/world/page/1/\">world</a>,\n",
              " <a href=\"/author/J-K-Rowling\">(about)</a>,\n",
              " <a class=\"tag\" href=\"/tag/abilities/page/1/\">abilities</a>,\n",
              " <a class=\"tag\" href=\"/tag/choices/page/1/\">choices</a>,\n",
              " <a href=\"/author/Albert-Einstein\">(about)</a>,\n",
              " <a class=\"tag\" href=\"/tag/inspirational/page/1/\">inspirational</a>,\n",
              " <a class=\"tag\" href=\"/tag/life/page/1/\">life</a>,\n",
              " <a class=\"tag\" href=\"/tag/live/page/1/\">live</a>,\n",
              " <a class=\"tag\" href=\"/tag/miracle/page/1/\">miracle</a>,\n",
              " <a class=\"tag\" href=\"/tag/miracles/page/1/\">miracles</a>,\n",
              " <a href=\"/author/Jane-Austen\">(about)</a>,\n",
              " <a class=\"tag\" href=\"/tag/aliteracy/page/1/\">aliteracy</a>,\n",
              " <a class=\"tag\" href=\"/tag/books/page/1/\">books</a>,\n",
              " <a class=\"tag\" href=\"/tag/classic/page/1/\">classic</a>,\n",
              " <a class=\"tag\" href=\"/tag/humor/page/1/\">humor</a>,\n",
              " <a href=\"/author/Marilyn-Monroe\">(about)</a>,\n",
              " <a class=\"tag\" href=\"/tag/be-yourself/page/1/\">be-yourself</a>,\n",
              " <a class=\"tag\" href=\"/tag/inspirational/page/1/\">inspirational</a>,\n",
              " <a href=\"/author/Albert-Einstein\">(about)</a>,\n",
              " <a class=\"tag\" href=\"/tag/adulthood/page/1/\">adulthood</a>,\n",
              " <a class=\"tag\" href=\"/tag/success/page/1/\">success</a>,\n",
              " <a class=\"tag\" href=\"/tag/value/page/1/\">value</a>,\n",
              " <a href=\"/author/Andre-Gide\">(about)</a>,\n",
              " <a class=\"tag\" href=\"/tag/life/page/1/\">life</a>,\n",
              " <a class=\"tag\" href=\"/tag/love/page/1/\">love</a>,\n",
              " <a href=\"/author/Thomas-A-Edison\">(about)</a>,\n",
              " <a class=\"tag\" href=\"/tag/edison/page/1/\">edison</a>,\n",
              " <a class=\"tag\" href=\"/tag/failure/page/1/\">failure</a>,\n",
              " <a class=\"tag\" href=\"/tag/inspirational/page/1/\">inspirational</a>,\n",
              " <a class=\"tag\" href=\"/tag/paraphrased/page/1/\">paraphrased</a>,\n",
              " <a href=\"/author/Eleanor-Roosevelt\">(about)</a>,\n",
              " <a class=\"tag\" href=\"/tag/misattributed-eleanor-roosevelt/page/1/\">misattributed-eleanor-roosevelt</a>,\n",
              " <a href=\"/author/Steve-Martin\">(about)</a>,\n",
              " <a class=\"tag\" href=\"/tag/humor/page/1/\">humor</a>,\n",
              " <a class=\"tag\" href=\"/tag/obvious/page/1/\">obvious</a>,\n",
              " <a class=\"tag\" href=\"/tag/simile/page/1/\">simile</a>,\n",
              " <a href=\"/page/2/\">Next <span aria-hidden=\"true\">→</span></a>,\n",
              " <a class=\"tag\" href=\"/tag/love/\" style=\"font-size: 28px\">love</a>,\n",
              " <a class=\"tag\" href=\"/tag/inspirational/\" style=\"font-size: 26px\">inspirational</a>,\n",
              " <a class=\"tag\" href=\"/tag/life/\" style=\"font-size: 26px\">life</a>,\n",
              " <a class=\"tag\" href=\"/tag/humor/\" style=\"font-size: 24px\">humor</a>,\n",
              " <a class=\"tag\" href=\"/tag/books/\" style=\"font-size: 22px\">books</a>,\n",
              " <a class=\"tag\" href=\"/tag/reading/\" style=\"font-size: 14px\">reading</a>,\n",
              " <a class=\"tag\" href=\"/tag/friendship/\" style=\"font-size: 10px\">friendship</a>,\n",
              " <a class=\"tag\" href=\"/tag/friends/\" style=\"font-size: 8px\">friends</a>,\n",
              " <a class=\"tag\" href=\"/tag/truth/\" style=\"font-size: 8px\">truth</a>,\n",
              " <a class=\"tag\" href=\"/tag/simile/\" style=\"font-size: 6px\">simile</a>,\n",
              " <a href=\"https://www.goodreads.com/quotes\">GoodReads.com</a>,\n",
              " <a href=\"https://scrapinghub.com\">Scrapinghub</a>]"
            ]
          },
          "execution_count": 4,
          "metadata": {},
          "output_type": "execute_result"
        }
      ],
      "source": [
        "\n",
        "soup = BeautifulSoup(page.text, \"html.parser\")\n",
        "\n",
        "links=soup.find_all(\"a\",href=True)\n",
        "\n",
        "links\n",
        "\n"
      ]
    },
    {
      "cell_type": "code",
      "execution_count": 10,
      "metadata": {},
      "outputs": [
        {
          "name": "stdout",
          "output_type": "stream",
          "text": [
            "Albert Einstein\n",
            "J.K. Rowling\n",
            "Albert Einstein\n",
            "Jane Austen\n",
            "Marilyn Monroe\n",
            "Albert Einstein\n",
            "André Gide\n",
            "Thomas A. Edison\n",
            "Eleanor Roosevelt\n",
            "Steve Martin\n"
          ]
        }
      ],
      "source": [
        "\n"
      ]
    },
    {
      "cell_type": "markdown",
      "metadata": {
        "id": "ZQm2706BZwuO"
      },
      "source": [
        "**TASK: Get the names of all the authors on the first page.**"
      ]
    },
    {
      "cell_type": "code",
      "execution_count": 14,
      "metadata": {},
      "outputs": [
        {
          "name": "stdout",
          "output_type": "stream",
          "text": [
            "Albert Einstein\n",
            "J.K. Rowling\n",
            "Albert Einstein\n",
            "Jane Austen\n",
            "Marilyn Monroe\n",
            "Albert Einstein\n",
            "André Gide\n",
            "Thomas A. Edison\n",
            "Eleanor Roosevelt\n",
            "Steve Martin\n"
          ]
        }
      ],
      "source": [
        "for i in soup.findAll(\"div\",{\"class\": \"quote\"}):\n",
        "    print((i.find(\"small\", {\"class\": \"author\"})).text)\n"
      ]
    },
    {
      "cell_type": "code",
      "execution_count": 17,
      "metadata": {},
      "outputs": [
        {
          "data": {
            "text/plain": [
              "{'Albert Einstein',\n",
              " 'André Gide',\n",
              " 'Eleanor Roosevelt',\n",
              " 'J.K. Rowling',\n",
              " 'Jane Austen',\n",
              " 'Marilyn Monroe',\n",
              " 'Steve Martin',\n",
              " 'Thomas A. Edison'}"
            ]
          },
          "execution_count": 17,
          "metadata": {},
          "output_type": "execute_result"
        }
      ],
      "source": [
        "soup.select(\".author\")\n",
        "authors = set()\n",
        "for name in soup.select(\".author\"):\n",
        "    authors.add(name.text)\n",
        "authors"
      ]
    },
    {
      "cell_type": "markdown",
      "metadata": {
        "id": "T7afN_I6ZwuP"
      },
      "source": [
        "**TASK: Create a list of all the quotes on the first page.**"
      ]
    },
    {
      "cell_type": "code",
      "execution_count": 13,
      "metadata": {
        "collapsed": true,
        "id": "U3RA1ZWlZwuP"
      },
      "outputs": [
        {
          "name": "stdout",
          "output_type": "stream",
          "text": [
            "“The world as we have created it is a process of our thinking. It cannot be changed without changing our thinking.”\n",
            "“It is our choices, Harry, that show what we truly are, far more than our abilities.”\n",
            "“There are only two ways to live your life. One is as though nothing is a miracle. The other is as though everything is a miracle.”\n",
            "“The person, be it gentleman or lady, who has not pleasure in a good novel, must be intolerably stupid.”\n",
            "“Imperfection is beauty, madness is genius and it's better to be absolutely ridiculous than absolutely boring.”\n",
            "“Try not to become a man of success. Rather become a man of value.”\n",
            "“It is better to be hated for what you are than to be loved for what you are not.”\n",
            "“I have not failed. I've just found 10,000 ways that won't work.”\n",
            "“A woman is like a tea bag; you never know how strong it is until it's in hot water.”\n",
            "“A day without sunshine is like, you know, night.”\n"
          ]
        }
      ],
      "source": [
        "quotes = soup.find_all('div', {'class': 'quote'})\n",
        "quotes\n",
        "for i in quotes:\n",
        "    print((i.find('span', {'class':'text'})).text)"
      ]
    },
    {
      "cell_type": "markdown",
      "metadata": {
        "id": "FgMcoKsbZwuR"
      },
      "source": [
        "There are lots of other potential solutions that are even more robust and flexible, the main idea is the same though, use a while loop to cycle through potential pages and have a break condition based on the invalid page."
      ]
    }
  ],
  "metadata": {
    "colab": {
      "include_colab_link": true,
      "provenance": []
    },
    "kernelspec": {
      "display_name": "py38",
      "language": "python",
      "name": "python3"
    },
    "language_info": {
      "codemirror_mode": {
        "name": "ipython",
        "version": 3
      },
      "file_extension": ".py",
      "mimetype": "text/x-python",
      "name": "python",
      "nbconvert_exporter": "python",
      "pygments_lexer": "ipython3",
      "version": "3.8.13"
    },
    "vscode": {
      "interpreter": {
        "hash": "bc78925e4e04b0d8d1e3f63c6d3274eb1d31795a10ccbdd7685240eaba8fc97b"
      }
    }
  },
  "nbformat": 4,
  "nbformat_minor": 0
}
