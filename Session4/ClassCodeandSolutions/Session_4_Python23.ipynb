{
  "cells": [
    {
      "cell_type": "markdown",
      "metadata": {
        "colab_type": "text",
        "id": "view-in-github"
      },
      "source": [
        "<a href=\"https://colab.research.google.com/github/aelshehawy/PythonSocialDataScience/blob/main/Session_4_Python23.ipynb\" target=\"_parent\"><img src=\"https://colab.research.google.com/assets/colab-badge.svg\" alt=\"Open In Colab\"/></a>"
      ]
    },
    {
      "cell_type": "markdown",
      "metadata": {
        "id": "2oLphy7kHCju"
      },
      "source": [
        "Today's session:\n",
        "\n",
        "\n",
        "2. Loading in data to Python\n",
        "3. Pandas Operations\n",
        "4. Data Visualization\n"
      ]
    },
    {
      "cell_type": "markdown",
      "metadata": {
        "id": "3WNXFI2fto9O"
      },
      "source": [
        "\n",
        "\n",
        "---\n",
        "\n",
        "<br>\n",
        "<br>\n",
        "**Fast repition of Looping, strings & lists**"
      ]
    },
    {
      "cell_type": "code",
      "execution_count": 2,
      "metadata": {
        "id": "_JZ5rKg0td13"
      },
      "outputs": [
        {
          "name": "stdout",
          "output_type": "stream",
          "text": [
            "Provides for the enforcement of all provisions of law that impose sanctions against countries engaged in gross violations of human rights and that support terrorism against Iraq. Calls on the President to seek multilateral cooperation to: (1) deny dangerous technologies to Iraq; and\n"
          ]
        }
      ],
      "source": [
        "#we want to start with a single string object - once we write sth we like, we scale up \n",
        "s1=\"Provides for the enforcement of all provisions of law that impose sanctions against countries engaged in gross violations of human rights and that support terrorism against Iraq. Calls on the President to seek multilateral cooperation to: (1) deny dangerous technologies to Iraq; and\"\n",
        "print(s1)"
      ]
    },
    {
      "cell_type": "code",
      "execution_count": 4,
      "metadata": {
        "collapsed": true,
        "id": "17p4KZCftd15"
      },
      "outputs": [],
      "source": [
        "# we define a list of women-related words - we put in Iraq. to make sure the test works (we will drop it later)\n",
        "female_dict=[\"woman\",\"women\",\"female\",\"girl\",\"girls\",\"Iraq\"]"
      ]
    },
    {
      "cell_type": "code",
      "execution_count": null,
      "metadata": {
        "id": "DTedp3GrbwqB"
      },
      "outputs": [],
      "source": [
        "#I want to print out only the hits from the dictionary how do I do that?"
      ]
    },
    {
      "cell_type": "code",
      "execution_count": 9,
      "metadata": {
        "id": "3F51AIQ8cOVm"
      },
      "outputs": [
        {
          "data": {
            "text/plain": [
              "[]"
            ]
          },
          "execution_count": 9,
          "metadata": {},
          "output_type": "execute_result"
        }
      ],
      "source": [
        "# initiate empty list\n",
        "female_string_match = []\n",
        "\n",
        "for word1 in s1.split():\n",
        "    for word2 in female_dict:\n",
        "        if word1 == word2:\n",
        "            female_string_match.append(word1)\n",
        "\n",
        "female_string_match"
      ]
    },
    {
      "cell_type": "markdown",
      "metadata": {
        "id": "6KTGsXKYwlXZ"
      },
      "source": [
        "\n",
        "# Loading Data in Python"
      ]
    },
    {
      "cell_type": "markdown",
      "metadata": {
        "id": "T3-nT0pHwlXZ"
      },
      "source": [
        "- First thing to think about is to specifcy the working directory. I am going to show you how to do that\n",
        "- we want to open the file obamaincairo.txt - This is a famous speech that Obama gave at Cairo University, was discussed a lot in Egyptian Media.\n",
        "\n",
        "**In general we want to learn how to:**\n",
        "\n",
        "``Open, read, save in var, close``"
      ]
    },
    {
      "cell_type": "markdown",
      "metadata": {
        "id": "vgZbItQIwlXa"
      },
      "source": [
        "## This is the basic syntax to open python file \n",
        "```file_object  = open(\"filename\", \"mode\") ```"
      ]
    },
    {
      "cell_type": "code",
      "execution_count": 10,
      "metadata": {
        "id": "6vvaaViVy3bw"
      },
      "outputs": [
        {
          "ename": "ModuleNotFoundError",
          "evalue": "No module named 'google.colab'",
          "output_type": "error",
          "traceback": [
            "\u001b[1;31m---------------------------------------------------------------------------\u001b[0m",
            "\u001b[1;31mModuleNotFoundError\u001b[0m                       Traceback (most recent call last)",
            "\u001b[1;32mc:\\Users\\tbrai\\Dropbox\\github_private\\PythonSocialDataScience\\Session4\\Session_4_Python23.ipynb Cell 11\u001b[0m in \u001b[0;36m<cell line: 1>\u001b[1;34m()\u001b[0m\n\u001b[1;32m----> <a href='vscode-notebook-cell:/c%3A/Users/tbrai/Dropbox/github_private/PythonSocialDataScience/Session4/Session_4_Python23.ipynb#X13sZmlsZQ%3D%3D?line=0'>1</a>\u001b[0m \u001b[39mfrom\u001b[39;00m \u001b[39mgoogle\u001b[39;00m\u001b[39m.\u001b[39;00m\u001b[39mcolab\u001b[39;00m \u001b[39mimport\u001b[39;00m drive\n\u001b[0;32m      <a href='vscode-notebook-cell:/c%3A/Users/tbrai/Dropbox/github_private/PythonSocialDataScience/Session4/Session_4_Python23.ipynb#X13sZmlsZQ%3D%3D?line=1'>2</a>\u001b[0m drive\u001b[39m.\u001b[39mmount(\u001b[39m'\u001b[39m\u001b[39m/content/drive\u001b[39m\u001b[39m'\u001b[39m)\n",
            "\u001b[1;31mModuleNotFoundError\u001b[0m: No module named 'google.colab'"
          ]
        }
      ],
      "source": []
    },
    {
      "cell_type": "code",
      "execution_count": 1,
      "metadata": {
        "id": "gHUDcpCSzD6X"
      },
      "outputs": [
        {
          "name": "stdout",
          "output_type": "stream",
          "text": [
            "PRESIDENT OBAMA:  Thank you very much.  Good afternoon.  I am honored to be in the timeless city of Cairo, and to be hosted by two remarkable institutions.  For over a thousand years, Al-Azhar has stood as a beacon of Islamic learning; and for over a century, Cairo University has been a source of Egypt's advancement.  And together, you represent the harmony between tradition and progress.  I'm grateful for your hospitality, and the hospitality of the people of Egypt.  And I'm also proud to carry with me the goodwill of the American people, and a greeting of peace from Muslim communities in my country:  Assalaamu alaykum. (Applause.)\n",
            "We meet at a time of great tension between the United States and Muslims around the world -- tension rooted in historical forces that go beyond any current policy debate.  The relationship between Islam and the West includes centuries of coexistence and cooperation, but also conflict and religious wars.  More recently, tension has been fed by colonialism that denied rights and opportunities to many Muslims, and a Cold War in which Muslim-majority countries were too often treated as proxies without regard to their own aspirations.  Moreover, the sweeping change brought by modernity and globalization led many Muslims to view the West as hostile to the traditions of Islam.\n",
            "Violent extremists have exploited these tensions in a small but potent minority of Muslims.  The attacks of September 11, 2001 and the continued efforts of these extremists to engage in violence against civilians has led some in my country to view Islam as inevitably hostile not only to America and Western countries, but also to human rights.  All this has bred more fear and more mistrust.\n",
            "So long as our relationship is defined by our differences, we will empower those who sow hatred rather than peace, those who promote conflict rather than the cooperation that can help all of our people achieve justice and prosperity.  And this cycle of suspicion and discord must end.\n",
            "I've come here to Cairo to seek a new beginning between the United States and Muslims around the world, one based on mutual interest and mutual respect, and one based upon the truth that America and Islam are not exclusive and need not be in competition.  Instead, they overlap, and share common principles -- principles of justice and progress; tolerance and the dignity of all human beings.\n",
            "I do so recognizing that change cannot happen overnight.  I know there's been a lot of publicity about this speech, but no single speech can eradicate years of mistrust, nor can I answer in the time that I have this afternoon all the complex questions that brought us to this point.  But I am convinced that in order to move forward, we must say openly to each other the things we hold in our hearts and that too often are said only behind closed doors.  There must be a sustained effort to listen to each other; to learn from each other; to respect one another; and to seek common ground.  As the Holy Koran tells us, \"Be conscious of God and speak always the truth.\"  (Applause.)  That is what I will try to do today -- to speak the truth as best I can, humbled by the task before us, and firm in my belief that the interests we share as human beings are far more powerful than the forces that drive us apart.\n",
            "Now part of this conviction is rooted in my own experience. I'm a Christian, but my father came from a Kenyan family that includes generations of Muslims.  As a boy, I spent several years in Indonesia and heard the call of the azaan at the break of dawn and at the fall of dusk.  As a young man, I worked in Chicago communities where many found dignity and peace in their Muslim faith.\n",
            "As a student of history, I also know civilization's debt to Islam.  It was Islam -- at places like Al-Azhar -- that carried the light of learning through so many centuries, paving the way for Europe's Renaissance and Enlightenment.  It was innovation in Muslim communities -- (applause) -- it was innovation in Muslim communities that developed the order of algebra; our magnetic compass and tools of navigation; our mastery of pens and printing; our understanding of how disease spreads and how it can be healed.  Islamic culture has given us majestic arches and soaring spires; timeless poetry and cherished music; elegant calligraphy and places of peaceful contemplation.  And throughout history, Islam has demonstrated through words and deeds the possibilities of religious tolerance and racial equality.  (Applause.)\n",
            "I also know that Islam has always been a part of America's story.  The first nation to recognize my country was Morocco.  In signing the Treaty of Tripoli in 1796, our second President, John Adams, wrote, \"The United States has in itself no character of enmity against the laws, religion or tranquility of Muslims.\"  And since our founding, American Muslims have enriched the United States.  They have fought in our wars, they have served in our government, they have stood for civil rights, they have started businesses, they have taught at our universities, they've excelled in our sports arenas, they've won Nobel Prizes, built our tallest building, and lit the Olympic Torch.  And when the first Muslim American was recently elected to Congress, he took the oath to defend our Constitution using the same Holy Koran that one of our Founding Fathers -- Thomas Jefferson -- kept in his personal library.  (Applause.)\n",
            "So I have known Islam on three continents before coming to the region where it was first revealed.  That experience guides my conviction that partnership between America and Islam must be based on what Islam is, not what it isn't.  And I consider it part of my responsibility as President of the United States to fight against negative stereotypes of Islam wherever they appear. (Applause.)\n",
            "But that same principle must apply to Muslim perceptions of America.  (Applause.)  Just as Muslims do not fit a crude stereotype, America is not the crude stereotype of a self-interested empire.  The United States has been one of the greatest sources of progress that the world has ever known.  We were born out of revolution against an empire.  We were founded upon the ideal that all are created equal, and we have shed blood and struggled for centuries to give meaning to those words -- within our borders, and around the world.  We are shaped by every culture, drawn from every end of the Earth, and dedicated to a simple concept:  E pluribus unum -- \"Out of many, one.\"  \n",
            "Now, much has been made of the fact that an African American with the name Barack Hussein Obama could be elected President.  (Applause.)  But my personal story is not so unique.  The dream of opportunity for all people has not come true for everyone in America, but its promise exists for all who come to our shores -- and that includes nearly 7 million American Muslims in our country today who, by the way, enjoy incomes and educational levels that are higher than the American average.  (Applause.)\n",
            "Moreover, freedom in America is indivisible from the freedom to practice one's religion.  That is why there is a mosque in every state in our union, and over 1,200 mosques within our borders.  That's why the United States government has gone to court to protect the right of women and girls to wear the hijab and to punish those who would deny it.  (Applause.)\n",
            "So let there be no doubt:  Islam is a part of America.  And I believe that America holds within her the truth that regardless of race, religion, or station in life, all of us share common aspirations -- to live in peace and security; to get an education and to work with dignity; to love our families, our communities, and our God.  These things we share.  This is the hope of all humanity.\n",
            "Of course, recognizing our common humanity is only the beginning of our task.  Words alone cannot meet the needs of our people.  These needs will be met only if we act boldly in the years ahead; and if we understand that the challenges we face are shared, and our failure to meet them will hurt us all.\n",
            "For we have learned from recent experience that when a financial system weakens in one country, prosperity is hurt everywhere.  When a new flu infects one human being, all are at risk.  When one nation pursues a nuclear weapon, the risk of nuclear attack rises for all nations.  When violent extremists operate in one stretch of mountains, people are endangered across an ocean.  When innocents in Bosnia and Darfur are slaughtered, that is a stain on our collective conscience.  (Applause.)  That is what it means to share this world in the 21st century.  That is the responsibility we have to one another as human beings.\n",
            "And this is a difficult responsibility to embrace.  For human history has often been a record of nations and tribes -- and, yes, religions -- subjugating one another in pursuit of their own interests.  Yet in this new age, such attitudes are self-defeating.  Given our interdependence, any world order that elevates one nation or group of people over another will inevitably fail.  So whatever we think of the past, we must not be prisoners to it.  Our problems must be dealt with through partnership; our progress must be shared.  (Applause.)\n",
            "Now, that does not mean we should ignore sources of tension. Indeed, it suggests the opposite:  We must face these tensions squarely.  And so in that spirit, let me speak as clearly and as plainly as I can about some specific issues that I believe we must finally confront together. \n",
            "The first issue that we have to confront is violent extremism in all of its forms.\n",
            "In Ankara, I made clear that America is not -- and never will be -- at war with Islam.  (Applause.)  We will, however, relentlessly confront violent extremists who pose a grave threat to our security -- because we reject the same thing that people of all faiths reject:  the killing of innocent men, women, and children.  And it is my first duty as President to protect the American people.\n",
            "The situation in Afghanistan demonstrates America's goals, and our need to work together.  Over seven years ago, the United States pursued al Qaeda and the Taliban with broad international support.  We did not go by choice; we went because of necessity. I'm aware that there's still some who would question or even justify the events of 9/11.  But let us be clear:  Al Qaeda killed nearly 3,000 people on that day.  The victims were innocent men, women and children from America and many other nations who had done nothing to harm anybody.  And yet al Qaeda chose to ruthlessly murder these people, claimed credit for the attack, and even now states their determination to kill on a massive scale.  They have affiliates in many countries and are trying to expand their reach.  These are not opinions to be debated; these are facts to be dealt with.\n",
            "Now, make no mistake:  We do not want to keep our troops in Afghanistan.  We see no military -- we seek no military bases there.  It is agonizing for America to lose our young men and women.  It is costly and politically difficult to continue this conflict.  We would gladly bring every single one of our troops home if we could be confident that there were not violent extremists in Afghanistan and now Pakistan determined to kill as many Americans as they possibly can.  But that is not yet the case.\n",
            "And that's why we're partnering with a coalition of 46 countries.  And despite the costs involved, America's commitment will not weaken.  Indeed, none of us should tolerate these extremists.  They have killed in many countries.  They have killed people of different faiths -- but more than any other, they have killed Muslims.  Their actions are irreconcilable with the rights of human beings, the progress of nations, and with Islam.  The Holy Koran teaches that whoever kills an innocent is as -- it is as if he has killed all mankind.  (Applause.)  And the Holy Koran also says whoever saves a person, it is as if he has saved all mankind.  (Applause.)  The enduring faith of over a billion people is so much bigger than the narrow hatred of a few. Islam is not part of the problem in combating violent extremism -- it is an important part of promoting peace. \n",
            "Now, we also know that military power alone is not going to solve the problems in Afghanistan and Pakistan.  That's why we plan to invest $1.5 billion each year over the next five years to partner with Pakistanis to build schools and hospitals, roads and businesses, and hundreds of millions to help those who've been displaced.  That's why we are providing more than $2.8 billion to help Afghans develop their economy and deliver services that people depend on.\n",
            "Let me also address the issue of Iraq.  Unlike Afghanistan, Iraq was a war of choice that provoked strong differences in my country and around the world.  Although I believe that the Iraqi people are ultimately better off without the tyranny of Saddam Hussein, I also believe that events in Iraq have reminded America of the need to use diplomacy and build international consensus to resolve our problems whenever possible.  (Applause.)  Indeed, we can recall the words of Thomas Jefferson, who said:  \"I hope that our wisdom will grow with our power, and teach us that the less we use our power the greater it will be.\"\n",
            "Today, America has a dual responsibility:  to help Iraq forge a better future -- and to leave Iraq to Iraqis.  And I have made it clear to the Iraqi people -- (applause) -- I have made it clear to the Iraqi people that we pursue no bases, and no claim on their territory or resources.  Iraq's sovereignty is its own. And that's why I ordered the removal of our combat brigades by next August.  That is why we will honor our agreement with Iraq's democratically elected government to remove combat troops from Iraqi cities by July, and to remove all of our troops from Iraq by 2012.  (Applause.)  We will help Iraq train its security forces and develop its economy.  But we will support a secure and united Iraq as a partner, and never as a patron.\n",
            "And finally, just as America can never tolerate violence by extremists, we must never alter or forget our principles.  Nine-eleven was an enormous trauma to our country.  The fear and anger that it provoked was understandable, but in some cases, it led us to act contrary to our traditions and our ideals.  We are taking concrete actions to change course.  I have unequivocally prohibited the use of torture by the United States, and I have ordered the prison at Guantanamo Bay closed by early next year.  (Applause.)\n",
            "So America will defend itself, respectful of the sovereignty of nations and the rule of law.  And we will do so in partnership with Muslim communities which are also threatened.  The sooner the extremists are isolated and unwelcome in Muslim communities, the sooner we will all be safer.\n",
            "The second major source of tension that we need to discuss is the situation between Israelis, Palestinians and the Arab world.\n",
            "America's strong bonds with Israel are well known.  This bond is unbreakable.  It is based upon cultural and historical ties, and the recognition that the aspiration for a Jewish homeland is rooted in a tragic history that cannot be denied.\n",
            "Around the world, the Jewish people were persecuted for centuries, and anti-Semitism in Europe culminated in an unprecedented Holocaust.  Tomorrow, I will visit Buchenwald, which was part of a network of camps where Jews were enslaved, tortured, shot and gassed to death by the Third Reich.  Six million Jews were killed -- more than the entire Jewish population of Israel today.  Denying that fact is baseless, it is ignorant, and it is hateful.  Threatening Israel with destruction -- or repeating vile stereotypes about Jews -- is deeply wrong, and only serves to evoke in the minds of Israelis this most painful of memories while preventing the peace that the people of this region deserve.\n",
            "On the other hand, it is also undeniable that the Palestinian people -- Muslims and Christians -- have suffered in pursuit of a homeland.  For more than 60 years they've endured the pain of dislocation.  Many wait in refugee camps in the West Bank, Gaza, and neighboring lands for a life of peace and security that they have never been able to lead.  They endure the daily humiliations -- large and small -- that come with occupation.  So let there be no doubt:  The situation for the Palestinian people is intolerable.  And America will not turn our backs on the legitimate Palestinian aspiration for dignity, opportunity, and a state of their own.  (Applause.)\n",
            "For decades then, there has been a stalemate:  two peoples with legitimate aspirations, each with a painful history that makes compromise elusive.  It's easy to point fingers -- for Palestinians to point to the displacement brought about by Israel's founding, and for Israelis to point to the constant hostility and attacks throughout its history from within its borders as well as beyond.  But if we see this conflict only from one side or the other, then we will be blind to the truth:  The only resolution is for the aspirations of both sides to be met through two states, where Israelis and Palestinians each live in peace and security.  (Applause.)\n",
            "That is in Israel's interest, Palestine's interest, America's interest, and the world's interest.  And that is why I intend to personally pursue this outcome with all the patience and dedication that the task requires.  (Applause.)  The obligations -- the obligations that the parties have agreed to under the road map are clear.  For peace to come, it is time for them -- and all of us -- to live up to our responsibilities.\n",
            "Palestinians must abandon violence.  Resistance through violence and killing is wrong and it does not succeed.  For centuries, black people in America suffered the lash of the whip as slaves and the humiliation of segregation.  But it was not violence that won full and equal rights.  It was a peaceful and determined insistence upon the ideals at the center of America's founding.  This same story can be told by people from South Africa to South Asia; from Eastern Europe to Indonesia.  It's a story with a simple truth:  that violence is a dead end.  It is a sign neither of courage nor power to shoot rockets at sleeping children, or to blow up old women on a bus.  That's not how moral authority is claimed; that's how it is surrendered.\n",
            "Now is the time for Palestinians to focus on what they can build.  The Palestinian Authority must develop its capacity to govern, with institutions that serve the needs of its people. Hamas does have support among some Palestinians, but they also have to recognize they have responsibilities.  To play a role in fulfilling Palestinian aspirations, to unify the Palestinian people, Hamas must put an end to violence, recognize past agreements, recognize Israel's right to exist.\n",
            "At the same time, Israelis must acknowledge that just as Israel's right to exist cannot be denied, neither can Palestine's.  The United States does not accept the legitimacy of continued Israeli settlements.  (Applause.)  This construction violates previous agreements and undermines efforts to achieve peace.  It is time for these settlements to stop.  (Applause.)\n",
            "And Israel must also live up to its obligation to ensure that Palestinians can live and work and develop their society.  Just as it devastates Palestinian families, the continuing humanitarian crisis in Gaza does not serve Israel's security; neither does the continuing lack of opportunity in the West Bank. Progress in the daily lives of the Palestinian people must be a critical part of a road to peace, and Israel must take concrete steps to enable such progress. \n",
            "And finally, the Arab states must recognize that the Arab Peace Initiative was an important beginning, but not the end of their responsibilities.  The Arab-Israeli conflict should no longer be used to distract the people of Arab nations from other problems.  Instead, it must be a cause for action to help the Palestinian people develop the institutions that will sustain their state, to recognize Israel's legitimacy, and to choose progress over a self-defeating focus on the past.\n",
            "America will align our policies with those who pursue peace, and we will say in public what we say in private to Israelis and Palestinians and Arabs.  (Applause.)  We cannot impose peace.  But privately, many Muslims recognize that Israel will not go away.  Likewise, many Israelis recognize the need for a Palestinian state.  It is time for us to act on what everyone knows to be true.\n",
            "Too many tears have been shed.  Too much blood has been shed.  All of us have a responsibility to work for the day when the mothers of Israelis and Palestinians can see their children grow up without fear; when the Holy Land of the three great faiths is the place of peace that God intended it to be; when Jerusalem is a secure and lasting home for Jews and Christians and Muslims, and a place for all of the children of Abraham to mingle peacefully together as in the story of Isra -- (applause) -- as in the story of Isra, when Moses, Jesus, and Mohammed, peace be upon them, joined in prayer.  (Applause.)\n",
            "The third source of tension is our shared interest in the rights and responsibilities of nations on nuclear weapons.\n",
            "This issue has been a source of tension between the United States and the Islamic Republic of Iran.  For many years, Iran has defined itself in part by its opposition to my country, and there is in fact a tumultuous history between us.  In the middle of the Cold War, the United States played a role in the overthrow of a democratically elected Iranian government.  Since the Islamic Revolution, Iran has played a role in acts of hostage-taking and violence against U.S. troops and civilians.  This history is well known.  Rather than remain trapped in the past, I've made it clear to Iran's leaders and people that my country is prepared to move forward.  The question now is not what Iran is against, but rather what future it wants to build.\n",
            "I recognize it will be hard to overcome decades of mistrust, but we will proceed with courage, rectitude, and resolve.  There will be many issues to discuss between our two countries, and we are willing to move forward without preconditions on the basis of mutual respect.  But it is clear to all concerned that when it comes to nuclear weapons, we have reached a decisive point.  This is not simply about America's interests.  It's about preventing a nuclear arms race in the Middle East that could lead this region and the world down a hugely dangerous path.\n",
            "I understand those who protest that some countries have weapons that others do not.  No single nation should pick and choose which nation holds nuclear weapons.  And that's why I strongly reaffirmed America's commitment to seek a world in which no nations hold nuclear weapons.  (Applause.)  And any nation -- including Iran -- should have the right to access peaceful nuclear power if it complies with its responsibilities under the nuclear Non-Proliferation Treaty.  That commitment is at the core of the treaty, and it must be kept for all who fully abide by it. And I'm hopeful that all countries in the region can share in this goal.\n",
            "The fourth issue that I will address is democracy.  (Applause.)\n",
            "I know -- I know there has been controversy about the promotion of democracy in recent years, and much of this controversy is connected to the war in Iraq.  So let me be clear: No system of government can or should be imposed by one nation by any other.\n",
            " \n",
            "That does not lessen my commitment, however, to governments that reflect the will of the people.  Each nation gives life to this principle in its own way, grounded in the traditions of its own people.  America does not presume to know what is best for everyone, just as we would not presume to pick the outcome of a peaceful election.  But I do have an unyielding belief that all people yearn for certain things:  the ability to speak your mind and have a say in how you are governed; confidence in the rule of law and the equal administration of justice; government that is transparent and doesn't steal from the people; the freedom to live as you choose.  These are not just American ideas; they are human rights.  And that is why we will support them everywhere.  (Applause.)\n",
            "Now, there is no straight line to realize this promise.  But this much is clear:  Governments that protect these rights are ultimately more stable, successful and secure.  Suppressing ideas never succeeds in making them go away.  America respects the right of all peaceful and law-abiding voices to be heard around the world, even if we disagree with them.  And we will welcome all elected, peaceful governments -- provided they govern with respect for all their people.\n",
            "This last point is important because there are some who advocate for democracy only when they're out of power; once in power, they are ruthless in suppressing the rights of others.  (Applause.)  So no matter where it takes hold, government of the people and by the people sets a single standard for all who would hold power:  You must maintain your power through consent, not coercion; you must respect the rights of minorities, and participate with a spirit of tolerance and compromise; you must place the interests of your people and the legitimate workings of the political process above your party.  Without these ingredients, elections alone do not make true democracy.\n",
            "AUDIENCE MEMBER:  Barack Obama, we love you!\n",
            "PRESIDENT OBAMA:  Thank you.  (Applause.)  The fifth issue that we must address together is religious freedom.\n",
            "Islam has a proud tradition of tolerance.  We see it in the history of Andalusia and Cordoba during the Inquisition.  I saw it firsthand as a child in Indonesia, where devout Christians worshiped freely in an overwhelmingly Muslim country.  That is the spirit we need today.  People in every country should be free to choose and live their faith based upon the persuasion of the mind and the heart and the soul.  This tolerance is essential for religion to thrive, but it's being challenged in many different ways.\n",
            "Among some Muslims, there's a disturbing tendency to measure one's own faith by the rejection of somebody else's faith.  The richness of religious diversity must be upheld -- whether it is for Maronites in Lebanon or the Copts in Egypt.  (Applause.)  And if we are being honest, fault lines must be closed among Muslims, as well, as the divisions between Sunni and Shia have led to tragic violence, particularly in Iraq.\n",
            "Freedom of religion is central to the ability of peoples to live together.  We must always examine the ways in which we protect it.  For instance, in the United States, rules on charitable giving have made it harder for Muslims to fulfill their religious obligation.  That's why I'm committed to working with American Muslims to ensure that they can fulfill zakat. \n",
            "Likewise, it is important for Western countries to avoid impeding Muslim citizens from practicing religion as they see fit -- for instance, by dictating what clothes a Muslim woman should wear.  We can't disguise hostility towards any religion behind the pretence of liberalism.\n",
            " \n",
            "In fact, faith should bring us together.  And that's why we're forging service projects in America to bring together Christians, Muslims, and Jews.  That's why we welcome efforts like Saudi Arabian King Abdullah's interfaith dialogue and Turkey's leadership in the Alliance of Civilizations.  Around the world, we can turn dialogue into interfaith service, so bridges between peoples lead to action -- whether it is combating malaria in Africa, or providing relief after a natural disaster. \n",
            "The sixth issue -- the sixth issue that I want to address is women's rights.  (Applause.)  I know –- I know -- and you can tell from this audience, that there is a healthy debate about this issue.  I reject the view of some in the West that a woman who chooses to cover her hair is somehow less equal, but I do believe that a woman who is denied an education is denied equality.  (Applause.)  And it is no coincidence that countries where women are well educated are far more likely to be prosperous.\n",
            "Now, let me be clear:  Issues of women's equality are by no means simply an issue for Islam.  In Turkey, Pakistan, Bangladesh, Indonesia, we've seen Muslim-majority countries elect a woman to lead.  Meanwhile, the struggle for women's equality continues in many aspects of American life, and in countries around the world.\n",
            "I am convinced that our daughters can contribute just as much to society as our sons.  (Applause.)  Our common prosperity will be advanced by allowing all humanity -- men and women -- to reach their full potential.  I do not believe that women must make the same choices as men in order to be equal, and I respect those women who choose to live their lives in traditional roles. But it should be their choice.  And that is why the United States will partner with any Muslim-majority country to support expanded literacy for girls, and to help young women pursue employment through micro-financing that helps people live their dreams.  (Applause.)\n",
            "Finally, I want to discuss economic development and opportunity.\n",
            "I know that for many, the face of globalization is contradictory.  The Internet and television can bring knowledge and information, but also offensive sexuality and mindless violence into the home.  Trade can bring new wealth and opportunities, but also huge disruptions and change in communities.  In all nations -- including America -- this change can bring fear.  Fear that because of modernity we lose control over our economic choices, our politics, and most importantly our identities -- those things we most cherish about our communities, our families, our traditions, and our faith. \n",
            "But I also know that human progress cannot be denied.  There need not be contradictions between development and tradition. Countries like Japan and South Korea grew their economies enormously while maintaining distinct cultures.  The same is true for the astonishing progress within Muslim-majority countries from Kuala Lumpur to Dubai.  In ancient times and in our times, Muslim communities have been at the forefront of innovation and education.\n",
            "\n",
            "And this is important because no development strategy can be based only upon what comes out of the ground, nor can it be sustained while young people are out of work.  Many Gulf states have enjoyed great wealth as a consequence of oil, and some are beginning to focus it on broader development.  But all of us must recognize that education and innovation will be the currency of the 21st century -- (applause) -- and in too many Muslim communities, there remains underinvestment in these areas.  I'm emphasizing such investment within my own country.  And while America in the past has focused on oil and gas when it comes to this part of the world, we now seek a broader engagement.\n",
            "On education, we will expand exchange programs, and increase scholarships, like the one that brought my father to America.  (Applause.)  At the same time, we will encourage more Americans to study in Muslim communities.  And we will match promising Muslim students with internships in America; invest in online learning for teachers and children around the world; and create a new online network, so a young person in Kansas can communicate instantly with a young person in Cairo.\n",
            "On economic development, we will create a new corps of business volunteers to partner with counterparts in Muslim-majority countries.  And I will host a Summit on Entrepreneurship this year to identify how we can deepen ties between business leaders, foundations and social entrepreneurs in the United States and Muslim communities around the world.\n",
            "On science and technology, we will launch a new fund to support technological development in Muslim-majority countries, and to help transfer ideas to the marketplace so they can create more jobs.  We'll open centers of scientific excellence in Africa, the Middle East and Southeast Asia, and appoint new science envoys to collaborate on programs that develop new sources of energy, create green jobs, digitize records, clean water, grow new crops.  Today I'm announcing a new global effort with the Organization of the Islamic Conference to eradicate polio.  And we will also expand partnerships with Muslim communities to promote child and maternal health.\n",
            "All these things must be done in partnership.  Americans are ready to join with citizens and governments; community organizations, religious leaders, and businesses in Muslim communities around the world to help our people pursue a better life.\n",
            "The issues that I have described will not be easy to address.  But we have a responsibility to join together on behalf of the world that we seek -- a world where extremists no longer threaten our people, and American troops have come home; a world where Israelis and Palestinians are each secure in a state of their own, and nuclear energy is used for peaceful purposes; a world where governments serve their citizens, and the rights of all God's children are respected.  Those are mutual interests.  That is the world we seek.  But we can only achieve it together.\n",
            "I know there are many -- Muslim and non-Muslim -- who question whether we can forge this new beginning.  Some are eager to stoke the flames of division, and to stand in the way of progress.  Some suggest that it isn't worth the effort -- that we are fated to disagree, and civilizations are doomed to clash. Many more are simply skeptical that real change can occur.  There's so much fear, so much mistrust that has built up over the years.  But if we choose to be bound by the past, we will never move forward.  And I want to particularly say this to young people of every faith, in every country -- you, more than anyone, have the ability to reimagine the world, to remake this world.\n",
            "All of us share this world for but a brief moment in time. The question is whether we spend that time focused on what pushes us apart, or whether we commit ourselves to an effort -- a sustained effort -- to find common ground, to focus on the future we seek for our children, and to respect the dignity of all human beings.\n",
            "It's easier to start wars than to end them.  It's easier to blame others than to look inward.  It's easier to see what is different about someone than to find the things we share.  But we should choose the right path, not just the easy path.  There's one rule that lies at the heart of every religion -- that we do unto others as we would have them do unto us.  (Applause.)  This truth transcends nations and peoples -- a belief that isn't new; that isn't black or white or brown; that isn't Christian or Muslim or Jew.  It's a belief that pulsed in the cradle of civilization, and that still beats in the hearts of billions around the world.  It's a faith in other people, and it's what brought me here today.\n",
            "We have the power to make the world we seek, but only if we have the courage to make a new beginning, keeping in mind what has been written.\n",
            "The Holy Koran tells us:  \"O mankind!  We have created you male and a female; and we have made you into nations and tribes so that you may know one another.\"\n",
            "The Talmud tells us:  \"The whole of the Torah is for the purpose of promoting peace.\"\n",
            "The Holy Bible tells us:  \"Blessed are the peacemakers, for they shall be called sons of God.\"  (Applause.)\n",
            "The people of the world can live together in peace.  We know that is God's vision.  Now that must be our work here on Earth.\n",
            "Thank you.  And may God's peace be upon you.  Thank you very much.  Thank you.  (Applause.)\n",
            "END        \n",
            "2:05 P.M. (Local)\n"
          ]
        }
      ],
      "source": [
        "obamafile = open(\"Data\\obamaincairo.txt\", mode = \"r\", encoding=\"utf-8\")\n",
        "\n",
        "content = obamafile.read()\n",
        "print(content)"
      ]
    },
    {
      "cell_type": "code",
      "execution_count": 32,
      "metadata": {
        "id": "5uWpHQo3wlXa"
      },
      "outputs": [
        {
          "data": {
            "text/plain": [
              "<_io.TextIOWrapper name='Data\\\\obamaincairo.txt' mode='r' encoding='utf-8'>"
            ]
          },
          "execution_count": 32,
          "metadata": {},
          "output_type": "execute_result"
        }
      ],
      "source": [
        "obamafile # we see we can not read the text, we just can see where it is located"
      ]
    },
    {
      "cell_type": "code",
      "execution_count": null,
      "metadata": {
        "id": "JrbDBfadcn62"
      },
      "outputs": [],
      "source": [
        "obamafile.close() "
      ]
    },
    {
      "cell_type": "markdown",
      "metadata": {
        "id": "S3ugYL8XwlXc"
      },
      "source": [
        "## How do we print content then?\n",
        "\n"
      ]
    },
    {
      "cell_type": "code",
      "execution_count": null,
      "metadata": {
        "id": "Za0NZXfwwlXc"
      },
      "outputs": [],
      "source": [
        "obamafile = "
      ]
    },
    {
      "cell_type": "code",
      "execution_count": null,
      "metadata": {
        "id": "rbTnBDeewlXd"
      },
      "outputs": [],
      "source": [
        "print(type(content))"
      ]
    },
    {
      "cell_type": "markdown",
      "metadata": {
        "id": "5JPJKRddwlXd"
      },
      "source": [
        "## How do we split by word? (Naive Tokenization)\n",
        "\n",
        "We use **the split function**, we talked about in the Python Refresher\n",
        "\n",
        "What is a problem that we can spot here?"
      ]
    },
    {
      "cell_type": "code",
      "execution_count": 3,
      "metadata": {
        "id": "EezXVv-HwlXe"
      },
      "outputs": [
        {
          "data": {
            "text/plain": [
              "['PRESIDENT',\n",
              " 'OBAMA:',\n",
              " 'Thank',\n",
              " 'you',\n",
              " 'very',\n",
              " 'much.',\n",
              " 'Good',\n",
              " 'afternoon.',\n",
              " 'I',\n",
              " 'am',\n",
              " 'honored',\n",
              " 'to',\n",
              " 'be',\n",
              " 'in',\n",
              " 'the',\n",
              " 'timeless',\n",
              " 'city',\n",
              " 'of',\n",
              " 'Cairo,',\n",
              " 'and',\n",
              " 'to',\n",
              " 'be',\n",
              " 'hosted',\n",
              " 'by',\n",
              " 'two',\n",
              " 'remarkable',\n",
              " 'institutions.',\n",
              " 'For',\n",
              " 'over',\n",
              " 'a',\n",
              " 'thousand',\n",
              " 'years,',\n",
              " 'Al-Azhar',\n",
              " 'has',\n",
              " 'stood',\n",
              " 'as',\n",
              " 'a',\n",
              " 'beacon',\n",
              " 'of',\n",
              " 'Islamic',\n",
              " 'learning;',\n",
              " 'and',\n",
              " 'for',\n",
              " 'over',\n",
              " 'a',\n",
              " 'century,',\n",
              " 'Cairo',\n",
              " 'University',\n",
              " 'has',\n",
              " 'been',\n",
              " 'a',\n",
              " 'source',\n",
              " 'of',\n",
              " \"Egypt's\",\n",
              " 'advancement.',\n",
              " 'And',\n",
              " 'together,',\n",
              " 'you',\n",
              " 'represent',\n",
              " 'the',\n",
              " 'harmony',\n",
              " 'between',\n",
              " 'tradition',\n",
              " 'and',\n",
              " 'progress.',\n",
              " \"I'm\",\n",
              " 'grateful',\n",
              " 'for',\n",
              " 'your',\n",
              " 'hospitality,',\n",
              " 'and',\n",
              " 'the',\n",
              " 'hospitality',\n",
              " 'of',\n",
              " 'the',\n",
              " 'people',\n",
              " 'of',\n",
              " 'Egypt.',\n",
              " 'And',\n",
              " \"I'm\",\n",
              " 'also',\n",
              " 'proud',\n",
              " 'to',\n",
              " 'carry',\n",
              " 'with',\n",
              " 'me',\n",
              " 'the',\n",
              " 'goodwill',\n",
              " 'of',\n",
              " 'the',\n",
              " 'American',\n",
              " 'people,',\n",
              " 'and',\n",
              " 'a',\n",
              " 'greeting',\n",
              " 'of',\n",
              " 'peace',\n",
              " 'from',\n",
              " 'Muslim',\n",
              " 'communities',\n",
              " 'in',\n",
              " 'my',\n",
              " 'country:',\n",
              " 'Assalaamu',\n",
              " 'alaykum.',\n",
              " '(Applause.)',\n",
              " 'We',\n",
              " 'meet',\n",
              " 'at',\n",
              " 'a',\n",
              " 'time',\n",
              " 'of',\n",
              " 'great',\n",
              " 'tension',\n",
              " 'between',\n",
              " 'the',\n",
              " 'United',\n",
              " 'States',\n",
              " 'and',\n",
              " 'Muslims',\n",
              " 'around',\n",
              " 'the',\n",
              " 'world',\n",
              " '--',\n",
              " 'tension',\n",
              " 'rooted',\n",
              " 'in',\n",
              " 'historical',\n",
              " 'forces',\n",
              " 'that',\n",
              " 'go',\n",
              " 'beyond',\n",
              " 'any',\n",
              " 'current',\n",
              " 'policy',\n",
              " 'debate.',\n",
              " 'The',\n",
              " 'relationship',\n",
              " 'between',\n",
              " 'Islam',\n",
              " 'and',\n",
              " 'the',\n",
              " 'West',\n",
              " 'includes',\n",
              " 'centuries',\n",
              " 'of',\n",
              " 'coexistence',\n",
              " 'and',\n",
              " 'cooperation,',\n",
              " 'but',\n",
              " 'also',\n",
              " 'conflict',\n",
              " 'and',\n",
              " 'religious',\n",
              " 'wars.',\n",
              " 'More',\n",
              " 'recently,',\n",
              " 'tension',\n",
              " 'has',\n",
              " 'been',\n",
              " 'fed',\n",
              " 'by',\n",
              " 'colonialism',\n",
              " 'that',\n",
              " 'denied',\n",
              " 'rights',\n",
              " 'and',\n",
              " 'opportunities',\n",
              " 'to',\n",
              " 'many',\n",
              " 'Muslims,',\n",
              " 'and',\n",
              " 'a',\n",
              " 'Cold',\n",
              " 'War',\n",
              " 'in',\n",
              " 'which',\n",
              " 'Muslim-majority',\n",
              " 'countries',\n",
              " 'were',\n",
              " 'too',\n",
              " 'often',\n",
              " 'treated',\n",
              " 'as',\n",
              " 'proxies',\n",
              " 'without',\n",
              " 'regard',\n",
              " 'to',\n",
              " 'their',\n",
              " 'own',\n",
              " 'aspirations.',\n",
              " 'Moreover,',\n",
              " 'the',\n",
              " 'sweeping',\n",
              " 'change',\n",
              " 'brought',\n",
              " 'by',\n",
              " 'modernity',\n",
              " 'and',\n",
              " 'globalization',\n",
              " 'led',\n",
              " 'many',\n",
              " 'Muslims',\n",
              " 'to',\n",
              " 'view',\n",
              " 'the',\n",
              " 'West',\n",
              " 'as',\n",
              " 'hostile',\n",
              " 'to',\n",
              " 'the',\n",
              " 'traditions',\n",
              " 'of',\n",
              " 'Islam.',\n",
              " 'Violent',\n",
              " 'extremists',\n",
              " 'have',\n",
              " 'exploited',\n",
              " 'these',\n",
              " 'tensions',\n",
              " 'in',\n",
              " 'a',\n",
              " 'small',\n",
              " 'but',\n",
              " 'potent',\n",
              " 'minority',\n",
              " 'of',\n",
              " 'Muslims.',\n",
              " 'The',\n",
              " 'attacks',\n",
              " 'of',\n",
              " 'September',\n",
              " '11,',\n",
              " '2001',\n",
              " 'and',\n",
              " 'the',\n",
              " 'continued',\n",
              " 'efforts',\n",
              " 'of',\n",
              " 'these',\n",
              " 'extremists',\n",
              " 'to',\n",
              " 'engage',\n",
              " 'in',\n",
              " 'violence',\n",
              " 'against',\n",
              " 'civilians',\n",
              " 'has',\n",
              " 'led',\n",
              " 'some',\n",
              " 'in',\n",
              " 'my',\n",
              " 'country',\n",
              " 'to',\n",
              " 'view',\n",
              " 'Islam',\n",
              " 'as',\n",
              " 'inevitably',\n",
              " 'hostile',\n",
              " 'not',\n",
              " 'only',\n",
              " 'to',\n",
              " 'America',\n",
              " 'and',\n",
              " 'Western',\n",
              " 'countries,',\n",
              " 'but',\n",
              " 'also',\n",
              " 'to',\n",
              " 'human',\n",
              " 'rights.',\n",
              " 'All',\n",
              " 'this',\n",
              " 'has',\n",
              " 'bred',\n",
              " 'more',\n",
              " 'fear',\n",
              " 'and',\n",
              " 'more',\n",
              " 'mistrust.',\n",
              " 'So',\n",
              " 'long',\n",
              " 'as',\n",
              " 'our',\n",
              " 'relationship',\n",
              " 'is',\n",
              " 'defined',\n",
              " 'by',\n",
              " 'our',\n",
              " 'differences,',\n",
              " 'we',\n",
              " 'will',\n",
              " 'empower',\n",
              " 'those',\n",
              " 'who',\n",
              " 'sow',\n",
              " 'hatred',\n",
              " 'rather',\n",
              " 'than',\n",
              " 'peace,',\n",
              " 'those',\n",
              " 'who',\n",
              " 'promote',\n",
              " 'conflict',\n",
              " 'rather',\n",
              " 'than',\n",
              " 'the',\n",
              " 'cooperation',\n",
              " 'that',\n",
              " 'can',\n",
              " 'help',\n",
              " 'all',\n",
              " 'of',\n",
              " 'our',\n",
              " 'people',\n",
              " 'achieve',\n",
              " 'justice',\n",
              " 'and',\n",
              " 'prosperity.',\n",
              " 'And',\n",
              " 'this',\n",
              " 'cycle',\n",
              " 'of',\n",
              " 'suspicion',\n",
              " 'and',\n",
              " 'discord',\n",
              " 'must',\n",
              " 'end.',\n",
              " \"I've\",\n",
              " 'come',\n",
              " 'here',\n",
              " 'to',\n",
              " 'Cairo',\n",
              " 'to',\n",
              " 'seek',\n",
              " 'a',\n",
              " 'new',\n",
              " 'beginning',\n",
              " 'between',\n",
              " 'the',\n",
              " 'United',\n",
              " 'States',\n",
              " 'and',\n",
              " 'Muslims',\n",
              " 'around',\n",
              " 'the',\n",
              " 'world,',\n",
              " 'one',\n",
              " 'based',\n",
              " 'on',\n",
              " 'mutual',\n",
              " 'interest',\n",
              " 'and',\n",
              " 'mutual',\n",
              " 'respect,',\n",
              " 'and',\n",
              " 'one',\n",
              " 'based',\n",
              " 'upon',\n",
              " 'the',\n",
              " 'truth',\n",
              " 'that',\n",
              " 'America',\n",
              " 'and',\n",
              " 'Islam',\n",
              " 'are',\n",
              " 'not',\n",
              " 'exclusive',\n",
              " 'and',\n",
              " 'need',\n",
              " 'not',\n",
              " 'be',\n",
              " 'in',\n",
              " 'competition.',\n",
              " 'Instead,',\n",
              " 'they',\n",
              " 'overlap,',\n",
              " 'and',\n",
              " 'share',\n",
              " 'common',\n",
              " 'principles',\n",
              " '--',\n",
              " 'principles',\n",
              " 'of',\n",
              " 'justice',\n",
              " 'and',\n",
              " 'progress;',\n",
              " 'tolerance',\n",
              " 'and',\n",
              " 'the',\n",
              " 'dignity',\n",
              " 'of',\n",
              " 'all',\n",
              " 'human',\n",
              " 'beings.',\n",
              " 'I',\n",
              " 'do',\n",
              " 'so',\n",
              " 'recognizing',\n",
              " 'that',\n",
              " 'change',\n",
              " 'cannot',\n",
              " 'happen',\n",
              " 'overnight.',\n",
              " 'I',\n",
              " 'know',\n",
              " \"there's\",\n",
              " 'been',\n",
              " 'a',\n",
              " 'lot',\n",
              " 'of',\n",
              " 'publicity',\n",
              " 'about',\n",
              " 'this',\n",
              " 'speech,',\n",
              " 'but',\n",
              " 'no',\n",
              " 'single',\n",
              " 'speech',\n",
              " 'can',\n",
              " 'eradicate',\n",
              " 'years',\n",
              " 'of',\n",
              " 'mistrust,',\n",
              " 'nor',\n",
              " 'can',\n",
              " 'I',\n",
              " 'answer',\n",
              " 'in',\n",
              " 'the',\n",
              " 'time',\n",
              " 'that',\n",
              " 'I',\n",
              " 'have',\n",
              " 'this',\n",
              " 'afternoon',\n",
              " 'all',\n",
              " 'the',\n",
              " 'complex',\n",
              " 'questions',\n",
              " 'that',\n",
              " 'brought',\n",
              " 'us',\n",
              " 'to',\n",
              " 'this',\n",
              " 'point.',\n",
              " 'But',\n",
              " 'I',\n",
              " 'am',\n",
              " 'convinced',\n",
              " 'that',\n",
              " 'in',\n",
              " 'order',\n",
              " 'to',\n",
              " 'move',\n",
              " 'forward,',\n",
              " 'we',\n",
              " 'must',\n",
              " 'say',\n",
              " 'openly',\n",
              " 'to',\n",
              " 'each',\n",
              " 'other',\n",
              " 'the',\n",
              " 'things',\n",
              " 'we',\n",
              " 'hold',\n",
              " 'in',\n",
              " 'our',\n",
              " 'hearts',\n",
              " 'and',\n",
              " 'that',\n",
              " 'too',\n",
              " 'often',\n",
              " 'are',\n",
              " 'said',\n",
              " 'only',\n",
              " 'behind',\n",
              " 'closed',\n",
              " 'doors.',\n",
              " 'There',\n",
              " 'must',\n",
              " 'be',\n",
              " 'a',\n",
              " 'sustained',\n",
              " 'effort',\n",
              " 'to',\n",
              " 'listen',\n",
              " 'to',\n",
              " 'each',\n",
              " 'other;',\n",
              " 'to',\n",
              " 'learn',\n",
              " 'from',\n",
              " 'each',\n",
              " 'other;',\n",
              " 'to',\n",
              " 'respect',\n",
              " 'one',\n",
              " 'another;',\n",
              " 'and',\n",
              " 'to',\n",
              " 'seek',\n",
              " 'common',\n",
              " 'ground.',\n",
              " 'As',\n",
              " 'the',\n",
              " 'Holy',\n",
              " 'Koran',\n",
              " 'tells',\n",
              " 'us,',\n",
              " '\"Be',\n",
              " 'conscious',\n",
              " 'of',\n",
              " 'God',\n",
              " 'and',\n",
              " 'speak',\n",
              " 'always',\n",
              " 'the',\n",
              " 'truth.\"',\n",
              " '(Applause.)',\n",
              " 'That',\n",
              " 'is',\n",
              " 'what',\n",
              " 'I',\n",
              " 'will',\n",
              " 'try',\n",
              " 'to',\n",
              " 'do',\n",
              " 'today',\n",
              " '--',\n",
              " 'to',\n",
              " 'speak',\n",
              " 'the',\n",
              " 'truth',\n",
              " 'as',\n",
              " 'best',\n",
              " 'I',\n",
              " 'can,',\n",
              " 'humbled',\n",
              " 'by',\n",
              " 'the',\n",
              " 'task',\n",
              " 'before',\n",
              " 'us,',\n",
              " 'and',\n",
              " 'firm',\n",
              " 'in',\n",
              " 'my',\n",
              " 'belief',\n",
              " 'that',\n",
              " 'the',\n",
              " 'interests',\n",
              " 'we',\n",
              " 'share',\n",
              " 'as',\n",
              " 'human',\n",
              " 'beings',\n",
              " 'are',\n",
              " 'far',\n",
              " 'more',\n",
              " 'powerful',\n",
              " 'than',\n",
              " 'the',\n",
              " 'forces',\n",
              " 'that',\n",
              " 'drive',\n",
              " 'us',\n",
              " 'apart.',\n",
              " 'Now',\n",
              " 'part',\n",
              " 'of',\n",
              " 'this',\n",
              " 'conviction',\n",
              " 'is',\n",
              " 'rooted',\n",
              " 'in',\n",
              " 'my',\n",
              " 'own',\n",
              " 'experience.',\n",
              " \"I'm\",\n",
              " 'a',\n",
              " 'Christian,',\n",
              " 'but',\n",
              " 'my',\n",
              " 'father',\n",
              " 'came',\n",
              " 'from',\n",
              " 'a',\n",
              " 'Kenyan',\n",
              " 'family',\n",
              " 'that',\n",
              " 'includes',\n",
              " 'generations',\n",
              " 'of',\n",
              " 'Muslims.',\n",
              " 'As',\n",
              " 'a',\n",
              " 'boy,',\n",
              " 'I',\n",
              " 'spent',\n",
              " 'several',\n",
              " 'years',\n",
              " 'in',\n",
              " 'Indonesia',\n",
              " 'and',\n",
              " 'heard',\n",
              " 'the',\n",
              " 'call',\n",
              " 'of',\n",
              " 'the',\n",
              " 'azaan',\n",
              " 'at',\n",
              " 'the',\n",
              " 'break',\n",
              " 'of',\n",
              " 'dawn',\n",
              " 'and',\n",
              " 'at',\n",
              " 'the',\n",
              " 'fall',\n",
              " 'of',\n",
              " 'dusk.',\n",
              " 'As',\n",
              " 'a',\n",
              " 'young',\n",
              " 'man,',\n",
              " 'I',\n",
              " 'worked',\n",
              " 'in',\n",
              " 'Chicago',\n",
              " 'communities',\n",
              " 'where',\n",
              " 'many',\n",
              " 'found',\n",
              " 'dignity',\n",
              " 'and',\n",
              " 'peace',\n",
              " 'in',\n",
              " 'their',\n",
              " 'Muslim',\n",
              " 'faith.',\n",
              " 'As',\n",
              " 'a',\n",
              " 'student',\n",
              " 'of',\n",
              " 'history,',\n",
              " 'I',\n",
              " 'also',\n",
              " 'know',\n",
              " \"civilization's\",\n",
              " 'debt',\n",
              " 'to',\n",
              " 'Islam.',\n",
              " 'It',\n",
              " 'was',\n",
              " 'Islam',\n",
              " '--',\n",
              " 'at',\n",
              " 'places',\n",
              " 'like',\n",
              " 'Al-Azhar',\n",
              " '--',\n",
              " 'that',\n",
              " 'carried',\n",
              " 'the',\n",
              " 'light',\n",
              " 'of',\n",
              " 'learning',\n",
              " 'through',\n",
              " 'so',\n",
              " 'many',\n",
              " 'centuries,',\n",
              " 'paving',\n",
              " 'the',\n",
              " 'way',\n",
              " 'for',\n",
              " \"Europe's\",\n",
              " 'Renaissance',\n",
              " 'and',\n",
              " 'Enlightenment.',\n",
              " 'It',\n",
              " 'was',\n",
              " 'innovation',\n",
              " 'in',\n",
              " 'Muslim',\n",
              " 'communities',\n",
              " '--',\n",
              " '(applause)',\n",
              " '--',\n",
              " 'it',\n",
              " 'was',\n",
              " 'innovation',\n",
              " 'in',\n",
              " 'Muslim',\n",
              " 'communities',\n",
              " 'that',\n",
              " 'developed',\n",
              " 'the',\n",
              " 'order',\n",
              " 'of',\n",
              " 'algebra;',\n",
              " 'our',\n",
              " 'magnetic',\n",
              " 'compass',\n",
              " 'and',\n",
              " 'tools',\n",
              " 'of',\n",
              " 'navigation;',\n",
              " 'our',\n",
              " 'mastery',\n",
              " 'of',\n",
              " 'pens',\n",
              " 'and',\n",
              " 'printing;',\n",
              " 'our',\n",
              " 'understanding',\n",
              " 'of',\n",
              " 'how',\n",
              " 'disease',\n",
              " 'spreads',\n",
              " 'and',\n",
              " 'how',\n",
              " 'it',\n",
              " 'can',\n",
              " 'be',\n",
              " 'healed.',\n",
              " 'Islamic',\n",
              " 'culture',\n",
              " 'has',\n",
              " 'given',\n",
              " 'us',\n",
              " 'majestic',\n",
              " 'arches',\n",
              " 'and',\n",
              " 'soaring',\n",
              " 'spires;',\n",
              " 'timeless',\n",
              " 'poetry',\n",
              " 'and',\n",
              " 'cherished',\n",
              " 'music;',\n",
              " 'elegant',\n",
              " 'calligraphy',\n",
              " 'and',\n",
              " 'places',\n",
              " 'of',\n",
              " 'peaceful',\n",
              " 'contemplation.',\n",
              " 'And',\n",
              " 'throughout',\n",
              " 'history,',\n",
              " 'Islam',\n",
              " 'has',\n",
              " 'demonstrated',\n",
              " 'through',\n",
              " 'words',\n",
              " 'and',\n",
              " 'deeds',\n",
              " 'the',\n",
              " 'possibilities',\n",
              " 'of',\n",
              " 'religious',\n",
              " 'tolerance',\n",
              " 'and',\n",
              " 'racial',\n",
              " 'equality.',\n",
              " '(Applause.)',\n",
              " 'I',\n",
              " 'also',\n",
              " 'know',\n",
              " 'that',\n",
              " 'Islam',\n",
              " 'has',\n",
              " 'always',\n",
              " 'been',\n",
              " 'a',\n",
              " 'part',\n",
              " 'of',\n",
              " \"America's\",\n",
              " 'story.',\n",
              " 'The',\n",
              " 'first',\n",
              " 'nation',\n",
              " 'to',\n",
              " 'recognize',\n",
              " 'my',\n",
              " 'country',\n",
              " 'was',\n",
              " 'Morocco.',\n",
              " 'In',\n",
              " 'signing',\n",
              " 'the',\n",
              " 'Treaty',\n",
              " 'of',\n",
              " 'Tripoli',\n",
              " 'in',\n",
              " '1796,',\n",
              " 'our',\n",
              " 'second',\n",
              " 'President,',\n",
              " 'John',\n",
              " 'Adams,',\n",
              " 'wrote,',\n",
              " '\"The',\n",
              " 'United',\n",
              " 'States',\n",
              " 'has',\n",
              " 'in',\n",
              " 'itself',\n",
              " 'no',\n",
              " 'character',\n",
              " 'of',\n",
              " 'enmity',\n",
              " 'against',\n",
              " 'the',\n",
              " 'laws,',\n",
              " 'religion',\n",
              " 'or',\n",
              " 'tranquility',\n",
              " 'of',\n",
              " 'Muslims.\"',\n",
              " 'And',\n",
              " 'since',\n",
              " 'our',\n",
              " 'founding,',\n",
              " 'American',\n",
              " 'Muslims',\n",
              " 'have',\n",
              " 'enriched',\n",
              " 'the',\n",
              " 'United',\n",
              " 'States.',\n",
              " 'They',\n",
              " 'have',\n",
              " 'fought',\n",
              " 'in',\n",
              " 'our',\n",
              " 'wars,',\n",
              " 'they',\n",
              " 'have',\n",
              " 'served',\n",
              " 'in',\n",
              " 'our',\n",
              " 'government,',\n",
              " 'they',\n",
              " 'have',\n",
              " 'stood',\n",
              " 'for',\n",
              " 'civil',\n",
              " 'rights,',\n",
              " 'they',\n",
              " 'have',\n",
              " 'started',\n",
              " 'businesses,',\n",
              " 'they',\n",
              " 'have',\n",
              " 'taught',\n",
              " 'at',\n",
              " 'our',\n",
              " 'universities,',\n",
              " \"they've\",\n",
              " 'excelled',\n",
              " 'in',\n",
              " 'our',\n",
              " 'sports',\n",
              " 'arenas,',\n",
              " \"they've\",\n",
              " 'won',\n",
              " 'Nobel',\n",
              " 'Prizes,',\n",
              " 'built',\n",
              " 'our',\n",
              " 'tallest',\n",
              " 'building,',\n",
              " 'and',\n",
              " 'lit',\n",
              " 'the',\n",
              " 'Olympic',\n",
              " 'Torch.',\n",
              " 'And',\n",
              " 'when',\n",
              " 'the',\n",
              " 'first',\n",
              " 'Muslim',\n",
              " 'American',\n",
              " 'was',\n",
              " 'recently',\n",
              " 'elected',\n",
              " 'to',\n",
              " 'Congress,',\n",
              " 'he',\n",
              " 'took',\n",
              " 'the',\n",
              " 'oath',\n",
              " 'to',\n",
              " 'defend',\n",
              " 'our',\n",
              " 'Constitution',\n",
              " 'using',\n",
              " 'the',\n",
              " 'same',\n",
              " 'Holy',\n",
              " 'Koran',\n",
              " 'that',\n",
              " 'one',\n",
              " 'of',\n",
              " 'our',\n",
              " 'Founding',\n",
              " 'Fathers',\n",
              " '--',\n",
              " 'Thomas',\n",
              " 'Jefferson',\n",
              " '--',\n",
              " 'kept',\n",
              " 'in',\n",
              " 'his',\n",
              " 'personal',\n",
              " 'library.',\n",
              " '(Applause.)',\n",
              " 'So',\n",
              " 'I',\n",
              " 'have',\n",
              " 'known',\n",
              " 'Islam',\n",
              " 'on',\n",
              " 'three',\n",
              " 'continents',\n",
              " 'before',\n",
              " 'coming',\n",
              " 'to',\n",
              " 'the',\n",
              " 'region',\n",
              " 'where',\n",
              " 'it',\n",
              " 'was',\n",
              " 'first',\n",
              " 'revealed.',\n",
              " 'That',\n",
              " 'experience',\n",
              " 'guides',\n",
              " 'my',\n",
              " 'conviction',\n",
              " 'that',\n",
              " 'partnership',\n",
              " 'between',\n",
              " 'America',\n",
              " 'and',\n",
              " 'Islam',\n",
              " 'must',\n",
              " 'be',\n",
              " 'based',\n",
              " 'on',\n",
              " 'what',\n",
              " 'Islam',\n",
              " 'is,',\n",
              " 'not',\n",
              " 'what',\n",
              " 'it',\n",
              " \"isn't.\",\n",
              " 'And',\n",
              " 'I',\n",
              " 'consider',\n",
              " 'it',\n",
              " 'part',\n",
              " 'of',\n",
              " 'my',\n",
              " 'responsibility',\n",
              " 'as',\n",
              " 'President',\n",
              " 'of',\n",
              " 'the',\n",
              " 'United',\n",
              " 'States',\n",
              " 'to',\n",
              " 'fight',\n",
              " 'against',\n",
              " 'negative',\n",
              " 'stereotypes',\n",
              " 'of',\n",
              " 'Islam',\n",
              " 'wherever',\n",
              " 'they',\n",
              " 'appear.',\n",
              " '(Applause.)',\n",
              " 'But',\n",
              " 'that',\n",
              " 'same',\n",
              " 'principle',\n",
              " 'must',\n",
              " 'apply',\n",
              " 'to',\n",
              " 'Muslim',\n",
              " 'perceptions',\n",
              " 'of',\n",
              " 'America.',\n",
              " '(Applause.)',\n",
              " 'Just',\n",
              " 'as',\n",
              " 'Muslims',\n",
              " ...]"
            ]
          },
          "execution_count": 3,
          "metadata": {},
          "output_type": "execute_result"
        }
      ],
      "source": [
        "words = content.split()\n",
        "\n",
        "words"
      ]
    },
    {
      "cell_type": "markdown",
      "metadata": {
        "id": "usivt7eZwlXe"
      },
      "source": [
        "Check the words \"mistrust.\\nSo\" & \"Islam.\\nViolent\" -- these are problems that we need to take care of in cleaning steps.\n",
        "\n",
        "**What can we do then to avoid this?**"
      ]
    },
    {
      "cell_type": "markdown",
      "metadata": {
        "id": "wjz_VopvwlXe"
      },
      "source": [
        "same, but using a loop, what is the main difference here?\n"
      ]
    },
    {
      "cell_type": "code",
      "execution_count": null,
      "metadata": {
        "collapsed": true,
        "id": "uZA79qc7wlXe"
      },
      "outputs": [],
      "source": [
        "#recognition of paragraph end. (\\n)"
      ]
    },
    {
      "cell_type": "code",
      "execution_count": 4,
      "metadata": {
        "id": "TCxsexfzwlXg"
      },
      "outputs": [
        {
          "name": "stdout",
          "output_type": "stream",
          "text": [
            "['PRESIDENT', 'OBAMA:', 'Thank', 'you', 'very', 'much.', 'Good', 'afternoon.', 'I', 'am', 'honored', 'to', 'be', 'in', 'the', 'timeless', 'city', 'of', 'Cairo,', 'and', 'to', 'be', 'hosted', 'by', 'two', 'remarkable', 'institutions.', 'For', 'over', 'a', 'thousand', 'years,', 'Al-Azhar', 'has', 'stood', 'as', 'a', 'beacon', 'of', 'Islamic', 'learning;', 'and', 'for', 'over', 'a', 'century,', 'Cairo', 'University', 'has', 'been', 'a', 'source', 'of', \"Egypt's\", 'advancement.', 'And', 'together,', 'you', 'represent', 'the', 'harmony', 'between', 'tradition', 'and', 'progress.', \"I'm\", 'grateful', 'for', 'your', 'hospitality,', 'and', 'the', 'hospitality', 'of', 'the', 'people', 'of', 'Egypt.', 'And', \"I'm\", 'also', 'proud', 'to', 'carry', 'with', 'me', 'the', 'goodwill', 'of', 'the', 'American', 'people,', 'and', 'a', 'greeting', 'of', 'peace', 'from', 'Muslim', 'communities', 'in', 'my', 'country:', 'Assalaamu', 'alaykum.', '(Applause.)']\n",
            "['We', 'meet', 'at', 'a', 'time', 'of', 'great', 'tension', 'between', 'the', 'United', 'States', 'and', 'Muslims', 'around', 'the', 'world', '--', 'tension', 'rooted', 'in', 'historical', 'forces', 'that', 'go', 'beyond', 'any', 'current', 'policy', 'debate.', 'The', 'relationship', 'between', 'Islam', 'and', 'the', 'West', 'includes', 'centuries', 'of', 'coexistence', 'and', 'cooperation,', 'but', 'also', 'conflict', 'and', 'religious', 'wars.', 'More', 'recently,', 'tension', 'has', 'been', 'fed', 'by', 'colonialism', 'that', 'denied', 'rights', 'and', 'opportunities', 'to', 'many', 'Muslims,', 'and', 'a', 'Cold', 'War', 'in', 'which', 'Muslim-majority', 'countries', 'were', 'too', 'often', 'treated', 'as', 'proxies', 'without', 'regard', 'to', 'their', 'own', 'aspirations.', 'Moreover,', 'the', 'sweeping', 'change', 'brought', 'by', 'modernity', 'and', 'globalization', 'led', 'many', 'Muslims', 'to', 'view', 'the', 'West', 'as', 'hostile', 'to', 'the', 'traditions', 'of', 'Islam.']\n",
            "['Violent', 'extremists', 'have', 'exploited', 'these', 'tensions', 'in', 'a', 'small', 'but', 'potent', 'minority', 'of', 'Muslims.', 'The', 'attacks', 'of', 'September', '11,', '2001', 'and', 'the', 'continued', 'efforts', 'of', 'these', 'extremists', 'to', 'engage', 'in', 'violence', 'against', 'civilians', 'has', 'led', 'some', 'in', 'my', 'country', 'to', 'view', 'Islam', 'as', 'inevitably', 'hostile', 'not', 'only', 'to', 'America', 'and', 'Western', 'countries,', 'but', 'also', 'to', 'human', 'rights.', 'All', 'this', 'has', 'bred', 'more', 'fear', 'and', 'more', 'mistrust.']\n",
            "['So', 'long', 'as', 'our', 'relationship', 'is', 'defined', 'by', 'our', 'differences,', 'we', 'will', 'empower', 'those', 'who', 'sow', 'hatred', 'rather', 'than', 'peace,', 'those', 'who', 'promote', 'conflict', 'rather', 'than', 'the', 'cooperation', 'that', 'can', 'help', 'all', 'of', 'our', 'people', 'achieve', 'justice', 'and', 'prosperity.', 'And', 'this', 'cycle', 'of', 'suspicion', 'and', 'discord', 'must', 'end.']\n",
            "[\"I've\", 'come', 'here', 'to', 'Cairo', 'to', 'seek', 'a', 'new', 'beginning', 'between', 'the', 'United', 'States', 'and', 'Muslims', 'around', 'the', 'world,', 'one', 'based', 'on', 'mutual', 'interest', 'and', 'mutual', 'respect,', 'and', 'one', 'based', 'upon', 'the', 'truth', 'that', 'America', 'and', 'Islam', 'are', 'not', 'exclusive', 'and', 'need', 'not', 'be', 'in', 'competition.', 'Instead,', 'they', 'overlap,', 'and', 'share', 'common', 'principles', '--', 'principles', 'of', 'justice', 'and', 'progress;', 'tolerance', 'and', 'the', 'dignity', 'of', 'all', 'human', 'beings.']\n",
            "['I', 'do', 'so', 'recognizing', 'that', 'change', 'cannot', 'happen', 'overnight.', 'I', 'know', \"there's\", 'been', 'a', 'lot', 'of', 'publicity', 'about', 'this', 'speech,', 'but', 'no', 'single', 'speech', 'can', 'eradicate', 'years', 'of', 'mistrust,', 'nor', 'can', 'I', 'answer', 'in', 'the', 'time', 'that', 'I', 'have', 'this', 'afternoon', 'all', 'the', 'complex', 'questions', 'that', 'brought', 'us', 'to', 'this', 'point.', 'But', 'I', 'am', 'convinced', 'that', 'in', 'order', 'to', 'move', 'forward,', 'we', 'must', 'say', 'openly', 'to', 'each', 'other', 'the', 'things', 'we', 'hold', 'in', 'our', 'hearts', 'and', 'that', 'too', 'often', 'are', 'said', 'only', 'behind', 'closed', 'doors.', 'There', 'must', 'be', 'a', 'sustained', 'effort', 'to', 'listen', 'to', 'each', 'other;', 'to', 'learn', 'from', 'each', 'other;', 'to', 'respect', 'one', 'another;', 'and', 'to', 'seek', 'common', 'ground.', 'As', 'the', 'Holy', 'Koran', 'tells', 'us,', '\"Be', 'conscious', 'of', 'God', 'and', 'speak', 'always', 'the', 'truth.\"', '(Applause.)', 'That', 'is', 'what', 'I', 'will', 'try', 'to', 'do', 'today', '--', 'to', 'speak', 'the', 'truth', 'as', 'best', 'I', 'can,', 'humbled', 'by', 'the', 'task', 'before', 'us,', 'and', 'firm', 'in', 'my', 'belief', 'that', 'the', 'interests', 'we', 'share', 'as', 'human', 'beings', 'are', 'far', 'more', 'powerful', 'than', 'the', 'forces', 'that', 'drive', 'us', 'apart.']\n",
            "['Now', 'part', 'of', 'this', 'conviction', 'is', 'rooted', 'in', 'my', 'own', 'experience.', \"I'm\", 'a', 'Christian,', 'but', 'my', 'father', 'came', 'from', 'a', 'Kenyan', 'family', 'that', 'includes', 'generations', 'of', 'Muslims.', 'As', 'a', 'boy,', 'I', 'spent', 'several', 'years', 'in', 'Indonesia', 'and', 'heard', 'the', 'call', 'of', 'the', 'azaan', 'at', 'the', 'break', 'of', 'dawn', 'and', 'at', 'the', 'fall', 'of', 'dusk.', 'As', 'a', 'young', 'man,', 'I', 'worked', 'in', 'Chicago', 'communities', 'where', 'many', 'found', 'dignity', 'and', 'peace', 'in', 'their', 'Muslim', 'faith.']\n",
            "['As', 'a', 'student', 'of', 'history,', 'I', 'also', 'know', \"civilization's\", 'debt', 'to', 'Islam.', 'It', 'was', 'Islam', '--', 'at', 'places', 'like', 'Al-Azhar', '--', 'that', 'carried', 'the', 'light', 'of', 'learning', 'through', 'so', 'many', 'centuries,', 'paving', 'the', 'way', 'for', \"Europe's\", 'Renaissance', 'and', 'Enlightenment.', 'It', 'was', 'innovation', 'in', 'Muslim', 'communities', '--', '(applause)', '--', 'it', 'was', 'innovation', 'in', 'Muslim', 'communities', 'that', 'developed', 'the', 'order', 'of', 'algebra;', 'our', 'magnetic', 'compass', 'and', 'tools', 'of', 'navigation;', 'our', 'mastery', 'of', 'pens', 'and', 'printing;', 'our', 'understanding', 'of', 'how', 'disease', 'spreads', 'and', 'how', 'it', 'can', 'be', 'healed.', 'Islamic', 'culture', 'has', 'given', 'us', 'majestic', 'arches', 'and', 'soaring', 'spires;', 'timeless', 'poetry', 'and', 'cherished', 'music;', 'elegant', 'calligraphy', 'and', 'places', 'of', 'peaceful', 'contemplation.', 'And', 'throughout', 'history,', 'Islam', 'has', 'demonstrated', 'through', 'words', 'and', 'deeds', 'the', 'possibilities', 'of', 'religious', 'tolerance', 'and', 'racial', 'equality.', '(Applause.)']\n",
            "['I', 'also', 'know', 'that', 'Islam', 'has', 'always', 'been', 'a', 'part', 'of', \"America's\", 'story.', 'The', 'first', 'nation', 'to', 'recognize', 'my', 'country', 'was', 'Morocco.', 'In', 'signing', 'the', 'Treaty', 'of', 'Tripoli', 'in', '1796,', 'our', 'second', 'President,', 'John', 'Adams,', 'wrote,', '\"The', 'United', 'States', 'has', 'in', 'itself', 'no', 'character', 'of', 'enmity', 'against', 'the', 'laws,', 'religion', 'or', 'tranquility', 'of', 'Muslims.\"', 'And', 'since', 'our', 'founding,', 'American', 'Muslims', 'have', 'enriched', 'the', 'United', 'States.', 'They', 'have', 'fought', 'in', 'our', 'wars,', 'they', 'have', 'served', 'in', 'our', 'government,', 'they', 'have', 'stood', 'for', 'civil', 'rights,', 'they', 'have', 'started', 'businesses,', 'they', 'have', 'taught', 'at', 'our', 'universities,', \"they've\", 'excelled', 'in', 'our', 'sports', 'arenas,', \"they've\", 'won', 'Nobel', 'Prizes,', 'built', 'our', 'tallest', 'building,', 'and', 'lit', 'the', 'Olympic', 'Torch.', 'And', 'when', 'the', 'first', 'Muslim', 'American', 'was', 'recently', 'elected', 'to', 'Congress,', 'he', 'took', 'the', 'oath', 'to', 'defend', 'our', 'Constitution', 'using', 'the', 'same', 'Holy', 'Koran', 'that', 'one', 'of', 'our', 'Founding', 'Fathers', '--', 'Thomas', 'Jefferson', '--', 'kept', 'in', 'his', 'personal', 'library.', '(Applause.)']\n",
            "['So', 'I', 'have', 'known', 'Islam', 'on', 'three', 'continents', 'before', 'coming', 'to', 'the', 'region', 'where', 'it', 'was', 'first', 'revealed.', 'That', 'experience', 'guides', 'my', 'conviction', 'that', 'partnership', 'between', 'America', 'and', 'Islam', 'must', 'be', 'based', 'on', 'what', 'Islam', 'is,', 'not', 'what', 'it', \"isn't.\", 'And', 'I', 'consider', 'it', 'part', 'of', 'my', 'responsibility', 'as', 'President', 'of', 'the', 'United', 'States', 'to', 'fight', 'against', 'negative', 'stereotypes', 'of', 'Islam', 'wherever', 'they', 'appear.', '(Applause.)']\n",
            "['But', 'that', 'same', 'principle', 'must', 'apply', 'to', 'Muslim', 'perceptions', 'of', 'America.', '(Applause.)', 'Just', 'as', 'Muslims', 'do', 'not', 'fit', 'a', 'crude', 'stereotype,', 'America', 'is', 'not', 'the', 'crude', 'stereotype', 'of', 'a', 'self-interested', 'empire.', 'The', 'United', 'States', 'has', 'been', 'one', 'of', 'the', 'greatest', 'sources', 'of', 'progress', 'that', 'the', 'world', 'has', 'ever', 'known.', 'We', 'were', 'born', 'out', 'of', 'revolution', 'against', 'an', 'empire.', 'We', 'were', 'founded', 'upon', 'the', 'ideal', 'that', 'all', 'are', 'created', 'equal,', 'and', 'we', 'have', 'shed', 'blood', 'and', 'struggled', 'for', 'centuries', 'to', 'give', 'meaning', 'to', 'those', 'words', '--', 'within', 'our', 'borders,', 'and', 'around', 'the', 'world.', 'We', 'are', 'shaped', 'by', 'every', 'culture,', 'drawn', 'from', 'every', 'end', 'of', 'the', 'Earth,', 'and', 'dedicated', 'to', 'a', 'simple', 'concept:', 'E', 'pluribus', 'unum', '--', '\"Out', 'of', 'many,', 'one.\"']\n",
            "['Now,', 'much', 'has', 'been', 'made', 'of', 'the', 'fact', 'that', 'an', 'African', 'American', 'with', 'the', 'name', 'Barack', 'Hussein', 'Obama', 'could', 'be', 'elected', 'President.', '(Applause.)', 'But', 'my', 'personal', 'story', 'is', 'not', 'so', 'unique.', 'The', 'dream', 'of', 'opportunity', 'for', 'all', 'people', 'has', 'not', 'come', 'true', 'for', 'everyone', 'in', 'America,', 'but', 'its', 'promise', 'exists', 'for', 'all', 'who', 'come', 'to', 'our', 'shores', '--', 'and', 'that', 'includes', 'nearly', '7', 'million', 'American', 'Muslims', 'in', 'our', 'country', 'today', 'who,', 'by', 'the', 'way,', 'enjoy', 'incomes', 'and', 'educational', 'levels', 'that', 'are', 'higher', 'than', 'the', 'American', 'average.', '(Applause.)']\n",
            "['Moreover,', 'freedom', 'in', 'America', 'is', 'indivisible', 'from', 'the', 'freedom', 'to', 'practice', \"one's\", 'religion.', 'That', 'is', 'why', 'there', 'is', 'a', 'mosque', 'in', 'every', 'state', 'in', 'our', 'union,', 'and', 'over', '1,200', 'mosques', 'within', 'our', 'borders.', \"That's\", 'why', 'the', 'United', 'States', 'government', 'has', 'gone', 'to', 'court', 'to', 'protect', 'the', 'right', 'of', 'women', 'and', 'girls', 'to', 'wear', 'the', 'hijab', 'and', 'to', 'punish', 'those', 'who', 'would', 'deny', 'it.', '(Applause.)']\n",
            "['So', 'let', 'there', 'be', 'no', 'doubt:', 'Islam', 'is', 'a', 'part', 'of', 'America.', 'And', 'I', 'believe', 'that', 'America', 'holds', 'within', 'her', 'the', 'truth', 'that', 'regardless', 'of', 'race,', 'religion,', 'or', 'station', 'in', 'life,', 'all', 'of', 'us', 'share', 'common', 'aspirations', '--', 'to', 'live', 'in', 'peace', 'and', 'security;', 'to', 'get', 'an', 'education', 'and', 'to', 'work', 'with', 'dignity;', 'to', 'love', 'our', 'families,', 'our', 'communities,', 'and', 'our', 'God.', 'These', 'things', 'we', 'share.', 'This', 'is', 'the', 'hope', 'of', 'all', 'humanity.']\n",
            "['Of', 'course,', 'recognizing', 'our', 'common', 'humanity', 'is', 'only', 'the', 'beginning', 'of', 'our', 'task.', 'Words', 'alone', 'cannot', 'meet', 'the', 'needs', 'of', 'our', 'people.', 'These', 'needs', 'will', 'be', 'met', 'only', 'if', 'we', 'act', 'boldly', 'in', 'the', 'years', 'ahead;', 'and', 'if', 'we', 'understand', 'that', 'the', 'challenges', 'we', 'face', 'are', 'shared,', 'and', 'our', 'failure', 'to', 'meet', 'them', 'will', 'hurt', 'us', 'all.']\n",
            "['For', 'we', 'have', 'learned', 'from', 'recent', 'experience', 'that', 'when', 'a', 'financial', 'system', 'weakens', 'in', 'one', 'country,', 'prosperity', 'is', 'hurt', 'everywhere.', 'When', 'a', 'new', 'flu', 'infects', 'one', 'human', 'being,', 'all', 'are', 'at', 'risk.', 'When', 'one', 'nation', 'pursues', 'a', 'nuclear', 'weapon,', 'the', 'risk', 'of', 'nuclear', 'attack', 'rises', 'for', 'all', 'nations.', 'When', 'violent', 'extremists', 'operate', 'in', 'one', 'stretch', 'of', 'mountains,', 'people', 'are', 'endangered', 'across', 'an', 'ocean.', 'When', 'innocents', 'in', 'Bosnia', 'and', 'Darfur', 'are', 'slaughtered,', 'that', 'is', 'a', 'stain', 'on', 'our', 'collective', 'conscience.', '(Applause.)', 'That', 'is', 'what', 'it', 'means', 'to', 'share', 'this', 'world', 'in', 'the', '21st', 'century.', 'That', 'is', 'the', 'responsibility', 'we', 'have', 'to', 'one', 'another', 'as', 'human', 'beings.']\n",
            "['And', 'this', 'is', 'a', 'difficult', 'responsibility', 'to', 'embrace.', 'For', 'human', 'history', 'has', 'often', 'been', 'a', 'record', 'of', 'nations', 'and', 'tribes', '--', 'and,', 'yes,', 'religions', '--', 'subjugating', 'one', 'another', 'in', 'pursuit', 'of', 'their', 'own', 'interests.', 'Yet', 'in', 'this', 'new', 'age,', 'such', 'attitudes', 'are', 'self-defeating.', 'Given', 'our', 'interdependence,', 'any', 'world', 'order', 'that', 'elevates', 'one', 'nation', 'or', 'group', 'of', 'people', 'over', 'another', 'will', 'inevitably', 'fail.', 'So', 'whatever', 'we', 'think', 'of', 'the', 'past,', 'we', 'must', 'not', 'be', 'prisoners', 'to', 'it.', 'Our', 'problems', 'must', 'be', 'dealt', 'with', 'through', 'partnership;', 'our', 'progress', 'must', 'be', 'shared.', '(Applause.)']\n",
            "['Now,', 'that', 'does', 'not', 'mean', 'we', 'should', 'ignore', 'sources', 'of', 'tension.', 'Indeed,', 'it', 'suggests', 'the', 'opposite:', 'We', 'must', 'face', 'these', 'tensions', 'squarely.', 'And', 'so', 'in', 'that', 'spirit,', 'let', 'me', 'speak', 'as', 'clearly', 'and', 'as', 'plainly', 'as', 'I', 'can', 'about', 'some', 'specific', 'issues', 'that', 'I', 'believe', 'we', 'must', 'finally', 'confront', 'together.']\n",
            "['The', 'first', 'issue', 'that', 'we', 'have', 'to', 'confront', 'is', 'violent', 'extremism', 'in', 'all', 'of', 'its', 'forms.']\n",
            "['In', 'Ankara,', 'I', 'made', 'clear', 'that', 'America', 'is', 'not', '--', 'and', 'never', 'will', 'be', '--', 'at', 'war', 'with', 'Islam.', '(Applause.)', 'We', 'will,', 'however,', 'relentlessly', 'confront', 'violent', 'extremists', 'who', 'pose', 'a', 'grave', 'threat', 'to', 'our', 'security', '--', 'because', 'we', 'reject', 'the', 'same', 'thing', 'that', 'people', 'of', 'all', 'faiths', 'reject:', 'the', 'killing', 'of', 'innocent', 'men,', 'women,', 'and', 'children.', 'And', 'it', 'is', 'my', 'first', 'duty', 'as', 'President', 'to', 'protect', 'the', 'American', 'people.']\n",
            "['The', 'situation', 'in', 'Afghanistan', 'demonstrates', \"America's\", 'goals,', 'and', 'our', 'need', 'to', 'work', 'together.', 'Over', 'seven', 'years', 'ago,', 'the', 'United', 'States', 'pursued', 'al', 'Qaeda', 'and', 'the', 'Taliban', 'with', 'broad', 'international', 'support.', 'We', 'did', 'not', 'go', 'by', 'choice;', 'we', 'went', 'because', 'of', 'necessity.', \"I'm\", 'aware', 'that', \"there's\", 'still', 'some', 'who', 'would', 'question', 'or', 'even', 'justify', 'the', 'events', 'of', '9/11.', 'But', 'let', 'us', 'be', 'clear:', 'Al', 'Qaeda', 'killed', 'nearly', '3,000', 'people', 'on', 'that', 'day.', 'The', 'victims', 'were', 'innocent', 'men,', 'women', 'and', 'children', 'from', 'America', 'and', 'many', 'other', 'nations', 'who', 'had', 'done', 'nothing', 'to', 'harm', 'anybody.', 'And', 'yet', 'al', 'Qaeda', 'chose', 'to', 'ruthlessly', 'murder', 'these', 'people,', 'claimed', 'credit', 'for', 'the', 'attack,', 'and', 'even', 'now', 'states', 'their', 'determination', 'to', 'kill', 'on', 'a', 'massive', 'scale.', 'They', 'have', 'affiliates', 'in', 'many', 'countries', 'and', 'are', 'trying', 'to', 'expand', 'their', 'reach.', 'These', 'are', 'not', 'opinions', 'to', 'be', 'debated;', 'these', 'are', 'facts', 'to', 'be', 'dealt', 'with.']\n",
            "['Now,', 'make', 'no', 'mistake:', 'We', 'do', 'not', 'want', 'to', 'keep', 'our', 'troops', 'in', 'Afghanistan.', 'We', 'see', 'no', 'military', '--', 'we', 'seek', 'no', 'military', 'bases', 'there.', 'It', 'is', 'agonizing', 'for', 'America', 'to', 'lose', 'our', 'young', 'men', 'and', 'women.', 'It', 'is', 'costly', 'and', 'politically', 'difficult', 'to', 'continue', 'this', 'conflict.', 'We', 'would', 'gladly', 'bring', 'every', 'single', 'one', 'of', 'our', 'troops', 'home', 'if', 'we', 'could', 'be', 'confident', 'that', 'there', 'were', 'not', 'violent', 'extremists', 'in', 'Afghanistan', 'and', 'now', 'Pakistan', 'determined', 'to', 'kill', 'as', 'many', 'Americans', 'as', 'they', 'possibly', 'can.', 'But', 'that', 'is', 'not', 'yet', 'the', 'case.']\n",
            "['And', \"that's\", 'why', \"we're\", 'partnering', 'with', 'a', 'coalition', 'of', '46', 'countries.', 'And', 'despite', 'the', 'costs', 'involved,', \"America's\", 'commitment', 'will', 'not', 'weaken.', 'Indeed,', 'none', 'of', 'us', 'should', 'tolerate', 'these', 'extremists.', 'They', 'have', 'killed', 'in', 'many', 'countries.', 'They', 'have', 'killed', 'people', 'of', 'different', 'faiths', '--', 'but', 'more', 'than', 'any', 'other,', 'they', 'have', 'killed', 'Muslims.', 'Their', 'actions', 'are', 'irreconcilable', 'with', 'the', 'rights', 'of', 'human', 'beings,', 'the', 'progress', 'of', 'nations,', 'and', 'with', 'Islam.', 'The', 'Holy', 'Koran', 'teaches', 'that', 'whoever', 'kills', 'an', 'innocent', 'is', 'as', '--', 'it', 'is', 'as', 'if', 'he', 'has', 'killed', 'all', 'mankind.', '(Applause.)', 'And', 'the', 'Holy', 'Koran', 'also', 'says', 'whoever', 'saves', 'a', 'person,', 'it', 'is', 'as', 'if', 'he', 'has', 'saved', 'all', 'mankind.', '(Applause.)', 'The', 'enduring', 'faith', 'of', 'over', 'a', 'billion', 'people', 'is', 'so', 'much', 'bigger', 'than', 'the', 'narrow', 'hatred', 'of', 'a', 'few.', 'Islam', 'is', 'not', 'part', 'of', 'the', 'problem', 'in', 'combating', 'violent', 'extremism', '--', 'it', 'is', 'an', 'important', 'part', 'of', 'promoting', 'peace.']\n",
            "['Now,', 'we', 'also', 'know', 'that', 'military', 'power', 'alone', 'is', 'not', 'going', 'to', 'solve', 'the', 'problems', 'in', 'Afghanistan', 'and', 'Pakistan.', \"That's\", 'why', 'we', 'plan', 'to', 'invest', '$1.5', 'billion', 'each', 'year', 'over', 'the', 'next', 'five', 'years', 'to', 'partner', 'with', 'Pakistanis', 'to', 'build', 'schools', 'and', 'hospitals,', 'roads', 'and', 'businesses,', 'and', 'hundreds', 'of', 'millions', 'to', 'help', 'those', \"who've\", 'been', 'displaced.', \"That's\", 'why', 'we', 'are', 'providing', 'more', 'than', '$2.8', 'billion', 'to', 'help', 'Afghans', 'develop', 'their', 'economy', 'and', 'deliver', 'services', 'that', 'people', 'depend', 'on.']\n",
            "['Let', 'me', 'also', 'address', 'the', 'issue', 'of', 'Iraq.', 'Unlike', 'Afghanistan,', 'Iraq', 'was', 'a', 'war', 'of', 'choice', 'that', 'provoked', 'strong', 'differences', 'in', 'my', 'country', 'and', 'around', 'the', 'world.', 'Although', 'I', 'believe', 'that', 'the', 'Iraqi', 'people', 'are', 'ultimately', 'better', 'off', 'without', 'the', 'tyranny', 'of', 'Saddam', 'Hussein,', 'I', 'also', 'believe', 'that', 'events', 'in', 'Iraq', 'have', 'reminded', 'America', 'of', 'the', 'need', 'to', 'use', 'diplomacy', 'and', 'build', 'international', 'consensus', 'to', 'resolve', 'our', 'problems', 'whenever', 'possible.', '(Applause.)', 'Indeed,', 'we', 'can', 'recall', 'the', 'words', 'of', 'Thomas', 'Jefferson,', 'who', 'said:', '\"I', 'hope', 'that', 'our', 'wisdom', 'will', 'grow', 'with', 'our', 'power,', 'and', 'teach', 'us', 'that', 'the', 'less', 'we', 'use', 'our', 'power', 'the', 'greater', 'it', 'will', 'be.\"']\n",
            "['Today,', 'America', 'has', 'a', 'dual', 'responsibility:', 'to', 'help', 'Iraq', 'forge', 'a', 'better', 'future', '--', 'and', 'to', 'leave', 'Iraq', 'to', 'Iraqis.', 'And', 'I', 'have', 'made', 'it', 'clear', 'to', 'the', 'Iraqi', 'people', '--', '(applause)', '--', 'I', 'have', 'made', 'it', 'clear', 'to', 'the', 'Iraqi', 'people', 'that', 'we', 'pursue', 'no', 'bases,', 'and', 'no', 'claim', 'on', 'their', 'territory', 'or', 'resources.', \"Iraq's\", 'sovereignty', 'is', 'its', 'own.', 'And', \"that's\", 'why', 'I', 'ordered', 'the', 'removal', 'of', 'our', 'combat', 'brigades', 'by', 'next', 'August.', 'That', 'is', 'why', 'we', 'will', 'honor', 'our', 'agreement', 'with', \"Iraq's\", 'democratically', 'elected', 'government', 'to', 'remove', 'combat', 'troops', 'from', 'Iraqi', 'cities', 'by', 'July,', 'and', 'to', 'remove', 'all', 'of', 'our', 'troops', 'from', 'Iraq', 'by', '2012.', '(Applause.)', 'We', 'will', 'help', 'Iraq', 'train', 'its', 'security', 'forces', 'and', 'develop', 'its', 'economy.', 'But', 'we', 'will', 'support', 'a', 'secure', 'and', 'united', 'Iraq', 'as', 'a', 'partner,', 'and', 'never', 'as', 'a', 'patron.']\n",
            "['And', 'finally,', 'just', 'as', 'America', 'can', 'never', 'tolerate', 'violence', 'by', 'extremists,', 'we', 'must', 'never', 'alter', 'or', 'forget', 'our', 'principles.', 'Nine-eleven', 'was', 'an', 'enormous', 'trauma', 'to', 'our', 'country.', 'The', 'fear', 'and', 'anger', 'that', 'it', 'provoked', 'was', 'understandable,', 'but', 'in', 'some', 'cases,', 'it', 'led', 'us', 'to', 'act', 'contrary', 'to', 'our', 'traditions', 'and', 'our', 'ideals.', 'We', 'are', 'taking', 'concrete', 'actions', 'to', 'change', 'course.', 'I', 'have', 'unequivocally', 'prohibited', 'the', 'use', 'of', 'torture', 'by', 'the', 'United', 'States,', 'and', 'I', 'have', 'ordered', 'the', 'prison', 'at', 'Guantanamo', 'Bay', 'closed', 'by', 'early', 'next', 'year.', '(Applause.)']\n",
            "['So', 'America', 'will', 'defend', 'itself,', 'respectful', 'of', 'the', 'sovereignty', 'of', 'nations', 'and', 'the', 'rule', 'of', 'law.', 'And', 'we', 'will', 'do', 'so', 'in', 'partnership', 'with', 'Muslim', 'communities', 'which', 'are', 'also', 'threatened.', 'The', 'sooner', 'the', 'extremists', 'are', 'isolated', 'and', 'unwelcome', 'in', 'Muslim', 'communities,', 'the', 'sooner', 'we', 'will', 'all', 'be', 'safer.']\n",
            "['The', 'second', 'major', 'source', 'of', 'tension', 'that', 'we', 'need', 'to', 'discuss', 'is', 'the', 'situation', 'between', 'Israelis,', 'Palestinians', 'and', 'the', 'Arab', 'world.']\n",
            "[\"America's\", 'strong', 'bonds', 'with', 'Israel', 'are', 'well', 'known.', 'This', 'bond', 'is', 'unbreakable.', 'It', 'is', 'based', 'upon', 'cultural', 'and', 'historical', 'ties,', 'and', 'the', 'recognition', 'that', 'the', 'aspiration', 'for', 'a', 'Jewish', 'homeland', 'is', 'rooted', 'in', 'a', 'tragic', 'history', 'that', 'cannot', 'be', 'denied.']\n",
            "['Around', 'the', 'world,', 'the', 'Jewish', 'people', 'were', 'persecuted', 'for', 'centuries,', 'and', 'anti-Semitism', 'in', 'Europe', 'culminated', 'in', 'an', 'unprecedented', 'Holocaust.', 'Tomorrow,', 'I', 'will', 'visit', 'Buchenwald,', 'which', 'was', 'part', 'of', 'a', 'network', 'of', 'camps', 'where', 'Jews', 'were', 'enslaved,', 'tortured,', 'shot', 'and', 'gassed', 'to', 'death', 'by', 'the', 'Third', 'Reich.', 'Six', 'million', 'Jews', 'were', 'killed', '--', 'more', 'than', 'the', 'entire', 'Jewish', 'population', 'of', 'Israel', 'today.', 'Denying', 'that', 'fact', 'is', 'baseless,', 'it', 'is', 'ignorant,', 'and', 'it', 'is', 'hateful.', 'Threatening', 'Israel', 'with', 'destruction', '--', 'or', 'repeating', 'vile', 'stereotypes', 'about', 'Jews', '--', 'is', 'deeply', 'wrong,', 'and', 'only', 'serves', 'to', 'evoke', 'in', 'the', 'minds', 'of', 'Israelis', 'this', 'most', 'painful', 'of', 'memories', 'while', 'preventing', 'the', 'peace', 'that', 'the', 'people', 'of', 'this', 'region', 'deserve.']\n",
            "['On', 'the', 'other', 'hand,', 'it', 'is', 'also', 'undeniable', 'that', 'the', 'Palestinian', 'people', '--', 'Muslims', 'and', 'Christians', '--', 'have', 'suffered', 'in', 'pursuit', 'of', 'a', 'homeland.', 'For', 'more', 'than', '60', 'years', \"they've\", 'endured', 'the', 'pain', 'of', 'dislocation.', 'Many', 'wait', 'in', 'refugee', 'camps', 'in', 'the', 'West', 'Bank,', 'Gaza,', 'and', 'neighboring', 'lands', 'for', 'a', 'life', 'of', 'peace', 'and', 'security', 'that', 'they', 'have', 'never', 'been', 'able', 'to', 'lead.', 'They', 'endure', 'the', 'daily', 'humiliations', '--', 'large', 'and', 'small', '--', 'that', 'come', 'with', 'occupation.', 'So', 'let', 'there', 'be', 'no', 'doubt:', 'The', 'situation', 'for', 'the', 'Palestinian', 'people', 'is', 'intolerable.', 'And', 'America', 'will', 'not', 'turn', 'our', 'backs', 'on', 'the', 'legitimate', 'Palestinian', 'aspiration', 'for', 'dignity,', 'opportunity,', 'and', 'a', 'state', 'of', 'their', 'own.', '(Applause.)']\n",
            "['For', 'decades', 'then,', 'there', 'has', 'been', 'a', 'stalemate:', 'two', 'peoples', 'with', 'legitimate', 'aspirations,', 'each', 'with', 'a', 'painful', 'history', 'that', 'makes', 'compromise', 'elusive.', \"It's\", 'easy', 'to', 'point', 'fingers', '--', 'for', 'Palestinians', 'to', 'point', 'to', 'the', 'displacement', 'brought', 'about', 'by', \"Israel's\", 'founding,', 'and', 'for', 'Israelis', 'to', 'point', 'to', 'the', 'constant', 'hostility', 'and', 'attacks', 'throughout', 'its', 'history', 'from', 'within', 'its', 'borders', 'as', 'well', 'as', 'beyond.', 'But', 'if', 'we', 'see', 'this', 'conflict', 'only', 'from', 'one', 'side', 'or', 'the', 'other,', 'then', 'we', 'will', 'be', 'blind', 'to', 'the', 'truth:', 'The', 'only', 'resolution', 'is', 'for', 'the', 'aspirations', 'of', 'both', 'sides', 'to', 'be', 'met', 'through', 'two', 'states,', 'where', 'Israelis', 'and', 'Palestinians', 'each', 'live', 'in', 'peace', 'and', 'security.', '(Applause.)']\n",
            "['That', 'is', 'in', \"Israel's\", 'interest,', \"Palestine's\", 'interest,', \"America's\", 'interest,', 'and', 'the', \"world's\", 'interest.', 'And', 'that', 'is', 'why', 'I', 'intend', 'to', 'personally', 'pursue', 'this', 'outcome', 'with', 'all', 'the', 'patience', 'and', 'dedication', 'that', 'the', 'task', 'requires.', '(Applause.)', 'The', 'obligations', '--', 'the', 'obligations', 'that', 'the', 'parties', 'have', 'agreed', 'to', 'under', 'the', 'road', 'map', 'are', 'clear.', 'For', 'peace', 'to', 'come,', 'it', 'is', 'time', 'for', 'them', '--', 'and', 'all', 'of', 'us', '--', 'to', 'live', 'up', 'to', 'our', 'responsibilities.']\n",
            "['Palestinians', 'must', 'abandon', 'violence.', 'Resistance', 'through', 'violence', 'and', 'killing', 'is', 'wrong', 'and', 'it', 'does', 'not', 'succeed.', 'For', 'centuries,', 'black', 'people', 'in', 'America', 'suffered', 'the', 'lash', 'of', 'the', 'whip', 'as', 'slaves', 'and', 'the', 'humiliation', 'of', 'segregation.', 'But', 'it', 'was', 'not', 'violence', 'that', 'won', 'full', 'and', 'equal', 'rights.', 'It', 'was', 'a', 'peaceful', 'and', 'determined', 'insistence', 'upon', 'the', 'ideals', 'at', 'the', 'center', 'of', \"America's\", 'founding.', 'This', 'same', 'story', 'can', 'be', 'told', 'by', 'people', 'from', 'South', 'Africa', 'to', 'South', 'Asia;', 'from', 'Eastern', 'Europe', 'to', 'Indonesia.', \"It's\", 'a', 'story', 'with', 'a', 'simple', 'truth:', 'that', 'violence', 'is', 'a', 'dead', 'end.', 'It', 'is', 'a', 'sign', 'neither', 'of', 'courage', 'nor', 'power', 'to', 'shoot', 'rockets', 'at', 'sleeping', 'children,', 'or', 'to', 'blow', 'up', 'old', 'women', 'on', 'a', 'bus.', \"That's\", 'not', 'how', 'moral', 'authority', 'is', 'claimed;', \"that's\", 'how', 'it', 'is', 'surrendered.']\n",
            "['Now', 'is', 'the', 'time', 'for', 'Palestinians', 'to', 'focus', 'on', 'what', 'they', 'can', 'build.', 'The', 'Palestinian', 'Authority', 'must', 'develop', 'its', 'capacity', 'to', 'govern,', 'with', 'institutions', 'that', 'serve', 'the', 'needs', 'of', 'its', 'people.', 'Hamas', 'does', 'have', 'support', 'among', 'some', 'Palestinians,', 'but', 'they', 'also', 'have', 'to', 'recognize', 'they', 'have', 'responsibilities.', 'To', 'play', 'a', 'role', 'in', 'fulfilling', 'Palestinian', 'aspirations,', 'to', 'unify', 'the', 'Palestinian', 'people,', 'Hamas', 'must', 'put', 'an', 'end', 'to', 'violence,', 'recognize', 'past', 'agreements,', 'recognize', \"Israel's\", 'right', 'to', 'exist.']\n",
            "['At', 'the', 'same', 'time,', 'Israelis', 'must', 'acknowledge', 'that', 'just', 'as', \"Israel's\", 'right', 'to', 'exist', 'cannot', 'be', 'denied,', 'neither', 'can', \"Palestine's.\", 'The', 'United', 'States', 'does', 'not', 'accept', 'the', 'legitimacy', 'of', 'continued', 'Israeli', 'settlements.', '(Applause.)', 'This', 'construction', 'violates', 'previous', 'agreements', 'and', 'undermines', 'efforts', 'to', 'achieve', 'peace.', 'It', 'is', 'time', 'for', 'these', 'settlements', 'to', 'stop.', '(Applause.)']\n",
            "['And', 'Israel', 'must', 'also', 'live', 'up', 'to', 'its', 'obligation', 'to', 'ensure', 'that', 'Palestinians', 'can', 'live', 'and', 'work', 'and', 'develop', 'their', 'society.', 'Just', 'as', 'it', 'devastates', 'Palestinian', 'families,', 'the', 'continuing', 'humanitarian', 'crisis', 'in', 'Gaza', 'does', 'not', 'serve', \"Israel's\", 'security;', 'neither', 'does', 'the', 'continuing', 'lack', 'of', 'opportunity', 'in', 'the', 'West', 'Bank.', 'Progress', 'in', 'the', 'daily', 'lives', 'of', 'the', 'Palestinian', 'people', 'must', 'be', 'a', 'critical', 'part', 'of', 'a', 'road', 'to', 'peace,', 'and', 'Israel', 'must', 'take', 'concrete', 'steps', 'to', 'enable', 'such', 'progress.']\n",
            "['And', 'finally,', 'the', 'Arab', 'states', 'must', 'recognize', 'that', 'the', 'Arab', 'Peace', 'Initiative', 'was', 'an', 'important', 'beginning,', 'but', 'not', 'the', 'end', 'of', 'their', 'responsibilities.', 'The', 'Arab-Israeli', 'conflict', 'should', 'no', 'longer', 'be', 'used', 'to', 'distract', 'the', 'people', 'of', 'Arab', 'nations', 'from', 'other', 'problems.', 'Instead,', 'it', 'must', 'be', 'a', 'cause', 'for', 'action', 'to', 'help', 'the', 'Palestinian', 'people', 'develop', 'the', 'institutions', 'that', 'will', 'sustain', 'their', 'state,', 'to', 'recognize', \"Israel's\", 'legitimacy,', 'and', 'to', 'choose', 'progress', 'over', 'a', 'self-defeating', 'focus', 'on', 'the', 'past.']\n",
            "['America', 'will', 'align', 'our', 'policies', 'with', 'those', 'who', 'pursue', 'peace,', 'and', 'we', 'will', 'say', 'in', 'public', 'what', 'we', 'say', 'in', 'private', 'to', 'Israelis', 'and', 'Palestinians', 'and', 'Arabs.', '(Applause.)', 'We', 'cannot', 'impose', 'peace.', 'But', 'privately,', 'many', 'Muslims', 'recognize', 'that', 'Israel', 'will', 'not', 'go', 'away.', 'Likewise,', 'many', 'Israelis', 'recognize', 'the', 'need', 'for', 'a', 'Palestinian', 'state.', 'It', 'is', 'time', 'for', 'us', 'to', 'act', 'on', 'what', 'everyone', 'knows', 'to', 'be', 'true.']\n",
            "['Too', 'many', 'tears', 'have', 'been', 'shed.', 'Too', 'much', 'blood', 'has', 'been', 'shed.', 'All', 'of', 'us', 'have', 'a', 'responsibility', 'to', 'work', 'for', 'the', 'day', 'when', 'the', 'mothers', 'of', 'Israelis', 'and', 'Palestinians', 'can', 'see', 'their', 'children', 'grow', 'up', 'without', 'fear;', 'when', 'the', 'Holy', 'Land', 'of', 'the', 'three', 'great', 'faiths', 'is', 'the', 'place', 'of', 'peace', 'that', 'God', 'intended', 'it', 'to', 'be;', 'when', 'Jerusalem', 'is', 'a', 'secure', 'and', 'lasting', 'home', 'for', 'Jews', 'and', 'Christians', 'and', 'Muslims,', 'and', 'a', 'place', 'for', 'all', 'of', 'the', 'children', 'of', 'Abraham', 'to', 'mingle', 'peacefully', 'together', 'as', 'in', 'the', 'story', 'of', 'Isra', '--', '(applause)', '--', 'as', 'in', 'the', 'story', 'of', 'Isra,', 'when', 'Moses,', 'Jesus,', 'and', 'Mohammed,', 'peace', 'be', 'upon', 'them,', 'joined', 'in', 'prayer.', '(Applause.)']\n",
            "['The', 'third', 'source', 'of', 'tension', 'is', 'our', 'shared', 'interest', 'in', 'the', 'rights', 'and', 'responsibilities', 'of', 'nations', 'on', 'nuclear', 'weapons.']\n",
            "['This', 'issue', 'has', 'been', 'a', 'source', 'of', 'tension', 'between', 'the', 'United', 'States', 'and', 'the', 'Islamic', 'Republic', 'of', 'Iran.', 'For', 'many', 'years,', 'Iran', 'has', 'defined', 'itself', 'in', 'part', 'by', 'its', 'opposition', 'to', 'my', 'country,', 'and', 'there', 'is', 'in', 'fact', 'a', 'tumultuous', 'history', 'between', 'us.', 'In', 'the', 'middle', 'of', 'the', 'Cold', 'War,', 'the', 'United', 'States', 'played', 'a', 'role', 'in', 'the', 'overthrow', 'of', 'a', 'democratically', 'elected', 'Iranian', 'government.', 'Since', 'the', 'Islamic', 'Revolution,', 'Iran', 'has', 'played', 'a', 'role', 'in', 'acts', 'of', 'hostage-taking', 'and', 'violence', 'against', 'U.S.', 'troops', 'and', 'civilians.', 'This', 'history', 'is', 'well', 'known.', 'Rather', 'than', 'remain', 'trapped', 'in', 'the', 'past,', \"I've\", 'made', 'it', 'clear', 'to', \"Iran's\", 'leaders', 'and', 'people', 'that', 'my', 'country', 'is', 'prepared', 'to', 'move', 'forward.', 'The', 'question', 'now', 'is', 'not', 'what', 'Iran', 'is', 'against,', 'but', 'rather', 'what', 'future', 'it', 'wants', 'to', 'build.']\n",
            "['I', 'recognize', 'it', 'will', 'be', 'hard', 'to', 'overcome', 'decades', 'of', 'mistrust,', 'but', 'we', 'will', 'proceed', 'with', 'courage,', 'rectitude,', 'and', 'resolve.', 'There', 'will', 'be', 'many', 'issues', 'to', 'discuss', 'between', 'our', 'two', 'countries,', 'and', 'we', 'are', 'willing', 'to', 'move', 'forward', 'without', 'preconditions', 'on', 'the', 'basis', 'of', 'mutual', 'respect.', 'But', 'it', 'is', 'clear', 'to', 'all', 'concerned', 'that', 'when', 'it', 'comes', 'to', 'nuclear', 'weapons,', 'we', 'have', 'reached', 'a', 'decisive', 'point.', 'This', 'is', 'not', 'simply', 'about', \"America's\", 'interests.', \"It's\", 'about', 'preventing', 'a', 'nuclear', 'arms', 'race', 'in', 'the', 'Middle', 'East', 'that', 'could', 'lead', 'this', 'region', 'and', 'the', 'world', 'down', 'a', 'hugely', 'dangerous', 'path.']\n",
            "['I', 'understand', 'those', 'who', 'protest', 'that', 'some', 'countries', 'have', 'weapons', 'that', 'others', 'do', 'not.', 'No', 'single', 'nation', 'should', 'pick', 'and', 'choose', 'which', 'nation', 'holds', 'nuclear', 'weapons.', 'And', \"that's\", 'why', 'I', 'strongly', 'reaffirmed', \"America's\", 'commitment', 'to', 'seek', 'a', 'world', 'in', 'which', 'no', 'nations', 'hold', 'nuclear', 'weapons.', '(Applause.)', 'And', 'any', 'nation', '--', 'including', 'Iran', '--', 'should', 'have', 'the', 'right', 'to', 'access', 'peaceful', 'nuclear', 'power', 'if', 'it', 'complies', 'with', 'its', 'responsibilities', 'under', 'the', 'nuclear', 'Non-Proliferation', 'Treaty.', 'That', 'commitment', 'is', 'at', 'the', 'core', 'of', 'the', 'treaty,', 'and', 'it', 'must', 'be', 'kept', 'for', 'all', 'who', 'fully', 'abide', 'by', 'it.', 'And', \"I'm\", 'hopeful', 'that', 'all', 'countries', 'in', 'the', 'region', 'can', 'share', 'in', 'this', 'goal.']\n",
            "['The', 'fourth', 'issue', 'that', 'I', 'will', 'address', 'is', 'democracy.', '(Applause.)']\n",
            "['I', 'know', '--', 'I', 'know', 'there', 'has', 'been', 'controversy', 'about', 'the', 'promotion', 'of', 'democracy', 'in', 'recent', 'years,', 'and', 'much', 'of', 'this', 'controversy', 'is', 'connected', 'to', 'the', 'war', 'in', 'Iraq.', 'So', 'let', 'me', 'be', 'clear:', 'No', 'system', 'of', 'government', 'can', 'or', 'should', 'be', 'imposed', 'by', 'one', 'nation', 'by', 'any', 'other.']\n",
            "[]\n",
            "['That', 'does', 'not', 'lessen', 'my', 'commitment,', 'however,', 'to', 'governments', 'that', 'reflect', 'the', 'will', 'of', 'the', 'people.', 'Each', 'nation', 'gives', 'life', 'to', 'this', 'principle', 'in', 'its', 'own', 'way,', 'grounded', 'in', 'the', 'traditions', 'of', 'its', 'own', 'people.', 'America', 'does', 'not', 'presume', 'to', 'know', 'what', 'is', 'best', 'for', 'everyone,', 'just', 'as', 'we', 'would', 'not', 'presume', 'to', 'pick', 'the', 'outcome', 'of', 'a', 'peaceful', 'election.', 'But', 'I', 'do', 'have', 'an', 'unyielding', 'belief', 'that', 'all', 'people', 'yearn', 'for', 'certain', 'things:', 'the', 'ability', 'to', 'speak', 'your', 'mind', 'and', 'have', 'a', 'say', 'in', 'how', 'you', 'are', 'governed;', 'confidence', 'in', 'the', 'rule', 'of', 'law', 'and', 'the', 'equal', 'administration', 'of', 'justice;', 'government', 'that', 'is', 'transparent', 'and', \"doesn't\", 'steal', 'from', 'the', 'people;', 'the', 'freedom', 'to', 'live', 'as', 'you', 'choose.', 'These', 'are', 'not', 'just', 'American', 'ideas;', 'they', 'are', 'human', 'rights.', 'And', 'that', 'is', 'why', 'we', 'will', 'support', 'them', 'everywhere.', '(Applause.)']\n",
            "['Now,', 'there', 'is', 'no', 'straight', 'line', 'to', 'realize', 'this', 'promise.', 'But', 'this', 'much', 'is', 'clear:', 'Governments', 'that', 'protect', 'these', 'rights', 'are', 'ultimately', 'more', 'stable,', 'successful', 'and', 'secure.', 'Suppressing', 'ideas', 'never', 'succeeds', 'in', 'making', 'them', 'go', 'away.', 'America', 'respects', 'the', 'right', 'of', 'all', 'peaceful', 'and', 'law-abiding', 'voices', 'to', 'be', 'heard', 'around', 'the', 'world,', 'even', 'if', 'we', 'disagree', 'with', 'them.', 'And', 'we', 'will', 'welcome', 'all', 'elected,', 'peaceful', 'governments', '--', 'provided', 'they', 'govern', 'with', 'respect', 'for', 'all', 'their', 'people.']\n",
            "['This', 'last', 'point', 'is', 'important', 'because', 'there', 'are', 'some', 'who', 'advocate', 'for', 'democracy', 'only', 'when', \"they're\", 'out', 'of', 'power;', 'once', 'in', 'power,', 'they', 'are', 'ruthless', 'in', 'suppressing', 'the', 'rights', 'of', 'others.', '(Applause.)', 'So', 'no', 'matter', 'where', 'it', 'takes', 'hold,', 'government', 'of', 'the', 'people', 'and', 'by', 'the', 'people', 'sets', 'a', 'single', 'standard', 'for', 'all', 'who', 'would', 'hold', 'power:', 'You', 'must', 'maintain', 'your', 'power', 'through', 'consent,', 'not', 'coercion;', 'you', 'must', 'respect', 'the', 'rights', 'of', 'minorities,', 'and', 'participate', 'with', 'a', 'spirit', 'of', 'tolerance', 'and', 'compromise;', 'you', 'must', 'place', 'the', 'interests', 'of', 'your', 'people', 'and', 'the', 'legitimate', 'workings', 'of', 'the', 'political', 'process', 'above', 'your', 'party.', 'Without', 'these', 'ingredients,', 'elections', 'alone', 'do', 'not', 'make', 'true', 'democracy.']\n",
            "['AUDIENCE', 'MEMBER:', 'Barack', 'Obama,', 'we', 'love', 'you!']\n",
            "['PRESIDENT', 'OBAMA:', 'Thank', 'you.', '(Applause.)', 'The', 'fifth', 'issue', 'that', 'we', 'must', 'address', 'together', 'is', 'religious', 'freedom.']\n",
            "['Islam', 'has', 'a', 'proud', 'tradition', 'of', 'tolerance.', 'We', 'see', 'it', 'in', 'the', 'history', 'of', 'Andalusia', 'and', 'Cordoba', 'during', 'the', 'Inquisition.', 'I', 'saw', 'it', 'firsthand', 'as', 'a', 'child', 'in', 'Indonesia,', 'where', 'devout', 'Christians', 'worshiped', 'freely', 'in', 'an', 'overwhelmingly', 'Muslim', 'country.', 'That', 'is', 'the', 'spirit', 'we', 'need', 'today.', 'People', 'in', 'every', 'country', 'should', 'be', 'free', 'to', 'choose', 'and', 'live', 'their', 'faith', 'based', 'upon', 'the', 'persuasion', 'of', 'the', 'mind', 'and', 'the', 'heart', 'and', 'the', 'soul.', 'This', 'tolerance', 'is', 'essential', 'for', 'religion', 'to', 'thrive,', 'but', \"it's\", 'being', 'challenged', 'in', 'many', 'different', 'ways.']\n",
            "['Among', 'some', 'Muslims,', \"there's\", 'a', 'disturbing', 'tendency', 'to', 'measure', \"one's\", 'own', 'faith', 'by', 'the', 'rejection', 'of', 'somebody', \"else's\", 'faith.', 'The', 'richness', 'of', 'religious', 'diversity', 'must', 'be', 'upheld', '--', 'whether', 'it', 'is', 'for', 'Maronites', 'in', 'Lebanon', 'or', 'the', 'Copts', 'in', 'Egypt.', '(Applause.)', 'And', 'if', 'we', 'are', 'being', 'honest,', 'fault', 'lines', 'must', 'be', 'closed', 'among', 'Muslims,', 'as', 'well,', 'as', 'the', 'divisions', 'between', 'Sunni', 'and', 'Shia', 'have', 'led', 'to', 'tragic', 'violence,', 'particularly', 'in', 'Iraq.']\n",
            "['Freedom', 'of', 'religion', 'is', 'central', 'to', 'the', 'ability', 'of', 'peoples', 'to', 'live', 'together.', 'We', 'must', 'always', 'examine', 'the', 'ways', 'in', 'which', 'we', 'protect', 'it.', 'For', 'instance,', 'in', 'the', 'United', 'States,', 'rules', 'on', 'charitable', 'giving', 'have', 'made', 'it', 'harder', 'for', 'Muslims', 'to', 'fulfill', 'their', 'religious', 'obligation.', \"That's\", 'why', \"I'm\", 'committed', 'to', 'working', 'with', 'American', 'Muslims', 'to', 'ensure', 'that', 'they', 'can', 'fulfill', 'zakat.']\n",
            "['Likewise,', 'it', 'is', 'important', 'for', 'Western', 'countries', 'to', 'avoid', 'impeding', 'Muslim', 'citizens', 'from', 'practicing', 'religion', 'as', 'they', 'see', 'fit', '--', 'for', 'instance,', 'by', 'dictating', 'what', 'clothes', 'a', 'Muslim', 'woman', 'should', 'wear.', 'We', \"can't\", 'disguise', 'hostility', 'towards', 'any', 'religion', 'behind', 'the', 'pretence', 'of', 'liberalism.']\n",
            "[]\n",
            "['In', 'fact,', 'faith', 'should', 'bring', 'us', 'together.', 'And', \"that's\", 'why', \"we're\", 'forging', 'service', 'projects', 'in', 'America', 'to', 'bring', 'together', 'Christians,', 'Muslims,', 'and', 'Jews.', \"That's\", 'why', 'we', 'welcome', 'efforts', 'like', 'Saudi', 'Arabian', 'King', \"Abdullah's\", 'interfaith', 'dialogue', 'and', \"Turkey's\", 'leadership', 'in', 'the', 'Alliance', 'of', 'Civilizations.', 'Around', 'the', 'world,', 'we', 'can', 'turn', 'dialogue', 'into', 'interfaith', 'service,', 'so', 'bridges', 'between', 'peoples', 'lead', 'to', 'action', '--', 'whether', 'it', 'is', 'combating', 'malaria', 'in', 'Africa,', 'or', 'providing', 'relief', 'after', 'a', 'natural', 'disaster.']\n",
            "['The', 'sixth', 'issue', '--', 'the', 'sixth', 'issue', 'that', 'I', 'want', 'to', 'address', 'is', \"women's\", 'rights.', '(Applause.)', 'I', 'know', '–-', 'I', 'know', '--', 'and', 'you', 'can', 'tell', 'from', 'this', 'audience,', 'that', 'there', 'is', 'a', 'healthy', 'debate', 'about', 'this', 'issue.', 'I', 'reject', 'the', 'view', 'of', 'some', 'in', 'the', 'West', 'that', 'a', 'woman', 'who', 'chooses', 'to', 'cover', 'her', 'hair', 'is', 'somehow', 'less', 'equal,', 'but', 'I', 'do', 'believe', 'that', 'a', 'woman', 'who', 'is', 'denied', 'an', 'education', 'is', 'denied', 'equality.', '(Applause.)', 'And', 'it', 'is', 'no', 'coincidence', 'that', 'countries', 'where', 'women', 'are', 'well', 'educated', 'are', 'far', 'more', 'likely', 'to', 'be', 'prosperous.']\n",
            "['Now,', 'let', 'me', 'be', 'clear:', 'Issues', 'of', \"women's\", 'equality', 'are', 'by', 'no', 'means', 'simply', 'an', 'issue', 'for', 'Islam.', 'In', 'Turkey,', 'Pakistan,', 'Bangladesh,', 'Indonesia,', \"we've\", 'seen', 'Muslim-majority', 'countries', 'elect', 'a', 'woman', 'to', 'lead.', 'Meanwhile,', 'the', 'struggle', 'for', \"women's\", 'equality', 'continues', 'in', 'many', 'aspects', 'of', 'American', 'life,', 'and', 'in', 'countries', 'around', 'the', 'world.']\n",
            "['I', 'am', 'convinced', 'that', 'our', 'daughters', 'can', 'contribute', 'just', 'as', 'much', 'to', 'society', 'as', 'our', 'sons.', '(Applause.)', 'Our', 'common', 'prosperity', 'will', 'be', 'advanced', 'by', 'allowing', 'all', 'humanity', '--', 'men', 'and', 'women', '--', 'to', 'reach', 'their', 'full', 'potential.', 'I', 'do', 'not', 'believe', 'that', 'women', 'must', 'make', 'the', 'same', 'choices', 'as', 'men', 'in', 'order', 'to', 'be', 'equal,', 'and', 'I', 'respect', 'those', 'women', 'who', 'choose', 'to', 'live', 'their', 'lives', 'in', 'traditional', 'roles.', 'But', 'it', 'should', 'be', 'their', 'choice.', 'And', 'that', 'is', 'why', 'the', 'United', 'States', 'will', 'partner', 'with', 'any', 'Muslim-majority', 'country', 'to', 'support', 'expanded', 'literacy', 'for', 'girls,', 'and', 'to', 'help', 'young', 'women', 'pursue', 'employment', 'through', 'micro-financing', 'that', 'helps', 'people', 'live', 'their', 'dreams.', '(Applause.)']\n",
            "['Finally,', 'I', 'want', 'to', 'discuss', 'economic', 'development', 'and', 'opportunity.']\n",
            "['I', 'know', 'that', 'for', 'many,', 'the', 'face', 'of', 'globalization', 'is', 'contradictory.', 'The', 'Internet', 'and', 'television', 'can', 'bring', 'knowledge', 'and', 'information,', 'but', 'also', 'offensive', 'sexuality', 'and', 'mindless', 'violence', 'into', 'the', 'home.', 'Trade', 'can', 'bring', 'new', 'wealth', 'and', 'opportunities,', 'but', 'also', 'huge', 'disruptions', 'and', 'change', 'in', 'communities.', 'In', 'all', 'nations', '--', 'including', 'America', '--', 'this', 'change', 'can', 'bring', 'fear.', 'Fear', 'that', 'because', 'of', 'modernity', 'we', 'lose', 'control', 'over', 'our', 'economic', 'choices,', 'our', 'politics,', 'and', 'most', 'importantly', 'our', 'identities', '--', 'those', 'things', 'we', 'most', 'cherish', 'about', 'our', 'communities,', 'our', 'families,', 'our', 'traditions,', 'and', 'our', 'faith.']\n",
            "['But', 'I', 'also', 'know', 'that', 'human', 'progress', 'cannot', 'be', 'denied.', 'There', 'need', 'not', 'be', 'contradictions', 'between', 'development', 'and', 'tradition.', 'Countries', 'like', 'Japan', 'and', 'South', 'Korea', 'grew', 'their', 'economies', 'enormously', 'while', 'maintaining', 'distinct', 'cultures.', 'The', 'same', 'is', 'true', 'for', 'the', 'astonishing', 'progress', 'within', 'Muslim-majority', 'countries', 'from', 'Kuala', 'Lumpur', 'to', 'Dubai.', 'In', 'ancient', 'times', 'and', 'in', 'our', 'times,', 'Muslim', 'communities', 'have', 'been', 'at', 'the', 'forefront', 'of', 'innovation', 'and', 'education.']\n",
            "[]\n",
            "['And', 'this', 'is', 'important', 'because', 'no', 'development', 'strategy', 'can', 'be', 'based', 'only', 'upon', 'what', 'comes', 'out', 'of', 'the', 'ground,', 'nor', 'can', 'it', 'be', 'sustained', 'while', 'young', 'people', 'are', 'out', 'of', 'work.', 'Many', 'Gulf', 'states', 'have', 'enjoyed', 'great', 'wealth', 'as', 'a', 'consequence', 'of', 'oil,', 'and', 'some', 'are', 'beginning', 'to', 'focus', 'it', 'on', 'broader', 'development.', 'But', 'all', 'of', 'us', 'must', 'recognize', 'that', 'education', 'and', 'innovation', 'will', 'be', 'the', 'currency', 'of', 'the', '21st', 'century', '--', '(applause)', '--', 'and', 'in', 'too', 'many', 'Muslim', 'communities,', 'there', 'remains', 'underinvestment', 'in', 'these', 'areas.', \"I'm\", 'emphasizing', 'such', 'investment', 'within', 'my', 'own', 'country.', 'And', 'while', 'America', 'in', 'the', 'past', 'has', 'focused', 'on', 'oil', 'and', 'gas', 'when', 'it', 'comes', 'to', 'this', 'part', 'of', 'the', 'world,', 'we', 'now', 'seek', 'a', 'broader', 'engagement.']\n",
            "['On', 'education,', 'we', 'will', 'expand', 'exchange', 'programs,', 'and', 'increase', 'scholarships,', 'like', 'the', 'one', 'that', 'brought', 'my', 'father', 'to', 'America.', '(Applause.)', 'At', 'the', 'same', 'time,', 'we', 'will', 'encourage', 'more', 'Americans', 'to', 'study', 'in', 'Muslim', 'communities.', 'And', 'we', 'will', 'match', 'promising', 'Muslim', 'students', 'with', 'internships', 'in', 'America;', 'invest', 'in', 'online', 'learning', 'for', 'teachers', 'and', 'children', 'around', 'the', 'world;', 'and', 'create', 'a', 'new', 'online', 'network,', 'so', 'a', 'young', 'person', 'in', 'Kansas', 'can', 'communicate', 'instantly', 'with', 'a', 'young', 'person', 'in', 'Cairo.']\n",
            "['On', 'economic', 'development,', 'we', 'will', 'create', 'a', 'new', 'corps', 'of', 'business', 'volunteers', 'to', 'partner', 'with', 'counterparts', 'in', 'Muslim-majority', 'countries.', 'And', 'I', 'will', 'host', 'a', 'Summit', 'on', 'Entrepreneurship', 'this', 'year', 'to', 'identify', 'how', 'we', 'can', 'deepen', 'ties', 'between', 'business', 'leaders,', 'foundations', 'and', 'social', 'entrepreneurs', 'in', 'the', 'United', 'States', 'and', 'Muslim', 'communities', 'around', 'the', 'world.']\n",
            "['On', 'science', 'and', 'technology,', 'we', 'will', 'launch', 'a', 'new', 'fund', 'to', 'support', 'technological', 'development', 'in', 'Muslim-majority', 'countries,', 'and', 'to', 'help', 'transfer', 'ideas', 'to', 'the', 'marketplace', 'so', 'they', 'can', 'create', 'more', 'jobs.', \"We'll\", 'open', 'centers', 'of', 'scientific', 'excellence', 'in', 'Africa,', 'the', 'Middle', 'East', 'and', 'Southeast', 'Asia,', 'and', 'appoint', 'new', 'science', 'envoys', 'to', 'collaborate', 'on', 'programs', 'that', 'develop', 'new', 'sources', 'of', 'energy,', 'create', 'green', 'jobs,', 'digitize', 'records,', 'clean', 'water,', 'grow', 'new', 'crops.', 'Today', \"I'm\", 'announcing', 'a', 'new', 'global', 'effort', 'with', 'the', 'Organization', 'of', 'the', 'Islamic', 'Conference', 'to', 'eradicate', 'polio.', 'And', 'we', 'will', 'also', 'expand', 'partnerships', 'with', 'Muslim', 'communities', 'to', 'promote', 'child', 'and', 'maternal', 'health.']\n",
            "['All', 'these', 'things', 'must', 'be', 'done', 'in', 'partnership.', 'Americans', 'are', 'ready', 'to', 'join', 'with', 'citizens', 'and', 'governments;', 'community', 'organizations,', 'religious', 'leaders,', 'and', 'businesses', 'in', 'Muslim', 'communities', 'around', 'the', 'world', 'to', 'help', 'our', 'people', 'pursue', 'a', 'better', 'life.']\n",
            "['The', 'issues', 'that', 'I', 'have', 'described', 'will', 'not', 'be', 'easy', 'to', 'address.', 'But', 'we', 'have', 'a', 'responsibility', 'to', 'join', 'together', 'on', 'behalf', 'of', 'the', 'world', 'that', 'we', 'seek', '--', 'a', 'world', 'where', 'extremists', 'no', 'longer', 'threaten', 'our', 'people,', 'and', 'American', 'troops', 'have', 'come', 'home;', 'a', 'world', 'where', 'Israelis', 'and', 'Palestinians', 'are', 'each', 'secure', 'in', 'a', 'state', 'of', 'their', 'own,', 'and', 'nuclear', 'energy', 'is', 'used', 'for', 'peaceful', 'purposes;', 'a', 'world', 'where', 'governments', 'serve', 'their', 'citizens,', 'and', 'the', 'rights', 'of', 'all', \"God's\", 'children', 'are', 'respected.', 'Those', 'are', 'mutual', 'interests.', 'That', 'is', 'the', 'world', 'we', 'seek.', 'But', 'we', 'can', 'only', 'achieve', 'it', 'together.']\n",
            "['I', 'know', 'there', 'are', 'many', '--', 'Muslim', 'and', 'non-Muslim', '--', 'who', 'question', 'whether', 'we', 'can', 'forge', 'this', 'new', 'beginning.', 'Some', 'are', 'eager', 'to', 'stoke', 'the', 'flames', 'of', 'division,', 'and', 'to', 'stand', 'in', 'the', 'way', 'of', 'progress.', 'Some', 'suggest', 'that', 'it', \"isn't\", 'worth', 'the', 'effort', '--', 'that', 'we', 'are', 'fated', 'to', 'disagree,', 'and', 'civilizations', 'are', 'doomed', 'to', 'clash.', 'Many', 'more', 'are', 'simply', 'skeptical', 'that', 'real', 'change', 'can', 'occur.', \"There's\", 'so', 'much', 'fear,', 'so', 'much', 'mistrust', 'that', 'has', 'built', 'up', 'over', 'the', 'years.', 'But', 'if', 'we', 'choose', 'to', 'be', 'bound', 'by', 'the', 'past,', 'we', 'will', 'never', 'move', 'forward.', 'And', 'I', 'want', 'to', 'particularly', 'say', 'this', 'to', 'young', 'people', 'of', 'every', 'faith,', 'in', 'every', 'country', '--', 'you,', 'more', 'than', 'anyone,', 'have', 'the', 'ability', 'to', 'reimagine', 'the', 'world,', 'to', 'remake', 'this', 'world.']\n",
            "['All', 'of', 'us', 'share', 'this', 'world', 'for', 'but', 'a', 'brief', 'moment', 'in', 'time.', 'The', 'question', 'is', 'whether', 'we', 'spend', 'that', 'time', 'focused', 'on', 'what', 'pushes', 'us', 'apart,', 'or', 'whether', 'we', 'commit', 'ourselves', 'to', 'an', 'effort', '--', 'a', 'sustained', 'effort', '--', 'to', 'find', 'common', 'ground,', 'to', 'focus', 'on', 'the', 'future', 'we', 'seek', 'for', 'our', 'children,', 'and', 'to', 'respect', 'the', 'dignity', 'of', 'all', 'human', 'beings.']\n",
            "[\"It's\", 'easier', 'to', 'start', 'wars', 'than', 'to', 'end', 'them.', \"It's\", 'easier', 'to', 'blame', 'others', 'than', 'to', 'look', 'inward.', \"It's\", 'easier', 'to', 'see', 'what', 'is', 'different', 'about', 'someone', 'than', 'to', 'find', 'the', 'things', 'we', 'share.', 'But', 'we', 'should', 'choose', 'the', 'right', 'path,', 'not', 'just', 'the', 'easy', 'path.', \"There's\", 'one', 'rule', 'that', 'lies', 'at', 'the', 'heart', 'of', 'every', 'religion', '--', 'that', 'we', 'do', 'unto', 'others', 'as', 'we', 'would', 'have', 'them', 'do', 'unto', 'us.', '(Applause.)', 'This', 'truth', 'transcends', 'nations', 'and', 'peoples', '--', 'a', 'belief', 'that', \"isn't\", 'new;', 'that', \"isn't\", 'black', 'or', 'white', 'or', 'brown;', 'that', \"isn't\", 'Christian', 'or', 'Muslim', 'or', 'Jew.', \"It's\", 'a', 'belief', 'that', 'pulsed', 'in', 'the', 'cradle', 'of', 'civilization,', 'and', 'that', 'still', 'beats', 'in', 'the', 'hearts', 'of', 'billions', 'around', 'the', 'world.', \"It's\", 'a', 'faith', 'in', 'other', 'people,', 'and', \"it's\", 'what', 'brought', 'me', 'here', 'today.']\n",
            "['We', 'have', 'the', 'power', 'to', 'make', 'the', 'world', 'we', 'seek,', 'but', 'only', 'if', 'we', 'have', 'the', 'courage', 'to', 'make', 'a', 'new', 'beginning,', 'keeping', 'in', 'mind', 'what', 'has', 'been', 'written.']\n",
            "['The', 'Holy', 'Koran', 'tells', 'us:', '\"O', 'mankind!', 'We', 'have', 'created', 'you', 'male', 'and', 'a', 'female;', 'and', 'we', 'have', 'made', 'you', 'into', 'nations', 'and', 'tribes', 'so', 'that', 'you', 'may', 'know', 'one', 'another.\"']\n",
            "['The', 'Talmud', 'tells', 'us:', '\"The', 'whole', 'of', 'the', 'Torah', 'is', 'for', 'the', 'purpose', 'of', 'promoting', 'peace.\"']\n",
            "['The', 'Holy', 'Bible', 'tells', 'us:', '\"Blessed', 'are', 'the', 'peacemakers,', 'for', 'they', 'shall', 'be', 'called', 'sons', 'of', 'God.\"', '(Applause.)']\n",
            "['The', 'people', 'of', 'the', 'world', 'can', 'live', 'together', 'in', 'peace.', 'We', 'know', 'that', 'is', \"God's\", 'vision.', 'Now', 'that', 'must', 'be', 'our', 'work', 'here', 'on', 'Earth.']\n",
            "['Thank', 'you.', 'And', 'may', \"God's\", 'peace', 'be', 'upon', 'you.', 'Thank', 'you', 'very', 'much.', 'Thank', 'you.', '(Applause.)']\n",
            "['END']\n",
            "['2:05', 'P.M.', '(Local)']\n"
          ]
        }
      ],
      "source": [
        "with open(\"Data\\obamaincairo.txt\", mode = \"r\", encoding=\"utf-8\") as f:\n",
        "    for word in f:\n",
        "        y = word.split()\n",
        "        print(y) "
      ]
    },
    {
      "cell_type": "markdown",
      "metadata": {
        "id": "-1-5ZYjHwlXi"
      },
      "source": [
        "## Break content by line\n",
        "### We can also use the readlines method\n",
        "\n",
        "**When it encounters a line break, it returns that line**"
      ]
    },
    {
      "cell_type": "code",
      "execution_count": 6,
      "metadata": {
        "id": "t6RTqtFPGPly"
      },
      "outputs": [
        {
          "name": "stdout",
          "output_type": "stream",
          "text": [
            "PRESIDENT OBAMA:  Thank you very much.  Good afternoon.  I am honored to be in the timeless city of Cairo, and to be hosted by two remarkable institutions.  For over a thousand years, Al-Azhar has stood as a beacon of Islamic learning; and for over a century, Cairo University has been a source of Egypt's advancement.  And together, you represent the harmony between tradition and progress.  I'm grateful for your hospitality, and the hospitality of the people of Egypt.  And I'm also proud to carry with me the goodwill of the American people, and a greeting of peace from Muslim communities in my country:  Assalaamu alaykum. (Applause.)\n",
            "\n"
          ]
        }
      ],
      "source": [
        "obamafile = open(\"Data\\obamaincairo.txt\", mode = \"r\", encoding=\"utf-8\") #open files\n",
        "\n",
        "lines = obamafile.readline()\n",
        "\n",
        "print(lines)"
      ]
    },
    {
      "cell_type": "markdown",
      "metadata": {
        "id": "caWS7U9kdV7R"
      },
      "source": [
        "**read all lines**"
      ]
    },
    {
      "cell_type": "code",
      "execution_count": 8,
      "metadata": {
        "id": "_-V-qNiKwlXi"
      },
      "outputs": [
        {
          "name": "stdout",
          "output_type": "stream",
          "text": [
            "PRESIDENT OBAMA:  Thank you very much.  Good afternoon.  I am honored to be in the timeless city of Cairo, and to be hosted by two remarkable institutions.  For over a thousand years, Al-Azhar has stood as a beacon of Islamic learning; and for over a century, Cairo University has been a source of Egypt's advancement.  And together, you represent the harmony between tradition and progress.  I'm grateful for your hospitality, and the hospitality of the people of Egypt.  And I'm also proud to carry with me the goodwill of the American people, and a greeting of peace from Muslim communities in my country:  Assalaamu alaykum. (Applause.)\n",
            "\n",
            "We meet at a time of great tension between the United States and Muslims around the world -- tension rooted in historical forces that go beyond any current policy debate.  The relationship between Islam and the West includes centuries of coexistence and cooperation, but also conflict and religious wars.  More recently, tension has been fed by colonialism that denied rights and opportunities to many Muslims, and a Cold War in which Muslim-majority countries were too often treated as proxies without regard to their own aspirations.  Moreover, the sweeping change brought by modernity and globalization led many Muslims to view the West as hostile to the traditions of Islam.\n",
            "\n",
            "Violent extremists have exploited these tensions in a small but potent minority of Muslims.  The attacks of September 11, 2001 and the continued efforts of these extremists to engage in violence against civilians has led some in my country to view Islam as inevitably hostile not only to America and Western countries, but also to human rights.  All this has bred more fear and more mistrust.\n",
            "\n",
            "So long as our relationship is defined by our differences, we will empower those who sow hatred rather than peace, those who promote conflict rather than the cooperation that can help all of our people achieve justice and prosperity.  And this cycle of suspicion and discord must end.\n",
            "\n",
            "I've come here to Cairo to seek a new beginning between the United States and Muslims around the world, one based on mutual interest and mutual respect, and one based upon the truth that America and Islam are not exclusive and need not be in competition.  Instead, they overlap, and share common principles -- principles of justice and progress; tolerance and the dignity of all human beings.\n",
            "\n",
            "I do so recognizing that change cannot happen overnight.  I know there's been a lot of publicity about this speech, but no single speech can eradicate years of mistrust, nor can I answer in the time that I have this afternoon all the complex questions that brought us to this point.  But I am convinced that in order to move forward, we must say openly to each other the things we hold in our hearts and that too often are said only behind closed doors.  There must be a sustained effort to listen to each other; to learn from each other; to respect one another; and to seek common ground.  As the Holy Koran tells us, \"Be conscious of God and speak always the truth.\"  (Applause.)  That is what I will try to do today -- to speak the truth as best I can, humbled by the task before us, and firm in my belief that the interests we share as human beings are far more powerful than the forces that drive us apart.\n",
            "\n",
            "Now part of this conviction is rooted in my own experience. I'm a Christian, but my father came from a Kenyan family that includes generations of Muslims.  As a boy, I spent several years in Indonesia and heard the call of the azaan at the break of dawn and at the fall of dusk.  As a young man, I worked in Chicago communities where many found dignity and peace in their Muslim faith.\n",
            "\n",
            "As a student of history, I also know civilization's debt to Islam.  It was Islam -- at places like Al-Azhar -- that carried the light of learning through so many centuries, paving the way for Europe's Renaissance and Enlightenment.  It was innovation in Muslim communities -- (applause) -- it was innovation in Muslim communities that developed the order of algebra; our magnetic compass and tools of navigation; our mastery of pens and printing; our understanding of how disease spreads and how it can be healed.  Islamic culture has given us majestic arches and soaring spires; timeless poetry and cherished music; elegant calligraphy and places of peaceful contemplation.  And throughout history, Islam has demonstrated through words and deeds the possibilities of religious tolerance and racial equality.  (Applause.)\n",
            "\n",
            "I also know that Islam has always been a part of America's story.  The first nation to recognize my country was Morocco.  In signing the Treaty of Tripoli in 1796, our second President, John Adams, wrote, \"The United States has in itself no character of enmity against the laws, religion or tranquility of Muslims.\"  And since our founding, American Muslims have enriched the United States.  They have fought in our wars, they have served in our government, they have stood for civil rights, they have started businesses, they have taught at our universities, they've excelled in our sports arenas, they've won Nobel Prizes, built our tallest building, and lit the Olympic Torch.  And when the first Muslim American was recently elected to Congress, he took the oath to defend our Constitution using the same Holy Koran that one of our Founding Fathers -- Thomas Jefferson -- kept in his personal library.  (Applause.)\n",
            "\n",
            "So I have known Islam on three continents before coming to the region where it was first revealed.  That experience guides my conviction that partnership between America and Islam must be based on what Islam is, not what it isn't.  And I consider it part of my responsibility as President of the United States to fight against negative stereotypes of Islam wherever they appear. (Applause.)\n",
            "\n",
            "But that same principle must apply to Muslim perceptions of America.  (Applause.)  Just as Muslims do not fit a crude stereotype, America is not the crude stereotype of a self-interested empire.  The United States has been one of the greatest sources of progress that the world has ever known.  We were born out of revolution against an empire.  We were founded upon the ideal that all are created equal, and we have shed blood and struggled for centuries to give meaning to those words -- within our borders, and around the world.  We are shaped by every culture, drawn from every end of the Earth, and dedicated to a simple concept:  E pluribus unum -- \"Out of many, one.\"  \n",
            "\n",
            "Now, much has been made of the fact that an African American with the name Barack Hussein Obama could be elected President.  (Applause.)  But my personal story is not so unique.  The dream of opportunity for all people has not come true for everyone in America, but its promise exists for all who come to our shores -- and that includes nearly 7 million American Muslims in our country today who, by the way, enjoy incomes and educational levels that are higher than the American average.  (Applause.)\n",
            "\n",
            "Moreover, freedom in America is indivisible from the freedom to practice one's religion.  That is why there is a mosque in every state in our union, and over 1,200 mosques within our borders.  That's why the United States government has gone to court to protect the right of women and girls to wear the hijab and to punish those who would deny it.  (Applause.)\n",
            "\n",
            "So let there be no doubt:  Islam is a part of America.  And I believe that America holds within her the truth that regardless of race, religion, or station in life, all of us share common aspirations -- to live in peace and security; to get an education and to work with dignity; to love our families, our communities, and our God.  These things we share.  This is the hope of all humanity.\n",
            "\n",
            "Of course, recognizing our common humanity is only the beginning of our task.  Words alone cannot meet the needs of our people.  These needs will be met only if we act boldly in the years ahead; and if we understand that the challenges we face are shared, and our failure to meet them will hurt us all.\n",
            "\n",
            "For we have learned from recent experience that when a financial system weakens in one country, prosperity is hurt everywhere.  When a new flu infects one human being, all are at risk.  When one nation pursues a nuclear weapon, the risk of nuclear attack rises for all nations.  When violent extremists operate in one stretch of mountains, people are endangered across an ocean.  When innocents in Bosnia and Darfur are slaughtered, that is a stain on our collective conscience.  (Applause.)  That is what it means to share this world in the 21st century.  That is the responsibility we have to one another as human beings.\n",
            "\n",
            "And this is a difficult responsibility to embrace.  For human history has often been a record of nations and tribes -- and, yes, religions -- subjugating one another in pursuit of their own interests.  Yet in this new age, such attitudes are self-defeating.  Given our interdependence, any world order that elevates one nation or group of people over another will inevitably fail.  So whatever we think of the past, we must not be prisoners to it.  Our problems must be dealt with through partnership; our progress must be shared.  (Applause.)\n",
            "\n",
            "Now, that does not mean we should ignore sources of tension. Indeed, it suggests the opposite:  We must face these tensions squarely.  And so in that spirit, let me speak as clearly and as plainly as I can about some specific issues that I believe we must finally confront together. \n",
            "\n",
            "The first issue that we have to confront is violent extremism in all of its forms.\n",
            "\n",
            "In Ankara, I made clear that America is not -- and never will be -- at war with Islam.  (Applause.)  We will, however, relentlessly confront violent extremists who pose a grave threat to our security -- because we reject the same thing that people of all faiths reject:  the killing of innocent men, women, and children.  And it is my first duty as President to protect the American people.\n",
            "\n",
            "The situation in Afghanistan demonstrates America's goals, and our need to work together.  Over seven years ago, the United States pursued al Qaeda and the Taliban with broad international support.  We did not go by choice; we went because of necessity. I'm aware that there's still some who would question or even justify the events of 9/11.  But let us be clear:  Al Qaeda killed nearly 3,000 people on that day.  The victims were innocent men, women and children from America and many other nations who had done nothing to harm anybody.  And yet al Qaeda chose to ruthlessly murder these people, claimed credit for the attack, and even now states their determination to kill on a massive scale.  They have affiliates in many countries and are trying to expand their reach.  These are not opinions to be debated; these are facts to be dealt with.\n",
            "\n",
            "Now, make no mistake:  We do not want to keep our troops in Afghanistan.  We see no military -- we seek no military bases there.  It is agonizing for America to lose our young men and women.  It is costly and politically difficult to continue this conflict.  We would gladly bring every single one of our troops home if we could be confident that there were not violent extremists in Afghanistan and now Pakistan determined to kill as many Americans as they possibly can.  But that is not yet the case.\n",
            "\n",
            "And that's why we're partnering with a coalition of 46 countries.  And despite the costs involved, America's commitment will not weaken.  Indeed, none of us should tolerate these extremists.  They have killed in many countries.  They have killed people of different faiths -- but more than any other, they have killed Muslims.  Their actions are irreconcilable with the rights of human beings, the progress of nations, and with Islam.  The Holy Koran teaches that whoever kills an innocent is as -- it is as if he has killed all mankind.  (Applause.)  And the Holy Koran also says whoever saves a person, it is as if he has saved all mankind.  (Applause.)  The enduring faith of over a billion people is so much bigger than the narrow hatred of a few. Islam is not part of the problem in combating violent extremism -- it is an important part of promoting peace. \n",
            "\n",
            "Now, we also know that military power alone is not going to solve the problems in Afghanistan and Pakistan.  That's why we plan to invest $1.5 billion each year over the next five years to partner with Pakistanis to build schools and hospitals, roads and businesses, and hundreds of millions to help those who've been displaced.  That's why we are providing more than $2.8 billion to help Afghans develop their economy and deliver services that people depend on.\n",
            "\n",
            "Let me also address the issue of Iraq.  Unlike Afghanistan, Iraq was a war of choice that provoked strong differences in my country and around the world.  Although I believe that the Iraqi people are ultimately better off without the tyranny of Saddam Hussein, I also believe that events in Iraq have reminded America of the need to use diplomacy and build international consensus to resolve our problems whenever possible.  (Applause.)  Indeed, we can recall the words of Thomas Jefferson, who said:  \"I hope that our wisdom will grow with our power, and teach us that the less we use our power the greater it will be.\"\n",
            "\n",
            "Today, America has a dual responsibility:  to help Iraq forge a better future -- and to leave Iraq to Iraqis.  And I have made it clear to the Iraqi people -- (applause) -- I have made it clear to the Iraqi people that we pursue no bases, and no claim on their territory or resources.  Iraq's sovereignty is its own. And that's why I ordered the removal of our combat brigades by next August.  That is why we will honor our agreement with Iraq's democratically elected government to remove combat troops from Iraqi cities by July, and to remove all of our troops from Iraq by 2012.  (Applause.)  We will help Iraq train its security forces and develop its economy.  But we will support a secure and united Iraq as a partner, and never as a patron.\n",
            "\n",
            "And finally, just as America can never tolerate violence by extremists, we must never alter or forget our principles.  Nine-eleven was an enormous trauma to our country.  The fear and anger that it provoked was understandable, but in some cases, it led us to act contrary to our traditions and our ideals.  We are taking concrete actions to change course.  I have unequivocally prohibited the use of torture by the United States, and I have ordered the prison at Guantanamo Bay closed by early next year.  (Applause.)\n",
            "\n",
            "So America will defend itself, respectful of the sovereignty of nations and the rule of law.  And we will do so in partnership with Muslim communities which are also threatened.  The sooner the extremists are isolated and unwelcome in Muslim communities, the sooner we will all be safer.\n",
            "\n",
            "The second major source of tension that we need to discuss is the situation between Israelis, Palestinians and the Arab world.\n",
            "\n",
            "America's strong bonds with Israel are well known.  This bond is unbreakable.  It is based upon cultural and historical ties, and the recognition that the aspiration for a Jewish homeland is rooted in a tragic history that cannot be denied.\n",
            "\n",
            "Around the world, the Jewish people were persecuted for centuries, and anti-Semitism in Europe culminated in an unprecedented Holocaust.  Tomorrow, I will visit Buchenwald, which was part of a network of camps where Jews were enslaved, tortured, shot and gassed to death by the Third Reich.  Six million Jews were killed -- more than the entire Jewish population of Israel today.  Denying that fact is baseless, it is ignorant, and it is hateful.  Threatening Israel with destruction -- or repeating vile stereotypes about Jews -- is deeply wrong, and only serves to evoke in the minds of Israelis this most painful of memories while preventing the peace that the people of this region deserve.\n",
            "\n",
            "On the other hand, it is also undeniable that the Palestinian people -- Muslims and Christians -- have suffered in pursuit of a homeland.  For more than 60 years they've endured the pain of dislocation.  Many wait in refugee camps in the West Bank, Gaza, and neighboring lands for a life of peace and security that they have never been able to lead.  They endure the daily humiliations -- large and small -- that come with occupation.  So let there be no doubt:  The situation for the Palestinian people is intolerable.  And America will not turn our backs on the legitimate Palestinian aspiration for dignity, opportunity, and a state of their own.  (Applause.)\n",
            "\n",
            "For decades then, there has been a stalemate:  two peoples with legitimate aspirations, each with a painful history that makes compromise elusive.  It's easy to point fingers -- for Palestinians to point to the displacement brought about by Israel's founding, and for Israelis to point to the constant hostility and attacks throughout its history from within its borders as well as beyond.  But if we see this conflict only from one side or the other, then we will be blind to the truth:  The only resolution is for the aspirations of both sides to be met through two states, where Israelis and Palestinians each live in peace and security.  (Applause.)\n",
            "\n",
            "That is in Israel's interest, Palestine's interest, America's interest, and the world's interest.  And that is why I intend to personally pursue this outcome with all the patience and dedication that the task requires.  (Applause.)  The obligations -- the obligations that the parties have agreed to under the road map are clear.  For peace to come, it is time for them -- and all of us -- to live up to our responsibilities.\n",
            "\n",
            "Palestinians must abandon violence.  Resistance through violence and killing is wrong and it does not succeed.  For centuries, black people in America suffered the lash of the whip as slaves and the humiliation of segregation.  But it was not violence that won full and equal rights.  It was a peaceful and determined insistence upon the ideals at the center of America's founding.  This same story can be told by people from South Africa to South Asia; from Eastern Europe to Indonesia.  It's a story with a simple truth:  that violence is a dead end.  It is a sign neither of courage nor power to shoot rockets at sleeping children, or to blow up old women on a bus.  That's not how moral authority is claimed; that's how it is surrendered.\n",
            "\n",
            "Now is the time for Palestinians to focus on what they can build.  The Palestinian Authority must develop its capacity to govern, with institutions that serve the needs of its people. Hamas does have support among some Palestinians, but they also have to recognize they have responsibilities.  To play a role in fulfilling Palestinian aspirations, to unify the Palestinian people, Hamas must put an end to violence, recognize past agreements, recognize Israel's right to exist.\n",
            "\n",
            "At the same time, Israelis must acknowledge that just as Israel's right to exist cannot be denied, neither can Palestine's.  The United States does not accept the legitimacy of continued Israeli settlements.  (Applause.)  This construction violates previous agreements and undermines efforts to achieve peace.  It is time for these settlements to stop.  (Applause.)\n",
            "\n",
            "And Israel must also live up to its obligation to ensure that Palestinians can live and work and develop their society.  Just as it devastates Palestinian families, the continuing humanitarian crisis in Gaza does not serve Israel's security; neither does the continuing lack of opportunity in the West Bank. Progress in the daily lives of the Palestinian people must be a critical part of a road to peace, and Israel must take concrete steps to enable such progress. \n",
            "\n",
            "And finally, the Arab states must recognize that the Arab Peace Initiative was an important beginning, but not the end of their responsibilities.  The Arab-Israeli conflict should no longer be used to distract the people of Arab nations from other problems.  Instead, it must be a cause for action to help the Palestinian people develop the institutions that will sustain their state, to recognize Israel's legitimacy, and to choose progress over a self-defeating focus on the past.\n",
            "\n",
            "America will align our policies with those who pursue peace, and we will say in public what we say in private to Israelis and Palestinians and Arabs.  (Applause.)  We cannot impose peace.  But privately, many Muslims recognize that Israel will not go away.  Likewise, many Israelis recognize the need for a Palestinian state.  It is time for us to act on what everyone knows to be true.\n",
            "\n",
            "Too many tears have been shed.  Too much blood has been shed.  All of us have a responsibility to work for the day when the mothers of Israelis and Palestinians can see their children grow up without fear; when the Holy Land of the three great faiths is the place of peace that God intended it to be; when Jerusalem is a secure and lasting home for Jews and Christians and Muslims, and a place for all of the children of Abraham to mingle peacefully together as in the story of Isra -- (applause) -- as in the story of Isra, when Moses, Jesus, and Mohammed, peace be upon them, joined in prayer.  (Applause.)\n",
            "\n",
            "The third source of tension is our shared interest in the rights and responsibilities of nations on nuclear weapons.\n",
            "\n",
            "This issue has been a source of tension between the United States and the Islamic Republic of Iran.  For many years, Iran has defined itself in part by its opposition to my country, and there is in fact a tumultuous history between us.  In the middle of the Cold War, the United States played a role in the overthrow of a democratically elected Iranian government.  Since the Islamic Revolution, Iran has played a role in acts of hostage-taking and violence against U.S. troops and civilians.  This history is well known.  Rather than remain trapped in the past, I've made it clear to Iran's leaders and people that my country is prepared to move forward.  The question now is not what Iran is against, but rather what future it wants to build.\n",
            "\n",
            "I recognize it will be hard to overcome decades of mistrust, but we will proceed with courage, rectitude, and resolve.  There will be many issues to discuss between our two countries, and we are willing to move forward without preconditions on the basis of mutual respect.  But it is clear to all concerned that when it comes to nuclear weapons, we have reached a decisive point.  This is not simply about America's interests.  It's about preventing a nuclear arms race in the Middle East that could lead this region and the world down a hugely dangerous path.\n",
            "\n",
            "I understand those who protest that some countries have weapons that others do not.  No single nation should pick and choose which nation holds nuclear weapons.  And that's why I strongly reaffirmed America's commitment to seek a world in which no nations hold nuclear weapons.  (Applause.)  And any nation -- including Iran -- should have the right to access peaceful nuclear power if it complies with its responsibilities under the nuclear Non-Proliferation Treaty.  That commitment is at the core of the treaty, and it must be kept for all who fully abide by it. And I'm hopeful that all countries in the region can share in this goal.\n",
            "\n",
            "The fourth issue that I will address is democracy.  (Applause.)\n",
            "\n",
            "I know -- I know there has been controversy about the promotion of democracy in recent years, and much of this controversy is connected to the war in Iraq.  So let me be clear: No system of government can or should be imposed by one nation by any other.\n",
            "\n",
            " \n",
            "\n",
            "That does not lessen my commitment, however, to governments that reflect the will of the people.  Each nation gives life to this principle in its own way, grounded in the traditions of its own people.  America does not presume to know what is best for everyone, just as we would not presume to pick the outcome of a peaceful election.  But I do have an unyielding belief that all people yearn for certain things:  the ability to speak your mind and have a say in how you are governed; confidence in the rule of law and the equal administration of justice; government that is transparent and doesn't steal from the people; the freedom to live as you choose.  These are not just American ideas; they are human rights.  And that is why we will support them everywhere.  (Applause.)\n",
            "\n",
            "Now, there is no straight line to realize this promise.  But this much is clear:  Governments that protect these rights are ultimately more stable, successful and secure.  Suppressing ideas never succeeds in making them go away.  America respects the right of all peaceful and law-abiding voices to be heard around the world, even if we disagree with them.  And we will welcome all elected, peaceful governments -- provided they govern with respect for all their people.\n",
            "\n",
            "This last point is important because there are some who advocate for democracy only when they're out of power; once in power, they are ruthless in suppressing the rights of others.  (Applause.)  So no matter where it takes hold, government of the people and by the people sets a single standard for all who would hold power:  You must maintain your power through consent, not coercion; you must respect the rights of minorities, and participate with a spirit of tolerance and compromise; you must place the interests of your people and the legitimate workings of the political process above your party.  Without these ingredients, elections alone do not make true democracy.\n",
            "\n",
            "AUDIENCE MEMBER:  Barack Obama, we love you!\n",
            "\n",
            "PRESIDENT OBAMA:  Thank you.  (Applause.)  The fifth issue that we must address together is religious freedom.\n",
            "\n",
            "Islam has a proud tradition of tolerance.  We see it in the history of Andalusia and Cordoba during the Inquisition.  I saw it firsthand as a child in Indonesia, where devout Christians worshiped freely in an overwhelmingly Muslim country.  That is the spirit we need today.  People in every country should be free to choose and live their faith based upon the persuasion of the mind and the heart and the soul.  This tolerance is essential for religion to thrive, but it's being challenged in many different ways.\n",
            "\n",
            "Among some Muslims, there's a disturbing tendency to measure one's own faith by the rejection of somebody else's faith.  The richness of religious diversity must be upheld -- whether it is for Maronites in Lebanon or the Copts in Egypt.  (Applause.)  And if we are being honest, fault lines must be closed among Muslims, as well, as the divisions between Sunni and Shia have led to tragic violence, particularly in Iraq.\n",
            "\n",
            "Freedom of religion is central to the ability of peoples to live together.  We must always examine the ways in which we protect it.  For instance, in the United States, rules on charitable giving have made it harder for Muslims to fulfill their religious obligation.  That's why I'm committed to working with American Muslims to ensure that they can fulfill zakat. \n",
            "\n",
            "Likewise, it is important for Western countries to avoid impeding Muslim citizens from practicing religion as they see fit -- for instance, by dictating what clothes a Muslim woman should wear.  We can't disguise hostility towards any religion behind the pretence of liberalism.\n",
            "\n",
            " \n",
            "\n",
            "In fact, faith should bring us together.  And that's why we're forging service projects in America to bring together Christians, Muslims, and Jews.  That's why we welcome efforts like Saudi Arabian King Abdullah's interfaith dialogue and Turkey's leadership in the Alliance of Civilizations.  Around the world, we can turn dialogue into interfaith service, so bridges between peoples lead to action -- whether it is combating malaria in Africa, or providing relief after a natural disaster. \n",
            "\n",
            "The sixth issue -- the sixth issue that I want to address is women's rights.  (Applause.)  I know –- I know -- and you can tell from this audience, that there is a healthy debate about this issue.  I reject the view of some in the West that a woman who chooses to cover her hair is somehow less equal, but I do believe that a woman who is denied an education is denied equality.  (Applause.)  And it is no coincidence that countries where women are well educated are far more likely to be prosperous.\n",
            "\n",
            "Now, let me be clear:  Issues of women's equality are by no means simply an issue for Islam.  In Turkey, Pakistan, Bangladesh, Indonesia, we've seen Muslim-majority countries elect a woman to lead.  Meanwhile, the struggle for women's equality continues in many aspects of American life, and in countries around the world.\n",
            "\n",
            "I am convinced that our daughters can contribute just as much to society as our sons.  (Applause.)  Our common prosperity will be advanced by allowing all humanity -- men and women -- to reach their full potential.  I do not believe that women must make the same choices as men in order to be equal, and I respect those women who choose to live their lives in traditional roles. But it should be their choice.  And that is why the United States will partner with any Muslim-majority country to support expanded literacy for girls, and to help young women pursue employment through micro-financing that helps people live their dreams.  (Applause.)\n",
            "\n",
            "Finally, I want to discuss economic development and opportunity.\n",
            "\n",
            "I know that for many, the face of globalization is contradictory.  The Internet and television can bring knowledge and information, but also offensive sexuality and mindless violence into the home.  Trade can bring new wealth and opportunities, but also huge disruptions and change in communities.  In all nations -- including America -- this change can bring fear.  Fear that because of modernity we lose control over our economic choices, our politics, and most importantly our identities -- those things we most cherish about our communities, our families, our traditions, and our faith. \n",
            "\n",
            "But I also know that human progress cannot be denied.  There need not be contradictions between development and tradition. Countries like Japan and South Korea grew their economies enormously while maintaining distinct cultures.  The same is true for the astonishing progress within Muslim-majority countries from Kuala Lumpur to Dubai.  In ancient times and in our times, Muslim communities have been at the forefront of innovation and education.\n",
            "\n",
            "\n",
            "\n",
            "And this is important because no development strategy can be based only upon what comes out of the ground, nor can it be sustained while young people are out of work.  Many Gulf states have enjoyed great wealth as a consequence of oil, and some are beginning to focus it on broader development.  But all of us must recognize that education and innovation will be the currency of the 21st century -- (applause) -- and in too many Muslim communities, there remains underinvestment in these areas.  I'm emphasizing such investment within my own country.  And while America in the past has focused on oil and gas when it comes to this part of the world, we now seek a broader engagement.\n",
            "\n",
            "On education, we will expand exchange programs, and increase scholarships, like the one that brought my father to America.  (Applause.)  At the same time, we will encourage more Americans to study in Muslim communities.  And we will match promising Muslim students with internships in America; invest in online learning for teachers and children around the world; and create a new online network, so a young person in Kansas can communicate instantly with a young person in Cairo.\n",
            "\n",
            "On economic development, we will create a new corps of business volunteers to partner with counterparts in Muslim-majority countries.  And I will host a Summit on Entrepreneurship this year to identify how we can deepen ties between business leaders, foundations and social entrepreneurs in the United States and Muslim communities around the world.\n",
            "\n",
            "On science and technology, we will launch a new fund to support technological development in Muslim-majority countries, and to help transfer ideas to the marketplace so they can create more jobs.  We'll open centers of scientific excellence in Africa, the Middle East and Southeast Asia, and appoint new science envoys to collaborate on programs that develop new sources of energy, create green jobs, digitize records, clean water, grow new crops.  Today I'm announcing a new global effort with the Organization of the Islamic Conference to eradicate polio.  And we will also expand partnerships with Muslim communities to promote child and maternal health.\n",
            "\n",
            "All these things must be done in partnership.  Americans are ready to join with citizens and governments; community organizations, religious leaders, and businesses in Muslim communities around the world to help our people pursue a better life.\n",
            "\n",
            "The issues that I have described will not be easy to address.  But we have a responsibility to join together on behalf of the world that we seek -- a world where extremists no longer threaten our people, and American troops have come home; a world where Israelis and Palestinians are each secure in a state of their own, and nuclear energy is used for peaceful purposes; a world where governments serve their citizens, and the rights of all God's children are respected.  Those are mutual interests.  That is the world we seek.  But we can only achieve it together.\n",
            "\n",
            "I know there are many -- Muslim and non-Muslim -- who question whether we can forge this new beginning.  Some are eager to stoke the flames of division, and to stand in the way of progress.  Some suggest that it isn't worth the effort -- that we are fated to disagree, and civilizations are doomed to clash. Many more are simply skeptical that real change can occur.  There's so much fear, so much mistrust that has built up over the years.  But if we choose to be bound by the past, we will never move forward.  And I want to particularly say this to young people of every faith, in every country -- you, more than anyone, have the ability to reimagine the world, to remake this world.\n",
            "\n",
            "All of us share this world for but a brief moment in time. The question is whether we spend that time focused on what pushes us apart, or whether we commit ourselves to an effort -- a sustained effort -- to find common ground, to focus on the future we seek for our children, and to respect the dignity of all human beings.\n",
            "\n",
            "It's easier to start wars than to end them.  It's easier to blame others than to look inward.  It's easier to see what is different about someone than to find the things we share.  But we should choose the right path, not just the easy path.  There's one rule that lies at the heart of every religion -- that we do unto others as we would have them do unto us.  (Applause.)  This truth transcends nations and peoples -- a belief that isn't new; that isn't black or white or brown; that isn't Christian or Muslim or Jew.  It's a belief that pulsed in the cradle of civilization, and that still beats in the hearts of billions around the world.  It's a faith in other people, and it's what brought me here today.\n",
            "\n",
            "We have the power to make the world we seek, but only if we have the courage to make a new beginning, keeping in mind what has been written.\n",
            "\n",
            "The Holy Koran tells us:  \"O mankind!  We have created you male and a female; and we have made you into nations and tribes so that you may know one another.\"\n",
            "\n",
            "The Talmud tells us:  \"The whole of the Torah is for the purpose of promoting peace.\"\n",
            "\n",
            "The Holy Bible tells us:  \"Blessed are the peacemakers, for they shall be called sons of God.\"  (Applause.)\n",
            "\n",
            "The people of the world can live together in peace.  We know that is God's vision.  Now that must be our work here on Earth.\n",
            "\n",
            "Thank you.  And may God's peace be upon you.  Thank you very much.  Thank you.  (Applause.)\n",
            "\n",
            "END        \n",
            "\n",
            "2:05 P.M. (Local)\n"
          ]
        },
        {
          "data": {
            "text/plain": [
              "<function TextIOWrapper.close()>"
            ]
          },
          "execution_count": 8,
          "metadata": {},
          "output_type": "execute_result"
        }
      ],
      "source": [
        "obamafile = open(\"Data\\obamaincairo.txt\", mode = \"r\", encoding=\"utf-8\") #open files\n",
        "\n",
        "lines = obamafile.readlines()\n",
        "\n",
        "for line in lines: \n",
        "    print(line)\n",
        "\n",
        "obamafile.close"
      ]
    },
    {
      "cell_type": "code",
      "execution_count": null,
      "metadata": {
        "id": "N4cefOsHwlXl"
      },
      "outputs": [],
      "source": [
        "lines"
      ]
    },
    {
      "cell_type": "code",
      "execution_count": null,
      "metadata": {
        "id": "xPx5TdG_wlXl"
      },
      "outputs": [],
      "source": [
        "#read only first 5 lines"
      ]
    },
    {
      "cell_type": "markdown",
      "metadata": {
        "id": "bIKH-ELFwlXm"
      },
      "source": [
        "## Another way to open and read the file line by line breaks\n"
      ]
    },
    {
      "cell_type": "code",
      "execution_count": null,
      "metadata": {
        "id": "GVRZxxULwlXm"
      },
      "outputs": [],
      "source": [
        "\n",
        "obamafile = open('/content/drive/MyDrive/Colab Notebooks/Python for Social Data Science/Session 4/obamaincairo.txt', \"r\") #open files\n",
        "\n",
        "    "
      ]
    },
    {
      "cell_type": "code",
      "execution_count": null,
      "metadata": {
        "collapsed": true,
        "id": "WxtXV4BnwlXm"
      },
      "outputs": [],
      "source": []
    },
    {
      "cell_type": "markdown",
      "metadata": {
        "id": "1hw5HZELwlXn"
      },
      "source": [
        "#### what if we want to just read 5 lines"
      ]
    },
    {
      "cell_type": "code",
      "execution_count": null,
      "metadata": {
        "id": "_sBYcLRWwlXn"
      },
      "outputs": [],
      "source": [
        "obamafile = open('/content/drive/MyDrive/Colab Notebooks/Python for Social Data Science/Session 4/obamaincairo.txt', \"r\") #open files\n",
        "lines = obamafile.readlines() # a lst of strings, each string refers to one line in the file\n",
        "for i in range(5): #read line by line\n",
        "    print(lines[i]) # why the brackets here? Because content is saved in a list\n",
        "obamafile.close()"
      ]
    },
    {
      "cell_type": "markdown",
      "metadata": {
        "id": "0vrer5K2wWnw"
      },
      "source": [
        "### So what is the difference between\n",
        "- read()\n",
        "- readlines()\n",
        "- readline()"
      ]
    },
    {
      "cell_type": "code",
      "execution_count": 9,
      "metadata": {
        "id": "37nPhMonwWnx"
      },
      "outputs": [
        {
          "data": {
            "text/plain": [
              "'PRESIDENT OBAMA:  Thank you very much.  Good afternoon.  I am honored to be in the timeless city of Cairo, and to be hosted by two remarkable institutions.  For over a thousand years, Al-Azhar has stood as a beacon of Islamic learning; and for over a century, Cairo University has been a source of Egypt\\'s advancement.  And together, you represent the harmony between tradition and progress.  I\\'m grateful for your hospitality, and the hospitality of the people of Egypt.  And I\\'m also proud to carry with me the goodwill of the American people, and a greeting of peace from Muslim communities in my country:  Assalaamu alaykum. (Applause.)\\nWe meet at a time of great tension between the United States and Muslims around the world -- tension rooted in historical forces that go beyond any current policy debate.  The relationship between Islam and the West includes centuries of coexistence and cooperation, but also conflict and religious wars.  More recently, tension has been fed by colonialism that denied rights and opportunities to many Muslims, and a Cold War in which Muslim-majority countries were too often treated as proxies without regard to their own aspirations.  Moreover, the sweeping change brought by modernity and globalization led many Muslims to view the West as hostile to the traditions of Islam.\\nViolent extremists have exploited these tensions in a small but potent minority of Muslims.  The attacks of September 11, 2001 and the continued efforts of these extremists to engage in violence against civilians has led some in my country to view Islam as inevitably hostile not only to America and Western countries, but also to human rights.  All this has bred more fear and more mistrust.\\nSo long as our relationship is defined by our differences, we will empower those who sow hatred rather than peace, those who promote conflict rather than the cooperation that can help all of our people achieve justice and prosperity.  And this cycle of suspicion and discord must end.\\nI\\'ve come here to Cairo to seek a new beginning between the United States and Muslims around the world, one based on mutual interest and mutual respect, and one based upon the truth that America and Islam are not exclusive and need not be in competition.  Instead, they overlap, and share common principles -- principles of justice and progress; tolerance and the dignity of all human beings.\\nI do so recognizing that change cannot happen overnight.  I know there\\'s been a lot of publicity about this speech, but no single speech can eradicate years of mistrust, nor can I answer in the time that I have this afternoon all the complex questions that brought us to this point.  But I am convinced that in order to move forward, we must say openly to each other the things we hold in our hearts and that too often are said only behind closed doors.  There must be a sustained effort to listen to each other; to learn from each other; to respect one another; and to seek common ground.  As the Holy Koran tells us, \"Be conscious of God and speak always the truth.\"  (Applause.)  That is what I will try to do today -- to speak the truth as best I can, humbled by the task before us, and firm in my belief that the interests we share as human beings are far more powerful than the forces that drive us apart.\\nNow part of this conviction is rooted in my own experience. I\\'m a Christian, but my father came from a Kenyan family that includes generations of Muslims.  As a boy, I spent several years in Indonesia and heard the call of the azaan at the break of dawn and at the fall of dusk.  As a young man, I worked in Chicago communities where many found dignity and peace in their Muslim faith.\\nAs a student of history, I also know civilization\\'s debt to Islam.  It was Islam -- at places like Al-Azhar -- that carried the light of learning through so many centuries, paving the way for Europe\\'s Renaissance and Enlightenment.  It was innovation in Muslim communities -- (applause) -- it was innovation in Muslim communities that developed the order of algebra; our magnetic compass and tools of navigation; our mastery of pens and printing; our understanding of how disease spreads and how it can be healed.  Islamic culture has given us majestic arches and soaring spires; timeless poetry and cherished music; elegant calligraphy and places of peaceful contemplation.  And throughout history, Islam has demonstrated through words and deeds the possibilities of religious tolerance and racial equality.  (Applause.)\\nI also know that Islam has always been a part of America\\'s story.  The first nation to recognize my country was Morocco.  In signing the Treaty of Tripoli in 1796, our second President, John Adams, wrote, \"The United States has in itself no character of enmity against the laws, religion or tranquility of Muslims.\"  And since our founding, American Muslims have enriched the United States.  They have fought in our wars, they have served in our government, they have stood for civil rights, they have started businesses, they have taught at our universities, they\\'ve excelled in our sports arenas, they\\'ve won Nobel Prizes, built our tallest building, and lit the Olympic Torch.  And when the first Muslim American was recently elected to Congress, he took the oath to defend our Constitution using the same Holy Koran that one of our Founding Fathers -- Thomas Jefferson -- kept in his personal library.  (Applause.)\\nSo I have known Islam on three continents before coming to the region where it was first revealed.  That experience guides my conviction that partnership between America and Islam must be based on what Islam is, not what it isn\\'t.  And I consider it part of my responsibility as President of the United States to fight against negative stereotypes of Islam wherever they appear. (Applause.)\\nBut that same principle must apply to Muslim perceptions of America.  (Applause.)  Just as Muslims do not fit a crude stereotype, America is not the crude stereotype of a self-interested empire.  The United States has been one of the greatest sources of progress that the world has ever known.  We were born out of revolution against an empire.  We were founded upon the ideal that all are created equal, and we have shed blood and struggled for centuries to give meaning to those words -- within our borders, and around the world.  We are shaped by every culture, drawn from every end of the Earth, and dedicated to a simple concept:  E pluribus unum -- \"Out of many, one.\"  \\nNow, much has been made of the fact that an African American with the name Barack Hussein Obama could be elected President.  (Applause.)  But my personal story is not so unique.  The dream of opportunity for all people has not come true for everyone in America, but its promise exists for all who come to our shores -- and that includes nearly 7 million American Muslims in our country today who, by the way, enjoy incomes and educational levels that are higher than the American average.  (Applause.)\\nMoreover, freedom in America is indivisible from the freedom to practice one\\'s religion.  That is why there is a mosque in every state in our union, and over 1,200 mosques within our borders.  That\\'s why the United States government has gone to court to protect the right of women and girls to wear the hijab and to punish those who would deny it.  (Applause.)\\nSo let there be no doubt:  Islam is a part of America.  And I believe that America holds within her the truth that regardless of race, religion, or station in life, all of us share common aspirations -- to live in peace and security; to get an education and to work with dignity; to love our families, our communities, and our God.  These things we share.  This is the hope of all humanity.\\nOf course, recognizing our common humanity is only the beginning of our task.  Words alone cannot meet the needs of our people.  These needs will be met only if we act boldly in the years ahead; and if we understand that the challenges we face are shared, and our failure to meet them will hurt us all.\\nFor we have learned from recent experience that when a financial system weakens in one country, prosperity is hurt everywhere.  When a new flu infects one human being, all are at risk.  When one nation pursues a nuclear weapon, the risk of nuclear attack rises for all nations.  When violent extremists operate in one stretch of mountains, people are endangered across an ocean.  When innocents in Bosnia and Darfur are slaughtered, that is a stain on our collective conscience.  (Applause.)  That is what it means to share this world in the 21st century.  That is the responsibility we have to one another as human beings.\\nAnd this is a difficult responsibility to embrace.  For human history has often been a record of nations and tribes -- and, yes, religions -- subjugating one another in pursuit of their own interests.  Yet in this new age, such attitudes are self-defeating.  Given our interdependence, any world order that elevates one nation or group of people over another will inevitably fail.  So whatever we think of the past, we must not be prisoners to it.  Our problems must be dealt with through partnership; our progress must be shared.  (Applause.)\\nNow, that does not mean we should ignore sources of tension. Indeed, it suggests the opposite:  We must face these tensions squarely.  And so in that spirit, let me speak as clearly and as plainly as I can about some specific issues that I believe we must finally confront together. \\nThe first issue that we have to confront is violent extremism in all of its forms.\\nIn Ankara, I made clear that America is not -- and never will be -- at war with Islam.  (Applause.)  We will, however, relentlessly confront violent extremists who pose a grave threat to our security -- because we reject the same thing that people of all faiths reject:  the killing of innocent men, women, and children.  And it is my first duty as President to protect the American people.\\nThe situation in Afghanistan demonstrates America\\'s goals, and our need to work together.  Over seven years ago, the United States pursued al Qaeda and the Taliban with broad international support.  We did not go by choice; we went because of necessity. I\\'m aware that there\\'s still some who would question or even justify the events of 9/11.  But let us be clear:  Al Qaeda killed nearly 3,000 people on that day.  The victims were innocent men, women and children from America and many other nations who had done nothing to harm anybody.  And yet al Qaeda chose to ruthlessly murder these people, claimed credit for the attack, and even now states their determination to kill on a massive scale.  They have affiliates in many countries and are trying to expand their reach.  These are not opinions to be debated; these are facts to be dealt with.\\nNow, make no mistake:  We do not want to keep our troops in Afghanistan.  We see no military -- we seek no military bases there.  It is agonizing for America to lose our young men and women.  It is costly and politically difficult to continue this conflict.  We would gladly bring every single one of our troops home if we could be confident that there were not violent extremists in Afghanistan and now Pakistan determined to kill as many Americans as they possibly can.  But that is not yet the case.\\nAnd that\\'s why we\\'re partnering with a coalition of 46 countries.  And despite the costs involved, America\\'s commitment will not weaken.  Indeed, none of us should tolerate these extremists.  They have killed in many countries.  They have killed people of different faiths -- but more than any other, they have killed Muslims.  Their actions are irreconcilable with the rights of human beings, the progress of nations, and with Islam.  The Holy Koran teaches that whoever kills an innocent is as -- it is as if he has killed all mankind.  (Applause.)  And the Holy Koran also says whoever saves a person, it is as if he has saved all mankind.  (Applause.)  The enduring faith of over a billion people is so much bigger than the narrow hatred of a few. Islam is not part of the problem in combating violent extremism -- it is an important part of promoting peace. \\nNow, we also know that military power alone is not going to solve the problems in Afghanistan and Pakistan.  That\\'s why we plan to invest $1.5 billion each year over the next five years to partner with Pakistanis to build schools and hospitals, roads and businesses, and hundreds of millions to help those who\\'ve been displaced.  That\\'s why we are providing more than $2.8 billion to help Afghans develop their economy and deliver services that people depend on.\\nLet me also address the issue of Iraq.  Unlike Afghanistan, Iraq was a war of choice that provoked strong differences in my country and around the world.  Although I believe that the Iraqi people are ultimately better off without the tyranny of Saddam Hussein, I also believe that events in Iraq have reminded America of the need to use diplomacy and build international consensus to resolve our problems whenever possible.  (Applause.)  Indeed, we can recall the words of Thomas Jefferson, who said:  \"I hope that our wisdom will grow with our power, and teach us that the less we use our power the greater it will be.\"\\nToday, America has a dual responsibility:  to help Iraq forge a better future -- and to leave Iraq to Iraqis.  And I have made it clear to the Iraqi people -- (applause) -- I have made it clear to the Iraqi people that we pursue no bases, and no claim on their territory or resources.  Iraq\\'s sovereignty is its own. And that\\'s why I ordered the removal of our combat brigades by next August.  That is why we will honor our agreement with Iraq\\'s democratically elected government to remove combat troops from Iraqi cities by July, and to remove all of our troops from Iraq by 2012.  (Applause.)  We will help Iraq train its security forces and develop its economy.  But we will support a secure and united Iraq as a partner, and never as a patron.\\nAnd finally, just as America can never tolerate violence by extremists, we must never alter or forget our principles.  Nine-eleven was an enormous trauma to our country.  The fear and anger that it provoked was understandable, but in some cases, it led us to act contrary to our traditions and our ideals.  We are taking concrete actions to change course.  I have unequivocally prohibited the use of torture by the United States, and I have ordered the prison at Guantanamo Bay closed by early next year.  (Applause.)\\nSo America will defend itself, respectful of the sovereignty of nations and the rule of law.  And we will do so in partnership with Muslim communities which are also threatened.  The sooner the extremists are isolated and unwelcome in Muslim communities, the sooner we will all be safer.\\nThe second major source of tension that we need to discuss is the situation between Israelis, Palestinians and the Arab world.\\nAmerica\\'s strong bonds with Israel are well known.  This bond is unbreakable.  It is based upon cultural and historical ties, and the recognition that the aspiration for a Jewish homeland is rooted in a tragic history that cannot be denied.\\nAround the world, the Jewish people were persecuted for centuries, and anti-Semitism in Europe culminated in an unprecedented Holocaust.  Tomorrow, I will visit Buchenwald, which was part of a network of camps where Jews were enslaved, tortured, shot and gassed to death by the Third Reich.  Six million Jews were killed -- more than the entire Jewish population of Israel today.  Denying that fact is baseless, it is ignorant, and it is hateful.  Threatening Israel with destruction -- or repeating vile stereotypes about Jews -- is deeply wrong, and only serves to evoke in the minds of Israelis this most painful of memories while preventing the peace that the people of this region deserve.\\nOn the other hand, it is also undeniable that the Palestinian people -- Muslims and Christians -- have suffered in pursuit of a homeland.  For more than 60 years they\\'ve endured the pain of dislocation.  Many wait in refugee camps in the West Bank, Gaza, and neighboring lands for a life of peace and security that they have never been able to lead.  They endure the daily humiliations -- large and small -- that come with occupation.  So let there be no doubt:  The situation for the Palestinian people is intolerable.  And America will not turn our backs on the legitimate Palestinian aspiration for dignity, opportunity, and a state of their own.  (Applause.)\\nFor decades then, there has been a stalemate:  two peoples with legitimate aspirations, each with a painful history that makes compromise elusive.  It\\'s easy to point fingers -- for Palestinians to point to the displacement brought about by Israel\\'s founding, and for Israelis to point to the constant hostility and attacks throughout its history from within its borders as well as beyond.  But if we see this conflict only from one side or the other, then we will be blind to the truth:  The only resolution is for the aspirations of both sides to be met through two states, where Israelis and Palestinians each live in peace and security.  (Applause.)\\nThat is in Israel\\'s interest, Palestine\\'s interest, America\\'s interest, and the world\\'s interest.  And that is why I intend to personally pursue this outcome with all the patience and dedication that the task requires.  (Applause.)  The obligations -- the obligations that the parties have agreed to under the road map are clear.  For peace to come, it is time for them -- and all of us -- to live up to our responsibilities.\\nPalestinians must abandon violence.  Resistance through violence and killing is wrong and it does not succeed.  For centuries, black people in America suffered the lash of the whip as slaves and the humiliation of segregation.  But it was not violence that won full and equal rights.  It was a peaceful and determined insistence upon the ideals at the center of America\\'s founding.  This same story can be told by people from South Africa to South Asia; from Eastern Europe to Indonesia.  It\\'s a story with a simple truth:  that violence is a dead end.  It is a sign neither of courage nor power to shoot rockets at sleeping children, or to blow up old women on a bus.  That\\'s not how moral authority is claimed; that\\'s how it is surrendered.\\nNow is the time for Palestinians to focus on what they can build.  The Palestinian Authority must develop its capacity to govern, with institutions that serve the needs of its people. Hamas does have support among some Palestinians, but they also have to recognize they have responsibilities.  To play a role in fulfilling Palestinian aspirations, to unify the Palestinian people, Hamas must put an end to violence, recognize past agreements, recognize Israel\\'s right to exist.\\nAt the same time, Israelis must acknowledge that just as Israel\\'s right to exist cannot be denied, neither can Palestine\\'s.  The United States does not accept the legitimacy of continued Israeli settlements.  (Applause.)  This construction violates previous agreements and undermines efforts to achieve peace.  It is time for these settlements to stop.  (Applause.)\\nAnd Israel must also live up to its obligation to ensure that Palestinians can live and work and develop their society.  Just as it devastates Palestinian families, the continuing humanitarian crisis in Gaza does not serve Israel\\'s security; neither does the continuing lack of opportunity in the West Bank. Progress in the daily lives of the Palestinian people must be a critical part of a road to peace, and Israel must take concrete steps to enable such progress. \\nAnd finally, the Arab states must recognize that the Arab Peace Initiative was an important beginning, but not the end of their responsibilities.  The Arab-Israeli conflict should no longer be used to distract the people of Arab nations from other problems.  Instead, it must be a cause for action to help the Palestinian people develop the institutions that will sustain their state, to recognize Israel\\'s legitimacy, and to choose progress over a self-defeating focus on the past.\\nAmerica will align our policies with those who pursue peace, and we will say in public what we say in private to Israelis and Palestinians and Arabs.  (Applause.)  We cannot impose peace.  But privately, many Muslims recognize that Israel will not go away.  Likewise, many Israelis recognize the need for a Palestinian state.  It is time for us to act on what everyone knows to be true.\\nToo many tears have been shed.  Too much blood has been shed.  All of us have a responsibility to work for the day when the mothers of Israelis and Palestinians can see their children grow up without fear; when the Holy Land of the three great faiths is the place of peace that God intended it to be; when Jerusalem is a secure and lasting home for Jews and Christians and Muslims, and a place for all of the children of Abraham to mingle peacefully together as in the story of Isra -- (applause) -- as in the story of Isra, when Moses, Jesus, and Mohammed, peace be upon them, joined in prayer.  (Applause.)\\nThe third source of tension is our shared interest in the rights and responsibilities of nations on nuclear weapons.\\nThis issue has been a source of tension between the United States and the Islamic Republic of Iran.  For many years, Iran has defined itself in part by its opposition to my country, and there is in fact a tumultuous history between us.  In the middle of the Cold War, the United States played a role in the overthrow of a democratically elected Iranian government.  Since the Islamic Revolution, Iran has played a role in acts of hostage-taking and violence against U.S. troops and civilians.  This history is well known.  Rather than remain trapped in the past, I\\'ve made it clear to Iran\\'s leaders and people that my country is prepared to move forward.  The question now is not what Iran is against, but rather what future it wants to build.\\nI recognize it will be hard to overcome decades of mistrust, but we will proceed with courage, rectitude, and resolve.  There will be many issues to discuss between our two countries, and we are willing to move forward without preconditions on the basis of mutual respect.  But it is clear to all concerned that when it comes to nuclear weapons, we have reached a decisive point.  This is not simply about America\\'s interests.  It\\'s about preventing a nuclear arms race in the Middle East that could lead this region and the world down a hugely dangerous path.\\nI understand those who protest that some countries have weapons that others do not.  No single nation should pick and choose which nation holds nuclear weapons.  And that\\'s why I strongly reaffirmed America\\'s commitment to seek a world in which no nations hold nuclear weapons.  (Applause.)  And any nation -- including Iran -- should have the right to access peaceful nuclear power if it complies with its responsibilities under the nuclear Non-Proliferation Treaty.  That commitment is at the core of the treaty, and it must be kept for all who fully abide by it. And I\\'m hopeful that all countries in the region can share in this goal.\\nThe fourth issue that I will address is democracy.  (Applause.)\\nI know -- I know there has been controversy about the promotion of democracy in recent years, and much of this controversy is connected to the war in Iraq.  So let me be clear: No system of government can or should be imposed by one nation by any other.\\n \\nThat does not lessen my commitment, however, to governments that reflect the will of the people.  Each nation gives life to this principle in its own way, grounded in the traditions of its own people.  America does not presume to know what is best for everyone, just as we would not presume to pick the outcome of a peaceful election.  But I do have an unyielding belief that all people yearn for certain things:  the ability to speak your mind and have a say in how you are governed; confidence in the rule of law and the equal administration of justice; government that is transparent and doesn\\'t steal from the people; the freedom to live as you choose.  These are not just American ideas; they are human rights.  And that is why we will support them everywhere.  (Applause.)\\nNow, there is no straight line to realize this promise.  But this much is clear:  Governments that protect these rights are ultimately more stable, successful and secure.  Suppressing ideas never succeeds in making them go away.  America respects the right of all peaceful and law-abiding voices to be heard around the world, even if we disagree with them.  And we will welcome all elected, peaceful governments -- provided they govern with respect for all their people.\\nThis last point is important because there are some who advocate for democracy only when they\\'re out of power; once in power, they are ruthless in suppressing the rights of others.  (Applause.)  So no matter where it takes hold, government of the people and by the people sets a single standard for all who would hold power:  You must maintain your power through consent, not coercion; you must respect the rights of minorities, and participate with a spirit of tolerance and compromise; you must place the interests of your people and the legitimate workings of the political process above your party.  Without these ingredients, elections alone do not make true democracy.\\nAUDIENCE MEMBER:  Barack Obama, we love you!\\nPRESIDENT OBAMA:  Thank you.  (Applause.)  The fifth issue that we must address together is religious freedom.\\nIslam has a proud tradition of tolerance.  We see it in the history of Andalusia and Cordoba during the Inquisition.  I saw it firsthand as a child in Indonesia, where devout Christians worshiped freely in an overwhelmingly Muslim country.  That is the spirit we need today.  People in every country should be free to choose and live their faith based upon the persuasion of the mind and the heart and the soul.  This tolerance is essential for religion to thrive, but it\\'s being challenged in many different ways.\\nAmong some Muslims, there\\'s a disturbing tendency to measure one\\'s own faith by the rejection of somebody else\\'s faith.  The richness of religious diversity must be upheld -- whether it is for Maronites in Lebanon or the Copts in Egypt.  (Applause.)  And if we are being honest, fault lines must be closed among Muslims, as well, as the divisions between Sunni and Shia have led to tragic violence, particularly in Iraq.\\nFreedom of religion is central to the ability of peoples to live together.  We must always examine the ways in which we protect it.  For instance, in the United States, rules on charitable giving have made it harder for Muslims to fulfill their religious obligation.  That\\'s why I\\'m committed to working with American Muslims to ensure that they can fulfill zakat. \\nLikewise, it is important for Western countries to avoid impeding Muslim citizens from practicing religion as they see fit -- for instance, by dictating what clothes a Muslim woman should wear.  We can\\'t disguise hostility towards any religion behind the pretence of liberalism.\\n \\nIn fact, faith should bring us together.  And that\\'s why we\\'re forging service projects in America to bring together Christians, Muslims, and Jews.  That\\'s why we welcome efforts like Saudi Arabian King Abdullah\\'s interfaith dialogue and Turkey\\'s leadership in the Alliance of Civilizations.  Around the world, we can turn dialogue into interfaith service, so bridges between peoples lead to action -- whether it is combating malaria in Africa, or providing relief after a natural disaster. \\nThe sixth issue -- the sixth issue that I want to address is women\\'s rights.  (Applause.)  I know –- I know -- and you can tell from this audience, that there is a healthy debate about this issue.  I reject the view of some in the West that a woman who chooses to cover her hair is somehow less equal, but I do believe that a woman who is denied an education is denied equality.  (Applause.)  And it is no coincidence that countries where women are well educated are far more likely to be prosperous.\\nNow, let me be clear:  Issues of women\\'s equality are by no means simply an issue for Islam.  In Turkey, Pakistan, Bangladesh, Indonesia, we\\'ve seen Muslim-majority countries elect a woman to lead.  Meanwhile, the struggle for women\\'s equality continues in many aspects of American life, and in countries around the world.\\nI am convinced that our daughters can contribute just as much to society as our sons.  (Applause.)  Our common prosperity will be advanced by allowing all humanity -- men and women -- to reach their full potential.  I do not believe that women must make the same choices as men in order to be equal, and I respect those women who choose to live their lives in traditional roles. But it should be their choice.  And that is why the United States will partner with any Muslim-majority country to support expanded literacy for girls, and to help young women pursue employment through micro-financing that helps people live their dreams.  (Applause.)\\nFinally, I want to discuss economic development and opportunity.\\nI know that for many, the face of globalization is contradictory.  The Internet and television can bring knowledge and information, but also offensive sexuality and mindless violence into the home.  Trade can bring new wealth and opportunities, but also huge disruptions and change in communities.  In all nations -- including America -- this change can bring fear.  Fear that because of modernity we lose control over our economic choices, our politics, and most importantly our identities -- those things we most cherish about our communities, our families, our traditions, and our faith. \\nBut I also know that human progress cannot be denied.  There need not be contradictions between development and tradition. Countries like Japan and South Korea grew their economies enormously while maintaining distinct cultures.  The same is true for the astonishing progress within Muslim-majority countries from Kuala Lumpur to Dubai.  In ancient times and in our times, Muslim communities have been at the forefront of innovation and education.\\n\\nAnd this is important because no development strategy can be based only upon what comes out of the ground, nor can it be sustained while young people are out of work.  Many Gulf states have enjoyed great wealth as a consequence of oil, and some are beginning to focus it on broader development.  But all of us must recognize that education and innovation will be the currency of the 21st century -- (applause) -- and in too many Muslim communities, there remains underinvestment in these areas.  I\\'m emphasizing such investment within my own country.  And while America in the past has focused on oil and gas when it comes to this part of the world, we now seek a broader engagement.\\nOn education, we will expand exchange programs, and increase scholarships, like the one that brought my father to America.  (Applause.)  At the same time, we will encourage more Americans to study in Muslim communities.  And we will match promising Muslim students with internships in America; invest in online learning for teachers and children around the world; and create a new online network, so a young person in Kansas can communicate instantly with a young person in Cairo.\\nOn economic development, we will create a new corps of business volunteers to partner with counterparts in Muslim-majority countries.  And I will host a Summit on Entrepreneurship this year to identify how we can deepen ties between business leaders, foundations and social entrepreneurs in the United States and Muslim communities around the world.\\nOn science and technology, we will launch a new fund to support technological development in Muslim-majority countries, and to help transfer ideas to the marketplace so they can create more jobs.  We\\'ll open centers of scientific excellence in Africa, the Middle East and Southeast Asia, and appoint new science envoys to collaborate on programs that develop new sources of energy, create green jobs, digitize records, clean water, grow new crops.  Today I\\'m announcing a new global effort with the Organization of the Islamic Conference to eradicate polio.  And we will also expand partnerships with Muslim communities to promote child and maternal health.\\nAll these things must be done in partnership.  Americans are ready to join with citizens and governments; community organizations, religious leaders, and businesses in Muslim communities around the world to help our people pursue a better life.\\nThe issues that I have described will not be easy to address.  But we have a responsibility to join together on behalf of the world that we seek -- a world where extremists no longer threaten our people, and American troops have come home; a world where Israelis and Palestinians are each secure in a state of their own, and nuclear energy is used for peaceful purposes; a world where governments serve their citizens, and the rights of all God\\'s children are respected.  Those are mutual interests.  That is the world we seek.  But we can only achieve it together.\\nI know there are many -- Muslim and non-Muslim -- who question whether we can forge this new beginning.  Some are eager to stoke the flames of division, and to stand in the way of progress.  Some suggest that it isn\\'t worth the effort -- that we are fated to disagree, and civilizations are doomed to clash. Many more are simply skeptical that real change can occur.  There\\'s so much fear, so much mistrust that has built up over the years.  But if we choose to be bound by the past, we will never move forward.  And I want to particularly say this to young people of every faith, in every country -- you, more than anyone, have the ability to reimagine the world, to remake this world.\\nAll of us share this world for but a brief moment in time. The question is whether we spend that time focused on what pushes us apart, or whether we commit ourselves to an effort -- a sustained effort -- to find common ground, to focus on the future we seek for our children, and to respect the dignity of all human beings.\\nIt\\'s easier to start wars than to end them.  It\\'s easier to blame others than to look inward.  It\\'s easier to see what is different about someone than to find the things we share.  But we should choose the right path, not just the easy path.  There\\'s one rule that lies at the heart of every religion -- that we do unto others as we would have them do unto us.  (Applause.)  This truth transcends nations and peoples -- a belief that isn\\'t new; that isn\\'t black or white or brown; that isn\\'t Christian or Muslim or Jew.  It\\'s a belief that pulsed in the cradle of civilization, and that still beats in the hearts of billions around the world.  It\\'s a faith in other people, and it\\'s what brought me here today.\\nWe have the power to make the world we seek, but only if we have the courage to make a new beginning, keeping in mind what has been written.\\nThe Holy Koran tells us:  \"O mankind!  We have created you male and a female; and we have made you into nations and tribes so that you may know one another.\"\\nThe Talmud tells us:  \"The whole of the Torah is for the purpose of promoting peace.\"\\nThe Holy Bible tells us:  \"Blessed are the peacemakers, for they shall be called sons of God.\"  (Applause.)\\nThe people of the world can live together in peace.  We know that is God\\'s vision.  Now that must be our work here on Earth.\\nThank you.  And may God\\'s peace be upon you.  Thank you very much.  Thank you.  (Applause.)\\nEND        \\n2:05 P.M. (Local)'"
            ]
          },
          "execution_count": 9,
          "metadata": {},
          "output_type": "execute_result"
        }
      ],
      "source": [
        "file1 = open(\"Data\\obamaincairo.txt\", mode = \"r\", encoding=\"utf-8\")\n",
        "file=file1.read()\n",
        "file\n"
      ]
    },
    {
      "cell_type": "code",
      "execution_count": 10,
      "metadata": {
        "id": "Sd6mDZeuwWnz"
      },
      "outputs": [
        {
          "data": {
            "text/plain": [
              "\"PRESIDENT OBAMA:  Thank you very much.  Good afternoon.  I am honored to be in the timeless city of Cairo, and to be hosted by two remarkable institutions.  For over a thousand years, Al-Azhar has stood as a beacon of Islamic learning; and for over a century, Cairo University has been a source of Egypt's advancement.  And together, you represent the harmony between tradition and progress.  I'm grateful for your hospitality, and the hospitality of the people of Egypt.  And I'm also proud to carry with me the goodwill of the American people, and a greeting of peace from Muslim communities in my country:  Assalaamu alaykum. (Applause.)\\n\""
            ]
          },
          "execution_count": 10,
          "metadata": {},
          "output_type": "execute_result"
        }
      ],
      "source": [
        "file1 = open(\"Data\\obamaincairo.txt\", mode = \"r\", encoding=\"utf-8\")\n",
        "file1.readline()"
      ]
    },
    {
      "cell_type": "code",
      "execution_count": 11,
      "metadata": {
        "id": "nh1AN4ccwWnz"
      },
      "outputs": [
        {
          "data": {
            "text/plain": [
              "['We meet at a time of great tension between the United States and Muslims around the world -- tension rooted in historical forces that go beyond any current policy debate.  The relationship between Islam and the West includes centuries of coexistence and cooperation, but also conflict and religious wars.  More recently, tension has been fed by colonialism that denied rights and opportunities to many Muslims, and a Cold War in which Muslim-majority countries were too often treated as proxies without regard to their own aspirations.  Moreover, the sweeping change brought by modernity and globalization led many Muslims to view the West as hostile to the traditions of Islam.\\n',\n",
              " 'Violent extremists have exploited these tensions in a small but potent minority of Muslims.  The attacks of September 11, 2001 and the continued efforts of these extremists to engage in violence against civilians has led some in my country to view Islam as inevitably hostile not only to America and Western countries, but also to human rights.  All this has bred more fear and more mistrust.\\n',\n",
              " 'So long as our relationship is defined by our differences, we will empower those who sow hatred rather than peace, those who promote conflict rather than the cooperation that can help all of our people achieve justice and prosperity.  And this cycle of suspicion and discord must end.\\n',\n",
              " \"I've come here to Cairo to seek a new beginning between the United States and Muslims around the world, one based on mutual interest and mutual respect, and one based upon the truth that America and Islam are not exclusive and need not be in competition.  Instead, they overlap, and share common principles -- principles of justice and progress; tolerance and the dignity of all human beings.\\n\",\n",
              " 'I do so recognizing that change cannot happen overnight.  I know there\\'s been a lot of publicity about this speech, but no single speech can eradicate years of mistrust, nor can I answer in the time that I have this afternoon all the complex questions that brought us to this point.  But I am convinced that in order to move forward, we must say openly to each other the things we hold in our hearts and that too often are said only behind closed doors.  There must be a sustained effort to listen to each other; to learn from each other; to respect one another; and to seek common ground.  As the Holy Koran tells us, \"Be conscious of God and speak always the truth.\"  (Applause.)  That is what I will try to do today -- to speak the truth as best I can, humbled by the task before us, and firm in my belief that the interests we share as human beings are far more powerful than the forces that drive us apart.\\n',\n",
              " \"Now part of this conviction is rooted in my own experience. I'm a Christian, but my father came from a Kenyan family that includes generations of Muslims.  As a boy, I spent several years in Indonesia and heard the call of the azaan at the break of dawn and at the fall of dusk.  As a young man, I worked in Chicago communities where many found dignity and peace in their Muslim faith.\\n\",\n",
              " \"As a student of history, I also know civilization's debt to Islam.  It was Islam -- at places like Al-Azhar -- that carried the light of learning through so many centuries, paving the way for Europe's Renaissance and Enlightenment.  It was innovation in Muslim communities -- (applause) -- it was innovation in Muslim communities that developed the order of algebra; our magnetic compass and tools of navigation; our mastery of pens and printing; our understanding of how disease spreads and how it can be healed.  Islamic culture has given us majestic arches and soaring spires; timeless poetry and cherished music; elegant calligraphy and places of peaceful contemplation.  And throughout history, Islam has demonstrated through words and deeds the possibilities of religious tolerance and racial equality.  (Applause.)\\n\",\n",
              " 'I also know that Islam has always been a part of America\\'s story.  The first nation to recognize my country was Morocco.  In signing the Treaty of Tripoli in 1796, our second President, John Adams, wrote, \"The United States has in itself no character of enmity against the laws, religion or tranquility of Muslims.\"  And since our founding, American Muslims have enriched the United States.  They have fought in our wars, they have served in our government, they have stood for civil rights, they have started businesses, they have taught at our universities, they\\'ve excelled in our sports arenas, they\\'ve won Nobel Prizes, built our tallest building, and lit the Olympic Torch.  And when the first Muslim American was recently elected to Congress, he took the oath to defend our Constitution using the same Holy Koran that one of our Founding Fathers -- Thomas Jefferson -- kept in his personal library.  (Applause.)\\n',\n",
              " \"So I have known Islam on three continents before coming to the region where it was first revealed.  That experience guides my conviction that partnership between America and Islam must be based on what Islam is, not what it isn't.  And I consider it part of my responsibility as President of the United States to fight against negative stereotypes of Islam wherever they appear. (Applause.)\\n\",\n",
              " 'But that same principle must apply to Muslim perceptions of America.  (Applause.)  Just as Muslims do not fit a crude stereotype, America is not the crude stereotype of a self-interested empire.  The United States has been one of the greatest sources of progress that the world has ever known.  We were born out of revolution against an empire.  We were founded upon the ideal that all are created equal, and we have shed blood and struggled for centuries to give meaning to those words -- within our borders, and around the world.  We are shaped by every culture, drawn from every end of the Earth, and dedicated to a simple concept:  E pluribus unum -- \"Out of many, one.\"  \\n',\n",
              " 'Now, much has been made of the fact that an African American with the name Barack Hussein Obama could be elected President.  (Applause.)  But my personal story is not so unique.  The dream of opportunity for all people has not come true for everyone in America, but its promise exists for all who come to our shores -- and that includes nearly 7 million American Muslims in our country today who, by the way, enjoy incomes and educational levels that are higher than the American average.  (Applause.)\\n',\n",
              " \"Moreover, freedom in America is indivisible from the freedom to practice one's religion.  That is why there is a mosque in every state in our union, and over 1,200 mosques within our borders.  That's why the United States government has gone to court to protect the right of women and girls to wear the hijab and to punish those who would deny it.  (Applause.)\\n\",\n",
              " 'So let there be no doubt:  Islam is a part of America.  And I believe that America holds within her the truth that regardless of race, religion, or station in life, all of us share common aspirations -- to live in peace and security; to get an education and to work with dignity; to love our families, our communities, and our God.  These things we share.  This is the hope of all humanity.\\n',\n",
              " 'Of course, recognizing our common humanity is only the beginning of our task.  Words alone cannot meet the needs of our people.  These needs will be met only if we act boldly in the years ahead; and if we understand that the challenges we face are shared, and our failure to meet them will hurt us all.\\n',\n",
              " 'For we have learned from recent experience that when a financial system weakens in one country, prosperity is hurt everywhere.  When a new flu infects one human being, all are at risk.  When one nation pursues a nuclear weapon, the risk of nuclear attack rises for all nations.  When violent extremists operate in one stretch of mountains, people are endangered across an ocean.  When innocents in Bosnia and Darfur are slaughtered, that is a stain on our collective conscience.  (Applause.)  That is what it means to share this world in the 21st century.  That is the responsibility we have to one another as human beings.\\n',\n",
              " 'And this is a difficult responsibility to embrace.  For human history has often been a record of nations and tribes -- and, yes, religions -- subjugating one another in pursuit of their own interests.  Yet in this new age, such attitudes are self-defeating.  Given our interdependence, any world order that elevates one nation or group of people over another will inevitably fail.  So whatever we think of the past, we must not be prisoners to it.  Our problems must be dealt with through partnership; our progress must be shared.  (Applause.)\\n',\n",
              " 'Now, that does not mean we should ignore sources of tension. Indeed, it suggests the opposite:  We must face these tensions squarely.  And so in that spirit, let me speak as clearly and as plainly as I can about some specific issues that I believe we must finally confront together. \\n',\n",
              " 'The first issue that we have to confront is violent extremism in all of its forms.\\n',\n",
              " 'In Ankara, I made clear that America is not -- and never will be -- at war with Islam.  (Applause.)  We will, however, relentlessly confront violent extremists who pose a grave threat to our security -- because we reject the same thing that people of all faiths reject:  the killing of innocent men, women, and children.  And it is my first duty as President to protect the American people.\\n',\n",
              " \"The situation in Afghanistan demonstrates America's goals, and our need to work together.  Over seven years ago, the United States pursued al Qaeda and the Taliban with broad international support.  We did not go by choice; we went because of necessity. I'm aware that there's still some who would question or even justify the events of 9/11.  But let us be clear:  Al Qaeda killed nearly 3,000 people on that day.  The victims were innocent men, women and children from America and many other nations who had done nothing to harm anybody.  And yet al Qaeda chose to ruthlessly murder these people, claimed credit for the attack, and even now states their determination to kill on a massive scale.  They have affiliates in many countries and are trying to expand their reach.  These are not opinions to be debated; these are facts to be dealt with.\\n\",\n",
              " 'Now, make no mistake:  We do not want to keep our troops in Afghanistan.  We see no military -- we seek no military bases there.  It is agonizing for America to lose our young men and women.  It is costly and politically difficult to continue this conflict.  We would gladly bring every single one of our troops home if we could be confident that there were not violent extremists in Afghanistan and now Pakistan determined to kill as many Americans as they possibly can.  But that is not yet the case.\\n',\n",
              " \"And that's why we're partnering with a coalition of 46 countries.  And despite the costs involved, America's commitment will not weaken.  Indeed, none of us should tolerate these extremists.  They have killed in many countries.  They have killed people of different faiths -- but more than any other, they have killed Muslims.  Their actions are irreconcilable with the rights of human beings, the progress of nations, and with Islam.  The Holy Koran teaches that whoever kills an innocent is as -- it is as if he has killed all mankind.  (Applause.)  And the Holy Koran also says whoever saves a person, it is as if he has saved all mankind.  (Applause.)  The enduring faith of over a billion people is so much bigger than the narrow hatred of a few. Islam is not part of the problem in combating violent extremism -- it is an important part of promoting peace. \\n\",\n",
              " \"Now, we also know that military power alone is not going to solve the problems in Afghanistan and Pakistan.  That's why we plan to invest $1.5 billion each year over the next five years to partner with Pakistanis to build schools and hospitals, roads and businesses, and hundreds of millions to help those who've been displaced.  That's why we are providing more than $2.8 billion to help Afghans develop their economy and deliver services that people depend on.\\n\",\n",
              " 'Let me also address the issue of Iraq.  Unlike Afghanistan, Iraq was a war of choice that provoked strong differences in my country and around the world.  Although I believe that the Iraqi people are ultimately better off without the tyranny of Saddam Hussein, I also believe that events in Iraq have reminded America of the need to use diplomacy and build international consensus to resolve our problems whenever possible.  (Applause.)  Indeed, we can recall the words of Thomas Jefferson, who said:  \"I hope that our wisdom will grow with our power, and teach us that the less we use our power the greater it will be.\"\\n',\n",
              " \"Today, America has a dual responsibility:  to help Iraq forge a better future -- and to leave Iraq to Iraqis.  And I have made it clear to the Iraqi people -- (applause) -- I have made it clear to the Iraqi people that we pursue no bases, and no claim on their territory or resources.  Iraq's sovereignty is its own. And that's why I ordered the removal of our combat brigades by next August.  That is why we will honor our agreement with Iraq's democratically elected government to remove combat troops from Iraqi cities by July, and to remove all of our troops from Iraq by 2012.  (Applause.)  We will help Iraq train its security forces and develop its economy.  But we will support a secure and united Iraq as a partner, and never as a patron.\\n\",\n",
              " 'And finally, just as America can never tolerate violence by extremists, we must never alter or forget our principles.  Nine-eleven was an enormous trauma to our country.  The fear and anger that it provoked was understandable, but in some cases, it led us to act contrary to our traditions and our ideals.  We are taking concrete actions to change course.  I have unequivocally prohibited the use of torture by the United States, and I have ordered the prison at Guantanamo Bay closed by early next year.  (Applause.)\\n',\n",
              " 'So America will defend itself, respectful of the sovereignty of nations and the rule of law.  And we will do so in partnership with Muslim communities which are also threatened.  The sooner the extremists are isolated and unwelcome in Muslim communities, the sooner we will all be safer.\\n',\n",
              " 'The second major source of tension that we need to discuss is the situation between Israelis, Palestinians and the Arab world.\\n',\n",
              " \"America's strong bonds with Israel are well known.  This bond is unbreakable.  It is based upon cultural and historical ties, and the recognition that the aspiration for a Jewish homeland is rooted in a tragic history that cannot be denied.\\n\",\n",
              " 'Around the world, the Jewish people were persecuted for centuries, and anti-Semitism in Europe culminated in an unprecedented Holocaust.  Tomorrow, I will visit Buchenwald, which was part of a network of camps where Jews were enslaved, tortured, shot and gassed to death by the Third Reich.  Six million Jews were killed -- more than the entire Jewish population of Israel today.  Denying that fact is baseless, it is ignorant, and it is hateful.  Threatening Israel with destruction -- or repeating vile stereotypes about Jews -- is deeply wrong, and only serves to evoke in the minds of Israelis this most painful of memories while preventing the peace that the people of this region deserve.\\n',\n",
              " \"On the other hand, it is also undeniable that the Palestinian people -- Muslims and Christians -- have suffered in pursuit of a homeland.  For more than 60 years they've endured the pain of dislocation.  Many wait in refugee camps in the West Bank, Gaza, and neighboring lands for a life of peace and security that they have never been able to lead.  They endure the daily humiliations -- large and small -- that come with occupation.  So let there be no doubt:  The situation for the Palestinian people is intolerable.  And America will not turn our backs on the legitimate Palestinian aspiration for dignity, opportunity, and a state of their own.  (Applause.)\\n\",\n",
              " \"For decades then, there has been a stalemate:  two peoples with legitimate aspirations, each with a painful history that makes compromise elusive.  It's easy to point fingers -- for Palestinians to point to the displacement brought about by Israel's founding, and for Israelis to point to the constant hostility and attacks throughout its history from within its borders as well as beyond.  But if we see this conflict only from one side or the other, then we will be blind to the truth:  The only resolution is for the aspirations of both sides to be met through two states, where Israelis and Palestinians each live in peace and security.  (Applause.)\\n\",\n",
              " \"That is in Israel's interest, Palestine's interest, America's interest, and the world's interest.  And that is why I intend to personally pursue this outcome with all the patience and dedication that the task requires.  (Applause.)  The obligations -- the obligations that the parties have agreed to under the road map are clear.  For peace to come, it is time for them -- and all of us -- to live up to our responsibilities.\\n\",\n",
              " \"Palestinians must abandon violence.  Resistance through violence and killing is wrong and it does not succeed.  For centuries, black people in America suffered the lash of the whip as slaves and the humiliation of segregation.  But it was not violence that won full and equal rights.  It was a peaceful and determined insistence upon the ideals at the center of America's founding.  This same story can be told by people from South Africa to South Asia; from Eastern Europe to Indonesia.  It's a story with a simple truth:  that violence is a dead end.  It is a sign neither of courage nor power to shoot rockets at sleeping children, or to blow up old women on a bus.  That's not how moral authority is claimed; that's how it is surrendered.\\n\",\n",
              " \"Now is the time for Palestinians to focus on what they can build.  The Palestinian Authority must develop its capacity to govern, with institutions that serve the needs of its people. Hamas does have support among some Palestinians, but they also have to recognize they have responsibilities.  To play a role in fulfilling Palestinian aspirations, to unify the Palestinian people, Hamas must put an end to violence, recognize past agreements, recognize Israel's right to exist.\\n\",\n",
              " \"At the same time, Israelis must acknowledge that just as Israel's right to exist cannot be denied, neither can Palestine's.  The United States does not accept the legitimacy of continued Israeli settlements.  (Applause.)  This construction violates previous agreements and undermines efforts to achieve peace.  It is time for these settlements to stop.  (Applause.)\\n\",\n",
              " \"And Israel must also live up to its obligation to ensure that Palestinians can live and work and develop their society.  Just as it devastates Palestinian families, the continuing humanitarian crisis in Gaza does not serve Israel's security; neither does the continuing lack of opportunity in the West Bank. Progress in the daily lives of the Palestinian people must be a critical part of a road to peace, and Israel must take concrete steps to enable such progress. \\n\",\n",
              " \"And finally, the Arab states must recognize that the Arab Peace Initiative was an important beginning, but not the end of their responsibilities.  The Arab-Israeli conflict should no longer be used to distract the people of Arab nations from other problems.  Instead, it must be a cause for action to help the Palestinian people develop the institutions that will sustain their state, to recognize Israel's legitimacy, and to choose progress over a self-defeating focus on the past.\\n\",\n",
              " 'America will align our policies with those who pursue peace, and we will say in public what we say in private to Israelis and Palestinians and Arabs.  (Applause.)  We cannot impose peace.  But privately, many Muslims recognize that Israel will not go away.  Likewise, many Israelis recognize the need for a Palestinian state.  It is time for us to act on what everyone knows to be true.\\n',\n",
              " 'Too many tears have been shed.  Too much blood has been shed.  All of us have a responsibility to work for the day when the mothers of Israelis and Palestinians can see their children grow up without fear; when the Holy Land of the three great faiths is the place of peace that God intended it to be; when Jerusalem is a secure and lasting home for Jews and Christians and Muslims, and a place for all of the children of Abraham to mingle peacefully together as in the story of Isra -- (applause) -- as in the story of Isra, when Moses, Jesus, and Mohammed, peace be upon them, joined in prayer.  (Applause.)\\n',\n",
              " 'The third source of tension is our shared interest in the rights and responsibilities of nations on nuclear weapons.\\n',\n",
              " \"This issue has been a source of tension between the United States and the Islamic Republic of Iran.  For many years, Iran has defined itself in part by its opposition to my country, and there is in fact a tumultuous history between us.  In the middle of the Cold War, the United States played a role in the overthrow of a democratically elected Iranian government.  Since the Islamic Revolution, Iran has played a role in acts of hostage-taking and violence against U.S. troops and civilians.  This history is well known.  Rather than remain trapped in the past, I've made it clear to Iran's leaders and people that my country is prepared to move forward.  The question now is not what Iran is against, but rather what future it wants to build.\\n\",\n",
              " \"I recognize it will be hard to overcome decades of mistrust, but we will proceed with courage, rectitude, and resolve.  There will be many issues to discuss between our two countries, and we are willing to move forward without preconditions on the basis of mutual respect.  But it is clear to all concerned that when it comes to nuclear weapons, we have reached a decisive point.  This is not simply about America's interests.  It's about preventing a nuclear arms race in the Middle East that could lead this region and the world down a hugely dangerous path.\\n\",\n",
              " \"I understand those who protest that some countries have weapons that others do not.  No single nation should pick and choose which nation holds nuclear weapons.  And that's why I strongly reaffirmed America's commitment to seek a world in which no nations hold nuclear weapons.  (Applause.)  And any nation -- including Iran -- should have the right to access peaceful nuclear power if it complies with its responsibilities under the nuclear Non-Proliferation Treaty.  That commitment is at the core of the treaty, and it must be kept for all who fully abide by it. And I'm hopeful that all countries in the region can share in this goal.\\n\",\n",
              " 'The fourth issue that I will address is democracy.  (Applause.)\\n',\n",
              " 'I know -- I know there has been controversy about the promotion of democracy in recent years, and much of this controversy is connected to the war in Iraq.  So let me be clear: No system of government can or should be imposed by one nation by any other.\\n',\n",
              " ' \\n',\n",
              " \"That does not lessen my commitment, however, to governments that reflect the will of the people.  Each nation gives life to this principle in its own way, grounded in the traditions of its own people.  America does not presume to know what is best for everyone, just as we would not presume to pick the outcome of a peaceful election.  But I do have an unyielding belief that all people yearn for certain things:  the ability to speak your mind and have a say in how you are governed; confidence in the rule of law and the equal administration of justice; government that is transparent and doesn't steal from the people; the freedom to live as you choose.  These are not just American ideas; they are human rights.  And that is why we will support them everywhere.  (Applause.)\\n\",\n",
              " 'Now, there is no straight line to realize this promise.  But this much is clear:  Governments that protect these rights are ultimately more stable, successful and secure.  Suppressing ideas never succeeds in making them go away.  America respects the right of all peaceful and law-abiding voices to be heard around the world, even if we disagree with them.  And we will welcome all elected, peaceful governments -- provided they govern with respect for all their people.\\n',\n",
              " \"This last point is important because there are some who advocate for democracy only when they're out of power; once in power, they are ruthless in suppressing the rights of others.  (Applause.)  So no matter where it takes hold, government of the people and by the people sets a single standard for all who would hold power:  You must maintain your power through consent, not coercion; you must respect the rights of minorities, and participate with a spirit of tolerance and compromise; you must place the interests of your people and the legitimate workings of the political process above your party.  Without these ingredients, elections alone do not make true democracy.\\n\",\n",
              " 'AUDIENCE MEMBER:  Barack Obama, we love you!\\n',\n",
              " 'PRESIDENT OBAMA:  Thank you.  (Applause.)  The fifth issue that we must address together is religious freedom.\\n',\n",
              " \"Islam has a proud tradition of tolerance.  We see it in the history of Andalusia and Cordoba during the Inquisition.  I saw it firsthand as a child in Indonesia, where devout Christians worshiped freely in an overwhelmingly Muslim country.  That is the spirit we need today.  People in every country should be free to choose and live their faith based upon the persuasion of the mind and the heart and the soul.  This tolerance is essential for religion to thrive, but it's being challenged in many different ways.\\n\",\n",
              " \"Among some Muslims, there's a disturbing tendency to measure one's own faith by the rejection of somebody else's faith.  The richness of religious diversity must be upheld -- whether it is for Maronites in Lebanon or the Copts in Egypt.  (Applause.)  And if we are being honest, fault lines must be closed among Muslims, as well, as the divisions between Sunni and Shia have led to tragic violence, particularly in Iraq.\\n\",\n",
              " \"Freedom of religion is central to the ability of peoples to live together.  We must always examine the ways in which we protect it.  For instance, in the United States, rules on charitable giving have made it harder for Muslims to fulfill their religious obligation.  That's why I'm committed to working with American Muslims to ensure that they can fulfill zakat. \\n\",\n",
              " \"Likewise, it is important for Western countries to avoid impeding Muslim citizens from practicing religion as they see fit -- for instance, by dictating what clothes a Muslim woman should wear.  We can't disguise hostility towards any religion behind the pretence of liberalism.\\n\",\n",
              " ' \\n',\n",
              " \"In fact, faith should bring us together.  And that's why we're forging service projects in America to bring together Christians, Muslims, and Jews.  That's why we welcome efforts like Saudi Arabian King Abdullah's interfaith dialogue and Turkey's leadership in the Alliance of Civilizations.  Around the world, we can turn dialogue into interfaith service, so bridges between peoples lead to action -- whether it is combating malaria in Africa, or providing relief after a natural disaster. \\n\",\n",
              " \"The sixth issue -- the sixth issue that I want to address is women's rights.  (Applause.)  I know –- I know -- and you can tell from this audience, that there is a healthy debate about this issue.  I reject the view of some in the West that a woman who chooses to cover her hair is somehow less equal, but I do believe that a woman who is denied an education is denied equality.  (Applause.)  And it is no coincidence that countries where women are well educated are far more likely to be prosperous.\\n\",\n",
              " \"Now, let me be clear:  Issues of women's equality are by no means simply an issue for Islam.  In Turkey, Pakistan, Bangladesh, Indonesia, we've seen Muslim-majority countries elect a woman to lead.  Meanwhile, the struggle for women's equality continues in many aspects of American life, and in countries around the world.\\n\",\n",
              " 'I am convinced that our daughters can contribute just as much to society as our sons.  (Applause.)  Our common prosperity will be advanced by allowing all humanity -- men and women -- to reach their full potential.  I do not believe that women must make the same choices as men in order to be equal, and I respect those women who choose to live their lives in traditional roles. But it should be their choice.  And that is why the United States will partner with any Muslim-majority country to support expanded literacy for girls, and to help young women pursue employment through micro-financing that helps people live their dreams.  (Applause.)\\n',\n",
              " 'Finally, I want to discuss economic development and opportunity.\\n',\n",
              " 'I know that for many, the face of globalization is contradictory.  The Internet and television can bring knowledge and information, but also offensive sexuality and mindless violence into the home.  Trade can bring new wealth and opportunities, but also huge disruptions and change in communities.  In all nations -- including America -- this change can bring fear.  Fear that because of modernity we lose control over our economic choices, our politics, and most importantly our identities -- those things we most cherish about our communities, our families, our traditions, and our faith. \\n',\n",
              " 'But I also know that human progress cannot be denied.  There need not be contradictions between development and tradition. Countries like Japan and South Korea grew their economies enormously while maintaining distinct cultures.  The same is true for the astonishing progress within Muslim-majority countries from Kuala Lumpur to Dubai.  In ancient times and in our times, Muslim communities have been at the forefront of innovation and education.\\n',\n",
              " '\\n',\n",
              " \"And this is important because no development strategy can be based only upon what comes out of the ground, nor can it be sustained while young people are out of work.  Many Gulf states have enjoyed great wealth as a consequence of oil, and some are beginning to focus it on broader development.  But all of us must recognize that education and innovation will be the currency of the 21st century -- (applause) -- and in too many Muslim communities, there remains underinvestment in these areas.  I'm emphasizing such investment within my own country.  And while America in the past has focused on oil and gas when it comes to this part of the world, we now seek a broader engagement.\\n\",\n",
              " 'On education, we will expand exchange programs, and increase scholarships, like the one that brought my father to America.  (Applause.)  At the same time, we will encourage more Americans to study in Muslim communities.  And we will match promising Muslim students with internships in America; invest in online learning for teachers and children around the world; and create a new online network, so a young person in Kansas can communicate instantly with a young person in Cairo.\\n',\n",
              " 'On economic development, we will create a new corps of business volunteers to partner with counterparts in Muslim-majority countries.  And I will host a Summit on Entrepreneurship this year to identify how we can deepen ties between business leaders, foundations and social entrepreneurs in the United States and Muslim communities around the world.\\n',\n",
              " \"On science and technology, we will launch a new fund to support technological development in Muslim-majority countries, and to help transfer ideas to the marketplace so they can create more jobs.  We'll open centers of scientific excellence in Africa, the Middle East and Southeast Asia, and appoint new science envoys to collaborate on programs that develop new sources of energy, create green jobs, digitize records, clean water, grow new crops.  Today I'm announcing a new global effort with the Organization of the Islamic Conference to eradicate polio.  And we will also expand partnerships with Muslim communities to promote child and maternal health.\\n\",\n",
              " 'All these things must be done in partnership.  Americans are ready to join with citizens and governments; community organizations, religious leaders, and businesses in Muslim communities around the world to help our people pursue a better life.\\n',\n",
              " \"The issues that I have described will not be easy to address.  But we have a responsibility to join together on behalf of the world that we seek -- a world where extremists no longer threaten our people, and American troops have come home; a world where Israelis and Palestinians are each secure in a state of their own, and nuclear energy is used for peaceful purposes; a world where governments serve their citizens, and the rights of all God's children are respected.  Those are mutual interests.  That is the world we seek.  But we can only achieve it together.\\n\",\n",
              " \"I know there are many -- Muslim and non-Muslim -- who question whether we can forge this new beginning.  Some are eager to stoke the flames of division, and to stand in the way of progress.  Some suggest that it isn't worth the effort -- that we are fated to disagree, and civilizations are doomed to clash. Many more are simply skeptical that real change can occur.  There's so much fear, so much mistrust that has built up over the years.  But if we choose to be bound by the past, we will never move forward.  And I want to particularly say this to young people of every faith, in every country -- you, more than anyone, have the ability to reimagine the world, to remake this world.\\n\",\n",
              " 'All of us share this world for but a brief moment in time. The question is whether we spend that time focused on what pushes us apart, or whether we commit ourselves to an effort -- a sustained effort -- to find common ground, to focus on the future we seek for our children, and to respect the dignity of all human beings.\\n',\n",
              " \"It's easier to start wars than to end them.  It's easier to blame others than to look inward.  It's easier to see what is different about someone than to find the things we share.  But we should choose the right path, not just the easy path.  There's one rule that lies at the heart of every religion -- that we do unto others as we would have them do unto us.  (Applause.)  This truth transcends nations and peoples -- a belief that isn't new; that isn't black or white or brown; that isn't Christian or Muslim or Jew.  It's a belief that pulsed in the cradle of civilization, and that still beats in the hearts of billions around the world.  It's a faith in other people, and it's what brought me here today.\\n\",\n",
              " 'We have the power to make the world we seek, but only if we have the courage to make a new beginning, keeping in mind what has been written.\\n',\n",
              " 'The Holy Koran tells us:  \"O mankind!  We have created you male and a female; and we have made you into nations and tribes so that you may know one another.\"\\n',\n",
              " 'The Talmud tells us:  \"The whole of the Torah is for the purpose of promoting peace.\"\\n',\n",
              " 'The Holy Bible tells us:  \"Blessed are the peacemakers, for they shall be called sons of God.\"  (Applause.)\\n',\n",
              " \"The people of the world can live together in peace.  We know that is God's vision.  Now that must be our work here on Earth.\\n\",\n",
              " \"Thank you.  And may God's peace be upon you.  Thank you very much.  Thank you.  (Applause.)\\n\",\n",
              " 'END        \\n',\n",
              " '2:05 P.M. (Local)']"
            ]
          },
          "execution_count": 11,
          "metadata": {},
          "output_type": "execute_result"
        }
      ],
      "source": [
        "file1.readlines() #recognizes \\n line breaks"
      ]
    },
    {
      "cell_type": "markdown",
      "metadata": {
        "id": "cqyuHvIUBjWB"
      },
      "source": [
        "## Codecs\n",
        "\n"
      ]
    },
    {
      "cell_type": "code",
      "execution_count": 13,
      "metadata": {
        "id": "Om2UhPy2BtRI"
      },
      "outputs": [
        {
          "data": {
            "text/plain": [
              "'PRESIDENT OBAMA:  Thank you very much.  Good afternoon.  I am honored to be in the timeless city of Cairo, and to be hosted by two remarkable institutions.  For over a thousand years, Al-Azhar has stood as a beacon of Islamic learning; and for over a century, Cairo University has been a source of Egypt\\'s advancement.  And together, you represent the harmony between tradition and progress.  I\\'m grateful for your hospitality, and the hospitality of the people of Egypt.  And I\\'m also proud to carry with me the goodwill of the American people, and a greeting of peace from Muslim communities in my country:  Assalaamu alaykum. (Applause.)\\nWe meet at a time of great tension between the United States and Muslims around the world -- tension rooted in historical forces that go beyond any current policy debate.  The relationship between Islam and the West includes centuries of coexistence and cooperation, but also conflict and religious wars.  More recently, tension has been fed by colonialism that denied rights and opportunities to many Muslims, and a Cold War in which Muslim-majority countries were too often treated as proxies without regard to their own aspirations.  Moreover, the sweeping change brought by modernity and globalization led many Muslims to view the West as hostile to the traditions of Islam.\\nViolent extremists have exploited these tensions in a small but potent minority of Muslims.  The attacks of September 11, 2001 and the continued efforts of these extremists to engage in violence against civilians has led some in my country to view Islam as inevitably hostile not only to America and Western countries, but also to human rights.  All this has bred more fear and more mistrust.\\nSo long as our relationship is defined by our differences, we will empower those who sow hatred rather than peace, those who promote conflict rather than the cooperation that can help all of our people achieve justice and prosperity.  And this cycle of suspicion and discord must end.\\nI\\'ve come here to Cairo to seek a new beginning between the United States and Muslims around the world, one based on mutual interest and mutual respect, and one based upon the truth that America and Islam are not exclusive and need not be in competition.  Instead, they overlap, and share common principles -- principles of justice and progress; tolerance and the dignity of all human beings.\\nI do so recognizing that change cannot happen overnight.  I know there\\'s been a lot of publicity about this speech, but no single speech can eradicate years of mistrust, nor can I answer in the time that I have this afternoon all the complex questions that brought us to this point.  But I am convinced that in order to move forward, we must say openly to each other the things we hold in our hearts and that too often are said only behind closed doors.  There must be a sustained effort to listen to each other; to learn from each other; to respect one another; and to seek common ground.  As the Holy Koran tells us, \"Be conscious of God and speak always the truth.\"  (Applause.)  That is what I will try to do today -- to speak the truth as best I can, humbled by the task before us, and firm in my belief that the interests we share as human beings are far more powerful than the forces that drive us apart.\\nNow part of this conviction is rooted in my own experience. I\\'m a Christian, but my father came from a Kenyan family that includes generations of Muslims.  As a boy, I spent several years in Indonesia and heard the call of the azaan at the break of dawn and at the fall of dusk.  As a young man, I worked in Chicago communities where many found dignity and peace in their Muslim faith.\\nAs a student of history, I also know civilization\\'s debt to Islam.  It was Islam -- at places like Al-Azhar -- that carried the light of learning through so many centuries, paving the way for Europe\\'s Renaissance and Enlightenment.  It was innovation in Muslim communities -- (applause) -- it was innovation in Muslim communities that developed the order of algebra; our magnetic compass and tools of navigation; our mastery of pens and printing; our understanding of how disease spreads and how it can be healed.  Islamic culture has given us majestic arches and soaring spires; timeless poetry and cherished music; elegant calligraphy and places of peaceful contemplation.  And throughout history, Islam has demonstrated through words and deeds the possibilities of religious tolerance and racial equality.  (Applause.)\\nI also know that Islam has always been a part of America\\'s story.  The first nation to recognize my country was Morocco.  In signing the Treaty of Tripoli in 1796, our second President, John Adams, wrote, \"The United States has in itself no character of enmity against the laws, religion or tranquility of Muslims.\"  And since our founding, American Muslims have enriched the United States.  They have fought in our wars, they have served in our government, they have stood for civil rights, they have started businesses, they have taught at our universities, they\\'ve excelled in our sports arenas, they\\'ve won Nobel Prizes, built our tallest building, and lit the Olympic Torch.  And when the first Muslim American was recently elected to Congress, he took the oath to defend our Constitution using the same Holy Koran that one of our Founding Fathers -- Thomas Jefferson -- kept in his personal library.  (Applause.)\\nSo I have known Islam on three continents before coming to the region where it was first revealed.  That experience guides my conviction that partnership between America and Islam must be based on what Islam is, not what it isn\\'t.  And I consider it part of my responsibility as President of the United States to fight against negative stereotypes of Islam wherever they appear. (Applause.)\\nBut that same principle must apply to Muslim perceptions of America.  (Applause.)  Just as Muslims do not fit a crude stereotype, America is not the crude stereotype of a self-interested empire.  The United States has been one of the greatest sources of progress that the world has ever known.  We were born out of revolution against an empire.  We were founded upon the ideal that all are created equal, and we have shed blood and struggled for centuries to give meaning to those words -- within our borders, and around the world.  We are shaped by every culture, drawn from every end of the Earth, and dedicated to a simple concept:  E pluribus unum -- \"Out of many, one.\"  \\nNow, much has been made of the fact that an African American with the name Barack Hussein Obama could be elected President.  (Applause.)  But my personal story is not so unique.  The dream of opportunity for all people has not come true for everyone in America, but its promise exists for all who come to our shores -- and that includes nearly 7 million American Muslims in our country today who, by the way, enjoy incomes and educational levels that are higher than the American average.  (Applause.)\\nMoreover, freedom in America is indivisible from the freedom to practice one\\'s religion.  That is why there is a mosque in every state in our union, and over 1,200 mosques within our borders.  That\\'s why the United States government has gone to court to protect the right of women and girls to wear the hijab and to punish those who would deny it.  (Applause.)\\nSo let there be no doubt:  Islam is a part of America.  And I believe that America holds within her the truth that regardless of race, religion, or station in life, all of us share common aspirations -- to live in peace and security; to get an education and to work with dignity; to love our families, our communities, and our God.  These things we share.  This is the hope of all humanity.\\nOf course, recognizing our common humanity is only the beginning of our task.  Words alone cannot meet the needs of our people.  These needs will be met only if we act boldly in the years ahead; and if we understand that the challenges we face are shared, and our failure to meet them will hurt us all.\\nFor we have learned from recent experience that when a financial system weakens in one country, prosperity is hurt everywhere.  When a new flu infects one human being, all are at risk.  When one nation pursues a nuclear weapon, the risk of nuclear attack rises for all nations.  When violent extremists operate in one stretch of mountains, people are endangered across an ocean.  When innocents in Bosnia and Darfur are slaughtered, that is a stain on our collective conscience.  (Applause.)  That is what it means to share this world in the 21st century.  That is the responsibility we have to one another as human beings.\\nAnd this is a difficult responsibility to embrace.  For human history has often been a record of nations and tribes -- and, yes, religions -- subjugating one another in pursuit of their own interests.  Yet in this new age, such attitudes are self-defeating.  Given our interdependence, any world order that elevates one nation or group of people over another will inevitably fail.  So whatever we think of the past, we must not be prisoners to it.  Our problems must be dealt with through partnership; our progress must be shared.  (Applause.)\\nNow, that does not mean we should ignore sources of tension. Indeed, it suggests the opposite:  We must face these tensions squarely.  And so in that spirit, let me speak as clearly and as plainly as I can about some specific issues that I believe we must finally confront together. \\nThe first issue that we have to confront is violent extremism in all of its forms.\\nIn Ankara, I made clear that America is not -- and never will be -- at war with Islam.  (Applause.)  We will, however, relentlessly confront violent extremists who pose a grave threat to our security -- because we reject the same thing that people of all faiths reject:  the killing of innocent men, women, and children.  And it is my first duty as President to protect the American people.\\nThe situation in Afghanistan demonstrates America\\'s goals, and our need to work together.  Over seven years ago, the United States pursued al Qaeda and the Taliban with broad international support.  We did not go by choice; we went because of necessity. I\\'m aware that there\\'s still some who would question or even justify the events of 9/11.  But let us be clear:  Al Qaeda killed nearly 3,000 people on that day.  The victims were innocent men, women and children from America and many other nations who had done nothing to harm anybody.  And yet al Qaeda chose to ruthlessly murder these people, claimed credit for the attack, and even now states their determination to kill on a massive scale.  They have affiliates in many countries and are trying to expand their reach.  These are not opinions to be debated; these are facts to be dealt with.\\nNow, make no mistake:  We do not want to keep our troops in Afghanistan.  We see no military -- we seek no military bases there.  It is agonizing for America to lose our young men and women.  It is costly and politically difficult to continue this conflict.  We would gladly bring every single one of our troops home if we could be confident that there were not violent extremists in Afghanistan and now Pakistan determined to kill as many Americans as they possibly can.  But that is not yet the case.\\nAnd that\\'s why we\\'re partnering with a coalition of 46 countries.  And despite the costs involved, America\\'s commitment will not weaken.  Indeed, none of us should tolerate these extremists.  They have killed in many countries.  They have killed people of different faiths -- but more than any other, they have killed Muslims.  Their actions are irreconcilable with the rights of human beings, the progress of nations, and with Islam.  The Holy Koran teaches that whoever kills an innocent is as -- it is as if he has killed all mankind.  (Applause.)  And the Holy Koran also says whoever saves a person, it is as if he has saved all mankind.  (Applause.)  The enduring faith of over a billion people is so much bigger than the narrow hatred of a few. Islam is not part of the problem in combating violent extremism -- it is an important part of promoting peace. \\nNow, we also know that military power alone is not going to solve the problems in Afghanistan and Pakistan.  That\\'s why we plan to invest $1.5 billion each year over the next five years to partner with Pakistanis to build schools and hospitals, roads and businesses, and hundreds of millions to help those who\\'ve been displaced.  That\\'s why we are providing more than $2.8 billion to help Afghans develop their economy and deliver services that people depend on.\\nLet me also address the issue of Iraq.  Unlike Afghanistan, Iraq was a war of choice that provoked strong differences in my country and around the world.  Although I believe that the Iraqi people are ultimately better off without the tyranny of Saddam Hussein, I also believe that events in Iraq have reminded America of the need to use diplomacy and build international consensus to resolve our problems whenever possible.  (Applause.)  Indeed, we can recall the words of Thomas Jefferson, who said:  \"I hope that our wisdom will grow with our power, and teach us that the less we use our power the greater it will be.\"\\nToday, America has a dual responsibility:  to help Iraq forge a better future -- and to leave Iraq to Iraqis.  And I have made it clear to the Iraqi people -- (applause) -- I have made it clear to the Iraqi people that we pursue no bases, and no claim on their territory or resources.  Iraq\\'s sovereignty is its own. And that\\'s why I ordered the removal of our combat brigades by next August.  That is why we will honor our agreement with Iraq\\'s democratically elected government to remove combat troops from Iraqi cities by July, and to remove all of our troops from Iraq by 2012.  (Applause.)  We will help Iraq train its security forces and develop its economy.  But we will support a secure and united Iraq as a partner, and never as a patron.\\nAnd finally, just as America can never tolerate violence by extremists, we must never alter or forget our principles.  Nine-eleven was an enormous trauma to our country.  The fear and anger that it provoked was understandable, but in some cases, it led us to act contrary to our traditions and our ideals.  We are taking concrete actions to change course.  I have unequivocally prohibited the use of torture by the United States, and I have ordered the prison at Guantanamo Bay closed by early next year.  (Applause.)\\nSo America will defend itself, respectful of the sovereignty of nations and the rule of law.  And we will do so in partnership with Muslim communities which are also threatened.  The sooner the extremists are isolated and unwelcome in Muslim communities, the sooner we will all be safer.\\nThe second major source of tension that we need to discuss is the situation between Israelis, Palestinians and the Arab world.\\nAmerica\\'s strong bonds with Israel are well known.  This bond is unbreakable.  It is based upon cultural and historical ties, and the recognition that the aspiration for a Jewish homeland is rooted in a tragic history that cannot be denied.\\nAround the world, the Jewish people were persecuted for centuries, and anti-Semitism in Europe culminated in an unprecedented Holocaust.  Tomorrow, I will visit Buchenwald, which was part of a network of camps where Jews were enslaved, tortured, shot and gassed to death by the Third Reich.  Six million Jews were killed -- more than the entire Jewish population of Israel today.  Denying that fact is baseless, it is ignorant, and it is hateful.  Threatening Israel with destruction -- or repeating vile stereotypes about Jews -- is deeply wrong, and only serves to evoke in the minds of Israelis this most painful of memories while preventing the peace that the people of this region deserve.\\nOn the other hand, it is also undeniable that the Palestinian people -- Muslims and Christians -- have suffered in pursuit of a homeland.  For more than 60 years they\\'ve endured the pain of dislocation.  Many wait in refugee camps in the West Bank, Gaza, and neighboring lands for a life of peace and security that they have never been able to lead.  They endure the daily humiliations -- large and small -- that come with occupation.  So let there be no doubt:  The situation for the Palestinian people is intolerable.  And America will not turn our backs on the legitimate Palestinian aspiration for dignity, opportunity, and a state of their own.  (Applause.)\\nFor decades then, there has been a stalemate:  two peoples with legitimate aspirations, each with a painful history that makes compromise elusive.  It\\'s easy to point fingers -- for Palestinians to point to the displacement brought about by Israel\\'s founding, and for Israelis to point to the constant hostility and attacks throughout its history from within its borders as well as beyond.  But if we see this conflict only from one side or the other, then we will be blind to the truth:  The only resolution is for the aspirations of both sides to be met through two states, where Israelis and Palestinians each live in peace and security.  (Applause.)\\nThat is in Israel\\'s interest, Palestine\\'s interest, America\\'s interest, and the world\\'s interest.  And that is why I intend to personally pursue this outcome with all the patience and dedication that the task requires.  (Applause.)  The obligations -- the obligations that the parties have agreed to under the road map are clear.  For peace to come, it is time for them -- and all of us -- to live up to our responsibilities.\\nPalestinians must abandon violence.  Resistance through violence and killing is wrong and it does not succeed.  For centuries, black people in America suffered the lash of the whip as slaves and the humiliation of segregation.  But it was not violence that won full and equal rights.  It was a peaceful and determined insistence upon the ideals at the center of America\\'s founding.  This same story can be told by people from South Africa to South Asia; from Eastern Europe to Indonesia.  It\\'s a story with a simple truth:  that violence is a dead end.  It is a sign neither of courage nor power to shoot rockets at sleeping children, or to blow up old women on a bus.  That\\'s not how moral authority is claimed; that\\'s how it is surrendered.\\nNow is the time for Palestinians to focus on what they can build.  The Palestinian Authority must develop its capacity to govern, with institutions that serve the needs of its people. Hamas does have support among some Palestinians, but they also have to recognize they have responsibilities.  To play a role in fulfilling Palestinian aspirations, to unify the Palestinian people, Hamas must put an end to violence, recognize past agreements, recognize Israel\\'s right to exist.\\nAt the same time, Israelis must acknowledge that just as Israel\\'s right to exist cannot be denied, neither can Palestine\\'s.  The United States does not accept the legitimacy of continued Israeli settlements.  (Applause.)  This construction violates previous agreements and undermines efforts to achieve peace.  It is time for these settlements to stop.  (Applause.)\\nAnd Israel must also live up to its obligation to ensure that Palestinians can live and work and develop their society.  Just as it devastates Palestinian families, the continuing humanitarian crisis in Gaza does not serve Israel\\'s security; neither does the continuing lack of opportunity in the West Bank. Progress in the daily lives of the Palestinian people must be a critical part of a road to peace, and Israel must take concrete steps to enable such progress. \\nAnd finally, the Arab states must recognize that the Arab Peace Initiative was an important beginning, but not the end of their responsibilities.  The Arab-Israeli conflict should no longer be used to distract the people of Arab nations from other problems.  Instead, it must be a cause for action to help the Palestinian people develop the institutions that will sustain their state, to recognize Israel\\'s legitimacy, and to choose progress over a self-defeating focus on the past.\\nAmerica will align our policies with those who pursue peace, and we will say in public what we say in private to Israelis and Palestinians and Arabs.  (Applause.)  We cannot impose peace.  But privately, many Muslims recognize that Israel will not go away.  Likewise, many Israelis recognize the need for a Palestinian state.  It is time for us to act on what everyone knows to be true.\\nToo many tears have been shed.  Too much blood has been shed.  All of us have a responsibility to work for the day when the mothers of Israelis and Palestinians can see their children grow up without fear; when the Holy Land of the three great faiths is the place of peace that God intended it to be; when Jerusalem is a secure and lasting home for Jews and Christians and Muslims, and a place for all of the children of Abraham to mingle peacefully together as in the story of Isra -- (applause) -- as in the story of Isra, when Moses, Jesus, and Mohammed, peace be upon them, joined in prayer.  (Applause.)\\nThe third source of tension is our shared interest in the rights and responsibilities of nations on nuclear weapons.\\nThis issue has been a source of tension between the United States and the Islamic Republic of Iran.  For many years, Iran has defined itself in part by its opposition to my country, and there is in fact a tumultuous history between us.  In the middle of the Cold War, the United States played a role in the overthrow of a democratically elected Iranian government.  Since the Islamic Revolution, Iran has played a role in acts of hostage-taking and violence against U.S. troops and civilians.  This history is well known.  Rather than remain trapped in the past, I\\'ve made it clear to Iran\\'s leaders and people that my country is prepared to move forward.  The question now is not what Iran is against, but rather what future it wants to build.\\nI recognize it will be hard to overcome decades of mistrust, but we will proceed with courage, rectitude, and resolve.  There will be many issues to discuss between our two countries, and we are willing to move forward without preconditions on the basis of mutual respect.  But it is clear to all concerned that when it comes to nuclear weapons, we have reached a decisive point.  This is not simply about America\\'s interests.  It\\'s about preventing a nuclear arms race in the Middle East that could lead this region and the world down a hugely dangerous path.\\nI understand those who protest that some countries have weapons that others do not.  No single nation should pick and choose which nation holds nuclear weapons.  And that\\'s why I strongly reaffirmed America\\'s commitment to seek a world in which no nations hold nuclear weapons.  (Applause.)  And any nation -- including Iran -- should have the right to access peaceful nuclear power if it complies with its responsibilities under the nuclear Non-Proliferation Treaty.  That commitment is at the core of the treaty, and it must be kept for all who fully abide by it. And I\\'m hopeful that all countries in the region can share in this goal.\\nThe fourth issue that I will address is democracy.  (Applause.)\\nI know -- I know there has been controversy about the promotion of democracy in recent years, and much of this controversy is connected to the war in Iraq.  So let me be clear: No system of government can or should be imposed by one nation by any other.\\n \\nThat does not lessen my commitment, however, to governments that reflect the will of the people.  Each nation gives life to this principle in its own way, grounded in the traditions of its own people.  America does not presume to know what is best for everyone, just as we would not presume to pick the outcome of a peaceful election.  But I do have an unyielding belief that all people yearn for certain things:  the ability to speak your mind and have a say in how you are governed; confidence in the rule of law and the equal administration of justice; government that is transparent and doesn\\'t steal from the people; the freedom to live as you choose.  These are not just American ideas; they are human rights.  And that is why we will support them everywhere.  (Applause.)\\nNow, there is no straight line to realize this promise.  But this much is clear:  Governments that protect these rights are ultimately more stable, successful and secure.  Suppressing ideas never succeeds in making them go away.  America respects the right of all peaceful and law-abiding voices to be heard around the world, even if we disagree with them.  And we will welcome all elected, peaceful governments -- provided they govern with respect for all their people.\\nThis last point is important because there are some who advocate for democracy only when they\\'re out of power; once in power, they are ruthless in suppressing the rights of others.  (Applause.)  So no matter where it takes hold, government of the people and by the people sets a single standard for all who would hold power:  You must maintain your power through consent, not coercion; you must respect the rights of minorities, and participate with a spirit of tolerance and compromise; you must place the interests of your people and the legitimate workings of the political process above your party.  Without these ingredients, elections alone do not make true democracy.\\nAUDIENCE MEMBER:  Barack Obama, we love you!\\nPRESIDENT OBAMA:  Thank you.  (Applause.)  The fifth issue that we must address together is religious freedom.\\nIslam has a proud tradition of tolerance.  We see it in the history of Andalusia and Cordoba during the Inquisition.  I saw it firsthand as a child in Indonesia, where devout Christians worshiped freely in an overwhelmingly Muslim country.  That is the spirit we need today.  People in every country should be free to choose and live their faith based upon the persuasion of the mind and the heart and the soul.  This tolerance is essential for religion to thrive, but it\\'s being challenged in many different ways.\\nAmong some Muslims, there\\'s a disturbing tendency to measure one\\'s own faith by the rejection of somebody else\\'s faith.  The richness of religious diversity must be upheld -- whether it is for Maronites in Lebanon or the Copts in Egypt.  (Applause.)  And if we are being honest, fault lines must be closed among Muslims, as well, as the divisions between Sunni and Shia have led to tragic violence, particularly in Iraq.\\nFreedom of religion is central to the ability of peoples to live together.  We must always examine the ways in which we protect it.  For instance, in the United States, rules on charitable giving have made it harder for Muslims to fulfill their religious obligation.  That\\'s why I\\'m committed to working with American Muslims to ensure that they can fulfill zakat. \\nLikewise, it is important for Western countries to avoid impeding Muslim citizens from practicing religion as they see fit -- for instance, by dictating what clothes a Muslim woman should wear.  We can\\'t disguise hostility towards any religion behind the pretence of liberalism.\\n \\nIn fact, faith should bring us together.  And that\\'s why we\\'re forging service projects in America to bring together Christians, Muslims, and Jews.  That\\'s why we welcome efforts like Saudi Arabian King Abdullah\\'s interfaith dialogue and Turkey\\'s leadership in the Alliance of Civilizations.  Around the world, we can turn dialogue into interfaith service, so bridges between peoples lead to action -- whether it is combating malaria in Africa, or providing relief after a natural disaster. \\nThe sixth issue -- the sixth issue that I want to address is women\\'s rights.  (Applause.)  I know –- I know -- and you can tell from this audience, that there is a healthy debate about this issue.  I reject the view of some in the West that a woman who chooses to cover her hair is somehow less equal, but I do believe that a woman who is denied an education is denied equality.  (Applause.)  And it is no coincidence that countries where women are well educated are far more likely to be prosperous.\\nNow, let me be clear:  Issues of women\\'s equality are by no means simply an issue for Islam.  In Turkey, Pakistan, Bangladesh, Indonesia, we\\'ve seen Muslim-majority countries elect a woman to lead.  Meanwhile, the struggle for women\\'s equality continues in many aspects of American life, and in countries around the world.\\nI am convinced that our daughters can contribute just as much to society as our sons.  (Applause.)  Our common prosperity will be advanced by allowing all humanity -- men and women -- to reach their full potential.  I do not believe that women must make the same choices as men in order to be equal, and I respect those women who choose to live their lives in traditional roles. But it should be their choice.  And that is why the United States will partner with any Muslim-majority country to support expanded literacy for girls, and to help young women pursue employment through micro-financing that helps people live their dreams.  (Applause.)\\nFinally, I want to discuss economic development and opportunity.\\nI know that for many, the face of globalization is contradictory.  The Internet and television can bring knowledge and information, but also offensive sexuality and mindless violence into the home.  Trade can bring new wealth and opportunities, but also huge disruptions and change in communities.  In all nations -- including America -- this change can bring fear.  Fear that because of modernity we lose control over our economic choices, our politics, and most importantly our identities -- those things we most cherish about our communities, our families, our traditions, and our faith. \\nBut I also know that human progress cannot be denied.  There need not be contradictions between development and tradition. Countries like Japan and South Korea grew their economies enormously while maintaining distinct cultures.  The same is true for the astonishing progress within Muslim-majority countries from Kuala Lumpur to Dubai.  In ancient times and in our times, Muslim communities have been at the forefront of innovation and education.\\n\\nAnd this is important because no development strategy can be based only upon what comes out of the ground, nor can it be sustained while young people are out of work.  Many Gulf states have enjoyed great wealth as a consequence of oil, and some are beginning to focus it on broader development.  But all of us must recognize that education and innovation will be the currency of the 21st century -- (applause) -- and in too many Muslim communities, there remains underinvestment in these areas.  I\\'m emphasizing such investment within my own country.  And while America in the past has focused on oil and gas when it comes to this part of the world, we now seek a broader engagement.\\nOn education, we will expand exchange programs, and increase scholarships, like the one that brought my father to America.  (Applause.)  At the same time, we will encourage more Americans to study in Muslim communities.  And we will match promising Muslim students with internships in America; invest in online learning for teachers and children around the world; and create a new online network, so a young person in Kansas can communicate instantly with a young person in Cairo.\\nOn economic development, we will create a new corps of business volunteers to partner with counterparts in Muslim-majority countries.  And I will host a Summit on Entrepreneurship this year to identify how we can deepen ties between business leaders, foundations and social entrepreneurs in the United States and Muslim communities around the world.\\nOn science and technology, we will launch a new fund to support technological development in Muslim-majority countries, and to help transfer ideas to the marketplace so they can create more jobs.  We\\'ll open centers of scientific excellence in Africa, the Middle East and Southeast Asia, and appoint new science envoys to collaborate on programs that develop new sources of energy, create green jobs, digitize records, clean water, grow new crops.  Today I\\'m announcing a new global effort with the Organization of the Islamic Conference to eradicate polio.  And we will also expand partnerships with Muslim communities to promote child and maternal health.\\nAll these things must be done in partnership.  Americans are ready to join with citizens and governments; community organizations, religious leaders, and businesses in Muslim communities around the world to help our people pursue a better life.\\nThe issues that I have described will not be easy to address.  But we have a responsibility to join together on behalf of the world that we seek -- a world where extremists no longer threaten our people, and American troops have come home; a world where Israelis and Palestinians are each secure in a state of their own, and nuclear energy is used for peaceful purposes; a world where governments serve their citizens, and the rights of all God\\'s children are respected.  Those are mutual interests.  That is the world we seek.  But we can only achieve it together.\\nI know there are many -- Muslim and non-Muslim -- who question whether we can forge this new beginning.  Some are eager to stoke the flames of division, and to stand in the way of progress.  Some suggest that it isn\\'t worth the effort -- that we are fated to disagree, and civilizations are doomed to clash. Many more are simply skeptical that real change can occur.  There\\'s so much fear, so much mistrust that has built up over the years.  But if we choose to be bound by the past, we will never move forward.  And I want to particularly say this to young people of every faith, in every country -- you, more than anyone, have the ability to reimagine the world, to remake this world.\\nAll of us share this world for but a brief moment in time. The question is whether we spend that time focused on what pushes us apart, or whether we commit ourselves to an effort -- a sustained effort -- to find common ground, to focus on the future we seek for our children, and to respect the dignity of all human beings.\\nIt\\'s easier to start wars than to end them.  It\\'s easier to blame others than to look inward.  It\\'s easier to see what is different about someone than to find the things we share.  But we should choose the right path, not just the easy path.  There\\'s one rule that lies at the heart of every religion -- that we do unto others as we would have them do unto us.  (Applause.)  This truth transcends nations and peoples -- a belief that isn\\'t new; that isn\\'t black or white or brown; that isn\\'t Christian or Muslim or Jew.  It\\'s a belief that pulsed in the cradle of civilization, and that still beats in the hearts of billions around the world.  It\\'s a faith in other people, and it\\'s what brought me here today.\\nWe have the power to make the world we seek, but only if we have the courage to make a new beginning, keeping in mind what has been written.\\nThe Holy Koran tells us:  \"O mankind!  We have created you male and a female; and we have made you into nations and tribes so that you may know one another.\"\\nThe Talmud tells us:  \"The whole of the Torah is for the purpose of promoting peace.\"\\nThe Holy Bible tells us:  \"Blessed are the peacemakers, for they shall be called sons of God.\"  (Applause.)\\nThe people of the world can live together in peace.  We know that is God\\'s vision.  Now that must be our work here on Earth.\\nThank you.  And may God\\'s peace be upon you.  Thank you very much.  Thank you.  (Applause.)\\nEND        \\n2:05 P.M. (Local)'"
            ]
          },
          "execution_count": 13,
          "metadata": {},
          "output_type": "execute_result"
        }
      ],
      "source": [
        "import codecs\n",
        "obama_codecs = codecs.open(\"Data\\obamaincairo.txt\", mode = \"r\", encoding=\"utf-8\")\n",
        "obama_codecs = obama_codecs.read()\n",
        "obama_codecs"
      ]
    },
    {
      "cell_type": "markdown",
      "metadata": {
        "id": "nQxV5kTWwWn0"
      },
      "source": [
        "## Context manager\n",
        "\n",
        "use this instead open and close\n",
        "\n"
      ]
    },
    {
      "cell_type": "code",
      "execution_count": 15,
      "metadata": {
        "id": "0djd9oiYwWn0"
      },
      "outputs": [
        {
          "name": "stdout",
          "output_type": "stream",
          "text": [
            "I am happy to join with you today in what will go down in history as the greatest demonstration for freedom in the history of our nation.\n",
            "\n",
            "Five score years ago, a great American, in whose symbolic shadow we stand today, signed the Emancipation Proclamation. This momentous decree came as a great beacon light of hope to millions of Negro slaves who had been seared in the flames of withering injustice. It came as a joyous daybreak to end the long night of their captivity.\n",
            "\n",
            "But one hundred years later, the Negro still is not free. One hundred years later, the life of the Negro is still sadly crippled by the manacles of segregation and the chains of discrimination. One hundred years later, the Negro lives on a lonely island of poverty in the midst of a vast ocean of material prosperity. One hundred years later, the Negro is still languished in the corners of American society and finds himself an exile in his own land. And so we've come here today to dramatize a shameful condition.\n",
            "\n",
            "In a sense we've come to our nation's capital to cash a check. When the architects of our republic wrote the magnificent words of the Constitution and the Declaration of Independence, they were signing a promissory note to which every American was to fall heir. This note was a promise that all men, yes, black men as well as white men, would be guaranteed the \"unalienable Rights\" of \"Life, Liberty and the pursuit of Happiness.\" It is obvious today that America has defaulted on this promissory note, insofar as her citizens of color are concerned. Instead of honoring this sacred obligation, America has given the Negro people a bad check, a check which has come back marked \"insufficient funds.\"\n",
            "\n",
            "But we refuse to believe that the bank of justice is bankrupt. We refuse to believe that there are insufficient funds in the great vaults of opportunity of this nation. And so, we've come to cash this check, a check that will give us upon demand the riches of freedom and the security of justice.\n",
            "\n",
            "We have also come to this hallowed spot to remind America of the fierce urgency of Now. This is no time to engage in the luxury of cooling off or to take the tranquilizing drug of gradualism. Now is the time to make real the promises of democracy. Now is the time to rise from the dark and desolate valley of segregation to the sunlit path of racial justice. Now is the time to lift our nation from the quicksands of racial injustice to the solid rock of brotherhood. Now is the time to make justice a reality for all of God's children.\n",
            "\n",
            "It would be fatal for the nation to overlook the urgency of the moment. This sweltering summer of the Negro's legitimate discontent will not pass until there is an invigorating autumn of freedom and equality. Nineteen sixty-three is not an end, but a beginning. And those who hope that the Negro needed to blow off steam and will now be content will have a rude awakening if the nation returns to business as usual. And there will be neither rest nor tranquility in America until the Negro is granted his citizenship rights. The whirlwinds of revolt will continue to shake the foundations of our nation until the bright day of justice emerges.\n",
            "\n",
            "But there is something that I must say to my people, who stand on the warm threshold which leads into the palace of justice: In the process of gaining our rightful place, we must not be guilty of wrongful deeds. Let us not seek to satisfy our thirst for freedom by drinking from the cup of bitterness and hatred. We must forever conduct our struggle on the high plane of dignity and discipline. We must not allow our creative protest to degenerate into physical violence. Again and again, we must rise to the majestic heights of meeting physical force with soul force.\n",
            "\n",
            "The marvelous new militancy which has engulfed the Negro community must not lead us to a distrust of all white people, for many of our white brothers, as evidenced by their presence here today, have come to realize that their destiny is tied up with our destiny. And they have come to realize that their freedom is inextricably bound to our freedom.\n",
            "\n",
            "We cannot walk alone.\n",
            "\n",
            "And as we walk, we must make the pledge that we shall always march ahead.\n",
            "\n",
            "We cannot turn back.\n",
            "\n",
            "There are those who are asking the devotees of civil rights, \"When will you be satisfied?\" We can never be satisfied as long as the Negro is the victim of the unspeakable horrors of police brutality. We can never be satisfied as long as our bodies, heavy with the fatigue of travel, cannot gain lodging in the motels of the highways and the hotels of the cities. **We cannot be satisfied as long as the negro's basic mobility is from a smaller ghetto to a larger one. We can never be satisfied as long as our children are stripped of their self-hood and robbed of their dignity by signs stating: \"For Whites Only.\"** We cannot be satisfied as long as a Negro in Mississippi cannot vote and a Negro in New York believes he has nothing for which to vote. No, no, we are not satisfied, and we will not be satisfied until \"justice rolls down like waters, and righteousness like a mighty stream.\"1\n",
            "\n",
            "I am not unmindful that some of you have come here out of great trials and tribulations. Some of you have come fresh from narrow jail cells. And some of you have come from areas where your quest -- quest for freedom left you battered by the storms of persecution and staggered by the winds of police brutality. You have been the veterans of creative suffering. Continue to work with the faith that unearned suffering is redemptive. Go back to Mississippi, go back to Alabama, go back to South Carolina, go back to Georgia, go back to Louisiana, go back to the slums and ghettos of our northern cities, knowing that somehow this situation can and will be changed.\n",
            "\n",
            "Let us not wallow in the valley of despair, I say to you today, my friends.\n",
            "\n",
            "And so even though we face the difficulties of today and tomorrow, I still have a dream. It is a dream deeply rooted in the American dream.\n",
            "\n",
            "I have a dream that one day this nation will rise up and live out the true meaning of its creed: \"We hold these truths to be self-evident, that all men are created equal.\"\n",
            "\n",
            "I have a dream that one day on the red hills of Georgia, the sons of former slaves and the sons of former slave owners will be able to sit down together at the table of brotherhood.\n",
            "\n",
            "I have a dream that one day even the state of Mississippi, a state sweltering with the heat of injustice, sweltering with the heat of oppression, will be transformed into an oasis of freedom and justice.\n",
            "\n",
            "I have a dream that my four little children will one day live in a nation where they will not be judged by the color of their skin but by the content of their character.\n",
            "\n",
            "I have a dream today!\n",
            "\n",
            "I have a dream that one day, down in Alabama, with its vicious racists, with its governor having his lips dripping with the words of \"interposition\" and \"nullification\" -- one day right there in Alabama little black boys and black girls will be able to join hands with little white boys and white girls as sisters and brothers.\n",
            "\n",
            "I have a dream today!\n",
            "\n",
            "I have a dream that one day every valley shall be exalted, and every hill and mountain shall be made low, the rough places will be made plain, and the crooked places will be made straight; \"and the glory of the Lord shall be revealed and all flesh shall see it together.\"2\n",
            "\n",
            "This is our hope, and this is the faith that I go back to the South with.\n",
            "\n",
            "With this faith, we will be able to hew out of the mountain of despair a stone of hope. With this faith, we will be able to transform the jangling discords of our nation into a beautiful symphony of brotherhood. With this faith, we will be able to work together, to pray together, to struggle together, to go to jail together, to stand up for freedom together, knowing that we will be free one day.\n",
            "\n",
            "And this will be the day -- this will be the day when all of God's children will be able to sing with new meaning:\n",
            "\n",
            "My country 'tis of thee, sweet land of liberty, of thee I sing. Land where my fathers died, land of the Pilgrim's pride,    From every mountainside, let freedom ring!\n",
            "\n",
            "And if America is to be a great nation, this must become true.\n",
            "\n",
            "And so let freedom ring from the prodigious hilltops of New Hampshire.\n",
            "\n",
            "Let freedom ring from the mighty mountains of New York.\n",
            "\n",
            "Let freedom ring from the heightening Alleghenies of Pennsylvania.\n",
            "\n",
            "Let freedom ring from the snow-capped Rockies of Colorado.\n",
            "\n",
            "Let freedom ring from the curvaceous slopes of California.\n",
            "\n",
            "But not only that:\n",
            "\n",
            "Let freedom ring from Stone Mountain of Georgia.\n",
            "\n",
            "Let freedom ring from Lookout Mountain of Tennessee.\n",
            "\n",
            "Let freedom ring from every hill and molehill of Mississippi.\n",
            "\n",
            "From every mountainside, let freedom ring\n",
            "\n",
            "And when this happens, and when we allow freedom ring, when we let it ring from every village and every hamlet, from every state and every city, we will be able to speed up that day when all of God's children, black men and white men, Jews and Gentiles, Protestants and Catholics, will be able to join hands and sing in the words of the old Negro spiritual:\n",
            "\n",
            "Free at last! Free at last!\n",
            "\n",
            "Thank God Almighty, we are free at last!3\n"
          ]
        }
      ],
      "source": [
        "#here we define the filepath first\n",
        "filepath = \"Data\\ihaveadream.txt\"\n",
        "\n",
        "#we use read mode as we have learned before\n",
        "with open(filepath, \"r\") as infile:\n",
        "    content = infile.read()\n",
        "    \n",
        "print(content)"
      ]
    },
    {
      "cell_type": "markdown",
      "metadata": {
        "id": "aGomnKvdwWn2"
      },
      "source": [
        "### Lets try opening another file"
      ]
    },
    {
      "cell_type": "code",
      "execution_count": 17,
      "metadata": {
        "id": "3eKDDdaxIsXL"
      },
      "outputs": [
        {
          "data": {
            "text/plain": [
              "'\"http://de.sputniknews.compolitik/20160107306965193-Lindner-Merkel-Migrationspolitik-Chaos-Einwanderungsgesetz\"\\t\"http://web.archive.org/web/20170227192503/https://de.sputniknews.com/amp/politik/20160107306965193-Lindner-Merkel-Migrationspolitik-Chaos-Einwanderungsgesetz/\"\\t20160107\\t\"FDP-Chef Lindner: Merkels Flüchtlingspolitik führt Europa ins Chaos\"\\t\"Der Satz „Wir schaffen das“ der Bundeskanzlerin ersetze kein Regierungshandeln, so Lindner. Seiner Meinung nach ist ein „rationales, humanitäres, europäisch abgestimmtes Einwanderungsgesetz“ nötig, welches eine systematisierte Registrierung von Flüchtlingen und deren legale Integration ermöglichen würde. Die CDU/CSU-Politiker hatten von Merkel wiederholt gefordert, den Migranten-Zustrom zu begrenzen. Doch die Kanzlerin hat sich bislang geweigert, eine Obergrenze für Flüchtlinge festzulegen, was die Grenzschließung für neu ankommende Migranten bedeuten würde.\"\\t\"OVER-THRESHOLD\"\\t\"flüchtlingen migranten flüchtlinge\"\\t70\\t0.572646110198091\\n\"http://de.sputniknews.com/panorama/20150210/301052523.html\"\\t\"http://web.archive.org/web/20150315163311/http://de.sputniknews.com/panorama/20150210/301052523.html\"\\t20150210\\t\"Experte: Rund 1,3 Millionen wehrpflichtige Ukrainer nach Russland geflüchtet\"\\t\"In letzter Zeit sei knapp einer halben Million ukrainischer Bürger der Flüchtlingsstatus zuerkannt beziehungsweise befristetes Asyl gewährt worden. „Russland hat keine Pläne, die Grenze für andere zu schließen.“ Zugleich räumte Patruschew erhebliche Probleme bei der Unterbringung immer wieder eintreffender Flüchtlinge ein.\"\\t\"OVER-THRESHOLD\"\\t\"flüchtlingsstatus asyl flüchtlinge\"\\t43\\t0.549349509077681\\n\"http://de.sputniknews.compolitik/20181117322994742-deutschland-spd-nahles-hartz-iv\"\\t\"http://web.archive.org/web/20181117160304/https://de.sputniknews.com/amp/politik/20181117322994742-deutschland-spd-nahles-hartz-iv/\"\\t20181117\\t\"So präzisiert Nahles ihre Idee für Hartz IV-Alternative\"\\t\"{                    \\\\\"vars\\\\\": {                        \\\\\"counterId\\\\\": \\\\\"27090206\\\\\"                    }                }                                    {                            \\\\\"requests\\\\\": {                                \\\\\"pageview\\\\\": \\\\\"http://web.archive.org/web/20181117160304/https://counter.yadro.ru/hit;RS_Total/Sputniki_Total/Sputniknews?u${ampdocUrl};r${documentReferrer};s${screenWidth}*${screenHeight}*32;h${title};${random}\\\\\"                            },                            \\\\\"triggers\\\\\": {                                \\\\\"track pageview\\\\\": {                                    \\\\\"on\\\\\": \\\\\"visible\\\\\",                                    \\\\\"request\\\\\": \\\\\"pageview\\\\\"                                }                            }                        }                    Alle NachrichtenPolitik                        ©                    REUTERS/ Hannibal HanschkeSo präzisiert Nahles ihre Idee für Hartz IV-Alternative12:51 17.11.2018(aktualisiert  13:05 17.11.2018) Zum KurzlinkDie SPD-Parteichefin Andrea Nahles hat in einem Gastbeitrag für die „Frankfurter Allgemeine Zeitung“ eine Ablösung des Hartz-IV-Systems durch höhere Mindestlöhne, Zuschüsse zu Sozialabgaben und Steuerboni gefordert.Beim Debattencamp in\\xa0Berlin vor einer Woche kündigte Nahles einen Komplettumbau des Sozialstaates sowie die Abschaffung von Hartz IV an, dessen monatlicher Satz 416 Euro beträgt. Nun konkretisiert sie ihre Vorstellungen: Viel weniger Menschen als heute sollen auf Grundsicherung angewiesen sein – es sei immer günstiger, Arbeit anstatt Arbeitslosigkeit zu finanzieren.>>>Weitere Sputnik-Artikel: EXKLUSIV: „Mein Schmerzpunkt“ – Ex-Partei-Chef übt Kritik an Politik der Grünen<<<                        ©                    AFP 2018/ DPA/ Arne Dedert„So verhindert Politik bedingungsloses Grundeinkommen“: Ex-Grünen-Chef – EXKLUSIVVor allem die Zahl von zwei Millionen Kindern, die in Hartz-IV-Haushalten lebten, müsse verringert werden. „Diese Erfahrung, ein ‚Hartz-IV-Kind‘ zu sein, prägt fürs Leben. Wir brauchen daher eine eigenständige Kindergrundsicherung, die Kinder aus der Sozialhilfe holt und Teilhabe schafft“, zitieren Nahles deutsche Medien.Ein besseres Wohngeld könne zudem verhindern, „dass Menschen angesichts explodierender Mieten in\\xa0die Grundsicherung getrieben werden“. Nahles kritisierte außerdem das in\\xa0der SPD-Kanzlerschaft vom Altkanzler Gerhard Schröder eingeführte System der Zusammenlegung von Arbeitslosen- und Sozialhilfe und forderte weniger Bürokratie und Härte.>>>Weitere Sputnik-Artikel: Schon wieder Bulgarien – Illegale Migration durch tausendfachen Verkauf von EU-Pässen<<<                        ©                    AP Photo/ Martin Meissner„Wir werden Hartz IV hinter uns lassen“: Nahles verspricht Komplettumbau des Sozialstaates„Zum Symbol für das Misstrauen des Staates gegenüber den Grundsicherungsbeziehern sind die Sanktionen geworden. Sie wirken, als würde den Leistungsbeziehern von vornherein unterstellt, betrügen zu wollen“.Der Bundeswirtschaftsminister, Peter Altmaier, wies die SPD-Forderungen nach einer Hartz-IV-Abschaffung in\\xa0einem Gespräch mit der Zeitung „Die Welt“ zurück.„Wir dürfen und werden Hartz IV nicht abschaffen. Solche Vorschläge sind hoch gefährlich und schaden der Zukunft unseres Landes“, zitieren deutsche Medien den CDU-Politiker.Diskussion\"\\t\"OVER-THRESHOLD\"\\t\"migration\"\\t884\\t0.549179266004771\\n\"http://de.sputniknews.compolitik/20181109322907058-trump-usa-asyl\"\\t\"http://web.archive.org/web/20181123020955/https://de.sputniknews.com/amp/politik/20181109322907058-trump-usa-asyl/\"\\t20181109\\t\"Trump beschränkt drastisch Asylgewährung für illegale Migranten\"\\t\"{                    \\\\\"vars\\\\\": {                        \\\\\"counterId\\\\\": \\\\\"27090206\\\\\"                    }                }                                    {                            \\\\\"requests\\\\\": {                                \\\\\"pageview\\\\\": \\\\\"http://web.archive.org/web/20181123020955/https://counter.yadro.ru/hit;RS_Total/Sputniki_Total/Sputniknews?u${ampdocUrl};r${documentReferrer};s${screenWidth}*${screenHeight}*32;h${title};${random}\\\\\"                            },                            \\\\\"triggers\\\\\": {                                \\\\\"track pageview\\\\\": {                                    \\\\\"on\\\\\": \\\\\"visible\\\\\",                                    \\\\\"request\\\\\": \\\\\"pageview\\\\\"                                }                            }                        }                    Alle NachrichtenPolitik                        ©                    REUTERS/ Jose CabezasTrump beschränkt drastisch Asylgewährung für illegale Migranten15:43 09.11.2018(aktualisiert  17:36 09.11.2018) Zum KurzlinkUS-Präsident Donald Trump hat die Asylgewährung für illegale Migranten drastisch eingeschränkt. Das teilte der Staatschef vor der Presse mit.Wie Trump vor Journalisten sagte, hat er „gerade“ ein entsprechendes Dekret unterzeichnet. Demnach sollen nur noch Menschen Asyl beantragen können, die an einem offiziellen Grenzübergang in\\xa0die USA einreisen. Illegal Eingereiste würden kein Asyl beantragen dürfen.>>> Weitere Sputnik-Artikel: Trump erklärt, warum USA Migranten brauchen                        ©                    REUTERS/ Leah MillisTrump droht mit Schließung der Grenze zu MexikoDie Verweigerung des Rechts auf einen Asylantrag für illegale Migranten sei zeitweilig und betreffe die Ausländer, die die südliche US-Grenze zu Mexiko gesetzwidrig überschreiten würden, geht aus Trumps Proklamation hervor.„Ich treffe befristete Maßnahmen zum Einreisestopp für Ausländer, um das Problem der großen Anzahl von Migranten zu lösen, die über Mexiko kommen, um in\\xa0unser Land ohne richtige Dokumente einzureisen“.>>> Weitere Sputnik-Artikel: Bundestag beschließt Verschärfung des Asylgesetzes                        ©                    AFP 2018/ GERARD JULIENMauer reloaded: EU-Staaten errichten sechs neue „Berliner Mauern“Ein Einwanderer könne dennoch Asyl beantragen, wenn er sich an die US-Grenzbehörden wende, statt zu versuchen, in\\xa0die USA illegal zu gelangen.Laut Trump haben die ankommenden Migranten in\\xa0der Regel keine legalen Gründe, Asyl zu beantragen. Die Ankunft von einer großen Anzahl von Ausländern werde das US-Immigrationssystem überlasten und zur „Freilassung\\\\\" von Tausenden Ausländern innerhalb der USA“ führen.Zuvor hatte das US-Verteidigungsministerium seine Bereitschaft erklärt, bis zu 7000 Militärangehörige an der Grenze zwischen den USA und Mexiko zu stationieren. Trump verkündete, bis zu 15.000 Soldaten an die Grenze zu schicken, wo sich bereits 2100 Mitglieder der Nationalgarde der Vereinigten Staaten befinden.>>> Weitere Sputnik-Artikel: „Kein Menschenrecht auf Migration“: Österreich verlässt UN-Migrationspakt                        ©                    REUTERS/ Carlos Garcia RawlinsMigranten vs. US-Armee: Wer sind die Drahtzieher der Flüchtlingskarawane?Die Maßnahmen werden getroffen, weil eine Karawane mit Tausenden Menschen aus zentralamerikanischen Ländern sich den USA über das Territorium von Mexiko nähert. Weitere zwei Migrantengruppen bewegen sich aus Salvador in\\xa0Richtung USA.Nach Informationen der Nachrichtenagentur France-Presse bezeichnete die Bürgerrechtsorganisation American Civil Liberties Union die Pläne für eine Verschärfung des Asylrechts am Donnerstag als „illegal“. Das US-Recht erlaube Menschen einen Asylantrag unabhängig davon zu stellen, ob sie sich an einem Grenzübergang befinden oder nicht. Dies könne nicht durch ein Dekret „umgangen“ werden.Diskussion\"\\t\"OVER-THRESHOLD\"\\t\"einwanderer migranten asyl\"\\t998\\t0.548636683559343\\n\"http://de.sputniknews.compolitik/20160306308285650-oesterreich-draengt-auf-deutsches-fluechtlingskontingent\"\\t\"http://web.archive.org/web/20181126055753/https://de.sputniknews.com/amp/politik/20160306308285650-oesterreich-draengt-auf-deutsches-fluechtlingskontingent/\"\\t20160306\\t\"Österreich drängt auf deutsches Flüchtlingskontingent\"\\t\"{                    \\\\\"vars\\\\\": {                        \\\\\"counterId\\\\\": \\\\\"27090206\\\\\"                    }                }                                    {                            \\\\\"requests\\\\\": {                                \\\\\"pageview\\\\\": \\\\\"http://web.archive.org/web/20181126055753/https://counter.yadro.ru/hit;RS_Total/Sputniki_Total/Sputniknews?u${ampdocUrl};r${documentReferrer};s${screenWidth}*${screenHeight}*32;h${title};${random}\\\\\"                            },                            \\\\\"triggers\\\\\": {                                \\\\\"track pageview\\\\\": {                                    \\\\\"on\\\\\": \\\\\"visible\\\\\",                                    \\\\\"request\\\\\": \\\\\"pageview\\\\\"                                }                            }                        }                    Alle NachrichtenPolitik                        ©                    AP Photo/ Boris Grdanoski Österreich drängt auf deutsches Flüchtlingskontingent09:56 06.03.2016(aktualisiert  09:57 06.03.2016) Zum KurzlinkDer österreichische Bundeskanzler Werner Faymann hat von Deutschland gefordert, eine Flüchtlingsquote von 400.000 Personen im Jahr einzuführen. Wenn alle EU-Länder dem Beispiel Österreichs folgen würden, könnte die EU, so Faymann, zwei Millionen Flüchtlinge aufnehmen.Im Jahr 2015 hatten etwa 90.000 Menschen in Österreich Asyl beantragt. 2016 will die Regierung die Zahl der positiv beschiedenen Asylanträge auf 37.500 beschränken.                        ©                    AFP 2018/ JOHN MACDOUGALLBundeskanzler Faymann: Merkel sollte Tageskontingente für Flüchtlinge einführen„Deutschland muss endlich Klarheit schaffen, sonst werden weiterhin Flüchtlinge Richtung Deutschland losziehen … Nimmt man den österreichischen Richtwert her, könnte Deutschland rund 400.000 Flüchtlinge als Kontingent nennen“, sagte Faymann im Gespräch mit der Zeitung Kurier.Im Jahr 2015 sind nach Angaben der Agentur Frontex rund 1,8 Million Migranten nach Europa gekommen. Experten zufolge handelt es sich um die größte Flüchtlingskrise seit dem Zweiten Weltkrieg.Diskussion\"\\t\"OVER-THRESHOLD\"\\t\"asyl flüchtlinge migranten asylanträge flüchtlingskrise\"\\t699\\t0.547926894577753\\n\"http://de.sputniknews.compolitik/20151016304983995-warschau-gegen-merkels-fluechtlingsquote\"\\t\"http://web.archive.org/web/20181123212339/https://de.sputniknews.com/amp/politik/20151016304983995-warschau-gegen-merkels-fluechtlingsquote/\"\\t20151016\\t\"Migrationskrise: Warschau wehrt sich gegen Merkels Flüchtlingsquote\"\\t\"{                    \\\\\"vars\\\\\": {                        \\\\\"counterId\\\\\": \\\\\"27090206\\\\\"                    }                }                                    {                            \\\\\"requests\\\\\": {                                \\\\\"pageview\\\\\": \\\\\"http://web.archive.org/web/20181123212339/https://counter.yadro.ru/hit;RS_Total/Sputniki_Total/Sputniknews?u${ampdocUrl};r${documentReferrer};s${screenWidth}*${screenHeight}*32;h${title};${random}\\\\\"                            },                            \\\\\"triggers\\\\\": {                                \\\\\"track pageview\\\\\": {                                    \\\\\"on\\\\\": \\\\\"visible\\\\\",                                    \\\\\"request\\\\\": \\\\\"pageview\\\\\"                                }                            }                        }                    Alle NachrichtenPolitik                        ©                    REUTERS/ Fabrizio Bensch/FilesMigrationskrise: Warschau wehrt sich gegen Merkels Flüchtlingsquote15:10 16.10.2015Zum KurzlinkPolen tritt scharf gegen die von Angela Merkel vorgeschlagene, permanente und verpflichtende Verteilungsquote von Flüchtlingen unter EU-Ländern auf und wird dabei nicht nachgeben, wie Polens Außenminister Grzegorz Schetyna gegenüber dem Radiosender RMF FM erklärte.                        ©                    AFP 2018/ Frederick FlorinFlüchtlingskrise: Merkel und Hollande werben gemeinsam für Solidarität in EU“Wir werden nicht nachgeben. Wir bilden eine entscheidende Mehrheit in\\xa0der EU”, unterstrich Schetyna.Dem Außenminister zufolge sei die Flüchtlingssituation ein Problem der deutschen Innenpolitik, „deswegen werden stets Versuche unternommen, ein besseres Bild und Image zu schaffen“. „Dies beeinflusst jedoch keinesfalls europäische Entscheidungen“, so Schetyna weiter.„Wenn Europa sagt, dass wir sie (Flüchtlinge – d. Red.) weiterhin unter uns aufteilen und uns Quoten neuer Migrationsströme aufzwingen werden, wird es eine Katastrophe geben. Wir werden dem nicht zustimmen“, erklärte Polens Minister.                        ©                    REUTERS/ Kai PfaffenbachFlüchtlingskrise: Osteuropäer lehnen sich gegen EU-Kurs aufSchetyna ist der Ansicht, dass Europa in\\xa0erster Linie „eine Entscheidung über den Schutz von Außengrenzen sowie über Verteilungszentren, die politische Migranten aus dem Nahen Osten registrieren müssen, treffen, nicht aber einen automatischen Verteilungsmechanismus einführen soll“. Letzteren bezeichnete der Minister als Unsinn.Allein bis zum September sind laut der EU-Grenzschutzagentur „Frontex“ rund 630.000 Flüchtlinge in\\xa0die EU gekommen. Die EU-Kommission spricht von der schlimmsten Migrationskrise seit dem Zweiten Weltkrieg.Diskussion\"\\t\"OVER-THRESHOLD\"\\t\"flüchtlingen migrationskrise migranten flüchtlinge\"\\t805\\t0.544957398675781\\n\"http://de.sputniknews.comkarikatur/20151020305076281\"\\t\"http://web.archive.org/web/20181201153825/https://de.sputniknews.com/amp/karikatur/20151020305076281/\"\\t20151020\\t\"Flüchtlingskrise: Ist Abriegeln eine Lösung?\"\\t\"{                    \\\\\"vars\\\\\": {                        \\\\\"counterId\\\\\": \\\\\"27090206\\\\\"                    }                }                                    {                            \\\\\"requests\\\\\": {                                \\\\\"pageview\\\\\": \\\\\"http://web.archive.org/web/20181201153825/https://counter.yadro.ru/hit;RS_Total/Sputniki_Total/Sputniknews?u${ampdocUrl};r${documentReferrer};s${screenWidth}*${screenHeight}*32;h${title};${random}\\\\\"                            },                            \\\\\"triggers\\\\\": {                                \\\\\"track pageview\\\\\": {                                    \\\\\"on\\\\\": \\\\\"visible\\\\\",                                    \\\\\"request\\\\\": \\\\\"pageview\\\\\"                                }                            }                        }                    Alle NachrichtenKarikaturFlüchtlingskrise: Ist Abriegeln eine Lösung?18:18 20.10.2015Zum KurzlinkThemen: Migrationsproblem in EuropaCSU-Politiker Markus Söder hat kürzlich ins Gespräch gebracht, die deutsche Grenze mit Zäunen abzusichern. Wird Bundeskanzlerin Angela Merkel zum Schließen der Grenzen gezwungen sein? Hält eine strengere Asylpolitik Flüchtlinge auf? Lassen sich Menschen, die vor Fassbomben fliehen, von ein paar Zäunen stoppen? Fragen, Fragen, Fragen...Diskussion\"\\t\"OVER-THRESHOLD\"\\t\"migrationsproblem asylpolitik flüchtlinge\"\\t522\\t0.544157704714578\\n\"http://de.sputniknews.com/german.ruvr.ru/news/2014_01_06/Gro-britannien-will-EU-Freizugigkeit-verhindern-2651\"\\t\"http://web.archive.org/web/20150726055154/http://de.sputniknews.com/german.ruvr.ru/news/2014_01_06/Gro-britannien-will-EU-Freizugigkeit-verhindern-2651/\"\\t20140106\\t\"Großbritannien will EU-Freizügigkeit verhindern\"\\t\"Foto: EPA STIMME RUSSLANDS Die Regierung Großbritanniens habe vor, eine Revision der EU-Mitgliedschaftsbedingungen von der EU zu erlangen und die Sperrmaßnahmen gegenüber EU-Migranten zu verteidigen, sagte der britische Regierungschef David Cameron. Cameron zufolge wolle er die allgemeinen Grundsätze der EU nicht in Zweifel ziehen, halte allerdings das Recht der Migranten auf hohes Arbeitslosengeld und kostenlose Medizin in Großbritannien für unfair. Ab dem 1. Januar gilt für Rumänien und Bulgarien eine uneingeschränkte Freizügigkeit. Einschätzungen zufolge muss Großbritannien mit mindestens 300.000 Einwanderern rechnen.\"\\t\"OVER-THRESHOLD\"\\t\"migranten\"\\t83\\t0.544009923707647\\n\"http://de.sputniknews.compolitik/20180813321937555-syrien-deutschland-fluechtlinge-rueckkehr-sanktionen\"\\t\"http://web.archive.org/web/20180813172522/https://de.sputniknews.com/amp/politik/20180813321937555-syrien-deutschland-fluechtlinge-rueckkehr-sanktionen/\"\\t20180813\\t\"Rückkehr von Flüchtlingen: Syrischer Minister appelliert an Deutschland\"\\t\"Der syrische Minister für lokale Verwaltung und Umwelt Hussein Makhlouf hat über Journalisten Deutschland zur Aufhebung der Sanktionen gegen Damaskus aufgerufen. Dies soll laut dem Politiker die Rückkehr der syrischen Flüchtlinge in ihre Heimat fördern. „Ich möchte mich über Sie an die deutsche Regierung wenden und bitten, die einseitigen Sanktionen gegen Syrien aufzuheben“, sagte Makhlouf sich an einen deutschen Journalisten wendend auf einer Pressekonferenz. Mehr zum Thema >>> UN-Flüchtlingskommissar tritt gegen Rückkehr von Flüchtlingen nach Syrien auf  Makhlouf, der auch Chef des syrischen Koordinierungsausschusses für Rückkehr der Flüchtlinge ist, betonte, im Fall einer Aufhebung der Sanktionen werde die Rückkehr der Flüchtlinge beschleunigt. Dies würde den Wideraufbau des Landes fördern. Mehr zum Thema >>> Russland forciert Rückkehr von Syrien-Flüchtlingen Zuvor hatte das russische Zentrum für Aufnahme, Verteilung und Unterbringung beim russischen Verteidigungsministerium mitgeteilt, mehr als 1,7 Millionen Syrer hätten den Wunsch geäußert, aus neun Gastländern in\\xa0ihre Heimat zurückzukehren. Die meisten Heimkehrwilligen halten sich jetzt im Libanon, in\\xa0der Türkei und in\\xa0Deutschland auf.\"\\t\"OVER-THRESHOLD\"\\t\"flüchtlingen flüchtlinge\"\\t163\\t0.543706912424414\\n\"http://de.sputniknews.compolitik/20170219314606917-usa-verschaerfen-asyl-recht\"\\t\"http://web.archive.org/web/20170324060955/https://de.sputniknews.com/amp/politik/20170219314606917-usa-verschaerfen-asyl-recht/\"\\t20170219\\t\"USA verschärfen Asyl-Recht\"\\t\"Nach dem US-Gesetz „Immigration and Nationality Act“ muss ein Asylbewerber seine „begründete Angst“ vor Verfolgung aufgrund seiner Rasse, Religion, Nationalität, Mitgliedschaft in\\xa0einer bestimmten sozialen Gruppe oder politischer Meinung nachweisen. Der Kampf gegen illegale Migration war eines der Hauptthemen der Wahlkampagne des US-Präsidenten Donald Trump. Das von Trump Ende Januar unterzeichnete Terrorschutzgesetz, welches Bürgern aus sieben vorwiegend muslimischen Ländern die Einreise in\\xa0die USA zeitweilig verwehrt, löste landesweit\\xa0 und international heftige Kritik bis hin zu Massenprotesten aus. \\xa0\"\\t\"OVER-THRESHOLD\"\\t\"migration asylbewerber\"\\t79\\t0.543062751396791\\n\"http://de.sputniknews.companorama/20151228306826925-daenemark-tritt-fuer-veraenderung-der-fluechtlingskonvention\"\\t\"http://web.archive.org/web/20181123231931/https://de.sputniknews.com/amp/panorama/20151228306826925-daenemark-tritt-fuer-veraenderung-der-fluechtlingskonvention/\"\\t20151228\\t\"Dänemark will die Flüchtlingskonvention ändern\"\\t\"{                    \\\\\"vars\\\\\": {                        \\\\\"counterId\\\\\": \\\\\"27090206\\\\\"                    }                }                                    {                            \\\\\"requests\\\\\": {                                \\\\\"pageview\\\\\": \\\\\"http://web.archive.org/web/20181123231931/https://counter.yadro.ru/hit;RS_Total/Sputniki_Total/Sputniknews?u${ampdocUrl};r${documentReferrer};s${screenWidth}*${screenHeight}*32;h${title};${random}\\\\\"                            },                            \\\\\"triggers\\\\\": {                                \\\\\"track pageview\\\\\": {                                    \\\\\"on\\\\\": \\\\\"visible\\\\\",                                    \\\\\"request\\\\\": \\\\\"pageview\\\\\"                                }                            }                        }                    Alle NachrichtenPanorama                        ©                    AP Photo/ Joachim LadefogdeDänemark will die Flüchtlingskonvention ändern14:44 28.12.2015(aktualisiert  16:32 28.12.2015) Zum KurzlinkDie Flüchtlingskrise hat Dänemark und Europa vor solche Herausforderungen gestellt, dass nun die UN-Flüchtlingskonvention von 1951 verändert werden muss, wie der dänische Regierungschef Lars Lökke Rasmussen dem Sender TV2 sagte.Wenn die Flüchtlingszahlen weiter ansteigen würden wie bisher, werde der Moment kommen, \\\\\"in dem wir über eine Anpassung der Spielregeln sprechen müssen\\\\\", sagte Rasmussen. Die Flüchtlingskonvention in\\xa0ihrer jetzigen Form entspreche nicht der heutigen globalisierten Welt.Die Konvention definiert den Begriff „Flüchtling“ und die Grundlagen, die für einen Asylantrag erforderlich sind. Einige Rechte, die Flüchtlinge genießen, gleichen denen der Bürger des Aufnahmestaates, andere – denen der Ausländer.                        ©                    REUTERS/ Michaela RehleDänemark besteht auf Konfiskationen: Flüchtlinge sollen Aufenthalt selber bezahlenAls die UN-Flüchtlingskonvention 1951 angenommen wurde, war Dänemark das erste Land, das sie unterzeichnet hat. Nun sei der Ministerpräsident der Auffassung, die von der Konvention auferlegten Verpflichtungen seien eine untragbare Bürde für Dänemark, schreibt die schwedische Zeitung Svenska Dagbladet.Eines der Probleme besteht laut Rasmussen darin, dass verschiedene Gruppen der Flüchtlinge verschiedene Regeln einhalten müssen. So gelten die verschärften Bedingungen für einen Familiennachzug nicht für alle. Die Fristen hängen davon ab, unter welchen Bedingungen das Asyl gewährt wurde.Die von Dänemark getroffenen Maßnahmen für die Reduzierung des Flüchtlingszustroms wirkten „inspirierend“ auf andere Staaten, so der dänische Ministerpräsident. Allerdings dürfe das Asylrecht als solches nicht abgeschafft werden. Dänemark habe nicht vor, alleine die Konvention außer Kraft zu setzen, Dänemark wolle gemeinsam mit anderen Staaten das System von innen verändern, erklärte Rasmussen. Eine der Forderungen könne sein, dass Flüchtlinge in\\xa0dem Land Asyl beantragen müssten, in\\xa0dem sie als erstes angekommen seien.                        ©                    AFP 2018/ Bulent KilicDänemark: Flüchtlinge mit mehr als 400 Euro werden zur Kasse gebetenMit Blick vor allem auf die syrischen Flüchtlinge fragte Ramussen: \\\\\"Wenn jemand, der Schutz vor Krieg sucht, zwei oder drei Jahre in\\xa0der Türkei gelebt hat, sollte er dann nach Europa gehen und dort Asyl beantragen?\\\\\" Die geltenden Regeln würden dies ermöglichen. \\\\\"Aber wir werden darüber eine Diskussion führen\\\\\", sagte er in\\xa0dem Fernsehinterview. In der Türkei leben nach Angaben Ankaras etwa zwei Millionen syrische Bürgerkriegsflüchtlinge.Das Wichtigste ist aus der Sicht des dänischen Politikers die Verständigung innerhalb Europas zu gewährleisten und eine einheitliche Sichtweise zu erarbeiten.„Dänemark kann nicht allein handeln, die anderen müssen auch teilnehmen. Ich kann doch ohne Zustimmung der anderen EU-Staaten das Ausweisungssystem nicht beschließen“, sagte Rasmussen.Diskussion\"\\t\"OVER-THRESHOLD\"\\t\"flüchtlingskrise asyl flüchtlinge\"\\t981\\t0.541940112273363\\n\"http://de.sputniknews.compolitik/20160614310604740-maas-polygamie-verbot\"\\t\"http://web.archive.org/web/20171008021814/https://de.sputniknews.com/amp/politik/20160614310604740-maas-polygamie-verbot/\"\\t20160614\\t\"Glaube darf nicht über Gesetz stehen: Bundesjustizminister will Polygamie verbieten\"\\t\"Bundesjustizminister Heiko Maas will Mehrfach-Ehen unter muslimischen Migranten in Deutschland grundsätzlich die Anerkennung verweigern. Auch eine Gesetzesverschärfung gegen Zwangsehen mit minderjährigen Kindern sei notwendig.  Der Bundesjustizminister will der Anerkennung dieser Praxis in\\xa0Deutschland nun ein Ende bereiten. „Jeder muss sich an Recht und Gesetz halten, egal ob er hier aufgewachsen oder neu bei uns ist“, so Maas gegenüber der „Bild“-Zeitung. „Niemand, der zu uns kommt, hat das Recht, seine kulturelle Verwurzelung oder seinen religiösen Glauben über unsere Gesetze zu stellen“, sagte Maas zu „Bild“. „Deshalb dürfen in\\xa0Deutschland keine Mehrfach-Ehen anerkannt werden.\\\\\" Auch Zwangsehen mit minderjährigen Migranten müssen Maas zufolge in\\xa0Deutschland komplett verboten werden. Dazu sei eine Gesetzesverschärfung notwendig, um Kinder zu schützen. „Wir müssen das sehr sorgfältig prüfen. Zwangsehen dürfen wir nicht dulden, erst recht nicht, wenn minderjährige Mädchen betroffen sind“, so Maas.\"\\t\"OVER-THRESHOLD\"\\t\"migranten\"\\t135\\t0.539771426513455\\n\"http://de.sputniknews.comgesellschaft/20181210323239903-menschenrechte-flucht-migration-pakt\"\\t\"http://web.archive.org/web/20181210233556/https://de.sputniknews.com/amp/gesellschaft/20181210323239903-menschenrechte-flucht-migration-pakt/\"\\t20181210\\t\"Gibt es ein Menschenrecht auf Migration?\"\\t\"{                    \\\\\"vars\\\\\": {                        \\\\\"counterId\\\\\": \\\\\"27090206\\\\\"                    }                }                                    {                            \\\\\"requests\\\\\": {                                \\\\\"pageview\\\\\": \\\\\"http://web.archive.org/web/20181210233556/https://counter.yadro.ru/hit;RS_Total/Sputniki_Total/Sputniknews?u${ampdocUrl};r${documentReferrer};s${screenWidth}*${screenHeight}*32;h${title};${random}\\\\\"                            },                            \\\\\"triggers\\\\\": {                                \\\\\"track pageview\\\\\": {                                    \\\\\"on\\\\\": \\\\\"visible\\\\\",                                    \\\\\"request\\\\\": \\\\\"pageview\\\\\"                                }                            }                        }                    Alle NachrichtenGesellschaft                        ©                    AP Photo/ Marko DrobnjakovicGibt es ein Menschenrecht auf Migration?20:01 10.12.2018Zum KurzlinkPaul LinkeMigration sei kein Menschenrecht, erklärte FPÖ-Chef Heinz-Christian Strache. Damit begründete er unter anderem den Rückzug Österreichs aus dem globalen Migrationspakt der Vereinten Nationen, der nun verabschiedet wurde. Hatte der österreichische Vizekanzler auch wirklich Recht? Zum 70. Jahrestag der UN-Menschenrechte klärt Sputnik auf.Am Montag feiert die Welt ein wichtiges Jubiläum. Die Menschenrechte werden 70 Jahre alt. Am 10. Dezember 1948 einigten sich die Mitglieder der Vereinten Nationen auf die „Allgemeine Erklärung der Menschenrechte“ (AEMR). Heute beziehen sich die meisten demokratischen Staaten auf dieses Dokument.Auch ein anderes Abkommen erblickte am Montag das Licht der Welt. Der sogenannte „Globale Pakt für eine sichere, geordnete und reguläre Migration“. Genau wie bei der Menschenrechtserklärung handelt es sich auch beim UN-Migrationspakt um eine\\xa0 „unverbindliche Vereinbarung“ der Vereinten Nationen. In Marrakesch haben am Montag 164 Staaten den umstrittenen Migrationspakt, an dem 192 Staaten beteiligt waren, offiziell verabschiedet. Die USA nahmen an den Verhandlungen gar nicht erst teil. Mehrere Regierungen lehnten das Papier in\\xa0den letzten Wochen ab. Darunter befinden sich Ungarn, Polen, Tschechien, Bulgarien, Australien, die Slowakei, Israel und Österreich.>>>Andere Sputnik-Artikel: Uno nimmt umstrittenen Migrationspakt an<<<FPÖ-Vize: „Migration ist kein Menschenrecht“Die österreichische Begründung für den Rückzug lautete unter anderem: „Migration ist und darf auch kein Menschenrecht werden“, sagte Vizekanzler Heinz-Christian Strache (FPÖ).                        ©                    AP Photo/ Olmo Calvo„Ein zynisches Spiel“ – Warum der Migrationspakt keine Lösung istDer Aussage stimmt auch Geschäftsmann und ÖVP-Mitglied, Freiherr Norbert van Handel, zu. Migration sei „natürlich“ kein Menschenrecht. „Wir haben eine ganz genaue Definition von Menschenrechten. Freie Meinung, Zugang zum ordentlichen Gericht.“ Auch Reisefreiheit sei zwar ein Menschenrecht, aber eine Reisefreiheit mit dem Ziel, sich in\\xa0einem Land auf Dauer niederzulassen, sei definitiv kein Menschenrecht, erklärte van Handel gegenüber Sputnik.Ob das auch so stimmt, wollte die Sputnik-Redaktion überprüfen. Als Migration versteht man zunächst allgemein eine „Abwanderung in\\xa0ein anderes Land, in\\xa0eine andere Gegend, an einen anderen Ort“, so die „Bedeutungsübersicht“ des Dudens. Damit stellt per Definition auch eine Flucht aus dem eigenen Land aus jedweden Gründen zunächst eine Migration dar.Asyl als MenschenrechtDie Allgemeine Erklärung der Menschenrechte besteht aus 30 Artikeln. Zwei davon beschäftigen sich direkt mit dem Begriff Migration. So der Artikel 13, der auf die Auswanderungsfreiheit eingeht. Dort heißt es dazu: „Jeder hat das Recht, jedes Land, einschließlich seines eigenen, zu verlassen und in\\xa0sein Land zurückzukehren.“Im Artikel 14, der das Menschenrecht auf Asyl beschreibt, heißt es: „Jeder hat das Recht, in\\xa0anderen Ländern vor Verfolgung Asyl zu suchen und zu genießen.“ Im Falle einer Strafverfolgung, „die tatsächlich auf Grund von Verbrechen nichtpolitischer Art oder auf Grund von Handlungen erfolgt, die gegen die Ziele und Grundsätze der Vereinten Nationen verstoßen“, könne jedoch dieses Recht nicht in\\xa0Anspruch genommen werden.So werde Migration zu einem Menschenrecht, spätestens wenn Menschenleben durch äußere Faktoren wie Krieg und andere Katastrophen in\\xa0Gefahr seien, bestätigt der Politikwissenschaftler von der Universität Wien, Prof. Dr. Otmar Höll, im Sputnik-Interview. „Wir haben die Genfer Flüchtlingskonvention, wir haben den Menschenrechtspakt, die in\\xa0diese Richtung weisen. Und tatsächlich sind sie völlig außer Streit zu stellen“, findet Höll.\\xa0 Er bemerkt zudem, dass Österreich seit einigen Monaten im UN-Menschenrechtsbeirat sitzt. Daher würden Straches Äußerungen und der Rückzug aus dem UN-Migrationspakt einen „Bruch mit der guten österreichischen Tradition“ bedeuten.Jedoch bezweifelt der Politologe, dass Migration zu einem Menschenrecht im völkerrechtlichen Sinn in\\xa0naher Zukunft werde könne. „Aber die Migration als solche wird man mit einer derartigen Ablehnung nicht anhalten können“, warnt Professor Höll.>>>Andere Sputnik-Artikel: Nachzug von Flüchtlingen in\\xa0Deutschland: Zahl der Visa weit unter Obergrenze<<<Flucht gleich Migration?Flüchtlinge würden nicht zu Migration gehören, behauptet gegenüber Sputnik der UNHCR-Pressereferent Martin Rentsch: „Per Definition fliehen sie vor Krieg, Folter und Menschenrechtsverletzungen. Das unterscheidet sie von Migranten.“                        ©                    AP Photo/ Emrah GurelAlleine alle Flüchtlinge in EU aufnehmen? – Berlin und Paris haben AngstDer Migrationsforscher von der Technischen Universität Dresden, Dr. Oliviero Angeli,\\xa0 definiert Flucht als „eine Form der Migration, aber nicht die einzige Form von Migration“. Es könne auch darüber diskutiert werden, wer unter dem Begriff Flüchtlinge allgemein verstanden werden kann, bemerkt Angeli. Die deutsche Regierung poche dabei sehr stark auf die Definition der Genfer Flüchtlingskonvention. Danach gilt als Flüchtling eine Person, die „aus der begründeten Furcht vor Verfolgung wegen ihrer Rasse, Religion, Nationalität, Zugehörigkeit zu einer bestimmten sozialen Gruppe oder wegen ihrer politischen Überzeugung sich außerhalb des Landes befindet, dessen Staatsangehörigkeit sie besitzt“.„Kein Recht, in\\xa0andere Länder einzuwandern“Die Frage nach der menschenrechtlichen Basis der Migration\\xa0 ist für Angeli „auf legaler Ebene relativ klar“: „Wir haben Rechte, uns innerhalb der Staaten frei zu bewegen oder aus den Staaten auszuwandern. Aber wir haben bis dato kein Recht, in\\xa0andere Länder einzuwandern. Aus moralischer Sicht kann man für dieses Recht eintreten, aber politisch ist es mittel- bis langfristig schwer umsetzbar“, erklärt der Migrationsforscher. Dass die UN-Menschenrechte bis heute keine rechtlich verbindliche Basis besitzen, schwäche die Position derjenigen, die sich für ein Recht auf Bewegungsfreiheit oder für ein Recht auf Einwanderung stark machen, betont Angeli. Dieses Recht müsse man erst in\\xa0der Menschenrechtskonvention stärker etablieren. „Doch dafür ist der politische Wille momentan nicht vorhanden“, so der Politikwissenschaftler Dr. Oliviero Angeli.Der „Globale Pakt für Migration“ wurde am Montag beim UN-Gipfeltreffen in\\xa0Marokko unterzeichnet. Das 34 Seiten umfassende Dokument soll dazu beitragen, Flucht und Migration besser zu organisieren.Das komplette Interview mit Dr. Oliviero Angeli zum Nachhören:Das komplette Interview mit Prof. Dr. Otmar Höll zum Nachhören:Diskussion\"\\t\"OVER-THRESHOLD\"\\t\"flüchtlingen asyl einwanderung flucht flüchtlinge flüchtling migration\"\\t1461\\t0.537197634217539\\n\"http://de.sputniknews.compolitik/20151102305349847\"\\t\"http://web.archive.org/web/20181201040148/https://de.sputniknews.com/amp/politik/20151102305349847/\"\\t20151102\\t\"Kabul nimmt abgelehnte Asylbewerber aus Deutschland auf\"\\t\"{                    \\\\\"vars\\\\\": {                        \\\\\"counterId\\\\\": \\\\\"27090206\\\\\"                    }                }                                    {                            \\\\\"requests\\\\\": {                                \\\\\"pageview\\\\\": \\\\\"http://web.archive.org/web/20181201040148/https://counter.yadro.ru/hit;RS_Total/Sputniki_Total/Sputniknews?u${ampdocUrl};r${documentReferrer};s${screenWidth}*${screenHeight}*32;h${title};${random}\\\\\"                            },                            \\\\\"triggers\\\\\": {                                \\\\\"track pageview\\\\\": {                                    \\\\\"on\\\\\": \\\\\"visible\\\\\",                                    \\\\\"request\\\\\": \\\\\"pageview\\\\\"                                }                            }                        }                    Alle NachrichtenPolitik                        ©                    AP Photo/ Muhammed MuheisenKabul nimmt abgelehnte Asylbewerber aus Deutschland auf12:37 02.11.2015(aktualisiert  12:42 02.11.2015) Zum KurzlinkThemen: Migrationsproblem in EuropaDie afghanische Regierung hat erklärt, dass sie abgelehnte Asylbewerber aus Deutschland zurücknimmt, meldet Associated Press.Die Ankündigung der Bundesregierung, abgelehnte Asylbewerber aus Afghanistan künftig deutlich häufiger als bisher in\\xa0ihre Heimat abzuschieben, ist von der Regierung in\\xa0Kabul mit Erstaunen und Ablehnung kommentiert worden.                        ©                    AFP 2018/ Robert MichaelAufnahme der Flüchtlinge: „Trotz Finanzstärke – Probleme mentaler Art“ – SoziologeLaut dem afghanischen Minister für Flüchtlingsangelegenheiten, Sayed Hussain Alimi Balkhi weiß seine Regierung von einer solchen Entscheidung nichts. Er habe kürzlich erst einer deutschen Regierungsdelegation in\\xa0Genf gesagt, dass sich die Sicherheitslage in\\xa0Afghanistan verschlechtert habe.„Ich habe sie deshalb ausdrücklich darum gebeten, keine afghanischen Asylbewerber abzuschieben.“ Diese Bitte habe er auch im Gespräch mit dem deutschen Botschafter in\\xa0Afghanistan geäußert.                        ©                    REUTERS/ Kai PfaffenbachDeutschland: Über eine halbe Million Flüchtlinge bereits da - ZeitungDer Präsidentensprecher Safar Haschemi sagte, dass Afghanistan die Asylbewerber zuhause aufnehmen solle. Er fügte hinzu, dass Bundeskanzlerin Angela Merkel und der afghanische Präsident Ashraf Ghani diese Frage vor kurzem besprochen haben.Bis zu einer Million Flüchtlinge könnten in\\xa0diesem Jahr nach Deutschland kommen, wurde schon früher gemeldet. Nach den Angaben des afghanischen Ministeriums für Flüchtlinge und Repatriierung haben in\\xa0diesem Jahr 120.000 Menschen das Land verlassen.Diskussion\"\\t\"OVER-THRESHOLD\"\\t\"migrationsproblem asylbewerber flüchtlinge\"\\t801\\t0.536986114185067\\n\"http://de.sputniknews.companorama/20170307314801061-EuGH-visa-urteil\"\\t\"http://web.archive.org/web/20170307115432/https://de.sputniknews.com/amp/panorama/20170307314801061-EuGH-visa-urteil/\"\\t20170307\\t\"EuGH-Urteil: Keine \\\\\"humanitären Visa\\\\\" in EU-Auslandsbotschaften\"\\t\"Die Behörde argumentierte, dass sich die Familie länger als die mit einem Visum bewilligten 90 Tage in\\xa0Belgien aufhalten wollte\\xa0— schließlich wollten die Syrer dort Asylanträge stellen. Zudem seien EU-Staaten nicht verpflichtet, alle Menschen aufzunehmen, die eine katastrophale Situation durchlebten, hieß es. Der zuständige EuGH-Generalanwalt widersprach dieser Argumentation in\\xa0einem aufsehenerregenden Gutachten. Er schrieb, die Erteilung nationaler Visa werde von einer EU-Verordnung geregelt. Damit gelte auch die Grundrechtecharta der Union. Die wiederum schreibt das Recht auf Asyl fest und verbietet Folter und andere unmenschliche und entwürdigende Behandlung\\xa0— reale Gefahren für die syrische Familie, unterstrich der Gutachter. Damit müsse ein EU-Staat in\\xa0solchen Fällen Visa zur Einreise vergeben und Schutzsuchenden die Möglichkeit geben, in\\xa0Europa Asyl zu verlangen.\"\\t\"OVER-THRESHOLD\"\\t\"asylanträge asyl\"\\t116\\t0.536181733211913\\n\"http://de.sputniknews.compolitik/20170207314424623-kalifornien-trump-krieg\"\\t\"http://web.archive.org/web/20170209143833/https://de.sputniknews.com/amp/politik/20170207314424623-kalifornien-trump-krieg/\"\\t20170207\\t\"Kalifornien und Trump erklären einander den Krieg – WP\"\\t\"„Das ist lächerlich“, so Trump über Kaliforniens Initiative, ein Asyl-Staat zu werden. „Wie Sie wissen, bin ich absolut gegen diese Asyl-Städte. Sie bringen Kriminalität und es gibt viele Probleme.“ Kalifornien sei in\\xa0vieler Hinsicht „außer Kontrolle geraten“, ist der US-Staatschef überzeugt. „Offenbar stimmen mir die Wähler zu, sonst hätten sie nicht für mich gestimmt.“  Wie WP unter Verweis auf die US-Bundespolizei FBI schreibt, ist die Kriminalität in\\xa0sogenannten „Asyl-Städten“ angeblich sogar niedriger als in\\xa0anderen Ortschaften. Was ist eine „Asyl-Stadt“? In den USA gibt es derzeit laut WP etwa 60 Städte mit speziellen Asyl-Gesetzen („Asyl-Städte“ bzw. „Sanctuary Cities“), darunter Los Angeles und New York. Die Gesetzeslage variiert von Stadt zu Stadt, doch im Allgemeinen beschützt sie illegale Einwanderer, die gewaltlose Verbrechen begangen haben, davor, von den Lokalregierungen an die Bundesbehörden übergeben zu werden. Das Verüben von Kavaliersdelikten durch Migranten führt demnach nicht zwingend zu bundesstaatlichem Gewahrsam. Stadtmitarbeiter und Strafverfolgungsbehörden einer sogenannten Asyl-Stadt dürfen zudem nicht nach dem Einwanderungsstatus eines Strafverdächtigen fragen. Gegner der Verordnung argumentieren, dass diese kriminelle Zuwanderer vor der Abschiebung bewahre.\"\\t\"OVER-THRESHOLD\"\\t\"migranten\"\\t174\\t0.536121189018493\\n\"http://de.sputniknews.comgesellschaft/20180619321230321-menschenrechte-migranten-usa\"\\t\"http://web.archive.org/web/20181225062127/https://de.sputniknews.com/amp/gesellschaft/20180619321230321-menschenrechte-migranten-usa/\"\\t20180619\\t\"Kinder von Eltern zu trennen ist skrupellos – UN-Menschenrechtskommissar rügt USA - VIDEO\"\\t\"{                    \\\\\"vars\\\\\": {                        \\\\\"counterId\\\\\": \\\\\"27090206\\\\\"                    }                }                                    {                            \\\\\"requests\\\\\": {                                \\\\\"pageview\\\\\": \\\\\"http://web.archive.org/web/20181225062127/https://counter.yadro.ru/hit;RS_Total/Sputniki_Total/Sputniknews?u${ampdocUrl};r${documentReferrer};s${screenWidth}*${screenHeight}*32;h${title};${random}\\\\\"                            },                            \\\\\"triggers\\\\\": {                                \\\\\"track pageview\\\\\": {                                    \\\\\"on\\\\\": \\\\\"visible\\\\\",                                    \\\\\"request\\\\\": \\\\\"pageview\\\\\"                                }                            }                        }                    Alle NachrichtenGesellschaftKinder von Eltern zu trennen ist skrupellos – UN-Menschenrechtskommissar rügt USA - VIDEOВаш браузер не поддерживает данный формат видео                        ©                    Sputnik/ 14:53 19.06.2018(aktualisiert  18:57 19.06.2018) Zum KurzlinkDer Hochkommissar der Vereinten Nationen für Menschenrechte hat die USA für ihre Praxis gerügt, beim illegalen Grenzübertritt an der mexikanischen Grenze festgenommene Migranten von ihren Kindern zu trennen. Die Idee, Kinder für das Verhalten ihrer Eltern zu bestrafen und diese durch die Misshandlung der Kinder abzuschrecken, sei skrupellos.Der UN-Hochkommissar für Menschenrechte, Zeid Ra’ad Al Hussein, hat in\\xa0Genf die USA scharf angegriffen. Bezugnehmend auf die jüngst forcierte Praxis, an der mexikanisch-US-amerikanischen Grenze festgenommene illegale Einwanderer von ihren Kindern zu trennen, sprach Al Hussein von einer „grausamen Praxis“, die „irreparable Schäden mit lebenslangen Folgen“ nach sich ziehen könnte.\\xa0 Wörtlich sagte der Hochkommissar an die Adresse der US-Regierung: „Die Idee, dass ein Staat versucht, Eltern dadurch abzuschrecken, indem Kindern eine solche Misshandlung zugefügt wird, ist skrupellos.“>>Andere Sputnik-Artikel: Trump: „Menschen in\\xa0Deutschland wenden sich gegen ihre Regierung“Die im Video dokumentierte Passage der Erklärung von Zeid Ra’ad Al Hussein im Wortlaut:„In the United States, I am deeply concerned by\\xa0recently adopted policies which punish children for\\xa0that parent’s actions. In the past\\xa0six weeks, nearly 2,000 children have been forcibly separated from\\xa0their parents. The American Association of\\xa0Pediatrics [APP] has called this cruel practice \\'government-sanctioned child abuse\\' which may cause \\'irreparable harm\\' with \\'lifelong consequences\\'. The thought that any state would seek to\\xa0deter parents by\\xa0inflicting such abuse on\\xa0children is unconscionable. I call on\\xa0the United States to\\xa0immediately end the practice of\\xa0forcible separation of\\xa0these children, and I encourage the government to\\xa0at last ratify the [UN] Convention on\\xa0the Rights of\\xa0the Child, in\\xa0order to\\xa0ensure that the fundamental rights of\\xa0all children, whatever their administrative status, will be at\\xa0the centre of\\xa0all domestic laws and policies.”                        ©                    REUTERS/ Jorge Duenes„Migranten-Karawane“ trifft an Mexikos Grenze zu USA ein – VIDEO“Ich bin zutiefst besorgt über die aktuell in\\xa0den Vereinigten Staaten angewandte Praxis, Kinder für Handlungen ihrer Eltern zu bestrafen. In den vergangenen sechs Wochen wurden beinahe 2.000 Kinder gewaltsam von ihren Eltern getrennt. Die Amerikanische Vereinigung für Kinderheilkunde (APP) nennt diese grausame Praxis „staatlich sanktionierte Kindesmisshandlung, die irreparable Schäden mit lebenslangen Folgen hervorrufen könne“. Die Idee, dass ein Staat versucht, Eltern dadurch abzuschrecken, indem Kindern eine solche Misshandlung zugefügt wird, ist skrupellos. Ich rufe die Vereinigten Staaten auf, unverzüglich die Praxis der gewaltsamen Trennung dieser Kinder zu beenden, und ich ermutige die Regierung, endlich die UN-Konvention für die Rechte der Kinder zu ratifizieren, um sicherzustellen, dass die fundamentalen Rechte aller Kinder, gleich welchen administrativen Status, im Zentrum aller öffentlichen Gesetze und Politik stehen.“>>Andere Sputnik-Artikel: Trump will Migranten „von überall her“Diskussion\"\\t\"OVER-THRESHOLD\"\\t\"einwanderer migranten\"\\t980\\t0.533417092483392\\n\"http://de.sputniknews.compolitik/20180914322316830-eu-ungarn-grenzen-kontrolle\"\\t\"http://web.archive.org/web/20180914185523/https://de.sputniknews.com/amp/politik/20180914322316830-eu-ungarn-grenzen-kontrolle/\"\\t20180914\\t\"EU will Ungarn „Recht auf Kontrolle eigener Grenzen entziehen” – Orban\"\\t\"Das EU-Rechtsstaatsverfahren gegen Ungarn stellt nicht die „geringste Gefahr“ für das Land dar, wie Ungarns Ministerpräsident Viktor Orban in einem Interview mit dem Radiosender Kossuth erklärte. Am vergangenen Mittwoch hat das Europäische Parlament dem Antrag auf ein Strafverfahren gegen Ungarn wegen Verstößen gegen europäische Normen und Prinzipien der Rechtshoheit zugestimmt. Das Europaparlament behandelt erstmals ein Dokument, in\\xa0dem es um die Anwendung von Artikel 7 des EU-Vertrages gegen Ungarn geht. >>>Weitere Sputnik-Artikel: „Dafür würde ich aus dem Amt gejagt“ – Orban zu Merkels Flüchtlingspolitik  „Sie (die EU – Anm. d. Red.) haben einen Plan: Wenn sie Ungarn nicht zur Aufnahme von Flüchtlingen zwingen können, werden sie dem Land das Recht auf Kontrolle der eigenen Grenzen entziehen“, sagte Orban. In Brüssel werden die ungarischen Behörden vor allem für die Weigerung kritisiert, die Entscheidungen der Europäischen Union im Bereich Migrationspolitik zu erfüllen. Mitte Juli hatte die Europäische Kommission beim Europäischen Gerichtshof bereits eine Beschwerde gegen Ungarn eingereicht, da es die EU-Vorschriften zur Asylgewährung für Flüchtlinge nicht befolgt hatte. >>>Weitere Sputnik-Artikel: EU-Kommission reicht beim Europäischen Gerichtshof Klage gegen Ungarn ein\"\\t\"OVER-THRESHOLD\"\\t\"flüchtlingen flüchtlingspolitik flüchtlinge\"\\t179\\t0.532563413304608\\n\"http://de.sputniknews.com/german.ruvr.ru/2013_11_06/Festung-Europa-von-Migranten-und-Fluchtlingen-3563\"\\t\"http://web.archive.org/web/20150722052852/http://de.sputniknews.com/german.ruvr.ru/2013_11_06/Festung-Europa-von-Migranten-und-Fluchtlingen-3563/\"\\t20131106\\t\"Festung Europa - von Migranten und Flüchtlingen\"\\t\"Foto: Aziz Bozkurt STIMME RUSSLANDS Flüchtlinge im Hungerstreik vor dem Brandenburger Tor, Tote in Lampedusa, unerwünschte Asylanten in Hellersdorf und Schneeberg, von Abschiebung bedrohte Asylbewerber in Hamburg. Schottet Europa sich ab? Nimmt Deutschland genug Flüchtlinge auf? Auf diese und andere Fragen antwortet bei uns im Studio Aziz Bozkurt, Landesvorsitzender der AG Migration und Vielfalt in der SPD Berlin.\"\\t\"OVER-THRESHOLD\"\\t\"migration asylbewerber flüchtlinge\"\\t61\\t0.532312736405033\\n\"http://de.sputniknews.companorama/20170715316608060-fluechtlinge-selbstanzeigen-terror\"\\t\"http://web.archive.org/web/20170715150527/https://de.sputniknews.com/amp/panorama/20170715316608060-fluechtlinge-selbstanzeigen-terror/\"\\t20170715\\t\"Selbstanzeigen unter Flüchtlingen „wegen Terrors“ wuchern – aus bizarrem Grund\"\\t\"Mehr als 408.000 Asylanträge hat das Bundesamt für Migration und Flüchtlinge (BAMF) im ersten Halbjahr 2017 entschieden – rund 44 Prozent mehr als im gleichen Zeitraum des Vorjahres, berichtet die „Welt“. „Mit den Selbstanzeigen wegen Terrors in\\xa0laufenden Asylverfahren ist eine massive neue Belastung auf die Strafverfolgungsbehörden zugekommen“, so Stuttgarts Generalstaatsanwalt Achim Brauneisen.  Wie die „Welt“ schreibt, wollen viele Asylbewerber mit der Selbstbezichtigung einer Zwangsmitgliedschaft in\\xa0einer islamistischen Gruppierung der Abschiebung entgehen. Dabei würden sie auf den sogenannten subsidiären Schutz hoffen. Der subsidiäre Schutz ist dann gewährt, wenn die Rückkehr eines Asylbewerbers ins Heimatland zu gefährlich ist. Genauer gesagt, wenn ein Ausländer stichhaltige Gründe für die Annahme vorgebracht hat, dass ihm in\\xa0seinem Herkunftsland ein schwerer Schaden droht – beispielsweise Todesstrafe, Folter, unmenschliche oder erniedrigende Behandlung bzw. Bestrafung.\"\\t\"OVER-THRESHOLD\"\\t\"asylanträge migration asylbewerber flüchtlinge\"\\t128\\t0.53192302021476'"
            ]
          },
          "execution_count": 17,
          "metadata": {},
          "output_type": "execute_result"
        }
      ],
      "source": [
        "sputnik = open(\"Data\\sputnikgerman20.tsv\", mode = \"r\", encoding=\"utf-8\") #open files\n",
        "lines_sputnik = sputnik.read() \n",
        "lines_sputnik"
      ]
    },
    {
      "cell_type": "code",
      "execution_count": 18,
      "metadata": {
        "id": "hDdvw6QUwWn3"
      },
      "outputs": [
        {
          "name": "stdout",
          "output_type": "stream",
          "text": [
            "\"http://de.sputniknews.compolitik/20160107306965193-Lindner-Merkel-Migrationspolitik-Chaos-Einwanderungsgesetz\"\t\"http://web.archive.org/web/20170227192503/https://de.sputniknews.com/amp/politik/20160107306965193-Lindner-Merkel-Migrationspolitik-Chaos-Einwanderungsgesetz/\"\t20160107\t\"FDP-Chef Lindner: Merkels Flüchtlingspolitik führt Europa ins Chaos\"\t\"Der Satz „Wir schaffen das“ der Bundeskanzlerin ersetze kein Regierungshandeln, so Lindner. Seiner Meinung nach ist ein „rationales, humanitäres, europäisch abgestimmtes Einwanderungsgesetz“ nötig, welches eine systematisierte Registrierung von Flüchtlingen und deren legale Integration ermöglichen würde. Die CDU/CSU-Politiker hatten von Merkel wiederholt gefordert, den Migranten-Zustrom zu begrenzen. Doch die Kanzlerin hat sich bislang geweigert, eine Obergrenze für Flüchtlinge festzulegen, was die Grenzschließung für neu ankommende Migranten bedeuten würde.\"\t\"OVER-THRESHOLD\"\t\"flüchtlingen migranten flüchtlinge\"\t70\t0.572646110198091\n",
            "\n",
            "\"http://de.sputniknews.com/panorama/20150210/301052523.html\"\t\"http://web.archive.org/web/20150315163311/http://de.sputniknews.com/panorama/20150210/301052523.html\"\t20150210\t\"Experte: Rund 1,3 Millionen wehrpflichtige Ukrainer nach Russland geflüchtet\"\t\"In letzter Zeit sei knapp einer halben Million ukrainischer Bürger der Flüchtlingsstatus zuerkannt beziehungsweise befristetes Asyl gewährt worden. „Russland hat keine Pläne, die Grenze für andere zu schließen.“ Zugleich räumte Patruschew erhebliche Probleme bei der Unterbringung immer wieder eintreffender Flüchtlinge ein.\"\t\"OVER-THRESHOLD\"\t\"flüchtlingsstatus asyl flüchtlinge\"\t43\t0.549349509077681\n",
            "\n",
            "\"http://de.sputniknews.compolitik/20181117322994742-deutschland-spd-nahles-hartz-iv\"\t\"http://web.archive.org/web/20181117160304/https://de.sputniknews.com/amp/politik/20181117322994742-deutschland-spd-nahles-hartz-iv/\"\t20181117\t\"So präzisiert Nahles ihre Idee für Hartz IV-Alternative\"\t\"{                    \\\"vars\\\": {                        \\\"counterId\\\": \\\"27090206\\\"                    }                }                                    {                            \\\"requests\\\": {                                \\\"pageview\\\": \\\"http://web.archive.org/web/20181117160304/https://counter.yadro.ru/hit;RS_Total/Sputniki_Total/Sputniknews?u${ampdocUrl};r${documentReferrer};s${screenWidth}*${screenHeight}*32;h${title};${random}\\\"                            },                            \\\"triggers\\\": {                                \\\"track pageview\\\": {                                    \\\"on\\\": \\\"visible\\\",                                    \\\"request\\\": \\\"pageview\\\"                                }                            }                        }                    Alle NachrichtenPolitik                        ©                    REUTERS/ Hannibal HanschkeSo präzisiert Nahles ihre Idee für Hartz IV-Alternative12:51 17.11.2018(aktualisiert  13:05 17.11.2018) Zum KurzlinkDie SPD-Parteichefin Andrea Nahles hat in einem Gastbeitrag für die „Frankfurter Allgemeine Zeitung“ eine Ablösung des Hartz-IV-Systems durch höhere Mindestlöhne, Zuschüsse zu Sozialabgaben und Steuerboni gefordert.Beim Debattencamp in Berlin vor einer Woche kündigte Nahles einen Komplettumbau des Sozialstaates sowie die Abschaffung von Hartz IV an, dessen monatlicher Satz 416 Euro beträgt. Nun konkretisiert sie ihre Vorstellungen: Viel weniger Menschen als heute sollen auf Grundsicherung angewiesen sein – es sei immer günstiger, Arbeit anstatt Arbeitslosigkeit zu finanzieren.>>>Weitere Sputnik-Artikel: EXKLUSIV: „Mein Schmerzpunkt“ – Ex-Partei-Chef übt Kritik an Politik der Grünen<<<                        ©                    AFP 2018/ DPA/ Arne Dedert„So verhindert Politik bedingungsloses Grundeinkommen“: Ex-Grünen-Chef – EXKLUSIVVor allem die Zahl von zwei Millionen Kindern, die in Hartz-IV-Haushalten lebten, müsse verringert werden. „Diese Erfahrung, ein ‚Hartz-IV-Kind‘ zu sein, prägt fürs Leben. Wir brauchen daher eine eigenständige Kindergrundsicherung, die Kinder aus der Sozialhilfe holt und Teilhabe schafft“, zitieren Nahles deutsche Medien.Ein besseres Wohngeld könne zudem verhindern, „dass Menschen angesichts explodierender Mieten in die Grundsicherung getrieben werden“. Nahles kritisierte außerdem das in der SPD-Kanzlerschaft vom Altkanzler Gerhard Schröder eingeführte System der Zusammenlegung von Arbeitslosen- und Sozialhilfe und forderte weniger Bürokratie und Härte.>>>Weitere Sputnik-Artikel: Schon wieder Bulgarien – Illegale Migration durch tausendfachen Verkauf von EU-Pässen<<<                        ©                    AP Photo/ Martin Meissner„Wir werden Hartz IV hinter uns lassen“: Nahles verspricht Komplettumbau des Sozialstaates„Zum Symbol für das Misstrauen des Staates gegenüber den Grundsicherungsbeziehern sind die Sanktionen geworden. Sie wirken, als würde den Leistungsbeziehern von vornherein unterstellt, betrügen zu wollen“.Der Bundeswirtschaftsminister, Peter Altmaier, wies die SPD-Forderungen nach einer Hartz-IV-Abschaffung in einem Gespräch mit der Zeitung „Die Welt“ zurück.„Wir dürfen und werden Hartz IV nicht abschaffen. Solche Vorschläge sind hoch gefährlich und schaden der Zukunft unseres Landes“, zitieren deutsche Medien den CDU-Politiker.Diskussion\"\t\"OVER-THRESHOLD\"\t\"migration\"\t884\t0.549179266004771\n",
            "\n",
            "\"http://de.sputniknews.compolitik/20181109322907058-trump-usa-asyl\"\t\"http://web.archive.org/web/20181123020955/https://de.sputniknews.com/amp/politik/20181109322907058-trump-usa-asyl/\"\t20181109\t\"Trump beschränkt drastisch Asylgewährung für illegale Migranten\"\t\"{                    \\\"vars\\\": {                        \\\"counterId\\\": \\\"27090206\\\"                    }                }                                    {                            \\\"requests\\\": {                                \\\"pageview\\\": \\\"http://web.archive.org/web/20181123020955/https://counter.yadro.ru/hit;RS_Total/Sputniki_Total/Sputniknews?u${ampdocUrl};r${documentReferrer};s${screenWidth}*${screenHeight}*32;h${title};${random}\\\"                            },                            \\\"triggers\\\": {                                \\\"track pageview\\\": {                                    \\\"on\\\": \\\"visible\\\",                                    \\\"request\\\": \\\"pageview\\\"                                }                            }                        }                    Alle NachrichtenPolitik                        ©                    REUTERS/ Jose CabezasTrump beschränkt drastisch Asylgewährung für illegale Migranten15:43 09.11.2018(aktualisiert  17:36 09.11.2018) Zum KurzlinkUS-Präsident Donald Trump hat die Asylgewährung für illegale Migranten drastisch eingeschränkt. Das teilte der Staatschef vor der Presse mit.Wie Trump vor Journalisten sagte, hat er „gerade“ ein entsprechendes Dekret unterzeichnet. Demnach sollen nur noch Menschen Asyl beantragen können, die an einem offiziellen Grenzübergang in die USA einreisen. Illegal Eingereiste würden kein Asyl beantragen dürfen.>>> Weitere Sputnik-Artikel: Trump erklärt, warum USA Migranten brauchen                        ©                    REUTERS/ Leah MillisTrump droht mit Schließung der Grenze zu MexikoDie Verweigerung des Rechts auf einen Asylantrag für illegale Migranten sei zeitweilig und betreffe die Ausländer, die die südliche US-Grenze zu Mexiko gesetzwidrig überschreiten würden, geht aus Trumps Proklamation hervor.„Ich treffe befristete Maßnahmen zum Einreisestopp für Ausländer, um das Problem der großen Anzahl von Migranten zu lösen, die über Mexiko kommen, um in unser Land ohne richtige Dokumente einzureisen“.>>> Weitere Sputnik-Artikel: Bundestag beschließt Verschärfung des Asylgesetzes                        ©                    AFP 2018/ GERARD JULIENMauer reloaded: EU-Staaten errichten sechs neue „Berliner Mauern“Ein Einwanderer könne dennoch Asyl beantragen, wenn er sich an die US-Grenzbehörden wende, statt zu versuchen, in die USA illegal zu gelangen.Laut Trump haben die ankommenden Migranten in der Regel keine legalen Gründe, Asyl zu beantragen. Die Ankunft von einer großen Anzahl von Ausländern werde das US-Immigrationssystem überlasten und zur „Freilassung\\\" von Tausenden Ausländern innerhalb der USA“ führen.Zuvor hatte das US-Verteidigungsministerium seine Bereitschaft erklärt, bis zu 7000 Militärangehörige an der Grenze zwischen den USA und Mexiko zu stationieren. Trump verkündete, bis zu 15.000 Soldaten an die Grenze zu schicken, wo sich bereits 2100 Mitglieder der Nationalgarde der Vereinigten Staaten befinden.>>> Weitere Sputnik-Artikel: „Kein Menschenrecht auf Migration“: Österreich verlässt UN-Migrationspakt                        ©                    REUTERS/ Carlos Garcia RawlinsMigranten vs. US-Armee: Wer sind die Drahtzieher der Flüchtlingskarawane?Die Maßnahmen werden getroffen, weil eine Karawane mit Tausenden Menschen aus zentralamerikanischen Ländern sich den USA über das Territorium von Mexiko nähert. Weitere zwei Migrantengruppen bewegen sich aus Salvador in Richtung USA.Nach Informationen der Nachrichtenagentur France-Presse bezeichnete die Bürgerrechtsorganisation American Civil Liberties Union die Pläne für eine Verschärfung des Asylrechts am Donnerstag als „illegal“. Das US-Recht erlaube Menschen einen Asylantrag unabhängig davon zu stellen, ob sie sich an einem Grenzübergang befinden oder nicht. Dies könne nicht durch ein Dekret „umgangen“ werden.Diskussion\"\t\"OVER-THRESHOLD\"\t\"einwanderer migranten asyl\"\t998\t0.548636683559343\n",
            "\n",
            "\"http://de.sputniknews.compolitik/20160306308285650-oesterreich-draengt-auf-deutsches-fluechtlingskontingent\"\t\"http://web.archive.org/web/20181126055753/https://de.sputniknews.com/amp/politik/20160306308285650-oesterreich-draengt-auf-deutsches-fluechtlingskontingent/\"\t20160306\t\"Österreich drängt auf deutsches Flüchtlingskontingent\"\t\"{                    \\\"vars\\\": {                        \\\"counterId\\\": \\\"27090206\\\"                    }                }                                    {                            \\\"requests\\\": {                                \\\"pageview\\\": \\\"http://web.archive.org/web/20181126055753/https://counter.yadro.ru/hit;RS_Total/Sputniki_Total/Sputniknews?u${ampdocUrl};r${documentReferrer};s${screenWidth}*${screenHeight}*32;h${title};${random}\\\"                            },                            \\\"triggers\\\": {                                \\\"track pageview\\\": {                                    \\\"on\\\": \\\"visible\\\",                                    \\\"request\\\": \\\"pageview\\\"                                }                            }                        }                    Alle NachrichtenPolitik                        ©                    AP Photo/ Boris Grdanoski Österreich drängt auf deutsches Flüchtlingskontingent09:56 06.03.2016(aktualisiert  09:57 06.03.2016) Zum KurzlinkDer österreichische Bundeskanzler Werner Faymann hat von Deutschland gefordert, eine Flüchtlingsquote von 400.000 Personen im Jahr einzuführen. Wenn alle EU-Länder dem Beispiel Österreichs folgen würden, könnte die EU, so Faymann, zwei Millionen Flüchtlinge aufnehmen.Im Jahr 2015 hatten etwa 90.000 Menschen in Österreich Asyl beantragt. 2016 will die Regierung die Zahl der positiv beschiedenen Asylanträge auf 37.500 beschränken.                        ©                    AFP 2018/ JOHN MACDOUGALLBundeskanzler Faymann: Merkel sollte Tageskontingente für Flüchtlinge einführen„Deutschland muss endlich Klarheit schaffen, sonst werden weiterhin Flüchtlinge Richtung Deutschland losziehen … Nimmt man den österreichischen Richtwert her, könnte Deutschland rund 400.000 Flüchtlinge als Kontingent nennen“, sagte Faymann im Gespräch mit der Zeitung Kurier.Im Jahr 2015 sind nach Angaben der Agentur Frontex rund 1,8 Million Migranten nach Europa gekommen. Experten zufolge handelt es sich um die größte Flüchtlingskrise seit dem Zweiten Weltkrieg.Diskussion\"\t\"OVER-THRESHOLD\"\t\"asyl flüchtlinge migranten asylanträge flüchtlingskrise\"\t699\t0.547926894577753\n",
            "\n"
          ]
        }
      ],
      "source": [
        "\n",
        "sputnik = open(\"Data\\sputnikgerman20.tsv\", mode = \"r\", encoding=\"utf-8\") #open files\n",
        "lines_sputnik = sputnik.readlines() # a lst of strings, each string refers to one line in the file\n",
        "for i in range(5): #read line by line\n",
        "    print(lines_sputnik[i])\n",
        "sputnik.close()"
      ]
    },
    {
      "cell_type": "code",
      "execution_count": 19,
      "metadata": {
        "id": "oUgYV20PwWn4"
      },
      "outputs": [
        {
          "name": "stdout",
          "output_type": "stream",
          "text": [
            "<class 'list'>\n"
          ]
        }
      ],
      "source": [
        "print(type(lines_sputnik))"
      ]
    },
    {
      "cell_type": "markdown",
      "metadata": {
        "id": "PVwV2JRqwWn4"
      },
      "source": [
        "## Other ways to load data: CSV library\n",
        "\n",
        "\n",
        "Good for csv and tsv files\n"
      ]
    },
    {
      "cell_type": "code",
      "execution_count": 20,
      "metadata": {
        "id": "peeS1nNYwWn5"
      },
      "outputs": [
        {
          "data": {
            "text/plain": [
              "<_csv.reader at 0x2e0068cbac0>"
            ]
          },
          "execution_count": 20,
          "metadata": {},
          "output_type": "execute_result"
        }
      ],
      "source": [
        "\n",
        "import csv\n",
        "\n",
        "tsv_file = open(\"Data\\sputnikgerman20.tsv\", mode = \"r\", encoding=\"utf-8\")\n",
        "read_tsv = csv.reader(tsv_file, delimiter=\"\\t\")\n",
        "read_tsv"
      ]
    },
    {
      "cell_type": "code",
      "execution_count": 21,
      "metadata": {
        "id": "_uCPnFI_wWn8"
      },
      "outputs": [
        {
          "name": "stdout",
          "output_type": "stream",
          "text": [
            "['http://de.sputniknews.compolitik/20160107306965193-Lindner-Merkel-Migrationspolitik-Chaos-Einwanderungsgesetz', 'http://web.archive.org/web/20170227192503/https://de.sputniknews.com/amp/politik/20160107306965193-Lindner-Merkel-Migrationspolitik-Chaos-Einwanderungsgesetz/', '20160107', 'FDP-Chef Lindner: Merkels Flüchtlingspolitik führt Europa ins Chaos', 'Der Satz „Wir schaffen das“ der Bundeskanzlerin ersetze kein Regierungshandeln, so Lindner. Seiner Meinung nach ist ein „rationales, humanitäres, europäisch abgestimmtes Einwanderungsgesetz“ nötig, welches eine systematisierte Registrierung von Flüchtlingen und deren legale Integration ermöglichen würde. Die CDU/CSU-Politiker hatten von Merkel wiederholt gefordert, den Migranten-Zustrom zu begrenzen. Doch die Kanzlerin hat sich bislang geweigert, eine Obergrenze für Flüchtlinge festzulegen, was die Grenzschließung für neu ankommende Migranten bedeuten würde.', 'OVER-THRESHOLD', 'flüchtlingen migranten flüchtlinge', '70', '0.572646110198091']\n",
            "['http://de.sputniknews.com/panorama/20150210/301052523.html', 'http://web.archive.org/web/20150315163311/http://de.sputniknews.com/panorama/20150210/301052523.html', '20150210', 'Experte: Rund 1,3 Millionen wehrpflichtige Ukrainer nach Russland geflüchtet', 'In letzter Zeit sei knapp einer halben Million ukrainischer Bürger der Flüchtlingsstatus zuerkannt beziehungsweise befristetes Asyl gewährt worden. „Russland hat keine Pläne, die Grenze für andere zu schließen.“ Zugleich räumte Patruschew erhebliche Probleme bei der Unterbringung immer wieder eintreffender Flüchtlinge ein.', 'OVER-THRESHOLD', 'flüchtlingsstatus asyl flüchtlinge', '43', '0.549349509077681']\n",
            "['http://de.sputniknews.compolitik/20181117322994742-deutschland-spd-nahles-hartz-iv', 'http://web.archive.org/web/20181117160304/https://de.sputniknews.com/amp/politik/20181117322994742-deutschland-spd-nahles-hartz-iv/', '20181117', 'So präzisiert Nahles ihre Idee für Hartz IV-Alternative', '{                    \\\\vars\\\\\": {                        \\\\\"counterId\\\\\": \\\\\"27090206\\\\\"                    }                }                                    {                            \\\\\"requests\\\\\": {                                \\\\\"pageview\\\\\": \\\\\"http://web.archive.org/web/20181117160304/https://counter.yadro.ru/hit;RS_Total/Sputniki_Total/Sputniknews?u${ampdocUrl};r${documentReferrer};s${screenWidth}*${screenHeight}*32;h${title};${random}\\\\\"                            },                            \\\\\"triggers\\\\\": {                                \\\\\"track pageview\\\\\": {                                    \\\\\"on\\\\\": \\\\\"visible\\\\\",                                    \\\\\"request\\\\\": \\\\\"pageview\\\\\"                                }                            }                        }                    Alle NachrichtenPolitik                        ©                    REUTERS/ Hannibal HanschkeSo präzisiert Nahles ihre Idee für Hartz IV-Alternative12:51 17.11.2018(aktualisiert  13:05 17.11.2018) Zum KurzlinkDie SPD-Parteichefin Andrea Nahles hat in einem Gastbeitrag für die „Frankfurter Allgemeine Zeitung“ eine Ablösung des Hartz-IV-Systems durch höhere Mindestlöhne, Zuschüsse zu Sozialabgaben und Steuerboni gefordert.Beim Debattencamp in\\xa0Berlin vor einer Woche kündigte Nahles einen Komplettumbau des Sozialstaates sowie die Abschaffung von Hartz IV an, dessen monatlicher Satz 416 Euro beträgt. Nun konkretisiert sie ihre Vorstellungen: Viel weniger Menschen als heute sollen auf Grundsicherung angewiesen sein – es sei immer günstiger, Arbeit anstatt Arbeitslosigkeit zu finanzieren.>>>Weitere Sputnik-Artikel: EXKLUSIV: „Mein Schmerzpunkt“ – Ex-Partei-Chef übt Kritik an Politik der Grünen<<<                        ©                    AFP 2018/ DPA/ Arne Dedert„So verhindert Politik bedingungsloses Grundeinkommen“: Ex-Grünen-Chef – EXKLUSIVVor allem die Zahl von zwei Millionen Kindern, die in Hartz-IV-Haushalten lebten, müsse verringert werden. „Diese Erfahrung, ein ‚Hartz-IV-Kind‘ zu sein, prägt fürs Leben. Wir brauchen daher eine eigenständige Kindergrundsicherung, die Kinder aus der Sozialhilfe holt und Teilhabe schafft“, zitieren Nahles deutsche Medien.Ein besseres Wohngeld könne zudem verhindern, „dass Menschen angesichts explodierender Mieten in\\xa0die Grundsicherung getrieben werden“. Nahles kritisierte außerdem das in\\xa0der SPD-Kanzlerschaft vom Altkanzler Gerhard Schröder eingeführte System der Zusammenlegung von Arbeitslosen- und Sozialhilfe und forderte weniger Bürokratie und Härte.>>>Weitere Sputnik-Artikel: Schon wieder Bulgarien – Illegale Migration durch tausendfachen Verkauf von EU-Pässen<<<                        ©                    AP Photo/ Martin Meissner„Wir werden Hartz IV hinter uns lassen“: Nahles verspricht Komplettumbau des Sozialstaates„Zum Symbol für das Misstrauen des Staates gegenüber den Grundsicherungsbeziehern sind die Sanktionen geworden. Sie wirken, als würde den Leistungsbeziehern von vornherein unterstellt, betrügen zu wollen“.Der Bundeswirtschaftsminister, Peter Altmaier, wies die SPD-Forderungen nach einer Hartz-IV-Abschaffung in\\xa0einem Gespräch mit der Zeitung „Die Welt“ zurück.„Wir dürfen und werden Hartz IV nicht abschaffen. Solche Vorschläge sind hoch gefährlich und schaden der Zukunft unseres Landes“, zitieren deutsche Medien den CDU-Politiker.Diskussion\"', 'OVER-THRESHOLD', 'migration', '884', '0.549179266004771']\n",
            "['http://de.sputniknews.compolitik/20181109322907058-trump-usa-asyl', 'http://web.archive.org/web/20181123020955/https://de.sputniknews.com/amp/politik/20181109322907058-trump-usa-asyl/', '20181109', 'Trump beschränkt drastisch Asylgewährung für illegale Migranten', '{                    \\\\vars\\\\\": {                        \\\\\"counterId\\\\\": \\\\\"27090206\\\\\"                    }                }                                    {                            \\\\\"requests\\\\\": {                                \\\\\"pageview\\\\\": \\\\\"http://web.archive.org/web/20181123020955/https://counter.yadro.ru/hit;RS_Total/Sputniki_Total/Sputniknews?u${ampdocUrl};r${documentReferrer};s${screenWidth}*${screenHeight}*32;h${title};${random}\\\\\"                            },                            \\\\\"triggers\\\\\": {                                \\\\\"track pageview\\\\\": {                                    \\\\\"on\\\\\": \\\\\"visible\\\\\",                                    \\\\\"request\\\\\": \\\\\"pageview\\\\\"                                }                            }                        }                    Alle NachrichtenPolitik                        ©                    REUTERS/ Jose CabezasTrump beschränkt drastisch Asylgewährung für illegale Migranten15:43 09.11.2018(aktualisiert  17:36 09.11.2018) Zum KurzlinkUS-Präsident Donald Trump hat die Asylgewährung für illegale Migranten drastisch eingeschränkt. Das teilte der Staatschef vor der Presse mit.Wie Trump vor Journalisten sagte, hat er „gerade“ ein entsprechendes Dekret unterzeichnet. Demnach sollen nur noch Menschen Asyl beantragen können, die an einem offiziellen Grenzübergang in\\xa0die USA einreisen. Illegal Eingereiste würden kein Asyl beantragen dürfen.>>> Weitere Sputnik-Artikel: Trump erklärt, warum USA Migranten brauchen                        ©                    REUTERS/ Leah MillisTrump droht mit Schließung der Grenze zu MexikoDie Verweigerung des Rechts auf einen Asylantrag für illegale Migranten sei zeitweilig und betreffe die Ausländer, die die südliche US-Grenze zu Mexiko gesetzwidrig überschreiten würden, geht aus Trumps Proklamation hervor.„Ich treffe befristete Maßnahmen zum Einreisestopp für Ausländer, um das Problem der großen Anzahl von Migranten zu lösen, die über Mexiko kommen, um in\\xa0unser Land ohne richtige Dokumente einzureisen“.>>> Weitere Sputnik-Artikel: Bundestag beschließt Verschärfung des Asylgesetzes                        ©                    AFP 2018/ GERARD JULIENMauer reloaded: EU-Staaten errichten sechs neue „Berliner Mauern“Ein Einwanderer könne dennoch Asyl beantragen, wenn er sich an die US-Grenzbehörden wende, statt zu versuchen, in\\xa0die USA illegal zu gelangen.Laut Trump haben die ankommenden Migranten in\\xa0der Regel keine legalen Gründe, Asyl zu beantragen. Die Ankunft von einer großen Anzahl von Ausländern werde das US-Immigrationssystem überlasten und zur „Freilassung\\\\\" von Tausenden Ausländern innerhalb der USA“ führen.Zuvor hatte das US-Verteidigungsministerium seine Bereitschaft erklärt, bis zu 7000 Militärangehörige an der Grenze zwischen den USA und Mexiko zu stationieren. Trump verkündete, bis zu 15.000 Soldaten an die Grenze zu schicken, wo sich bereits 2100 Mitglieder der Nationalgarde der Vereinigten Staaten befinden.>>> Weitere Sputnik-Artikel: „Kein Menschenrecht auf Migration“: Österreich verlässt UN-Migrationspakt                        ©                    REUTERS/ Carlos Garcia RawlinsMigranten vs. US-Armee: Wer sind die Drahtzieher der Flüchtlingskarawane?Die Maßnahmen werden getroffen, weil eine Karawane mit Tausenden Menschen aus zentralamerikanischen Ländern sich den USA über das Territorium von Mexiko nähert. Weitere zwei Migrantengruppen bewegen sich aus Salvador in\\xa0Richtung USA.Nach Informationen der Nachrichtenagentur France-Presse bezeichnete die Bürgerrechtsorganisation American Civil Liberties Union die Pläne für eine Verschärfung des Asylrechts am Donnerstag als „illegal“. Das US-Recht erlaube Menschen einen Asylantrag unabhängig davon zu stellen, ob sie sich an einem Grenzübergang befinden oder nicht. Dies könne nicht durch ein Dekret „umgangen“ werden.Diskussion\"', 'OVER-THRESHOLD', 'einwanderer migranten asyl', '998', '0.548636683559343']\n",
            "['http://de.sputniknews.compolitik/20160306308285650-oesterreich-draengt-auf-deutsches-fluechtlingskontingent', 'http://web.archive.org/web/20181126055753/https://de.sputniknews.com/amp/politik/20160306308285650-oesterreich-draengt-auf-deutsches-fluechtlingskontingent/', '20160306', 'Österreich drängt auf deutsches Flüchtlingskontingent', '{                    \\\\vars\\\\\": {                        \\\\\"counterId\\\\\": \\\\\"27090206\\\\\"                    }                }                                    {                            \\\\\"requests\\\\\": {                                \\\\\"pageview\\\\\": \\\\\"http://web.archive.org/web/20181126055753/https://counter.yadro.ru/hit;RS_Total/Sputniki_Total/Sputniknews?u${ampdocUrl};r${documentReferrer};s${screenWidth}*${screenHeight}*32;h${title};${random}\\\\\"                            },                            \\\\\"triggers\\\\\": {                                \\\\\"track pageview\\\\\": {                                    \\\\\"on\\\\\": \\\\\"visible\\\\\",                                    \\\\\"request\\\\\": \\\\\"pageview\\\\\"                                }                            }                        }                    Alle NachrichtenPolitik                        ©                    AP Photo/ Boris Grdanoski Österreich drängt auf deutsches Flüchtlingskontingent09:56 06.03.2016(aktualisiert  09:57 06.03.2016) Zum KurzlinkDer österreichische Bundeskanzler Werner Faymann hat von Deutschland gefordert, eine Flüchtlingsquote von 400.000 Personen im Jahr einzuführen. Wenn alle EU-Länder dem Beispiel Österreichs folgen würden, könnte die EU, so Faymann, zwei Millionen Flüchtlinge aufnehmen.Im Jahr 2015 hatten etwa 90.000 Menschen in Österreich Asyl beantragt. 2016 will die Regierung die Zahl der positiv beschiedenen Asylanträge auf 37.500 beschränken.                        ©                    AFP 2018/ JOHN MACDOUGALLBundeskanzler Faymann: Merkel sollte Tageskontingente für Flüchtlinge einführen„Deutschland muss endlich Klarheit schaffen, sonst werden weiterhin Flüchtlinge Richtung Deutschland losziehen … Nimmt man den österreichischen Richtwert her, könnte Deutschland rund 400.000 Flüchtlinge als Kontingent nennen“, sagte Faymann im Gespräch mit der Zeitung Kurier.Im Jahr 2015 sind nach Angaben der Agentur Frontex rund 1,8 Million Migranten nach Europa gekommen. Experten zufolge handelt es sich um die größte Flüchtlingskrise seit dem Zweiten Weltkrieg.Diskussion\"', 'OVER-THRESHOLD', 'asyl flüchtlinge migranten asylanträge flüchtlingskrise', '699', '0.547926894577753']\n",
            "['http://de.sputniknews.compolitik/20151016304983995-warschau-gegen-merkels-fluechtlingsquote', 'http://web.archive.org/web/20181123212339/https://de.sputniknews.com/amp/politik/20151016304983995-warschau-gegen-merkels-fluechtlingsquote/', '20151016', 'Migrationskrise: Warschau wehrt sich gegen Merkels Flüchtlingsquote', '{                    \\\\vars\\\\\": {                        \\\\\"counterId\\\\\": \\\\\"27090206\\\\\"                    }                }                                    {                            \\\\\"requests\\\\\": {                                \\\\\"pageview\\\\\": \\\\\"http://web.archive.org/web/20181123212339/https://counter.yadro.ru/hit;RS_Total/Sputniki_Total/Sputniknews?u${ampdocUrl};r${documentReferrer};s${screenWidth}*${screenHeight}*32;h${title};${random}\\\\\"                            },                            \\\\\"triggers\\\\\": {                                \\\\\"track pageview\\\\\": {                                    \\\\\"on\\\\\": \\\\\"visible\\\\\",                                    \\\\\"request\\\\\": \\\\\"pageview\\\\\"                                }                            }                        }                    Alle NachrichtenPolitik                        ©                    REUTERS/ Fabrizio Bensch/FilesMigrationskrise: Warschau wehrt sich gegen Merkels Flüchtlingsquote15:10 16.10.2015Zum KurzlinkPolen tritt scharf gegen die von Angela Merkel vorgeschlagene, permanente und verpflichtende Verteilungsquote von Flüchtlingen unter EU-Ländern auf und wird dabei nicht nachgeben, wie Polens Außenminister Grzegorz Schetyna gegenüber dem Radiosender RMF FM erklärte.                        ©                    AFP 2018/ Frederick FlorinFlüchtlingskrise: Merkel und Hollande werben gemeinsam für Solidarität in EU“Wir werden nicht nachgeben. Wir bilden eine entscheidende Mehrheit in\\xa0der EU”, unterstrich Schetyna.Dem Außenminister zufolge sei die Flüchtlingssituation ein Problem der deutschen Innenpolitik, „deswegen werden stets Versuche unternommen, ein besseres Bild und Image zu schaffen“. „Dies beeinflusst jedoch keinesfalls europäische Entscheidungen“, so Schetyna weiter.„Wenn Europa sagt, dass wir sie (Flüchtlinge – d. Red.) weiterhin unter uns aufteilen und uns Quoten neuer Migrationsströme aufzwingen werden, wird es eine Katastrophe geben. Wir werden dem nicht zustimmen“, erklärte Polens Minister.                        ©                    REUTERS/ Kai PfaffenbachFlüchtlingskrise: Osteuropäer lehnen sich gegen EU-Kurs aufSchetyna ist der Ansicht, dass Europa in\\xa0erster Linie „eine Entscheidung über den Schutz von Außengrenzen sowie über Verteilungszentren, die politische Migranten aus dem Nahen Osten registrieren müssen, treffen, nicht aber einen automatischen Verteilungsmechanismus einführen soll“. Letzteren bezeichnete der Minister als Unsinn.Allein bis zum September sind laut der EU-Grenzschutzagentur „Frontex“ rund 630.000 Flüchtlinge in\\xa0die EU gekommen. Die EU-Kommission spricht von der schlimmsten Migrationskrise seit dem Zweiten Weltkrieg.Diskussion\"', 'OVER-THRESHOLD', 'flüchtlingen migrationskrise migranten flüchtlinge', '805', '0.544957398675781']\n",
            "['http://de.sputniknews.comkarikatur/20151020305076281', 'http://web.archive.org/web/20181201153825/https://de.sputniknews.com/amp/karikatur/20151020305076281/', '20151020', 'Flüchtlingskrise: Ist Abriegeln eine Lösung?', '{                    \\\\vars\\\\\": {                        \\\\\"counterId\\\\\": \\\\\"27090206\\\\\"                    }                }                                    {                            \\\\\"requests\\\\\": {                                \\\\\"pageview\\\\\": \\\\\"http://web.archive.org/web/20181201153825/https://counter.yadro.ru/hit;RS_Total/Sputniki_Total/Sputniknews?u${ampdocUrl};r${documentReferrer};s${screenWidth}*${screenHeight}*32;h${title};${random}\\\\\"                            },                            \\\\\"triggers\\\\\": {                                \\\\\"track pageview\\\\\": {                                    \\\\\"on\\\\\": \\\\\"visible\\\\\",                                    \\\\\"request\\\\\": \\\\\"pageview\\\\\"                                }                            }                        }                    Alle NachrichtenKarikaturFlüchtlingskrise: Ist Abriegeln eine Lösung?18:18 20.10.2015Zum KurzlinkThemen: Migrationsproblem in EuropaCSU-Politiker Markus Söder hat kürzlich ins Gespräch gebracht, die deutsche Grenze mit Zäunen abzusichern. Wird Bundeskanzlerin Angela Merkel zum Schließen der Grenzen gezwungen sein? Hält eine strengere Asylpolitik Flüchtlinge auf? Lassen sich Menschen, die vor Fassbomben fliehen, von ein paar Zäunen stoppen? Fragen, Fragen, Fragen...Diskussion\"', 'OVER-THRESHOLD', 'migrationsproblem asylpolitik flüchtlinge', '522', '0.544157704714578']\n",
            "['http://de.sputniknews.com/german.ruvr.ru/news/2014_01_06/Gro-britannien-will-EU-Freizugigkeit-verhindern-2651', 'http://web.archive.org/web/20150726055154/http://de.sputniknews.com/german.ruvr.ru/news/2014_01_06/Gro-britannien-will-EU-Freizugigkeit-verhindern-2651/', '20140106', 'Großbritannien will EU-Freizügigkeit verhindern', 'Foto: EPA STIMME RUSSLANDS Die Regierung Großbritanniens habe vor, eine Revision der EU-Mitgliedschaftsbedingungen von der EU zu erlangen und die Sperrmaßnahmen gegenüber EU-Migranten zu verteidigen, sagte der britische Regierungschef David Cameron. Cameron zufolge wolle er die allgemeinen Grundsätze der EU nicht in Zweifel ziehen, halte allerdings das Recht der Migranten auf hohes Arbeitslosengeld und kostenlose Medizin in Großbritannien für unfair. Ab dem 1. Januar gilt für Rumänien und Bulgarien eine uneingeschränkte Freizügigkeit. Einschätzungen zufolge muss Großbritannien mit mindestens 300.000 Einwanderern rechnen.', 'OVER-THRESHOLD', 'migranten', '83', '0.544009923707647']\n",
            "['http://de.sputniknews.compolitik/20180813321937555-syrien-deutschland-fluechtlinge-rueckkehr-sanktionen', 'http://web.archive.org/web/20180813172522/https://de.sputniknews.com/amp/politik/20180813321937555-syrien-deutschland-fluechtlinge-rueckkehr-sanktionen/', '20180813', 'Rückkehr von Flüchtlingen: Syrischer Minister appelliert an Deutschland', 'Der syrische Minister für lokale Verwaltung und Umwelt Hussein Makhlouf hat über Journalisten Deutschland zur Aufhebung der Sanktionen gegen Damaskus aufgerufen. Dies soll laut dem Politiker die Rückkehr der syrischen Flüchtlinge in ihre Heimat fördern. „Ich möchte mich über Sie an die deutsche Regierung wenden und bitten, die einseitigen Sanktionen gegen Syrien aufzuheben“, sagte Makhlouf sich an einen deutschen Journalisten wendend auf einer Pressekonferenz. Mehr zum Thema >>> UN-Flüchtlingskommissar tritt gegen Rückkehr von Flüchtlingen nach Syrien auf  Makhlouf, der auch Chef des syrischen Koordinierungsausschusses für Rückkehr der Flüchtlinge ist, betonte, im Fall einer Aufhebung der Sanktionen werde die Rückkehr der Flüchtlinge beschleunigt. Dies würde den Wideraufbau des Landes fördern. Mehr zum Thema >>> Russland forciert Rückkehr von Syrien-Flüchtlingen Zuvor hatte das russische Zentrum für Aufnahme, Verteilung und Unterbringung beim russischen Verteidigungsministerium mitgeteilt, mehr als 1,7 Millionen Syrer hätten den Wunsch geäußert, aus neun Gastländern in\\xa0ihre Heimat zurückzukehren. Die meisten Heimkehrwilligen halten sich jetzt im Libanon, in\\xa0der Türkei und in\\xa0Deutschland auf.', 'OVER-THRESHOLD', 'flüchtlingen flüchtlinge', '163', '0.543706912424414']\n",
            "['http://de.sputniknews.compolitik/20170219314606917-usa-verschaerfen-asyl-recht', 'http://web.archive.org/web/20170324060955/https://de.sputniknews.com/amp/politik/20170219314606917-usa-verschaerfen-asyl-recht/', '20170219', 'USA verschärfen Asyl-Recht', 'Nach dem US-Gesetz „Immigration and Nationality Act“ muss ein Asylbewerber seine „begründete Angst“ vor Verfolgung aufgrund seiner Rasse, Religion, Nationalität, Mitgliedschaft in\\xa0einer bestimmten sozialen Gruppe oder politischer Meinung nachweisen. Der Kampf gegen illegale Migration war eines der Hauptthemen der Wahlkampagne des US-Präsidenten Donald Trump. Das von Trump Ende Januar unterzeichnete Terrorschutzgesetz, welches Bürgern aus sieben vorwiegend muslimischen Ländern die Einreise in\\xa0die USA zeitweilig verwehrt, löste landesweit\\xa0 und international heftige Kritik bis hin zu Massenprotesten aus. \\xa0', 'OVER-THRESHOLD', 'migration asylbewerber', '79', '0.543062751396791']\n",
            "['http://de.sputniknews.companorama/20151228306826925-daenemark-tritt-fuer-veraenderung-der-fluechtlingskonvention', 'http://web.archive.org/web/20181123231931/https://de.sputniknews.com/amp/panorama/20151228306826925-daenemark-tritt-fuer-veraenderung-der-fluechtlingskonvention/', '20151228', 'Dänemark will die Flüchtlingskonvention ändern', '{                    \\\\vars\\\\\": {                        \\\\\"counterId\\\\\": \\\\\"27090206\\\\\"                    }                }                                    {                            \\\\\"requests\\\\\": {                                \\\\\"pageview\\\\\": \\\\\"http://web.archive.org/web/20181123231931/https://counter.yadro.ru/hit;RS_Total/Sputniki_Total/Sputniknews?u${ampdocUrl};r${documentReferrer};s${screenWidth}*${screenHeight}*32;h${title};${random}\\\\\"                            },                            \\\\\"triggers\\\\\": {                                \\\\\"track pageview\\\\\": {                                    \\\\\"on\\\\\": \\\\\"visible\\\\\",                                    \\\\\"request\\\\\": \\\\\"pageview\\\\\"                                }                            }                        }                    Alle NachrichtenPanorama                        ©                    AP Photo/ Joachim LadefogdeDänemark will die Flüchtlingskonvention ändern14:44 28.12.2015(aktualisiert  16:32 28.12.2015) Zum KurzlinkDie Flüchtlingskrise hat Dänemark und Europa vor solche Herausforderungen gestellt, dass nun die UN-Flüchtlingskonvention von 1951 verändert werden muss, wie der dänische Regierungschef Lars Lökke Rasmussen dem Sender TV2 sagte.Wenn die Flüchtlingszahlen weiter ansteigen würden wie bisher, werde der Moment kommen, \\\\\"in dem wir über eine Anpassung der Spielregeln sprechen müssen\\\\\", sagte Rasmussen. Die Flüchtlingskonvention in\\xa0ihrer jetzigen Form entspreche nicht der heutigen globalisierten Welt.Die Konvention definiert den Begriff „Flüchtling“ und die Grundlagen, die für einen Asylantrag erforderlich sind. Einige Rechte, die Flüchtlinge genießen, gleichen denen der Bürger des Aufnahmestaates, andere – denen der Ausländer.                        ©                    REUTERS/ Michaela RehleDänemark besteht auf Konfiskationen: Flüchtlinge sollen Aufenthalt selber bezahlenAls die UN-Flüchtlingskonvention 1951 angenommen wurde, war Dänemark das erste Land, das sie unterzeichnet hat. Nun sei der Ministerpräsident der Auffassung, die von der Konvention auferlegten Verpflichtungen seien eine untragbare Bürde für Dänemark, schreibt die schwedische Zeitung Svenska Dagbladet.Eines der Probleme besteht laut Rasmussen darin, dass verschiedene Gruppen der Flüchtlinge verschiedene Regeln einhalten müssen. So gelten die verschärften Bedingungen für einen Familiennachzug nicht für alle. Die Fristen hängen davon ab, unter welchen Bedingungen das Asyl gewährt wurde.Die von Dänemark getroffenen Maßnahmen für die Reduzierung des Flüchtlingszustroms wirkten „inspirierend“ auf andere Staaten, so der dänische Ministerpräsident. Allerdings dürfe das Asylrecht als solches nicht abgeschafft werden. Dänemark habe nicht vor, alleine die Konvention außer Kraft zu setzen, Dänemark wolle gemeinsam mit anderen Staaten das System von innen verändern, erklärte Rasmussen. Eine der Forderungen könne sein, dass Flüchtlinge in\\xa0dem Land Asyl beantragen müssten, in\\xa0dem sie als erstes angekommen seien.                        ©                    AFP 2018/ Bulent KilicDänemark: Flüchtlinge mit mehr als 400 Euro werden zur Kasse gebetenMit Blick vor allem auf die syrischen Flüchtlinge fragte Ramussen: \\\\\"Wenn jemand, der Schutz vor Krieg sucht, zwei oder drei Jahre in\\xa0der Türkei gelebt hat, sollte er dann nach Europa gehen und dort Asyl beantragen?\\\\\" Die geltenden Regeln würden dies ermöglichen. \\\\\"Aber wir werden darüber eine Diskussion führen\\\\\", sagte er in\\xa0dem Fernsehinterview. In der Türkei leben nach Angaben Ankaras etwa zwei Millionen syrische Bürgerkriegsflüchtlinge.Das Wichtigste ist aus der Sicht des dänischen Politikers die Verständigung innerhalb Europas zu gewährleisten und eine einheitliche Sichtweise zu erarbeiten.„Dänemark kann nicht allein handeln, die anderen müssen auch teilnehmen. Ich kann doch ohne Zustimmung der anderen EU-Staaten das Ausweisungssystem nicht beschließen“, sagte Rasmussen.Diskussion\"', 'OVER-THRESHOLD', 'flüchtlingskrise asyl flüchtlinge', '981', '0.541940112273363']\n",
            "['http://de.sputniknews.compolitik/20160614310604740-maas-polygamie-verbot', 'http://web.archive.org/web/20171008021814/https://de.sputniknews.com/amp/politik/20160614310604740-maas-polygamie-verbot/', '20160614', 'Glaube darf nicht über Gesetz stehen: Bundesjustizminister will Polygamie verbieten', 'Bundesjustizminister Heiko Maas will Mehrfach-Ehen unter muslimischen Migranten in Deutschland grundsätzlich die Anerkennung verweigern. Auch eine Gesetzesverschärfung gegen Zwangsehen mit minderjährigen Kindern sei notwendig.  Der Bundesjustizminister will der Anerkennung dieser Praxis in\\xa0Deutschland nun ein Ende bereiten. „Jeder muss sich an Recht und Gesetz halten, egal ob er hier aufgewachsen oder neu bei uns ist“, so Maas gegenüber der „Bild“-Zeitung. „Niemand, der zu uns kommt, hat das Recht, seine kulturelle Verwurzelung oder seinen religiösen Glauben über unsere Gesetze zu stellen“, sagte Maas zu „Bild“. „Deshalb dürfen in\\xa0Deutschland keine Mehrfach-Ehen anerkannt werden.\\\\ Auch Zwangsehen mit minderjährigen Migranten müssen Maas zufolge in\\xa0Deutschland komplett verboten werden. Dazu sei eine Gesetzesverschärfung notwendig, um Kinder zu schützen. „Wir müssen das sehr sorgfältig prüfen. Zwangsehen dürfen wir nicht dulden, erst recht nicht, wenn minderjährige Mädchen betroffen sind“, so Maas.\"', 'OVER-THRESHOLD', 'migranten', '135', '0.539771426513455']\n",
            "['http://de.sputniknews.comgesellschaft/20181210323239903-menschenrechte-flucht-migration-pakt', 'http://web.archive.org/web/20181210233556/https://de.sputniknews.com/amp/gesellschaft/20181210323239903-menschenrechte-flucht-migration-pakt/', '20181210', 'Gibt es ein Menschenrecht auf Migration?', '{                    \\\\vars\\\\\": {                        \\\\\"counterId\\\\\": \\\\\"27090206\\\\\"                    }                }                                    {                            \\\\\"requests\\\\\": {                                \\\\\"pageview\\\\\": \\\\\"http://web.archive.org/web/20181210233556/https://counter.yadro.ru/hit;RS_Total/Sputniki_Total/Sputniknews?u${ampdocUrl};r${documentReferrer};s${screenWidth}*${screenHeight}*32;h${title};${random}\\\\\"                            },                            \\\\\"triggers\\\\\": {                                \\\\\"track pageview\\\\\": {                                    \\\\\"on\\\\\": \\\\\"visible\\\\\",                                    \\\\\"request\\\\\": \\\\\"pageview\\\\\"                                }                            }                        }                    Alle NachrichtenGesellschaft                        ©                    AP Photo/ Marko DrobnjakovicGibt es ein Menschenrecht auf Migration?20:01 10.12.2018Zum KurzlinkPaul LinkeMigration sei kein Menschenrecht, erklärte FPÖ-Chef Heinz-Christian Strache. Damit begründete er unter anderem den Rückzug Österreichs aus dem globalen Migrationspakt der Vereinten Nationen, der nun verabschiedet wurde. Hatte der österreichische Vizekanzler auch wirklich Recht? Zum 70. Jahrestag der UN-Menschenrechte klärt Sputnik auf.Am Montag feiert die Welt ein wichtiges Jubiläum. Die Menschenrechte werden 70 Jahre alt. Am 10. Dezember 1948 einigten sich die Mitglieder der Vereinten Nationen auf die „Allgemeine Erklärung der Menschenrechte“ (AEMR). Heute beziehen sich die meisten demokratischen Staaten auf dieses Dokument.Auch ein anderes Abkommen erblickte am Montag das Licht der Welt. Der sogenannte „Globale Pakt für eine sichere, geordnete und reguläre Migration“. Genau wie bei der Menschenrechtserklärung handelt es sich auch beim UN-Migrationspakt um eine\\xa0 „unverbindliche Vereinbarung“ der Vereinten Nationen. In Marrakesch haben am Montag 164 Staaten den umstrittenen Migrationspakt, an dem 192 Staaten beteiligt waren, offiziell verabschiedet. Die USA nahmen an den Verhandlungen gar nicht erst teil. Mehrere Regierungen lehnten das Papier in\\xa0den letzten Wochen ab. Darunter befinden sich Ungarn, Polen, Tschechien, Bulgarien, Australien, die Slowakei, Israel und Österreich.>>>Andere Sputnik-Artikel: Uno nimmt umstrittenen Migrationspakt an<<<FPÖ-Vize: „Migration ist kein Menschenrecht“Die österreichische Begründung für den Rückzug lautete unter anderem: „Migration ist und darf auch kein Menschenrecht werden“, sagte Vizekanzler Heinz-Christian Strache (FPÖ).                        ©                    AP Photo/ Olmo Calvo„Ein zynisches Spiel“ – Warum der Migrationspakt keine Lösung istDer Aussage stimmt auch Geschäftsmann und ÖVP-Mitglied, Freiherr Norbert van Handel, zu. Migration sei „natürlich“ kein Menschenrecht. „Wir haben eine ganz genaue Definition von Menschenrechten. Freie Meinung, Zugang zum ordentlichen Gericht.“ Auch Reisefreiheit sei zwar ein Menschenrecht, aber eine Reisefreiheit mit dem Ziel, sich in\\xa0einem Land auf Dauer niederzulassen, sei definitiv kein Menschenrecht, erklärte van Handel gegenüber Sputnik.Ob das auch so stimmt, wollte die Sputnik-Redaktion überprüfen. Als Migration versteht man zunächst allgemein eine „Abwanderung in\\xa0ein anderes Land, in\\xa0eine andere Gegend, an einen anderen Ort“, so die „Bedeutungsübersicht“ des Dudens. Damit stellt per Definition auch eine Flucht aus dem eigenen Land aus jedweden Gründen zunächst eine Migration dar.Asyl als MenschenrechtDie Allgemeine Erklärung der Menschenrechte besteht aus 30 Artikeln. Zwei davon beschäftigen sich direkt mit dem Begriff Migration. So der Artikel 13, der auf die Auswanderungsfreiheit eingeht. Dort heißt es dazu: „Jeder hat das Recht, jedes Land, einschließlich seines eigenen, zu verlassen und in\\xa0sein Land zurückzukehren.“Im Artikel 14, der das Menschenrecht auf Asyl beschreibt, heißt es: „Jeder hat das Recht, in\\xa0anderen Ländern vor Verfolgung Asyl zu suchen und zu genießen.“ Im Falle einer Strafverfolgung, „die tatsächlich auf Grund von Verbrechen nichtpolitischer Art oder auf Grund von Handlungen erfolgt, die gegen die Ziele und Grundsätze der Vereinten Nationen verstoßen“, könne jedoch dieses Recht nicht in\\xa0Anspruch genommen werden.So werde Migration zu einem Menschenrecht, spätestens wenn Menschenleben durch äußere Faktoren wie Krieg und andere Katastrophen in\\xa0Gefahr seien, bestätigt der Politikwissenschaftler von der Universität Wien, Prof. Dr. Otmar Höll, im Sputnik-Interview. „Wir haben die Genfer Flüchtlingskonvention, wir haben den Menschenrechtspakt, die in\\xa0diese Richtung weisen. Und tatsächlich sind sie völlig außer Streit zu stellen“, findet Höll.\\xa0 Er bemerkt zudem, dass Österreich seit einigen Monaten im UN-Menschenrechtsbeirat sitzt. Daher würden Straches Äußerungen und der Rückzug aus dem UN-Migrationspakt einen „Bruch mit der guten österreichischen Tradition“ bedeuten.Jedoch bezweifelt der Politologe, dass Migration zu einem Menschenrecht im völkerrechtlichen Sinn in\\xa0naher Zukunft werde könne. „Aber die Migration als solche wird man mit einer derartigen Ablehnung nicht anhalten können“, warnt Professor Höll.>>>Andere Sputnik-Artikel: Nachzug von Flüchtlingen in\\xa0Deutschland: Zahl der Visa weit unter Obergrenze<<<Flucht gleich Migration?Flüchtlinge würden nicht zu Migration gehören, behauptet gegenüber Sputnik der UNHCR-Pressereferent Martin Rentsch: „Per Definition fliehen sie vor Krieg, Folter und Menschenrechtsverletzungen. Das unterscheidet sie von Migranten.“                        ©                    AP Photo/ Emrah GurelAlleine alle Flüchtlinge in EU aufnehmen? – Berlin und Paris haben AngstDer Migrationsforscher von der Technischen Universität Dresden, Dr. Oliviero Angeli,\\xa0 definiert Flucht als „eine Form der Migration, aber nicht die einzige Form von Migration“. Es könne auch darüber diskutiert werden, wer unter dem Begriff Flüchtlinge allgemein verstanden werden kann, bemerkt Angeli. Die deutsche Regierung poche dabei sehr stark auf die Definition der Genfer Flüchtlingskonvention. Danach gilt als Flüchtling eine Person, die „aus der begründeten Furcht vor Verfolgung wegen ihrer Rasse, Religion, Nationalität, Zugehörigkeit zu einer bestimmten sozialen Gruppe oder wegen ihrer politischen Überzeugung sich außerhalb des Landes befindet, dessen Staatsangehörigkeit sie besitzt“.„Kein Recht, in\\xa0andere Länder einzuwandern“Die Frage nach der menschenrechtlichen Basis der Migration\\xa0 ist für Angeli „auf legaler Ebene relativ klar“: „Wir haben Rechte, uns innerhalb der Staaten frei zu bewegen oder aus den Staaten auszuwandern. Aber wir haben bis dato kein Recht, in\\xa0andere Länder einzuwandern. Aus moralischer Sicht kann man für dieses Recht eintreten, aber politisch ist es mittel- bis langfristig schwer umsetzbar“, erklärt der Migrationsforscher. Dass die UN-Menschenrechte bis heute keine rechtlich verbindliche Basis besitzen, schwäche die Position derjenigen, die sich für ein Recht auf Bewegungsfreiheit oder für ein Recht auf Einwanderung stark machen, betont Angeli. Dieses Recht müsse man erst in\\xa0der Menschenrechtskonvention stärker etablieren. „Doch dafür ist der politische Wille momentan nicht vorhanden“, so der Politikwissenschaftler Dr. Oliviero Angeli.Der „Globale Pakt für Migration“ wurde am Montag beim UN-Gipfeltreffen in\\xa0Marokko unterzeichnet. Das 34 Seiten umfassende Dokument soll dazu beitragen, Flucht und Migration besser zu organisieren.Das komplette Interview mit Dr. Oliviero Angeli zum Nachhören:Das komplette Interview mit Prof. Dr. Otmar Höll zum Nachhören:Diskussion\"', 'OVER-THRESHOLD', 'flüchtlingen asyl einwanderung flucht flüchtlinge flüchtling migration', '1461', '0.537197634217539']\n",
            "['http://de.sputniknews.compolitik/20151102305349847', 'http://web.archive.org/web/20181201040148/https://de.sputniknews.com/amp/politik/20151102305349847/', '20151102', 'Kabul nimmt abgelehnte Asylbewerber aus Deutschland auf', '{                    \\\\vars\\\\\": {                        \\\\\"counterId\\\\\": \\\\\"27090206\\\\\"                    }                }                                    {                            \\\\\"requests\\\\\": {                                \\\\\"pageview\\\\\": \\\\\"http://web.archive.org/web/20181201040148/https://counter.yadro.ru/hit;RS_Total/Sputniki_Total/Sputniknews?u${ampdocUrl};r${documentReferrer};s${screenWidth}*${screenHeight}*32;h${title};${random}\\\\\"                            },                            \\\\\"triggers\\\\\": {                                \\\\\"track pageview\\\\\": {                                    \\\\\"on\\\\\": \\\\\"visible\\\\\",                                    \\\\\"request\\\\\": \\\\\"pageview\\\\\"                                }                            }                        }                    Alle NachrichtenPolitik                        ©                    AP Photo/ Muhammed MuheisenKabul nimmt abgelehnte Asylbewerber aus Deutschland auf12:37 02.11.2015(aktualisiert  12:42 02.11.2015) Zum KurzlinkThemen: Migrationsproblem in EuropaDie afghanische Regierung hat erklärt, dass sie abgelehnte Asylbewerber aus Deutschland zurücknimmt, meldet Associated Press.Die Ankündigung der Bundesregierung, abgelehnte Asylbewerber aus Afghanistan künftig deutlich häufiger als bisher in\\xa0ihre Heimat abzuschieben, ist von der Regierung in\\xa0Kabul mit Erstaunen und Ablehnung kommentiert worden.                        ©                    AFP 2018/ Robert MichaelAufnahme der Flüchtlinge: „Trotz Finanzstärke – Probleme mentaler Art“ – SoziologeLaut dem afghanischen Minister für Flüchtlingsangelegenheiten, Sayed Hussain Alimi Balkhi weiß seine Regierung von einer solchen Entscheidung nichts. Er habe kürzlich erst einer deutschen Regierungsdelegation in\\xa0Genf gesagt, dass sich die Sicherheitslage in\\xa0Afghanistan verschlechtert habe.„Ich habe sie deshalb ausdrücklich darum gebeten, keine afghanischen Asylbewerber abzuschieben.“ Diese Bitte habe er auch im Gespräch mit dem deutschen Botschafter in\\xa0Afghanistan geäußert.                        ©                    REUTERS/ Kai PfaffenbachDeutschland: Über eine halbe Million Flüchtlinge bereits da - ZeitungDer Präsidentensprecher Safar Haschemi sagte, dass Afghanistan die Asylbewerber zuhause aufnehmen solle. Er fügte hinzu, dass Bundeskanzlerin Angela Merkel und der afghanische Präsident Ashraf Ghani diese Frage vor kurzem besprochen haben.Bis zu einer Million Flüchtlinge könnten in\\xa0diesem Jahr nach Deutschland kommen, wurde schon früher gemeldet. Nach den Angaben des afghanischen Ministeriums für Flüchtlinge und Repatriierung haben in\\xa0diesem Jahr 120.000 Menschen das Land verlassen.Diskussion\"', 'OVER-THRESHOLD', 'migrationsproblem asylbewerber flüchtlinge', '801', '0.536986114185067']\n",
            "['http://de.sputniknews.companorama/20170307314801061-EuGH-visa-urteil', 'http://web.archive.org/web/20170307115432/https://de.sputniknews.com/amp/panorama/20170307314801061-EuGH-visa-urteil/', '20170307', 'EuGH-Urteil: Keine \\\\humanitären Visa\\\\\" in EU-Auslandsbotschaften\"', 'Die Behörde argumentierte, dass sich die Familie länger als die mit einem Visum bewilligten 90 Tage in\\xa0Belgien aufhalten wollte\\xa0— schließlich wollten die Syrer dort Asylanträge stellen. Zudem seien EU-Staaten nicht verpflichtet, alle Menschen aufzunehmen, die eine katastrophale Situation durchlebten, hieß es. Der zuständige EuGH-Generalanwalt widersprach dieser Argumentation in\\xa0einem aufsehenerregenden Gutachten. Er schrieb, die Erteilung nationaler Visa werde von einer EU-Verordnung geregelt. Damit gelte auch die Grundrechtecharta der Union. Die wiederum schreibt das Recht auf Asyl fest und verbietet Folter und andere unmenschliche und entwürdigende Behandlung\\xa0— reale Gefahren für die syrische Familie, unterstrich der Gutachter. Damit müsse ein EU-Staat in\\xa0solchen Fällen Visa zur Einreise vergeben und Schutzsuchenden die Möglichkeit geben, in\\xa0Europa Asyl zu verlangen.', 'OVER-THRESHOLD', 'asylanträge asyl', '116', '0.536181733211913']\n",
            "['http://de.sputniknews.compolitik/20170207314424623-kalifornien-trump-krieg', 'http://web.archive.org/web/20170209143833/https://de.sputniknews.com/amp/politik/20170207314424623-kalifornien-trump-krieg/', '20170207', 'Kalifornien und Trump erklären einander den Krieg – WP', '„Das ist lächerlich“, so Trump über Kaliforniens Initiative, ein Asyl-Staat zu werden. „Wie Sie wissen, bin ich absolut gegen diese Asyl-Städte. Sie bringen Kriminalität und es gibt viele Probleme.“ Kalifornien sei in\\xa0vieler Hinsicht „außer Kontrolle geraten“, ist der US-Staatschef überzeugt. „Offenbar stimmen mir die Wähler zu, sonst hätten sie nicht für mich gestimmt.“  Wie WP unter Verweis auf die US-Bundespolizei FBI schreibt, ist die Kriminalität in\\xa0sogenannten „Asyl-Städten“ angeblich sogar niedriger als in\\xa0anderen Ortschaften. Was ist eine „Asyl-Stadt“? In den USA gibt es derzeit laut WP etwa 60 Städte mit speziellen Asyl-Gesetzen („Asyl-Städte“ bzw. „Sanctuary Cities“), darunter Los Angeles und New York. Die Gesetzeslage variiert von Stadt zu Stadt, doch im Allgemeinen beschützt sie illegale Einwanderer, die gewaltlose Verbrechen begangen haben, davor, von den Lokalregierungen an die Bundesbehörden übergeben zu werden. Das Verüben von Kavaliersdelikten durch Migranten führt demnach nicht zwingend zu bundesstaatlichem Gewahrsam. Stadtmitarbeiter und Strafverfolgungsbehörden einer sogenannten Asyl-Stadt dürfen zudem nicht nach dem Einwanderungsstatus eines Strafverdächtigen fragen. Gegner der Verordnung argumentieren, dass diese kriminelle Zuwanderer vor der Abschiebung bewahre.', 'OVER-THRESHOLD', 'migranten', '174', '0.536121189018493']\n",
            "['http://de.sputniknews.comgesellschaft/20180619321230321-menschenrechte-migranten-usa', 'http://web.archive.org/web/20181225062127/https://de.sputniknews.com/amp/gesellschaft/20180619321230321-menschenrechte-migranten-usa/', '20180619', 'Kinder von Eltern zu trennen ist skrupellos – UN-Menschenrechtskommissar rügt USA - VIDEO', '{                    \\\\vars\\\\\": {                        \\\\\"counterId\\\\\": \\\\\"27090206\\\\\"                    }                }                                    {                            \\\\\"requests\\\\\": {                                \\\\\"pageview\\\\\": \\\\\"http://web.archive.org/web/20181225062127/https://counter.yadro.ru/hit;RS_Total/Sputniki_Total/Sputniknews?u${ampdocUrl};r${documentReferrer};s${screenWidth}*${screenHeight}*32;h${title};${random}\\\\\"                            },                            \\\\\"triggers\\\\\": {                                \\\\\"track pageview\\\\\": {                                    \\\\\"on\\\\\": \\\\\"visible\\\\\",                                    \\\\\"request\\\\\": \\\\\"pageview\\\\\"                                }                            }                        }                    Alle NachrichtenGesellschaftKinder von Eltern zu trennen ist skrupellos – UN-Menschenrechtskommissar rügt USA - VIDEOВаш браузер не поддерживает данный формат видео                        ©                    Sputnik/ 14:53 19.06.2018(aktualisiert  18:57 19.06.2018) Zum KurzlinkDer Hochkommissar der Vereinten Nationen für Menschenrechte hat die USA für ihre Praxis gerügt, beim illegalen Grenzübertritt an der mexikanischen Grenze festgenommene Migranten von ihren Kindern zu trennen. Die Idee, Kinder für das Verhalten ihrer Eltern zu bestrafen und diese durch die Misshandlung der Kinder abzuschrecken, sei skrupellos.Der UN-Hochkommissar für Menschenrechte, Zeid Ra’ad Al Hussein, hat in\\xa0Genf die USA scharf angegriffen. Bezugnehmend auf die jüngst forcierte Praxis, an der mexikanisch-US-amerikanischen Grenze festgenommene illegale Einwanderer von ihren Kindern zu trennen, sprach Al Hussein von einer „grausamen Praxis“, die „irreparable Schäden mit lebenslangen Folgen“ nach sich ziehen könnte.\\xa0 Wörtlich sagte der Hochkommissar an die Adresse der US-Regierung: „Die Idee, dass ein Staat versucht, Eltern dadurch abzuschrecken, indem Kindern eine solche Misshandlung zugefügt wird, ist skrupellos.“>>Andere Sputnik-Artikel: Trump: „Menschen in\\xa0Deutschland wenden sich gegen ihre Regierung“Die im Video dokumentierte Passage der Erklärung von Zeid Ra’ad Al Hussein im Wortlaut:„In the United States, I am deeply concerned by\\xa0recently adopted policies which punish children for\\xa0that parent’s actions. In the past\\xa0six weeks, nearly 2,000 children have been forcibly separated from\\xa0their parents. The American Association of\\xa0Pediatrics [APP] has called this cruel practice \\'government-sanctioned child abuse\\' which may cause \\'irreparable harm\\' with \\'lifelong consequences\\'. The thought that any state would seek to\\xa0deter parents by\\xa0inflicting such abuse on\\xa0children is unconscionable. I call on\\xa0the United States to\\xa0immediately end the practice of\\xa0forcible separation of\\xa0these children, and I encourage the government to\\xa0at last ratify the [UN] Convention on\\xa0the Rights of\\xa0the Child, in\\xa0order to\\xa0ensure that the fundamental rights of\\xa0all children, whatever their administrative status, will be at\\xa0the centre of\\xa0all domestic laws and policies.”                        ©                    REUTERS/ Jorge Duenes„Migranten-Karawane“ trifft an Mexikos Grenze zu USA ein – VIDEO“Ich bin zutiefst besorgt über die aktuell in\\xa0den Vereinigten Staaten angewandte Praxis, Kinder für Handlungen ihrer Eltern zu bestrafen. In den vergangenen sechs Wochen wurden beinahe 2.000 Kinder gewaltsam von ihren Eltern getrennt. Die Amerikanische Vereinigung für Kinderheilkunde (APP) nennt diese grausame Praxis „staatlich sanktionierte Kindesmisshandlung, die irreparable Schäden mit lebenslangen Folgen hervorrufen könne“. Die Idee, dass ein Staat versucht, Eltern dadurch abzuschrecken, indem Kindern eine solche Misshandlung zugefügt wird, ist skrupellos. Ich rufe die Vereinigten Staaten auf, unverzüglich die Praxis der gewaltsamen Trennung dieser Kinder zu beenden, und ich ermutige die Regierung, endlich die UN-Konvention für die Rechte der Kinder zu ratifizieren, um sicherzustellen, dass die fundamentalen Rechte aller Kinder, gleich welchen administrativen Status, im Zentrum aller öffentlichen Gesetze und Politik stehen.“>>Andere Sputnik-Artikel: Trump will Migranten „von überall her“Diskussion\"', 'OVER-THRESHOLD', 'einwanderer migranten', '980', '0.533417092483392']\n",
            "['http://de.sputniknews.compolitik/20180914322316830-eu-ungarn-grenzen-kontrolle', 'http://web.archive.org/web/20180914185523/https://de.sputniknews.com/amp/politik/20180914322316830-eu-ungarn-grenzen-kontrolle/', '20180914', 'EU will Ungarn „Recht auf Kontrolle eigener Grenzen entziehen” – Orban', 'Das EU-Rechtsstaatsverfahren gegen Ungarn stellt nicht die „geringste Gefahr“ für das Land dar, wie Ungarns Ministerpräsident Viktor Orban in einem Interview mit dem Radiosender Kossuth erklärte. Am vergangenen Mittwoch hat das Europäische Parlament dem Antrag auf ein Strafverfahren gegen Ungarn wegen Verstößen gegen europäische Normen und Prinzipien der Rechtshoheit zugestimmt. Das Europaparlament behandelt erstmals ein Dokument, in\\xa0dem es um die Anwendung von Artikel 7 des EU-Vertrages gegen Ungarn geht. >>>Weitere Sputnik-Artikel: „Dafür würde ich aus dem Amt gejagt“ – Orban zu Merkels Flüchtlingspolitik  „Sie (die EU – Anm. d. Red.) haben einen Plan: Wenn sie Ungarn nicht zur Aufnahme von Flüchtlingen zwingen können, werden sie dem Land das Recht auf Kontrolle der eigenen Grenzen entziehen“, sagte Orban. In Brüssel werden die ungarischen Behörden vor allem für die Weigerung kritisiert, die Entscheidungen der Europäischen Union im Bereich Migrationspolitik zu erfüllen. Mitte Juli hatte die Europäische Kommission beim Europäischen Gerichtshof bereits eine Beschwerde gegen Ungarn eingereicht, da es die EU-Vorschriften zur Asylgewährung für Flüchtlinge nicht befolgt hatte. >>>Weitere Sputnik-Artikel: EU-Kommission reicht beim Europäischen Gerichtshof Klage gegen Ungarn ein', 'OVER-THRESHOLD', 'flüchtlingen flüchtlingspolitik flüchtlinge', '179', '0.532563413304608']\n",
            "['http://de.sputniknews.com/german.ruvr.ru/2013_11_06/Festung-Europa-von-Migranten-und-Fluchtlingen-3563', 'http://web.archive.org/web/20150722052852/http://de.sputniknews.com/german.ruvr.ru/2013_11_06/Festung-Europa-von-Migranten-und-Fluchtlingen-3563/', '20131106', 'Festung Europa - von Migranten und Flüchtlingen', 'Foto: Aziz Bozkurt STIMME RUSSLANDS Flüchtlinge im Hungerstreik vor dem Brandenburger Tor, Tote in Lampedusa, unerwünschte Asylanten in Hellersdorf und Schneeberg, von Abschiebung bedrohte Asylbewerber in Hamburg. Schottet Europa sich ab? Nimmt Deutschland genug Flüchtlinge auf? Auf diese und andere Fragen antwortet bei uns im Studio Aziz Bozkurt, Landesvorsitzender der AG Migration und Vielfalt in der SPD Berlin.', 'OVER-THRESHOLD', 'migration asylbewerber flüchtlinge', '61', '0.532312736405033']\n",
            "['http://de.sputniknews.companorama/20170715316608060-fluechtlinge-selbstanzeigen-terror', 'http://web.archive.org/web/20170715150527/https://de.sputniknews.com/amp/panorama/20170715316608060-fluechtlinge-selbstanzeigen-terror/', '20170715', 'Selbstanzeigen unter Flüchtlingen „wegen Terrors“ wuchern – aus bizarrem Grund', 'Mehr als 408.000 Asylanträge hat das Bundesamt für Migration und Flüchtlinge (BAMF) im ersten Halbjahr 2017 entschieden – rund 44 Prozent mehr als im gleichen Zeitraum des Vorjahres, berichtet die „Welt“. „Mit den Selbstanzeigen wegen Terrors in\\xa0laufenden Asylverfahren ist eine massive neue Belastung auf die Strafverfolgungsbehörden zugekommen“, so Stuttgarts Generalstaatsanwalt Achim Brauneisen.  Wie die „Welt“ schreibt, wollen viele Asylbewerber mit der Selbstbezichtigung einer Zwangsmitgliedschaft in\\xa0einer islamistischen Gruppierung der Abschiebung entgehen. Dabei würden sie auf den sogenannten subsidiären Schutz hoffen. Der subsidiäre Schutz ist dann gewährt, wenn die Rückkehr eines Asylbewerbers ins Heimatland zu gefährlich ist. Genauer gesagt, wenn ein Ausländer stichhaltige Gründe für die Annahme vorgebracht hat, dass ihm in\\xa0seinem Herkunftsland ein schwerer Schaden droht – beispielsweise Todesstrafe, Folter, unmenschliche oder erniedrigende Behandlung bzw. Bestrafung.', 'OVER-THRESHOLD', 'asylanträge migration asylbewerber flüchtlinge', '128', '0.53192302021476']\n"
          ]
        }
      ],
      "source": [
        "for row in read_tsv:\n",
        "    print(row)\n",
        "tsv_file.close() # we see here each row is now saved in a list"
      ]
    },
    {
      "cell_type": "markdown",
      "metadata": {
        "id": "aHSQmpQIwWn8"
      },
      "source": [
        "what if I want to save this in a list to be able to access later.\n",
        "\n",
        "Here loops become handy"
      ]
    },
    {
      "cell_type": "code",
      "execution_count": 22,
      "metadata": {
        "collapsed": true,
        "id": "8Fre0wnUwWn9"
      },
      "outputs": [],
      "source": [
        "import csv\n",
        "tsv_file = open(\"Data\\sputnikgerman20.tsv\", mode = \"r\", encoding=\"utf-8\")\n",
        "read_tsv = csv.reader(tsv_file, delimiter=\"\\t\")\n",
        "savelist = []\n",
        "for row in read_tsv:\n",
        "    savelist.append(row)\n",
        "tsv_file.close() # we see here each row is now saved in a list\n"
      ]
    },
    {
      "cell_type": "code",
      "execution_count": 23,
      "metadata": {
        "id": "rN5ovu9mwWn_"
      },
      "outputs": [
        {
          "data": {
            "text/plain": [
              "[['http://de.sputniknews.compolitik/20160107306965193-Lindner-Merkel-Migrationspolitik-Chaos-Einwanderungsgesetz',\n",
              "  'http://web.archive.org/web/20170227192503/https://de.sputniknews.com/amp/politik/20160107306965193-Lindner-Merkel-Migrationspolitik-Chaos-Einwanderungsgesetz/',\n",
              "  '20160107',\n",
              "  'FDP-Chef Lindner: Merkels Flüchtlingspolitik führt Europa ins Chaos',\n",
              "  'Der Satz „Wir schaffen das“ der Bundeskanzlerin ersetze kein Regierungshandeln, so Lindner. Seiner Meinung nach ist ein „rationales, humanitäres, europäisch abgestimmtes Einwanderungsgesetz“ nötig, welches eine systematisierte Registrierung von Flüchtlingen und deren legale Integration ermöglichen würde. Die CDU/CSU-Politiker hatten von Merkel wiederholt gefordert, den Migranten-Zustrom zu begrenzen. Doch die Kanzlerin hat sich bislang geweigert, eine Obergrenze für Flüchtlinge festzulegen, was die Grenzschließung für neu ankommende Migranten bedeuten würde.',\n",
              "  'OVER-THRESHOLD',\n",
              "  'flüchtlingen migranten flüchtlinge',\n",
              "  '70',\n",
              "  '0.572646110198091'],\n",
              " ['http://de.sputniknews.com/panorama/20150210/301052523.html',\n",
              "  'http://web.archive.org/web/20150315163311/http://de.sputniknews.com/panorama/20150210/301052523.html',\n",
              "  '20150210',\n",
              "  'Experte: Rund 1,3 Millionen wehrpflichtige Ukrainer nach Russland geflüchtet',\n",
              "  'In letzter Zeit sei knapp einer halben Million ukrainischer Bürger der Flüchtlingsstatus zuerkannt beziehungsweise befristetes Asyl gewährt worden. „Russland hat keine Pläne, die Grenze für andere zu schließen.“ Zugleich räumte Patruschew erhebliche Probleme bei der Unterbringung immer wieder eintreffender Flüchtlinge ein.',\n",
              "  'OVER-THRESHOLD',\n",
              "  'flüchtlingsstatus asyl flüchtlinge',\n",
              "  '43',\n",
              "  '0.549349509077681'],\n",
              " ['http://de.sputniknews.compolitik/20181117322994742-deutschland-spd-nahles-hartz-iv',\n",
              "  'http://web.archive.org/web/20181117160304/https://de.sputniknews.com/amp/politik/20181117322994742-deutschland-spd-nahles-hartz-iv/',\n",
              "  '20181117',\n",
              "  'So präzisiert Nahles ihre Idee für Hartz IV-Alternative',\n",
              "  '{                    \\\\vars\\\\\": {                        \\\\\"counterId\\\\\": \\\\\"27090206\\\\\"                    }                }                                    {                            \\\\\"requests\\\\\": {                                \\\\\"pageview\\\\\": \\\\\"http://web.archive.org/web/20181117160304/https://counter.yadro.ru/hit;RS_Total/Sputniki_Total/Sputniknews?u${ampdocUrl};r${documentReferrer};s${screenWidth}*${screenHeight}*32;h${title};${random}\\\\\"                            },                            \\\\\"triggers\\\\\": {                                \\\\\"track pageview\\\\\": {                                    \\\\\"on\\\\\": \\\\\"visible\\\\\",                                    \\\\\"request\\\\\": \\\\\"pageview\\\\\"                                }                            }                        }                    Alle NachrichtenPolitik                        ©                    REUTERS/ Hannibal HanschkeSo präzisiert Nahles ihre Idee für Hartz IV-Alternative12:51 17.11.2018(aktualisiert  13:05 17.11.2018) Zum KurzlinkDie SPD-Parteichefin Andrea Nahles hat in einem Gastbeitrag für die „Frankfurter Allgemeine Zeitung“ eine Ablösung des Hartz-IV-Systems durch höhere Mindestlöhne, Zuschüsse zu Sozialabgaben und Steuerboni gefordert.Beim Debattencamp in\\xa0Berlin vor einer Woche kündigte Nahles einen Komplettumbau des Sozialstaates sowie die Abschaffung von Hartz IV an, dessen monatlicher Satz 416 Euro beträgt. Nun konkretisiert sie ihre Vorstellungen: Viel weniger Menschen als heute sollen auf Grundsicherung angewiesen sein – es sei immer günstiger, Arbeit anstatt Arbeitslosigkeit zu finanzieren.>>>Weitere Sputnik-Artikel: EXKLUSIV: „Mein Schmerzpunkt“ – Ex-Partei-Chef übt Kritik an Politik der Grünen<<<                        ©                    AFP 2018/ DPA/ Arne Dedert„So verhindert Politik bedingungsloses Grundeinkommen“: Ex-Grünen-Chef – EXKLUSIVVor allem die Zahl von zwei Millionen Kindern, die in Hartz-IV-Haushalten lebten, müsse verringert werden. „Diese Erfahrung, ein ‚Hartz-IV-Kind‘ zu sein, prägt fürs Leben. Wir brauchen daher eine eigenständige Kindergrundsicherung, die Kinder aus der Sozialhilfe holt und Teilhabe schafft“, zitieren Nahles deutsche Medien.Ein besseres Wohngeld könne zudem verhindern, „dass Menschen angesichts explodierender Mieten in\\xa0die Grundsicherung getrieben werden“. Nahles kritisierte außerdem das in\\xa0der SPD-Kanzlerschaft vom Altkanzler Gerhard Schröder eingeführte System der Zusammenlegung von Arbeitslosen- und Sozialhilfe und forderte weniger Bürokratie und Härte.>>>Weitere Sputnik-Artikel: Schon wieder Bulgarien – Illegale Migration durch tausendfachen Verkauf von EU-Pässen<<<                        ©                    AP Photo/ Martin Meissner„Wir werden Hartz IV hinter uns lassen“: Nahles verspricht Komplettumbau des Sozialstaates„Zum Symbol für das Misstrauen des Staates gegenüber den Grundsicherungsbeziehern sind die Sanktionen geworden. Sie wirken, als würde den Leistungsbeziehern von vornherein unterstellt, betrügen zu wollen“.Der Bundeswirtschaftsminister, Peter Altmaier, wies die SPD-Forderungen nach einer Hartz-IV-Abschaffung in\\xa0einem Gespräch mit der Zeitung „Die Welt“ zurück.„Wir dürfen und werden Hartz IV nicht abschaffen. Solche Vorschläge sind hoch gefährlich und schaden der Zukunft unseres Landes“, zitieren deutsche Medien den CDU-Politiker.Diskussion\"',\n",
              "  'OVER-THRESHOLD',\n",
              "  'migration',\n",
              "  '884',\n",
              "  '0.549179266004771'],\n",
              " ['http://de.sputniknews.compolitik/20181109322907058-trump-usa-asyl',\n",
              "  'http://web.archive.org/web/20181123020955/https://de.sputniknews.com/amp/politik/20181109322907058-trump-usa-asyl/',\n",
              "  '20181109',\n",
              "  'Trump beschränkt drastisch Asylgewährung für illegale Migranten',\n",
              "  '{                    \\\\vars\\\\\": {                        \\\\\"counterId\\\\\": \\\\\"27090206\\\\\"                    }                }                                    {                            \\\\\"requests\\\\\": {                                \\\\\"pageview\\\\\": \\\\\"http://web.archive.org/web/20181123020955/https://counter.yadro.ru/hit;RS_Total/Sputniki_Total/Sputniknews?u${ampdocUrl};r${documentReferrer};s${screenWidth}*${screenHeight}*32;h${title};${random}\\\\\"                            },                            \\\\\"triggers\\\\\": {                                \\\\\"track pageview\\\\\": {                                    \\\\\"on\\\\\": \\\\\"visible\\\\\",                                    \\\\\"request\\\\\": \\\\\"pageview\\\\\"                                }                            }                        }                    Alle NachrichtenPolitik                        ©                    REUTERS/ Jose CabezasTrump beschränkt drastisch Asylgewährung für illegale Migranten15:43 09.11.2018(aktualisiert  17:36 09.11.2018) Zum KurzlinkUS-Präsident Donald Trump hat die Asylgewährung für illegale Migranten drastisch eingeschränkt. Das teilte der Staatschef vor der Presse mit.Wie Trump vor Journalisten sagte, hat er „gerade“ ein entsprechendes Dekret unterzeichnet. Demnach sollen nur noch Menschen Asyl beantragen können, die an einem offiziellen Grenzübergang in\\xa0die USA einreisen. Illegal Eingereiste würden kein Asyl beantragen dürfen.>>> Weitere Sputnik-Artikel: Trump erklärt, warum USA Migranten brauchen                        ©                    REUTERS/ Leah MillisTrump droht mit Schließung der Grenze zu MexikoDie Verweigerung des Rechts auf einen Asylantrag für illegale Migranten sei zeitweilig und betreffe die Ausländer, die die südliche US-Grenze zu Mexiko gesetzwidrig überschreiten würden, geht aus Trumps Proklamation hervor.„Ich treffe befristete Maßnahmen zum Einreisestopp für Ausländer, um das Problem der großen Anzahl von Migranten zu lösen, die über Mexiko kommen, um in\\xa0unser Land ohne richtige Dokumente einzureisen“.>>> Weitere Sputnik-Artikel: Bundestag beschließt Verschärfung des Asylgesetzes                        ©                    AFP 2018/ GERARD JULIENMauer reloaded: EU-Staaten errichten sechs neue „Berliner Mauern“Ein Einwanderer könne dennoch Asyl beantragen, wenn er sich an die US-Grenzbehörden wende, statt zu versuchen, in\\xa0die USA illegal zu gelangen.Laut Trump haben die ankommenden Migranten in\\xa0der Regel keine legalen Gründe, Asyl zu beantragen. Die Ankunft von einer großen Anzahl von Ausländern werde das US-Immigrationssystem überlasten und zur „Freilassung\\\\\" von Tausenden Ausländern innerhalb der USA“ führen.Zuvor hatte das US-Verteidigungsministerium seine Bereitschaft erklärt, bis zu 7000 Militärangehörige an der Grenze zwischen den USA und Mexiko zu stationieren. Trump verkündete, bis zu 15.000 Soldaten an die Grenze zu schicken, wo sich bereits 2100 Mitglieder der Nationalgarde der Vereinigten Staaten befinden.>>> Weitere Sputnik-Artikel: „Kein Menschenrecht auf Migration“: Österreich verlässt UN-Migrationspakt                        ©                    REUTERS/ Carlos Garcia RawlinsMigranten vs. US-Armee: Wer sind die Drahtzieher der Flüchtlingskarawane?Die Maßnahmen werden getroffen, weil eine Karawane mit Tausenden Menschen aus zentralamerikanischen Ländern sich den USA über das Territorium von Mexiko nähert. Weitere zwei Migrantengruppen bewegen sich aus Salvador in\\xa0Richtung USA.Nach Informationen der Nachrichtenagentur France-Presse bezeichnete die Bürgerrechtsorganisation American Civil Liberties Union die Pläne für eine Verschärfung des Asylrechts am Donnerstag als „illegal“. Das US-Recht erlaube Menschen einen Asylantrag unabhängig davon zu stellen, ob sie sich an einem Grenzübergang befinden oder nicht. Dies könne nicht durch ein Dekret „umgangen“ werden.Diskussion\"',\n",
              "  'OVER-THRESHOLD',\n",
              "  'einwanderer migranten asyl',\n",
              "  '998',\n",
              "  '0.548636683559343'],\n",
              " ['http://de.sputniknews.compolitik/20160306308285650-oesterreich-draengt-auf-deutsches-fluechtlingskontingent',\n",
              "  'http://web.archive.org/web/20181126055753/https://de.sputniknews.com/amp/politik/20160306308285650-oesterreich-draengt-auf-deutsches-fluechtlingskontingent/',\n",
              "  '20160306',\n",
              "  'Österreich drängt auf deutsches Flüchtlingskontingent',\n",
              "  '{                    \\\\vars\\\\\": {                        \\\\\"counterId\\\\\": \\\\\"27090206\\\\\"                    }                }                                    {                            \\\\\"requests\\\\\": {                                \\\\\"pageview\\\\\": \\\\\"http://web.archive.org/web/20181126055753/https://counter.yadro.ru/hit;RS_Total/Sputniki_Total/Sputniknews?u${ampdocUrl};r${documentReferrer};s${screenWidth}*${screenHeight}*32;h${title};${random}\\\\\"                            },                            \\\\\"triggers\\\\\": {                                \\\\\"track pageview\\\\\": {                                    \\\\\"on\\\\\": \\\\\"visible\\\\\",                                    \\\\\"request\\\\\": \\\\\"pageview\\\\\"                                }                            }                        }                    Alle NachrichtenPolitik                        ©                    AP Photo/ Boris Grdanoski Österreich drängt auf deutsches Flüchtlingskontingent09:56 06.03.2016(aktualisiert  09:57 06.03.2016) Zum KurzlinkDer österreichische Bundeskanzler Werner Faymann hat von Deutschland gefordert, eine Flüchtlingsquote von 400.000 Personen im Jahr einzuführen. Wenn alle EU-Länder dem Beispiel Österreichs folgen würden, könnte die EU, so Faymann, zwei Millionen Flüchtlinge aufnehmen.Im Jahr 2015 hatten etwa 90.000 Menschen in Österreich Asyl beantragt. 2016 will die Regierung die Zahl der positiv beschiedenen Asylanträge auf 37.500 beschränken.                        ©                    AFP 2018/ JOHN MACDOUGALLBundeskanzler Faymann: Merkel sollte Tageskontingente für Flüchtlinge einführen„Deutschland muss endlich Klarheit schaffen, sonst werden weiterhin Flüchtlinge Richtung Deutschland losziehen … Nimmt man den österreichischen Richtwert her, könnte Deutschland rund 400.000 Flüchtlinge als Kontingent nennen“, sagte Faymann im Gespräch mit der Zeitung Kurier.Im Jahr 2015 sind nach Angaben der Agentur Frontex rund 1,8 Million Migranten nach Europa gekommen. Experten zufolge handelt es sich um die größte Flüchtlingskrise seit dem Zweiten Weltkrieg.Diskussion\"',\n",
              "  'OVER-THRESHOLD',\n",
              "  'asyl flüchtlinge migranten asylanträge flüchtlingskrise',\n",
              "  '699',\n",
              "  '0.547926894577753'],\n",
              " ['http://de.sputniknews.compolitik/20151016304983995-warschau-gegen-merkels-fluechtlingsquote',\n",
              "  'http://web.archive.org/web/20181123212339/https://de.sputniknews.com/amp/politik/20151016304983995-warschau-gegen-merkels-fluechtlingsquote/',\n",
              "  '20151016',\n",
              "  'Migrationskrise: Warschau wehrt sich gegen Merkels Flüchtlingsquote',\n",
              "  '{                    \\\\vars\\\\\": {                        \\\\\"counterId\\\\\": \\\\\"27090206\\\\\"                    }                }                                    {                            \\\\\"requests\\\\\": {                                \\\\\"pageview\\\\\": \\\\\"http://web.archive.org/web/20181123212339/https://counter.yadro.ru/hit;RS_Total/Sputniki_Total/Sputniknews?u${ampdocUrl};r${documentReferrer};s${screenWidth}*${screenHeight}*32;h${title};${random}\\\\\"                            },                            \\\\\"triggers\\\\\": {                                \\\\\"track pageview\\\\\": {                                    \\\\\"on\\\\\": \\\\\"visible\\\\\",                                    \\\\\"request\\\\\": \\\\\"pageview\\\\\"                                }                            }                        }                    Alle NachrichtenPolitik                        ©                    REUTERS/ Fabrizio Bensch/FilesMigrationskrise: Warschau wehrt sich gegen Merkels Flüchtlingsquote15:10 16.10.2015Zum KurzlinkPolen tritt scharf gegen die von Angela Merkel vorgeschlagene, permanente und verpflichtende Verteilungsquote von Flüchtlingen unter EU-Ländern auf und wird dabei nicht nachgeben, wie Polens Außenminister Grzegorz Schetyna gegenüber dem Radiosender RMF FM erklärte.                        ©                    AFP 2018/ Frederick FlorinFlüchtlingskrise: Merkel und Hollande werben gemeinsam für Solidarität in EU“Wir werden nicht nachgeben. Wir bilden eine entscheidende Mehrheit in\\xa0der EU”, unterstrich Schetyna.Dem Außenminister zufolge sei die Flüchtlingssituation ein Problem der deutschen Innenpolitik, „deswegen werden stets Versuche unternommen, ein besseres Bild und Image zu schaffen“. „Dies beeinflusst jedoch keinesfalls europäische Entscheidungen“, so Schetyna weiter.„Wenn Europa sagt, dass wir sie (Flüchtlinge – d. Red.) weiterhin unter uns aufteilen und uns Quoten neuer Migrationsströme aufzwingen werden, wird es eine Katastrophe geben. Wir werden dem nicht zustimmen“, erklärte Polens Minister.                        ©                    REUTERS/ Kai PfaffenbachFlüchtlingskrise: Osteuropäer lehnen sich gegen EU-Kurs aufSchetyna ist der Ansicht, dass Europa in\\xa0erster Linie „eine Entscheidung über den Schutz von Außengrenzen sowie über Verteilungszentren, die politische Migranten aus dem Nahen Osten registrieren müssen, treffen, nicht aber einen automatischen Verteilungsmechanismus einführen soll“. Letzteren bezeichnete der Minister als Unsinn.Allein bis zum September sind laut der EU-Grenzschutzagentur „Frontex“ rund 630.000 Flüchtlinge in\\xa0die EU gekommen. Die EU-Kommission spricht von der schlimmsten Migrationskrise seit dem Zweiten Weltkrieg.Diskussion\"',\n",
              "  'OVER-THRESHOLD',\n",
              "  'flüchtlingen migrationskrise migranten flüchtlinge',\n",
              "  '805',\n",
              "  '0.544957398675781'],\n",
              " ['http://de.sputniknews.comkarikatur/20151020305076281',\n",
              "  'http://web.archive.org/web/20181201153825/https://de.sputniknews.com/amp/karikatur/20151020305076281/',\n",
              "  '20151020',\n",
              "  'Flüchtlingskrise: Ist Abriegeln eine Lösung?',\n",
              "  '{                    \\\\vars\\\\\": {                        \\\\\"counterId\\\\\": \\\\\"27090206\\\\\"                    }                }                                    {                            \\\\\"requests\\\\\": {                                \\\\\"pageview\\\\\": \\\\\"http://web.archive.org/web/20181201153825/https://counter.yadro.ru/hit;RS_Total/Sputniki_Total/Sputniknews?u${ampdocUrl};r${documentReferrer};s${screenWidth}*${screenHeight}*32;h${title};${random}\\\\\"                            },                            \\\\\"triggers\\\\\": {                                \\\\\"track pageview\\\\\": {                                    \\\\\"on\\\\\": \\\\\"visible\\\\\",                                    \\\\\"request\\\\\": \\\\\"pageview\\\\\"                                }                            }                        }                    Alle NachrichtenKarikaturFlüchtlingskrise: Ist Abriegeln eine Lösung?18:18 20.10.2015Zum KurzlinkThemen: Migrationsproblem in EuropaCSU-Politiker Markus Söder hat kürzlich ins Gespräch gebracht, die deutsche Grenze mit Zäunen abzusichern. Wird Bundeskanzlerin Angela Merkel zum Schließen der Grenzen gezwungen sein? Hält eine strengere Asylpolitik Flüchtlinge auf? Lassen sich Menschen, die vor Fassbomben fliehen, von ein paar Zäunen stoppen? Fragen, Fragen, Fragen...Diskussion\"',\n",
              "  'OVER-THRESHOLD',\n",
              "  'migrationsproblem asylpolitik flüchtlinge',\n",
              "  '522',\n",
              "  '0.544157704714578'],\n",
              " ['http://de.sputniknews.com/german.ruvr.ru/news/2014_01_06/Gro-britannien-will-EU-Freizugigkeit-verhindern-2651',\n",
              "  'http://web.archive.org/web/20150726055154/http://de.sputniknews.com/german.ruvr.ru/news/2014_01_06/Gro-britannien-will-EU-Freizugigkeit-verhindern-2651/',\n",
              "  '20140106',\n",
              "  'Großbritannien will EU-Freizügigkeit verhindern',\n",
              "  'Foto: EPA STIMME RUSSLANDS Die Regierung Großbritanniens habe vor, eine Revision der EU-Mitgliedschaftsbedingungen von der EU zu erlangen und die Sperrmaßnahmen gegenüber EU-Migranten zu verteidigen, sagte der britische Regierungschef David Cameron. Cameron zufolge wolle er die allgemeinen Grundsätze der EU nicht in Zweifel ziehen, halte allerdings das Recht der Migranten auf hohes Arbeitslosengeld und kostenlose Medizin in Großbritannien für unfair. Ab dem 1. Januar gilt für Rumänien und Bulgarien eine uneingeschränkte Freizügigkeit. Einschätzungen zufolge muss Großbritannien mit mindestens 300.000 Einwanderern rechnen.',\n",
              "  'OVER-THRESHOLD',\n",
              "  'migranten',\n",
              "  '83',\n",
              "  '0.544009923707647'],\n",
              " ['http://de.sputniknews.compolitik/20180813321937555-syrien-deutschland-fluechtlinge-rueckkehr-sanktionen',\n",
              "  'http://web.archive.org/web/20180813172522/https://de.sputniknews.com/amp/politik/20180813321937555-syrien-deutschland-fluechtlinge-rueckkehr-sanktionen/',\n",
              "  '20180813',\n",
              "  'Rückkehr von Flüchtlingen: Syrischer Minister appelliert an Deutschland',\n",
              "  'Der syrische Minister für lokale Verwaltung und Umwelt Hussein Makhlouf hat über Journalisten Deutschland zur Aufhebung der Sanktionen gegen Damaskus aufgerufen. Dies soll laut dem Politiker die Rückkehr der syrischen Flüchtlinge in ihre Heimat fördern. „Ich möchte mich über Sie an die deutsche Regierung wenden und bitten, die einseitigen Sanktionen gegen Syrien aufzuheben“, sagte Makhlouf sich an einen deutschen Journalisten wendend auf einer Pressekonferenz. Mehr zum Thema >>> UN-Flüchtlingskommissar tritt gegen Rückkehr von Flüchtlingen nach Syrien auf  Makhlouf, der auch Chef des syrischen Koordinierungsausschusses für Rückkehr der Flüchtlinge ist, betonte, im Fall einer Aufhebung der Sanktionen werde die Rückkehr der Flüchtlinge beschleunigt. Dies würde den Wideraufbau des Landes fördern. Mehr zum Thema >>> Russland forciert Rückkehr von Syrien-Flüchtlingen Zuvor hatte das russische Zentrum für Aufnahme, Verteilung und Unterbringung beim russischen Verteidigungsministerium mitgeteilt, mehr als 1,7 Millionen Syrer hätten den Wunsch geäußert, aus neun Gastländern in\\xa0ihre Heimat zurückzukehren. Die meisten Heimkehrwilligen halten sich jetzt im Libanon, in\\xa0der Türkei und in\\xa0Deutschland auf.',\n",
              "  'OVER-THRESHOLD',\n",
              "  'flüchtlingen flüchtlinge',\n",
              "  '163',\n",
              "  '0.543706912424414'],\n",
              " ['http://de.sputniknews.compolitik/20170219314606917-usa-verschaerfen-asyl-recht',\n",
              "  'http://web.archive.org/web/20170324060955/https://de.sputniknews.com/amp/politik/20170219314606917-usa-verschaerfen-asyl-recht/',\n",
              "  '20170219',\n",
              "  'USA verschärfen Asyl-Recht',\n",
              "  'Nach dem US-Gesetz „Immigration and Nationality Act“ muss ein Asylbewerber seine „begründete Angst“ vor Verfolgung aufgrund seiner Rasse, Religion, Nationalität, Mitgliedschaft in\\xa0einer bestimmten sozialen Gruppe oder politischer Meinung nachweisen. Der Kampf gegen illegale Migration war eines der Hauptthemen der Wahlkampagne des US-Präsidenten Donald Trump. Das von Trump Ende Januar unterzeichnete Terrorschutzgesetz, welches Bürgern aus sieben vorwiegend muslimischen Ländern die Einreise in\\xa0die USA zeitweilig verwehrt, löste landesweit\\xa0 und international heftige Kritik bis hin zu Massenprotesten aus. \\xa0',\n",
              "  'OVER-THRESHOLD',\n",
              "  'migration asylbewerber',\n",
              "  '79',\n",
              "  '0.543062751396791'],\n",
              " ['http://de.sputniknews.companorama/20151228306826925-daenemark-tritt-fuer-veraenderung-der-fluechtlingskonvention',\n",
              "  'http://web.archive.org/web/20181123231931/https://de.sputniknews.com/amp/panorama/20151228306826925-daenemark-tritt-fuer-veraenderung-der-fluechtlingskonvention/',\n",
              "  '20151228',\n",
              "  'Dänemark will die Flüchtlingskonvention ändern',\n",
              "  '{                    \\\\vars\\\\\": {                        \\\\\"counterId\\\\\": \\\\\"27090206\\\\\"                    }                }                                    {                            \\\\\"requests\\\\\": {                                \\\\\"pageview\\\\\": \\\\\"http://web.archive.org/web/20181123231931/https://counter.yadro.ru/hit;RS_Total/Sputniki_Total/Sputniknews?u${ampdocUrl};r${documentReferrer};s${screenWidth}*${screenHeight}*32;h${title};${random}\\\\\"                            },                            \\\\\"triggers\\\\\": {                                \\\\\"track pageview\\\\\": {                                    \\\\\"on\\\\\": \\\\\"visible\\\\\",                                    \\\\\"request\\\\\": \\\\\"pageview\\\\\"                                }                            }                        }                    Alle NachrichtenPanorama                        ©                    AP Photo/ Joachim LadefogdeDänemark will die Flüchtlingskonvention ändern14:44 28.12.2015(aktualisiert  16:32 28.12.2015) Zum KurzlinkDie Flüchtlingskrise hat Dänemark und Europa vor solche Herausforderungen gestellt, dass nun die UN-Flüchtlingskonvention von 1951 verändert werden muss, wie der dänische Regierungschef Lars Lökke Rasmussen dem Sender TV2 sagte.Wenn die Flüchtlingszahlen weiter ansteigen würden wie bisher, werde der Moment kommen, \\\\\"in dem wir über eine Anpassung der Spielregeln sprechen müssen\\\\\", sagte Rasmussen. Die Flüchtlingskonvention in\\xa0ihrer jetzigen Form entspreche nicht der heutigen globalisierten Welt.Die Konvention definiert den Begriff „Flüchtling“ und die Grundlagen, die für einen Asylantrag erforderlich sind. Einige Rechte, die Flüchtlinge genießen, gleichen denen der Bürger des Aufnahmestaates, andere – denen der Ausländer.                        ©                    REUTERS/ Michaela RehleDänemark besteht auf Konfiskationen: Flüchtlinge sollen Aufenthalt selber bezahlenAls die UN-Flüchtlingskonvention 1951 angenommen wurde, war Dänemark das erste Land, das sie unterzeichnet hat. Nun sei der Ministerpräsident der Auffassung, die von der Konvention auferlegten Verpflichtungen seien eine untragbare Bürde für Dänemark, schreibt die schwedische Zeitung Svenska Dagbladet.Eines der Probleme besteht laut Rasmussen darin, dass verschiedene Gruppen der Flüchtlinge verschiedene Regeln einhalten müssen. So gelten die verschärften Bedingungen für einen Familiennachzug nicht für alle. Die Fristen hängen davon ab, unter welchen Bedingungen das Asyl gewährt wurde.Die von Dänemark getroffenen Maßnahmen für die Reduzierung des Flüchtlingszustroms wirkten „inspirierend“ auf andere Staaten, so der dänische Ministerpräsident. Allerdings dürfe das Asylrecht als solches nicht abgeschafft werden. Dänemark habe nicht vor, alleine die Konvention außer Kraft zu setzen, Dänemark wolle gemeinsam mit anderen Staaten das System von innen verändern, erklärte Rasmussen. Eine der Forderungen könne sein, dass Flüchtlinge in\\xa0dem Land Asyl beantragen müssten, in\\xa0dem sie als erstes angekommen seien.                        ©                    AFP 2018/ Bulent KilicDänemark: Flüchtlinge mit mehr als 400 Euro werden zur Kasse gebetenMit Blick vor allem auf die syrischen Flüchtlinge fragte Ramussen: \\\\\"Wenn jemand, der Schutz vor Krieg sucht, zwei oder drei Jahre in\\xa0der Türkei gelebt hat, sollte er dann nach Europa gehen und dort Asyl beantragen?\\\\\" Die geltenden Regeln würden dies ermöglichen. \\\\\"Aber wir werden darüber eine Diskussion führen\\\\\", sagte er in\\xa0dem Fernsehinterview. In der Türkei leben nach Angaben Ankaras etwa zwei Millionen syrische Bürgerkriegsflüchtlinge.Das Wichtigste ist aus der Sicht des dänischen Politikers die Verständigung innerhalb Europas zu gewährleisten und eine einheitliche Sichtweise zu erarbeiten.„Dänemark kann nicht allein handeln, die anderen müssen auch teilnehmen. Ich kann doch ohne Zustimmung der anderen EU-Staaten das Ausweisungssystem nicht beschließen“, sagte Rasmussen.Diskussion\"',\n",
              "  'OVER-THRESHOLD',\n",
              "  'flüchtlingskrise asyl flüchtlinge',\n",
              "  '981',\n",
              "  '0.541940112273363'],\n",
              " ['http://de.sputniknews.compolitik/20160614310604740-maas-polygamie-verbot',\n",
              "  'http://web.archive.org/web/20171008021814/https://de.sputniknews.com/amp/politik/20160614310604740-maas-polygamie-verbot/',\n",
              "  '20160614',\n",
              "  'Glaube darf nicht über Gesetz stehen: Bundesjustizminister will Polygamie verbieten',\n",
              "  'Bundesjustizminister Heiko Maas will Mehrfach-Ehen unter muslimischen Migranten in Deutschland grundsätzlich die Anerkennung verweigern. Auch eine Gesetzesverschärfung gegen Zwangsehen mit minderjährigen Kindern sei notwendig.  Der Bundesjustizminister will der Anerkennung dieser Praxis in\\xa0Deutschland nun ein Ende bereiten. „Jeder muss sich an Recht und Gesetz halten, egal ob er hier aufgewachsen oder neu bei uns ist“, so Maas gegenüber der „Bild“-Zeitung. „Niemand, der zu uns kommt, hat das Recht, seine kulturelle Verwurzelung oder seinen religiösen Glauben über unsere Gesetze zu stellen“, sagte Maas zu „Bild“. „Deshalb dürfen in\\xa0Deutschland keine Mehrfach-Ehen anerkannt werden.\\\\ Auch Zwangsehen mit minderjährigen Migranten müssen Maas zufolge in\\xa0Deutschland komplett verboten werden. Dazu sei eine Gesetzesverschärfung notwendig, um Kinder zu schützen. „Wir müssen das sehr sorgfältig prüfen. Zwangsehen dürfen wir nicht dulden, erst recht nicht, wenn minderjährige Mädchen betroffen sind“, so Maas.\"',\n",
              "  'OVER-THRESHOLD',\n",
              "  'migranten',\n",
              "  '135',\n",
              "  '0.539771426513455'],\n",
              " ['http://de.sputniknews.comgesellschaft/20181210323239903-menschenrechte-flucht-migration-pakt',\n",
              "  'http://web.archive.org/web/20181210233556/https://de.sputniknews.com/amp/gesellschaft/20181210323239903-menschenrechte-flucht-migration-pakt/',\n",
              "  '20181210',\n",
              "  'Gibt es ein Menschenrecht auf Migration?',\n",
              "  '{                    \\\\vars\\\\\": {                        \\\\\"counterId\\\\\": \\\\\"27090206\\\\\"                    }                }                                    {                            \\\\\"requests\\\\\": {                                \\\\\"pageview\\\\\": \\\\\"http://web.archive.org/web/20181210233556/https://counter.yadro.ru/hit;RS_Total/Sputniki_Total/Sputniknews?u${ampdocUrl};r${documentReferrer};s${screenWidth}*${screenHeight}*32;h${title};${random}\\\\\"                            },                            \\\\\"triggers\\\\\": {                                \\\\\"track pageview\\\\\": {                                    \\\\\"on\\\\\": \\\\\"visible\\\\\",                                    \\\\\"request\\\\\": \\\\\"pageview\\\\\"                                }                            }                        }                    Alle NachrichtenGesellschaft                        ©                    AP Photo/ Marko DrobnjakovicGibt es ein Menschenrecht auf Migration?20:01 10.12.2018Zum KurzlinkPaul LinkeMigration sei kein Menschenrecht, erklärte FPÖ-Chef Heinz-Christian Strache. Damit begründete er unter anderem den Rückzug Österreichs aus dem globalen Migrationspakt der Vereinten Nationen, der nun verabschiedet wurde. Hatte der österreichische Vizekanzler auch wirklich Recht? Zum 70. Jahrestag der UN-Menschenrechte klärt Sputnik auf.Am Montag feiert die Welt ein wichtiges Jubiläum. Die Menschenrechte werden 70 Jahre alt. Am 10. Dezember 1948 einigten sich die Mitglieder der Vereinten Nationen auf die „Allgemeine Erklärung der Menschenrechte“ (AEMR). Heute beziehen sich die meisten demokratischen Staaten auf dieses Dokument.Auch ein anderes Abkommen erblickte am Montag das Licht der Welt. Der sogenannte „Globale Pakt für eine sichere, geordnete und reguläre Migration“. Genau wie bei der Menschenrechtserklärung handelt es sich auch beim UN-Migrationspakt um eine\\xa0 „unverbindliche Vereinbarung“ der Vereinten Nationen. In Marrakesch haben am Montag 164 Staaten den umstrittenen Migrationspakt, an dem 192 Staaten beteiligt waren, offiziell verabschiedet. Die USA nahmen an den Verhandlungen gar nicht erst teil. Mehrere Regierungen lehnten das Papier in\\xa0den letzten Wochen ab. Darunter befinden sich Ungarn, Polen, Tschechien, Bulgarien, Australien, die Slowakei, Israel und Österreich.>>>Andere Sputnik-Artikel: Uno nimmt umstrittenen Migrationspakt an<<<FPÖ-Vize: „Migration ist kein Menschenrecht“Die österreichische Begründung für den Rückzug lautete unter anderem: „Migration ist und darf auch kein Menschenrecht werden“, sagte Vizekanzler Heinz-Christian Strache (FPÖ).                        ©                    AP Photo/ Olmo Calvo„Ein zynisches Spiel“ – Warum der Migrationspakt keine Lösung istDer Aussage stimmt auch Geschäftsmann und ÖVP-Mitglied, Freiherr Norbert van Handel, zu. Migration sei „natürlich“ kein Menschenrecht. „Wir haben eine ganz genaue Definition von Menschenrechten. Freie Meinung, Zugang zum ordentlichen Gericht.“ Auch Reisefreiheit sei zwar ein Menschenrecht, aber eine Reisefreiheit mit dem Ziel, sich in\\xa0einem Land auf Dauer niederzulassen, sei definitiv kein Menschenrecht, erklärte van Handel gegenüber Sputnik.Ob das auch so stimmt, wollte die Sputnik-Redaktion überprüfen. Als Migration versteht man zunächst allgemein eine „Abwanderung in\\xa0ein anderes Land, in\\xa0eine andere Gegend, an einen anderen Ort“, so die „Bedeutungsübersicht“ des Dudens. Damit stellt per Definition auch eine Flucht aus dem eigenen Land aus jedweden Gründen zunächst eine Migration dar.Asyl als MenschenrechtDie Allgemeine Erklärung der Menschenrechte besteht aus 30 Artikeln. Zwei davon beschäftigen sich direkt mit dem Begriff Migration. So der Artikel 13, der auf die Auswanderungsfreiheit eingeht. Dort heißt es dazu: „Jeder hat das Recht, jedes Land, einschließlich seines eigenen, zu verlassen und in\\xa0sein Land zurückzukehren.“Im Artikel 14, der das Menschenrecht auf Asyl beschreibt, heißt es: „Jeder hat das Recht, in\\xa0anderen Ländern vor Verfolgung Asyl zu suchen und zu genießen.“ Im Falle einer Strafverfolgung, „die tatsächlich auf Grund von Verbrechen nichtpolitischer Art oder auf Grund von Handlungen erfolgt, die gegen die Ziele und Grundsätze der Vereinten Nationen verstoßen“, könne jedoch dieses Recht nicht in\\xa0Anspruch genommen werden.So werde Migration zu einem Menschenrecht, spätestens wenn Menschenleben durch äußere Faktoren wie Krieg und andere Katastrophen in\\xa0Gefahr seien, bestätigt der Politikwissenschaftler von der Universität Wien, Prof. Dr. Otmar Höll, im Sputnik-Interview. „Wir haben die Genfer Flüchtlingskonvention, wir haben den Menschenrechtspakt, die in\\xa0diese Richtung weisen. Und tatsächlich sind sie völlig außer Streit zu stellen“, findet Höll.\\xa0 Er bemerkt zudem, dass Österreich seit einigen Monaten im UN-Menschenrechtsbeirat sitzt. Daher würden Straches Äußerungen und der Rückzug aus dem UN-Migrationspakt einen „Bruch mit der guten österreichischen Tradition“ bedeuten.Jedoch bezweifelt der Politologe, dass Migration zu einem Menschenrecht im völkerrechtlichen Sinn in\\xa0naher Zukunft werde könne. „Aber die Migration als solche wird man mit einer derartigen Ablehnung nicht anhalten können“, warnt Professor Höll.>>>Andere Sputnik-Artikel: Nachzug von Flüchtlingen in\\xa0Deutschland: Zahl der Visa weit unter Obergrenze<<<Flucht gleich Migration?Flüchtlinge würden nicht zu Migration gehören, behauptet gegenüber Sputnik der UNHCR-Pressereferent Martin Rentsch: „Per Definition fliehen sie vor Krieg, Folter und Menschenrechtsverletzungen. Das unterscheidet sie von Migranten.“                        ©                    AP Photo/ Emrah GurelAlleine alle Flüchtlinge in EU aufnehmen? – Berlin und Paris haben AngstDer Migrationsforscher von der Technischen Universität Dresden, Dr. Oliviero Angeli,\\xa0 definiert Flucht als „eine Form der Migration, aber nicht die einzige Form von Migration“. Es könne auch darüber diskutiert werden, wer unter dem Begriff Flüchtlinge allgemein verstanden werden kann, bemerkt Angeli. Die deutsche Regierung poche dabei sehr stark auf die Definition der Genfer Flüchtlingskonvention. Danach gilt als Flüchtling eine Person, die „aus der begründeten Furcht vor Verfolgung wegen ihrer Rasse, Religion, Nationalität, Zugehörigkeit zu einer bestimmten sozialen Gruppe oder wegen ihrer politischen Überzeugung sich außerhalb des Landes befindet, dessen Staatsangehörigkeit sie besitzt“.„Kein Recht, in\\xa0andere Länder einzuwandern“Die Frage nach der menschenrechtlichen Basis der Migration\\xa0 ist für Angeli „auf legaler Ebene relativ klar“: „Wir haben Rechte, uns innerhalb der Staaten frei zu bewegen oder aus den Staaten auszuwandern. Aber wir haben bis dato kein Recht, in\\xa0andere Länder einzuwandern. Aus moralischer Sicht kann man für dieses Recht eintreten, aber politisch ist es mittel- bis langfristig schwer umsetzbar“, erklärt der Migrationsforscher. Dass die UN-Menschenrechte bis heute keine rechtlich verbindliche Basis besitzen, schwäche die Position derjenigen, die sich für ein Recht auf Bewegungsfreiheit oder für ein Recht auf Einwanderung stark machen, betont Angeli. Dieses Recht müsse man erst in\\xa0der Menschenrechtskonvention stärker etablieren. „Doch dafür ist der politische Wille momentan nicht vorhanden“, so der Politikwissenschaftler Dr. Oliviero Angeli.Der „Globale Pakt für Migration“ wurde am Montag beim UN-Gipfeltreffen in\\xa0Marokko unterzeichnet. Das 34 Seiten umfassende Dokument soll dazu beitragen, Flucht und Migration besser zu organisieren.Das komplette Interview mit Dr. Oliviero Angeli zum Nachhören:Das komplette Interview mit Prof. Dr. Otmar Höll zum Nachhören:Diskussion\"',\n",
              "  'OVER-THRESHOLD',\n",
              "  'flüchtlingen asyl einwanderung flucht flüchtlinge flüchtling migration',\n",
              "  '1461',\n",
              "  '0.537197634217539'],\n",
              " ['http://de.sputniknews.compolitik/20151102305349847',\n",
              "  'http://web.archive.org/web/20181201040148/https://de.sputniknews.com/amp/politik/20151102305349847/',\n",
              "  '20151102',\n",
              "  'Kabul nimmt abgelehnte Asylbewerber aus Deutschland auf',\n",
              "  '{                    \\\\vars\\\\\": {                        \\\\\"counterId\\\\\": \\\\\"27090206\\\\\"                    }                }                                    {                            \\\\\"requests\\\\\": {                                \\\\\"pageview\\\\\": \\\\\"http://web.archive.org/web/20181201040148/https://counter.yadro.ru/hit;RS_Total/Sputniki_Total/Sputniknews?u${ampdocUrl};r${documentReferrer};s${screenWidth}*${screenHeight}*32;h${title};${random}\\\\\"                            },                            \\\\\"triggers\\\\\": {                                \\\\\"track pageview\\\\\": {                                    \\\\\"on\\\\\": \\\\\"visible\\\\\",                                    \\\\\"request\\\\\": \\\\\"pageview\\\\\"                                }                            }                        }                    Alle NachrichtenPolitik                        ©                    AP Photo/ Muhammed MuheisenKabul nimmt abgelehnte Asylbewerber aus Deutschland auf12:37 02.11.2015(aktualisiert  12:42 02.11.2015) Zum KurzlinkThemen: Migrationsproblem in EuropaDie afghanische Regierung hat erklärt, dass sie abgelehnte Asylbewerber aus Deutschland zurücknimmt, meldet Associated Press.Die Ankündigung der Bundesregierung, abgelehnte Asylbewerber aus Afghanistan künftig deutlich häufiger als bisher in\\xa0ihre Heimat abzuschieben, ist von der Regierung in\\xa0Kabul mit Erstaunen und Ablehnung kommentiert worden.                        ©                    AFP 2018/ Robert MichaelAufnahme der Flüchtlinge: „Trotz Finanzstärke – Probleme mentaler Art“ – SoziologeLaut dem afghanischen Minister für Flüchtlingsangelegenheiten, Sayed Hussain Alimi Balkhi weiß seine Regierung von einer solchen Entscheidung nichts. Er habe kürzlich erst einer deutschen Regierungsdelegation in\\xa0Genf gesagt, dass sich die Sicherheitslage in\\xa0Afghanistan verschlechtert habe.„Ich habe sie deshalb ausdrücklich darum gebeten, keine afghanischen Asylbewerber abzuschieben.“ Diese Bitte habe er auch im Gespräch mit dem deutschen Botschafter in\\xa0Afghanistan geäußert.                        ©                    REUTERS/ Kai PfaffenbachDeutschland: Über eine halbe Million Flüchtlinge bereits da - ZeitungDer Präsidentensprecher Safar Haschemi sagte, dass Afghanistan die Asylbewerber zuhause aufnehmen solle. Er fügte hinzu, dass Bundeskanzlerin Angela Merkel und der afghanische Präsident Ashraf Ghani diese Frage vor kurzem besprochen haben.Bis zu einer Million Flüchtlinge könnten in\\xa0diesem Jahr nach Deutschland kommen, wurde schon früher gemeldet. Nach den Angaben des afghanischen Ministeriums für Flüchtlinge und Repatriierung haben in\\xa0diesem Jahr 120.000 Menschen das Land verlassen.Diskussion\"',\n",
              "  'OVER-THRESHOLD',\n",
              "  'migrationsproblem asylbewerber flüchtlinge',\n",
              "  '801',\n",
              "  '0.536986114185067'],\n",
              " ['http://de.sputniknews.companorama/20170307314801061-EuGH-visa-urteil',\n",
              "  'http://web.archive.org/web/20170307115432/https://de.sputniknews.com/amp/panorama/20170307314801061-EuGH-visa-urteil/',\n",
              "  '20170307',\n",
              "  'EuGH-Urteil: Keine \\\\humanitären Visa\\\\\" in EU-Auslandsbotschaften\"',\n",
              "  'Die Behörde argumentierte, dass sich die Familie länger als die mit einem Visum bewilligten 90 Tage in\\xa0Belgien aufhalten wollte\\xa0— schließlich wollten die Syrer dort Asylanträge stellen. Zudem seien EU-Staaten nicht verpflichtet, alle Menschen aufzunehmen, die eine katastrophale Situation durchlebten, hieß es. Der zuständige EuGH-Generalanwalt widersprach dieser Argumentation in\\xa0einem aufsehenerregenden Gutachten. Er schrieb, die Erteilung nationaler Visa werde von einer EU-Verordnung geregelt. Damit gelte auch die Grundrechtecharta der Union. Die wiederum schreibt das Recht auf Asyl fest und verbietet Folter und andere unmenschliche und entwürdigende Behandlung\\xa0— reale Gefahren für die syrische Familie, unterstrich der Gutachter. Damit müsse ein EU-Staat in\\xa0solchen Fällen Visa zur Einreise vergeben und Schutzsuchenden die Möglichkeit geben, in\\xa0Europa Asyl zu verlangen.',\n",
              "  'OVER-THRESHOLD',\n",
              "  'asylanträge asyl',\n",
              "  '116',\n",
              "  '0.536181733211913'],\n",
              " ['http://de.sputniknews.compolitik/20170207314424623-kalifornien-trump-krieg',\n",
              "  'http://web.archive.org/web/20170209143833/https://de.sputniknews.com/amp/politik/20170207314424623-kalifornien-trump-krieg/',\n",
              "  '20170207',\n",
              "  'Kalifornien und Trump erklären einander den Krieg – WP',\n",
              "  '„Das ist lächerlich“, so Trump über Kaliforniens Initiative, ein Asyl-Staat zu werden. „Wie Sie wissen, bin ich absolut gegen diese Asyl-Städte. Sie bringen Kriminalität und es gibt viele Probleme.“ Kalifornien sei in\\xa0vieler Hinsicht „außer Kontrolle geraten“, ist der US-Staatschef überzeugt. „Offenbar stimmen mir die Wähler zu, sonst hätten sie nicht für mich gestimmt.“  Wie WP unter Verweis auf die US-Bundespolizei FBI schreibt, ist die Kriminalität in\\xa0sogenannten „Asyl-Städten“ angeblich sogar niedriger als in\\xa0anderen Ortschaften. Was ist eine „Asyl-Stadt“? In den USA gibt es derzeit laut WP etwa 60 Städte mit speziellen Asyl-Gesetzen („Asyl-Städte“ bzw. „Sanctuary Cities“), darunter Los Angeles und New York. Die Gesetzeslage variiert von Stadt zu Stadt, doch im Allgemeinen beschützt sie illegale Einwanderer, die gewaltlose Verbrechen begangen haben, davor, von den Lokalregierungen an die Bundesbehörden übergeben zu werden. Das Verüben von Kavaliersdelikten durch Migranten führt demnach nicht zwingend zu bundesstaatlichem Gewahrsam. Stadtmitarbeiter und Strafverfolgungsbehörden einer sogenannten Asyl-Stadt dürfen zudem nicht nach dem Einwanderungsstatus eines Strafverdächtigen fragen. Gegner der Verordnung argumentieren, dass diese kriminelle Zuwanderer vor der Abschiebung bewahre.',\n",
              "  'OVER-THRESHOLD',\n",
              "  'migranten',\n",
              "  '174',\n",
              "  '0.536121189018493'],\n",
              " ['http://de.sputniknews.comgesellschaft/20180619321230321-menschenrechte-migranten-usa',\n",
              "  'http://web.archive.org/web/20181225062127/https://de.sputniknews.com/amp/gesellschaft/20180619321230321-menschenrechte-migranten-usa/',\n",
              "  '20180619',\n",
              "  'Kinder von Eltern zu trennen ist skrupellos – UN-Menschenrechtskommissar rügt USA - VIDEO',\n",
              "  '{                    \\\\vars\\\\\": {                        \\\\\"counterId\\\\\": \\\\\"27090206\\\\\"                    }                }                                    {                            \\\\\"requests\\\\\": {                                \\\\\"pageview\\\\\": \\\\\"http://web.archive.org/web/20181225062127/https://counter.yadro.ru/hit;RS_Total/Sputniki_Total/Sputniknews?u${ampdocUrl};r${documentReferrer};s${screenWidth}*${screenHeight}*32;h${title};${random}\\\\\"                            },                            \\\\\"triggers\\\\\": {                                \\\\\"track pageview\\\\\": {                                    \\\\\"on\\\\\": \\\\\"visible\\\\\",                                    \\\\\"request\\\\\": \\\\\"pageview\\\\\"                                }                            }                        }                    Alle NachrichtenGesellschaftKinder von Eltern zu trennen ist skrupellos – UN-Menschenrechtskommissar rügt USA - VIDEOВаш браузер не поддерживает данный формат видео                        ©                    Sputnik/ 14:53 19.06.2018(aktualisiert  18:57 19.06.2018) Zum KurzlinkDer Hochkommissar der Vereinten Nationen für Menschenrechte hat die USA für ihre Praxis gerügt, beim illegalen Grenzübertritt an der mexikanischen Grenze festgenommene Migranten von ihren Kindern zu trennen. Die Idee, Kinder für das Verhalten ihrer Eltern zu bestrafen und diese durch die Misshandlung der Kinder abzuschrecken, sei skrupellos.Der UN-Hochkommissar für Menschenrechte, Zeid Ra’ad Al Hussein, hat in\\xa0Genf die USA scharf angegriffen. Bezugnehmend auf die jüngst forcierte Praxis, an der mexikanisch-US-amerikanischen Grenze festgenommene illegale Einwanderer von ihren Kindern zu trennen, sprach Al Hussein von einer „grausamen Praxis“, die „irreparable Schäden mit lebenslangen Folgen“ nach sich ziehen könnte.\\xa0 Wörtlich sagte der Hochkommissar an die Adresse der US-Regierung: „Die Idee, dass ein Staat versucht, Eltern dadurch abzuschrecken, indem Kindern eine solche Misshandlung zugefügt wird, ist skrupellos.“>>Andere Sputnik-Artikel: Trump: „Menschen in\\xa0Deutschland wenden sich gegen ihre Regierung“Die im Video dokumentierte Passage der Erklärung von Zeid Ra’ad Al Hussein im Wortlaut:„In the United States, I am deeply concerned by\\xa0recently adopted policies which punish children for\\xa0that parent’s actions. In the past\\xa0six weeks, nearly 2,000 children have been forcibly separated from\\xa0their parents. The American Association of\\xa0Pediatrics [APP] has called this cruel practice \\'government-sanctioned child abuse\\' which may cause \\'irreparable harm\\' with \\'lifelong consequences\\'. The thought that any state would seek to\\xa0deter parents by\\xa0inflicting such abuse on\\xa0children is unconscionable. I call on\\xa0the United States to\\xa0immediately end the practice of\\xa0forcible separation of\\xa0these children, and I encourage the government to\\xa0at last ratify the [UN] Convention on\\xa0the Rights of\\xa0the Child, in\\xa0order to\\xa0ensure that the fundamental rights of\\xa0all children, whatever their administrative status, will be at\\xa0the centre of\\xa0all domestic laws and policies.”                        ©                    REUTERS/ Jorge Duenes„Migranten-Karawane“ trifft an Mexikos Grenze zu USA ein – VIDEO“Ich bin zutiefst besorgt über die aktuell in\\xa0den Vereinigten Staaten angewandte Praxis, Kinder für Handlungen ihrer Eltern zu bestrafen. In den vergangenen sechs Wochen wurden beinahe 2.000 Kinder gewaltsam von ihren Eltern getrennt. Die Amerikanische Vereinigung für Kinderheilkunde (APP) nennt diese grausame Praxis „staatlich sanktionierte Kindesmisshandlung, die irreparable Schäden mit lebenslangen Folgen hervorrufen könne“. Die Idee, dass ein Staat versucht, Eltern dadurch abzuschrecken, indem Kindern eine solche Misshandlung zugefügt wird, ist skrupellos. Ich rufe die Vereinigten Staaten auf, unverzüglich die Praxis der gewaltsamen Trennung dieser Kinder zu beenden, und ich ermutige die Regierung, endlich die UN-Konvention für die Rechte der Kinder zu ratifizieren, um sicherzustellen, dass die fundamentalen Rechte aller Kinder, gleich welchen administrativen Status, im Zentrum aller öffentlichen Gesetze und Politik stehen.“>>Andere Sputnik-Artikel: Trump will Migranten „von überall her“Diskussion\"',\n",
              "  'OVER-THRESHOLD',\n",
              "  'einwanderer migranten',\n",
              "  '980',\n",
              "  '0.533417092483392'],\n",
              " ['http://de.sputniknews.compolitik/20180914322316830-eu-ungarn-grenzen-kontrolle',\n",
              "  'http://web.archive.org/web/20180914185523/https://de.sputniknews.com/amp/politik/20180914322316830-eu-ungarn-grenzen-kontrolle/',\n",
              "  '20180914',\n",
              "  'EU will Ungarn „Recht auf Kontrolle eigener Grenzen entziehen” – Orban',\n",
              "  'Das EU-Rechtsstaatsverfahren gegen Ungarn stellt nicht die „geringste Gefahr“ für das Land dar, wie Ungarns Ministerpräsident Viktor Orban in einem Interview mit dem Radiosender Kossuth erklärte. Am vergangenen Mittwoch hat das Europäische Parlament dem Antrag auf ein Strafverfahren gegen Ungarn wegen Verstößen gegen europäische Normen und Prinzipien der Rechtshoheit zugestimmt. Das Europaparlament behandelt erstmals ein Dokument, in\\xa0dem es um die Anwendung von Artikel 7 des EU-Vertrages gegen Ungarn geht. >>>Weitere Sputnik-Artikel: „Dafür würde ich aus dem Amt gejagt“ – Orban zu Merkels Flüchtlingspolitik  „Sie (die EU – Anm. d. Red.) haben einen Plan: Wenn sie Ungarn nicht zur Aufnahme von Flüchtlingen zwingen können, werden sie dem Land das Recht auf Kontrolle der eigenen Grenzen entziehen“, sagte Orban. In Brüssel werden die ungarischen Behörden vor allem für die Weigerung kritisiert, die Entscheidungen der Europäischen Union im Bereich Migrationspolitik zu erfüllen. Mitte Juli hatte die Europäische Kommission beim Europäischen Gerichtshof bereits eine Beschwerde gegen Ungarn eingereicht, da es die EU-Vorschriften zur Asylgewährung für Flüchtlinge nicht befolgt hatte. >>>Weitere Sputnik-Artikel: EU-Kommission reicht beim Europäischen Gerichtshof Klage gegen Ungarn ein',\n",
              "  'OVER-THRESHOLD',\n",
              "  'flüchtlingen flüchtlingspolitik flüchtlinge',\n",
              "  '179',\n",
              "  '0.532563413304608'],\n",
              " ['http://de.sputniknews.com/german.ruvr.ru/2013_11_06/Festung-Europa-von-Migranten-und-Fluchtlingen-3563',\n",
              "  'http://web.archive.org/web/20150722052852/http://de.sputniknews.com/german.ruvr.ru/2013_11_06/Festung-Europa-von-Migranten-und-Fluchtlingen-3563/',\n",
              "  '20131106',\n",
              "  'Festung Europa - von Migranten und Flüchtlingen',\n",
              "  'Foto: Aziz Bozkurt STIMME RUSSLANDS Flüchtlinge im Hungerstreik vor dem Brandenburger Tor, Tote in Lampedusa, unerwünschte Asylanten in Hellersdorf und Schneeberg, von Abschiebung bedrohte Asylbewerber in Hamburg. Schottet Europa sich ab? Nimmt Deutschland genug Flüchtlinge auf? Auf diese und andere Fragen antwortet bei uns im Studio Aziz Bozkurt, Landesvorsitzender der AG Migration und Vielfalt in der SPD Berlin.',\n",
              "  'OVER-THRESHOLD',\n",
              "  'migration asylbewerber flüchtlinge',\n",
              "  '61',\n",
              "  '0.532312736405033'],\n",
              " ['http://de.sputniknews.companorama/20170715316608060-fluechtlinge-selbstanzeigen-terror',\n",
              "  'http://web.archive.org/web/20170715150527/https://de.sputniknews.com/amp/panorama/20170715316608060-fluechtlinge-selbstanzeigen-terror/',\n",
              "  '20170715',\n",
              "  'Selbstanzeigen unter Flüchtlingen „wegen Terrors“ wuchern – aus bizarrem Grund',\n",
              "  'Mehr als 408.000 Asylanträge hat das Bundesamt für Migration und Flüchtlinge (BAMF) im ersten Halbjahr 2017 entschieden – rund 44 Prozent mehr als im gleichen Zeitraum des Vorjahres, berichtet die „Welt“. „Mit den Selbstanzeigen wegen Terrors in\\xa0laufenden Asylverfahren ist eine massive neue Belastung auf die Strafverfolgungsbehörden zugekommen“, so Stuttgarts Generalstaatsanwalt Achim Brauneisen.  Wie die „Welt“ schreibt, wollen viele Asylbewerber mit der Selbstbezichtigung einer Zwangsmitgliedschaft in\\xa0einer islamistischen Gruppierung der Abschiebung entgehen. Dabei würden sie auf den sogenannten subsidiären Schutz hoffen. Der subsidiäre Schutz ist dann gewährt, wenn die Rückkehr eines Asylbewerbers ins Heimatland zu gefährlich ist. Genauer gesagt, wenn ein Ausländer stichhaltige Gründe für die Annahme vorgebracht hat, dass ihm in\\xa0seinem Herkunftsland ein schwerer Schaden droht – beispielsweise Todesstrafe, Folter, unmenschliche oder erniedrigende Behandlung bzw. Bestrafung.',\n",
              "  'OVER-THRESHOLD',\n",
              "  'asylanträge migration asylbewerber flüchtlinge',\n",
              "  '128',\n",
              "  '0.53192302021476']]"
            ]
          },
          "execution_count": 23,
          "metadata": {},
          "output_type": "execute_result"
        }
      ],
      "source": [
        "savelist # list of lists"
      ]
    },
    {
      "cell_type": "code",
      "execution_count": 24,
      "metadata": {
        "id": "Dlp5M072wWn_"
      },
      "outputs": [
        {
          "data": {
            "text/plain": [
              "20"
            ]
          },
          "execution_count": 24,
          "metadata": {},
          "output_type": "execute_result"
        }
      ],
      "source": [
        "len(savelist)"
      ]
    },
    {
      "cell_type": "code",
      "execution_count": 25,
      "metadata": {
        "id": "FqT5ccoTwWn_"
      },
      "outputs": [
        {
          "name": "stdout",
          "output_type": "stream",
          "text": [
            "['http://de.sputniknews.compolitik/20160107306965193-Lindner-Merkel-Migrationspolitik-Chaos-Einwanderungsgesetz', 'http://web.archive.org/web/20170227192503/https://de.sputniknews.com/amp/politik/20160107306965193-Lindner-Merkel-Migrationspolitik-Chaos-Einwanderungsgesetz/', '20160107', 'FDP-Chef Lindner: Merkels Flüchtlingspolitik führt Europa ins Chaos', 'Der Satz „Wir schaffen das“ der Bundeskanzlerin ersetze kein Regierungshandeln, so Lindner. Seiner Meinung nach ist ein „rationales, humanitäres, europäisch abgestimmtes Einwanderungsgesetz“ nötig, welches eine systematisierte Registrierung von Flüchtlingen und deren legale Integration ermöglichen würde. Die CDU/CSU-Politiker hatten von Merkel wiederholt gefordert, den Migranten-Zustrom zu begrenzen. Doch die Kanzlerin hat sich bislang geweigert, eine Obergrenze für Flüchtlinge festzulegen, was die Grenzschließung für neu ankommende Migranten bedeuten würde.', 'OVER-THRESHOLD', 'flüchtlingen migranten flüchtlinge', '70', '0.572646110198091']\n"
          ]
        }
      ],
      "source": [
        "#we can check the items of the list we created\n",
        "article1=savelist[0]\n",
        "print(article1)"
      ]
    },
    {
      "cell_type": "code",
      "execution_count": 26,
      "metadata": {
        "id": "xRwGbMj0wWoC"
      },
      "outputs": [
        {
          "data": {
            "text/plain": [
              "'20160107'"
            ]
          },
          "execution_count": 26,
          "metadata": {},
          "output_type": "execute_result"
        }
      ],
      "source": [
        "#access items from a list\n",
        "article1[2]"
      ]
    },
    {
      "cell_type": "markdown",
      "metadata": {
        "id": "3l2ozUvKpmVJ"
      },
      "source": [
        "#  Load several texts\n"
      ]
    },
    {
      "cell_type": "markdown",
      "metadata": {
        "id": "zObnt5IyroMo"
      },
      "source": [
        "## Glob Module "
      ]
    },
    {
      "cell_type": "code",
      "execution_count": 27,
      "metadata": {
        "collapsed": true,
        "id": "tFLbAndKpmVJ"
      },
      "outputs": [],
      "source": [
        "import glob"
      ]
    },
    {
      "cell_type": "markdown",
      "metadata": {
        "id": "kot54FlIpmVK"
      },
      "source": [
        "### Lets print the filenames in a certain folder"
      ]
    },
    {
      "cell_type": "code",
      "execution_count": 29,
      "metadata": {
        "id": "M6ONNnxNpmVK"
      },
      "outputs": [
        {
          "name": "stdout",
          "output_type": "stream",
          "text": [
            "Data\\Data Day 4\\sputnik11.txt\n",
            "Data\\Data Day 4\\text1.txt\n",
            "Data\\Data Day 4\\text10\n",
            "Data\\Data Day 4\\text10.tsv\n",
            "Data\\Data Day 4\\text2.txt\n",
            "Data\\Data Day 4\\text3.txt\n",
            "Data\\Data Day 4\\text4.txt\n",
            "Data\\Data Day 4\\text5.txt\n",
            "Data\\Data Day 4\\text6.txt\n",
            "Data\\Data Day 4\\text7.txt\n",
            "Data\\Data Day 4\\text8.txt\n",
            "Data\\Data Day 4\\text9.txt\n",
            "Data\\Data Day 4\\trump.json\n"
          ]
        }
      ],
      "source": [
        "for fname in glob.glob(\"Data\\Data Day 4\\*\"):\n",
        "    print(fname)"
      ]
    },
    {
      "cell_type": "markdown",
      "metadata": {
        "id": "mhd3KKyIpmVK"
      },
      "source": [
        "### How do we only filter txt files?"
      ]
    },
    {
      "cell_type": "code",
      "execution_count": 31,
      "metadata": {},
      "outputs": [
        {
          "name": "stdout",
          "output_type": "stream",
          "text": [
            "Data\\Data Day 4\\sputnik11.txt\n",
            "Data\\Data Day 4\\text1.txt\n",
            "Data\\Data Day 4\\text2.txt\n",
            "Data\\Data Day 4\\text3.txt\n",
            "Data\\Data Day 4\\text4.txt\n",
            "Data\\Data Day 4\\text5.txt\n",
            "Data\\Data Day 4\\text6.txt\n",
            "Data\\Data Day 4\\text7.txt\n",
            "Data\\Data Day 4\\text8.txt\n",
            "Data\\Data Day 4\\text9.txt\n"
          ]
        }
      ],
      "source": [
        "for fname in glob.glob(\"Data\\Data Day 4\\*.txt\"):\n",
        "    print(fname)"
      ]
    },
    {
      "cell_type": "markdown",
      "metadata": {
        "id": "O-LLCeJApmVK"
      },
      "source": [
        "### we want the files that have the same name"
      ]
    },
    {
      "cell_type": "code",
      "execution_count": 32,
      "metadata": {
        "collapsed": true,
        "id": "VfbfjMulpmVL"
      },
      "outputs": [
        {
          "name": "stdout",
          "output_type": "stream",
          "text": [
            "Data/Data Day 4\\text1.txt\n",
            "Data/Data Day 4\\text2.txt\n",
            "Data/Data Day 4\\text3.txt\n",
            "Data/Data Day 4\\text4.txt\n",
            "Data/Data Day 4\\text5.txt\n",
            "Data/Data Day 4\\text6.txt\n",
            "Data/Data Day 4\\text7.txt\n",
            "Data/Data Day 4\\text8.txt\n",
            "Data/Data Day 4\\text9.txt\n"
          ]
        }
      ],
      "source": [
        "for fname in glob.glob(\"Data/Data Day 4/text?.txt\"):\n",
        "    print(fname)"
      ]
    },
    {
      "cell_type": "markdown",
      "metadata": {
        "id": "7yBc7LwVpmVL"
      },
      "source": [
        "## OS Module\n",
        "\n",
        "Very powerful:\n",
        "\n",
        "1. can create and remove directories\n",
        "2. check if something is in a directory\n",
        "3. can rename files (os.rename())\n",
        "\n",
        "and much more\n"
      ]
    },
    {
      "cell_type": "markdown",
      "metadata": {
        "id": "Iq7b_uolpmVL"
      },
      "source": [
        "### Windows users"
      ]
    },
    {
      "cell_type": "code",
      "execution_count": 54,
      "metadata": {
        "id": "1L81xqiVpmVL"
      },
      "outputs": [
        {
          "name": "stdout",
          "output_type": "stream",
          "text": [
            "\\home\\Documents\n"
          ]
        }
      ],
      "source": [
        "#for windows users to get a path\n",
        "# please use forward slashes\n",
        "\n",
        "import os\n",
        "path = '/home/./Documents'\n",
        "norm_path = os.path.normpath(path) \n",
        "print(norm_path)"
      ]
    },
    {
      "cell_type": "markdown",
      "metadata": {
        "id": "whbOrnpXpmVL"
      },
      "source": [
        "### Get my working directory"
      ]
    },
    {
      "cell_type": "code",
      "execution_count": 55,
      "metadata": {
        "id": "0xdckXOZpmVL"
      },
      "outputs": [
        {
          "name": "stdout",
          "output_type": "stream",
          "text": [
            "c:\\Users\\tbrai\\Dropbox\\github_private\\PythonSocialDataScience\\Session4\n"
          ]
        }
      ],
      "source": [
        "import os\n",
        "#which directory am I using right now\n",
        "print(os.getcwd())"
      ]
    },
    {
      "cell_type": "markdown",
      "metadata": {
        "id": "9MRHRG69pmVM"
      },
      "source": [
        "### Check if I am pointing at the correct file"
      ]
    },
    {
      "cell_type": "code",
      "execution_count": 56,
      "metadata": {
        "id": "HHM9CH_1pmVM"
      },
      "outputs": [
        {
          "data": {
            "text/plain": [
              "'ihaveadream.txt'"
            ]
          },
          "execution_count": 56,
          "metadata": {},
          "output_type": "execute_result"
        }
      ],
      "source": [
        "# let's use a filepath for testing it out:\n",
        "filepath = \"ihaveadream.txt\"\n",
        "filepath\n",
        "\n",
        "os.path.basename(filepath)"
      ]
    },
    {
      "cell_type": "markdown",
      "metadata": {
        "id": "P68YEP2FpmVM"
      },
      "source": [
        "### Check what files are in my directory"
      ]
    },
    {
      "cell_type": "code",
      "execution_count": 57,
      "metadata": {
        "id": "UlqCZie9pmVM"
      },
      "outputs": [
        {
          "data": {
            "text/plain": [
              "['sputnik11.txt',\n",
              " 'text1.txt',\n",
              " 'text10',\n",
              " 'text10.tsv',\n",
              " 'text2.txt',\n",
              " 'text3.txt',\n",
              " 'text4.txt',\n",
              " 'text5.txt',\n",
              " 'text6.txt',\n",
              " 'text7.txt',\n",
              " 'text8.txt',\n",
              " 'text9.txt',\n",
              " 'trump.json']"
            ]
          },
          "execution_count": 57,
          "metadata": {},
          "output_type": "execute_result"
        }
      ],
      "source": [
        "\n",
        "#check what is inside a directory\n",
        "os.listdir(\"Data/Data Day 4/\")"
      ]
    },
    {
      "cell_type": "code",
      "execution_count": null,
      "metadata": {
        "id": "ZP7MudGYSNnY"
      },
      "outputs": [],
      "source": [
        "#how to load all csv files containg text and save them in a list"
      ]
    },
    {
      "cell_type": "markdown",
      "metadata": {
        "id": "h8xiGjRLpmVH"
      },
      "source": [
        "# Mini explanations: Outputting data"
      ]
    },
    {
      "cell_type": "markdown",
      "metadata": {
        "id": "Aq5Hdr6VpmVI"
      },
      "source": [
        "## Lists"
      ]
    },
    {
      "cell_type": "code",
      "execution_count": 59,
      "metadata": {
        "collapsed": true,
        "id": "dmP7k3tbpmVI"
      },
      "outputs": [],
      "source": [
        "list2=[\"object1\",'object2']"
      ]
    },
    {
      "cell_type": "code",
      "execution_count": 62,
      "metadata": {
        "id": "KpsQh8UfnUGG"
      },
      "outputs": [],
      "source": [
        "import csv \n",
        "\n",
        "with open(\"out.csv\", \"w\") as f:\n",
        "    wr=csv.writer(f, delimiter = \"0\")\n",
        "    wr.writerow(list2)"
      ]
    },
    {
      "cell_type": "markdown",
      "metadata": {
        "id": "xeeyRqvapmVJ"
      },
      "source": [
        "## Strings"
      ]
    },
    {
      "cell_type": "code",
      "execution_count": null,
      "metadata": {
        "id": "EtgvjdJLpmVJ"
      },
      "outputs": [],
      "source": [
        "filepath = \"/content/drive/MyDrive/Colab Notebooks/Oxford Text Analysis 22/Python QTA Drive Oxford 2022/Data/ihaveadream.txt\"\n",
        "text=open(filepath)\n",
        "text=text.read()\n",
        "text"
      ]
    },
    {
      "cell_type": "code",
      "execution_count": null,
      "metadata": {
        "collapsed": true,
        "id": "KTraQnnEpmVN"
      },
      "outputs": [],
      "source": []
    },
    {
      "cell_type": "markdown",
      "metadata": {
        "id": "dxQghGUmtd2E"
      },
      "source": [
        "**Lets load our needed libraries**"
      ]
    },
    {
      "cell_type": "code",
      "execution_count": 63,
      "metadata": {
        "collapsed": true,
        "id": "5fWDXSZdtd2F"
      },
      "outputs": [],
      "source": [
        "#numpy\n",
        "import numpy as np\n",
        "from numpy import *\n",
        "from numpy import random # random data\n",
        "\n",
        "#pandas\n",
        "import pandas as pd\n",
        "\n",
        "#plotting with matplotlib\n",
        "import matplotlib.pyplot as plt\n",
        "%matplotlib inline\n",
        "\n"
      ]
    },
    {
      "cell_type": "markdown",
      "metadata": {
        "id": "Qhbas_4Dtd2F"
      },
      "source": [
        "# **Pandas**"
      ]
    },
    {
      "cell_type": "markdown",
      "metadata": {
        "id": "6ZW5x0Aetd2F"
      },
      "source": [
        "\n",
        "![pandas1](https://media.giphy.com/media/Wa5JDuv6kzoTC/giphy.gif)\n"
      ]
    },
    {
      "cell_type": "markdown",
      "metadata": {
        "id": "SwUxqvTXtd2G"
      },
      "source": [
        "## Why is Pandas AMAZING?"
      ]
    },
    {
      "cell_type": "markdown",
      "metadata": {
        "id": "C9qxYdkjtd2G"
      },
      "source": [
        "1. super easy loading in data\n",
        "2. easy data cleaning\n",
        "3. easy data manipulation\n",
        "4. easy merging and extraction\n"
      ]
    },
    {
      "cell_type": "code",
      "execution_count": 64,
      "metadata": {
        "id": "6cgbhIvuaGVg"
      },
      "outputs": [],
      "source": [
        "import pandas as pd"
      ]
    },
    {
      "cell_type": "code",
      "execution_count": 65,
      "metadata": {
        "id": "vlr_570DZ_Rz"
      },
      "outputs": [
        {
          "name": "stdout",
          "output_type": "stream",
          "text": [
            "\u001b[1;31mInit signature:\u001b[0m\n",
            "\u001b[0mpd\u001b[0m\u001b[1;33m.\u001b[0m\u001b[0mSeries\u001b[0m\u001b[1;33m(\u001b[0m\u001b[1;33m\n",
            "\u001b[0m    \u001b[0mdata\u001b[0m\u001b[1;33m=\u001b[0m\u001b[1;32mNone\u001b[0m\u001b[1;33m,\u001b[0m\u001b[1;33m\n",
            "\u001b[0m    \u001b[0mindex\u001b[0m\u001b[1;33m=\u001b[0m\u001b[1;32mNone\u001b[0m\u001b[1;33m,\u001b[0m\u001b[1;33m\n",
            "\u001b[0m    \u001b[0mdtype\u001b[0m\u001b[1;33m:\u001b[0m \u001b[1;34m'Dtype | None'\u001b[0m \u001b[1;33m=\u001b[0m \u001b[1;32mNone\u001b[0m\u001b[1;33m,\u001b[0m\u001b[1;33m\n",
            "\u001b[0m    \u001b[0mname\u001b[0m\u001b[1;33m=\u001b[0m\u001b[1;32mNone\u001b[0m\u001b[1;33m,\u001b[0m\u001b[1;33m\n",
            "\u001b[0m    \u001b[0mcopy\u001b[0m\u001b[1;33m:\u001b[0m \u001b[1;34m'bool'\u001b[0m \u001b[1;33m=\u001b[0m \u001b[1;32mFalse\u001b[0m\u001b[1;33m,\u001b[0m\u001b[1;33m\n",
            "\u001b[0m    \u001b[0mfastpath\u001b[0m\u001b[1;33m:\u001b[0m \u001b[1;34m'bool'\u001b[0m \u001b[1;33m=\u001b[0m \u001b[1;32mFalse\u001b[0m\u001b[1;33m,\u001b[0m\u001b[1;33m\n",
            "\u001b[0m\u001b[1;33m)\u001b[0m\u001b[1;33m\u001b[0m\u001b[1;33m\u001b[0m\u001b[0m\n",
            "\u001b[1;31mDocstring:\u001b[0m     \n",
            "One-dimensional ndarray with axis labels (including time series).\n",
            "\n",
            "Labels need not be unique but must be a hashable type. The object\n",
            "supports both integer- and label-based indexing and provides a host of\n",
            "methods for performing operations involving the index. Statistical\n",
            "methods from ndarray have been overridden to automatically exclude\n",
            "missing data (currently represented as NaN).\n",
            "\n",
            "Operations between Series (+, -, /, \\*, \\*\\*) align values based on their\n",
            "associated index values-- they need not be the same length. The result\n",
            "index will be the sorted union of the two indexes.\n",
            "\n",
            "Parameters\n",
            "----------\n",
            "data : array-like, Iterable, dict, or scalar value\n",
            "    Contains data stored in Series. If data is a dict, argument order is\n",
            "    maintained.\n",
            "index : array-like or Index (1d)\n",
            "    Values must be hashable and have the same length as `data`.\n",
            "    Non-unique index values are allowed. Will default to\n",
            "    RangeIndex (0, 1, 2, ..., n) if not provided. If data is dict-like\n",
            "    and index is None, then the keys in the data are used as the index. If the\n",
            "    index is not None, the resulting Series is reindexed with the index values.\n",
            "dtype : str, numpy.dtype, or ExtensionDtype, optional\n",
            "    Data type for the output Series. If not specified, this will be\n",
            "    inferred from `data`.\n",
            "    See the :ref:`user guide <basics.dtypes>` for more usages.\n",
            "name : str, optional\n",
            "    The name to give to the Series.\n",
            "copy : bool, default False\n",
            "    Copy input data. Only affects Series or 1d ndarray input. See examples.\n",
            "\n",
            "Examples\n",
            "--------\n",
            "Constructing Series from a dictionary with an Index specified\n",
            "\n",
            ">>> d = {'a': 1, 'b': 2, 'c': 3}\n",
            ">>> ser = pd.Series(data=d, index=['a', 'b', 'c'])\n",
            ">>> ser\n",
            "a   1\n",
            "b   2\n",
            "c   3\n",
            "dtype: int64\n",
            "\n",
            "The keys of the dictionary match with the Index values, hence the Index\n",
            "values have no effect.\n",
            "\n",
            ">>> d = {'a': 1, 'b': 2, 'c': 3}\n",
            ">>> ser = pd.Series(data=d, index=['x', 'y', 'z'])\n",
            ">>> ser\n",
            "x   NaN\n",
            "y   NaN\n",
            "z   NaN\n",
            "dtype: float64\n",
            "\n",
            "Note that the Index is first build with the keys from the dictionary.\n",
            "After this the Series is reindexed with the given Index values, hence we\n",
            "get all NaN as a result.\n",
            "\n",
            "Constructing Series from a list with `copy=False`.\n",
            "\n",
            ">>> r = [1, 2]\n",
            ">>> ser = pd.Series(r, copy=False)\n",
            ">>> ser.iloc[0] = 999\n",
            ">>> r\n",
            "[1, 2]\n",
            ">>> ser\n",
            "0    999\n",
            "1      2\n",
            "dtype: int64\n",
            "\n",
            "Due to input data type the Series has a `copy` of\n",
            "the original data even though `copy=False`, so\n",
            "the data is unchanged.\n",
            "\n",
            "Constructing Series from a 1d ndarray with `copy=False`.\n",
            "\n",
            ">>> r = np.array([1, 2])\n",
            ">>> ser = pd.Series(r, copy=False)\n",
            ">>> ser.iloc[0] = 999\n",
            ">>> r\n",
            "array([999,   2])\n",
            ">>> ser\n",
            "0    999\n",
            "1      2\n",
            "dtype: int64\n",
            "\n",
            "Due to input data type the Series has a `view` on\n",
            "the original data, so\n",
            "the data is changed as well.\n",
            "\u001b[1;31mFile:\u001b[0m           c:\\users\\tbrai\\anaconda3\\envs\\py38\\lib\\site-packages\\pandas\\core\\series.py\n",
            "\u001b[1;31mType:\u001b[0m           type\n",
            "\u001b[1;31mSubclasses:\u001b[0m     SubclassedSeries\n"
          ]
        }
      ],
      "source": [
        "pd.Series?"
      ]
    },
    {
      "cell_type": "code",
      "execution_count": 66,
      "metadata": {
        "id": "FsJ1PTt3f-Tb"
      },
      "outputs": [
        {
          "data": {
            "text/plain": [
              "0       My\n",
              "1     name\n",
              "2       is\n",
              "3      ash\n",
              "4    hello\n",
              "dtype: object"
            ]
          },
          "execution_count": 66,
          "metadata": {},
          "output_type": "execute_result"
        }
      ],
      "source": [
        "import pandas as pd \n",
        "\n",
        "ser = pd.Series([\"My\", \"name\", \"is\", \"ash\", \"hello\"])\n",
        "ser"
      ]
    },
    {
      "cell_type": "code",
      "execution_count": 67,
      "metadata": {
        "id": "IcdmYl9egOMz"
      },
      "outputs": [
        {
          "data": {
            "text/plain": [
              "1       My\n",
              "2     name\n",
              "3       is\n",
              "4      ash\n",
              "5    hello\n",
              "dtype: object"
            ]
          },
          "execution_count": 67,
          "metadata": {},
          "output_type": "execute_result"
        }
      ],
      "source": [
        "ser = pd.Series([\"My\", \"name\", \"is\", \"ash\", \"hello\"], index = [1,2,3,4,5])\n",
        "ser"
      ]
    },
    {
      "cell_type": "markdown",
      "metadata": {
        "id": "51Yl1adcgblr"
      },
      "source": [
        "Create the data as a dict of lists:\n",
        "\n",
        "We will create again a shopping list!\n"
      ]
    },
    {
      "cell_type": "code",
      "execution_count": 68,
      "metadata": {
        "id": "jiqYxjnWgbFB"
      },
      "outputs": [],
      "source": [
        "my_data = {\n",
        "    'drygroceries': [\"pasta\", \"rice\", \"coffee\", \"beans\"],\n",
        "    'milkproducts': [\"cheese\", \"cream\", \"sour cream\", \"yogurt\"],\n",
        "    'drinks': ['tea', 'coffee', 'water', 'juice']\n",
        "}"
      ]
    },
    {
      "cell_type": "code",
      "execution_count": 69,
      "metadata": {
        "id": "WvAjajY3gklb"
      },
      "outputs": [],
      "source": [
        "\n",
        "# Index is also optional\n",
        "my_index = ['a', 'b', 'c', 'd']"
      ]
    },
    {
      "cell_type": "markdown",
      "metadata": {
        "id": "IRbLYe_Mndti"
      },
      "source": [
        "How do we transform this dictionary including the index to a -pandas- dataframe? 🐼"
      ]
    },
    {
      "cell_type": "code",
      "execution_count": 70,
      "metadata": {
        "id": "PnSdpAZYgpel"
      },
      "outputs": [
        {
          "data": {
            "text/html": [
              "<div>\n",
              "<style scoped>\n",
              "    .dataframe tbody tr th:only-of-type {\n",
              "        vertical-align: middle;\n",
              "    }\n",
              "\n",
              "    .dataframe tbody tr th {\n",
              "        vertical-align: top;\n",
              "    }\n",
              "\n",
              "    .dataframe thead th {\n",
              "        text-align: right;\n",
              "    }\n",
              "</style>\n",
              "<table border=\"1\" class=\"dataframe\">\n",
              "  <thead>\n",
              "    <tr style=\"text-align: right;\">\n",
              "      <th></th>\n",
              "      <th>drygroceries</th>\n",
              "      <th>milkproducts</th>\n",
              "      <th>drinks</th>\n",
              "    </tr>\n",
              "  </thead>\n",
              "  <tbody>\n",
              "    <tr>\n",
              "      <th>a</th>\n",
              "      <td>pasta</td>\n",
              "      <td>cheese</td>\n",
              "      <td>tea</td>\n",
              "    </tr>\n",
              "    <tr>\n",
              "      <th>b</th>\n",
              "      <td>rice</td>\n",
              "      <td>cream</td>\n",
              "      <td>coffee</td>\n",
              "    </tr>\n",
              "    <tr>\n",
              "      <th>c</th>\n",
              "      <td>coffee</td>\n",
              "      <td>sour cream</td>\n",
              "      <td>water</td>\n",
              "    </tr>\n",
              "    <tr>\n",
              "      <th>pterodactyl</th>\n",
              "      <td>beans</td>\n",
              "      <td>yogurt</td>\n",
              "      <td>juice</td>\n",
              "    </tr>\n",
              "  </tbody>\n",
              "</table>\n",
              "</div>"
            ],
            "text/plain": [
              "            drygroceries milkproducts  drinks\n",
              "a                  pasta       cheese     tea\n",
              "b                   rice        cream  coffee\n",
              "c                 coffee   sour cream   water\n",
              "pterodactyl        beans       yogurt   juice"
            ]
          },
          "execution_count": 70,
          "metadata": {},
          "output_type": "execute_result"
        }
      ],
      "source": [
        "# We can also do this without the intermediary steps\n",
        "df = pd.DataFrame(\n",
        "    data = {\n",
        "     'drygroceries': [\"pasta\", \"rice\", \"coffee\", \"beans\"],\n",
        "    'milkproducts': [\"cheese\", \"cream\", \"sour cream\", \"yogurt\"],\n",
        "    'drinks': ['tea', 'coffee', 'water', 'juice']\n",
        "    },\n",
        "    index = ['a', 'b', 'c', 'pterodactyl']\n",
        ")\n",
        "df"
      ]
    },
    {
      "cell_type": "markdown",
      "metadata": {
        "id": "pLYIH1hHtd2G"
      },
      "source": [
        "### Lets learn to load data in pandas\n",
        "\n",
        "We are going to start with yesterdays data - German Sputnik Newspaper articles"
      ]
    },
    {
      "cell_type": "markdown",
      "metadata": {
        "id": "ZVhHXqTrtd2H"
      },
      "source": [
        "**Lets try with pandas**"
      ]
    },
    {
      "cell_type": "code",
      "execution_count": 86,
      "metadata": {
        "id": "8Yw_K_mJtd2H"
      },
      "outputs": [],
      "source": [
        "sputnikdata1 = pd.read_csv(\"Data/sputnikgerman20.tsv\", sep= \"\\t\",header=None)\n",
        "\n"
      ]
    },
    {
      "cell_type": "markdown",
      "metadata": {
        "id": "qGjc58N0nrvr"
      },
      "source": [
        "**why do we get an error message?**"
      ]
    },
    {
      "cell_type": "markdown",
      "metadata": {
        "id": "YYGoYltAtd2I"
      },
      "source": [
        "## Select Column"
      ]
    },
    {
      "cell_type": "code",
      "execution_count": 87,
      "metadata": {},
      "outputs": [
        {
          "data": {
            "text/plain": [
              "0     20160107\n",
              "1     20150210\n",
              "2     20181117\n",
              "3     20181109\n",
              "4     20160306\n",
              "5     20151016\n",
              "6     20151020\n",
              "7     20140106\n",
              "8     20180813\n",
              "9     20170219\n",
              "10    20151228\n",
              "11    20160614\n",
              "12    20181210\n",
              "13    20151102\n",
              "14    20170307\n",
              "15    20170207\n",
              "16    20180619\n",
              "17    20180914\n",
              "18    20131106\n",
              "19    20170715\n",
              "Name: 2, dtype: int64"
            ]
          },
          "execution_count": 87,
          "metadata": {},
          "output_type": "execute_result"
        }
      ],
      "source": [
        "sputnikdata2=sputnikdata1[2]\n",
        "\n",
        "sputnikdata2"
      ]
    },
    {
      "cell_type": "markdown",
      "metadata": {
        "id": "IJx-yXALtd2I"
      },
      "source": [
        "### how would I select the date?"
      ]
    },
    {
      "cell_type": "markdown",
      "metadata": {
        "id": "7WQwCxsQtd2J"
      },
      "source": [
        "### Select only content and title\n"
      ]
    },
    {
      "cell_type": "code",
      "execution_count": 89,
      "metadata": {},
      "outputs": [
        {
          "data": {
            "text/html": [
              "<div>\n",
              "<style scoped>\n",
              "    .dataframe tbody tr th:only-of-type {\n",
              "        vertical-align: middle;\n",
              "    }\n",
              "\n",
              "    .dataframe tbody tr th {\n",
              "        vertical-align: top;\n",
              "    }\n",
              "\n",
              "    .dataframe thead th {\n",
              "        text-align: right;\n",
              "    }\n",
              "</style>\n",
              "<table border=\"1\" class=\"dataframe\">\n",
              "  <thead>\n",
              "    <tr style=\"text-align: right;\">\n",
              "      <th></th>\n",
              "      <th>3</th>\n",
              "      <th>4</th>\n",
              "    </tr>\n",
              "  </thead>\n",
              "  <tbody>\n",
              "    <tr>\n",
              "      <th>0</th>\n",
              "      <td>FDP-Chef Lindner: Merkels Flüchtlingspolitik f...</td>\n",
              "      <td>Der Satz „Wir schaffen das“ der Bundeskanzleri...</td>\n",
              "    </tr>\n",
              "    <tr>\n",
              "      <th>1</th>\n",
              "      <td>Experte: Rund 1,3 Millionen wehrpflichtige Ukr...</td>\n",
              "      <td>In letzter Zeit sei knapp einer halben Million...</td>\n",
              "    </tr>\n",
              "    <tr>\n",
              "      <th>2</th>\n",
              "      <td>So präzisiert Nahles ihre Idee für Hartz IV-Al...</td>\n",
              "      <td>{                    \\vars\\\": {               ...</td>\n",
              "    </tr>\n",
              "    <tr>\n",
              "      <th>3</th>\n",
              "      <td>Trump beschränkt drastisch Asylgewährung für i...</td>\n",
              "      <td>{                    \\vars\\\": {               ...</td>\n",
              "    </tr>\n",
              "    <tr>\n",
              "      <th>4</th>\n",
              "      <td>Österreich drängt auf deutsches Flüchtlingskon...</td>\n",
              "      <td>{                    \\vars\\\": {               ...</td>\n",
              "    </tr>\n",
              "    <tr>\n",
              "      <th>5</th>\n",
              "      <td>Migrationskrise: Warschau wehrt sich gegen Mer...</td>\n",
              "      <td>{                    \\vars\\\": {               ...</td>\n",
              "    </tr>\n",
              "    <tr>\n",
              "      <th>6</th>\n",
              "      <td>Flüchtlingskrise: Ist Abriegeln eine Lösung?</td>\n",
              "      <td>{                    \\vars\\\": {               ...</td>\n",
              "    </tr>\n",
              "    <tr>\n",
              "      <th>7</th>\n",
              "      <td>Großbritannien will EU-Freizügigkeit verhindern</td>\n",
              "      <td>Foto: EPA STIMME RUSSLANDS Die Regierung Großb...</td>\n",
              "    </tr>\n",
              "    <tr>\n",
              "      <th>8</th>\n",
              "      <td>Rückkehr von Flüchtlingen: Syrischer Minister ...</td>\n",
              "      <td>Der syrische Minister für lokale Verwaltung un...</td>\n",
              "    </tr>\n",
              "    <tr>\n",
              "      <th>9</th>\n",
              "      <td>USA verschärfen Asyl-Recht</td>\n",
              "      <td>Nach dem US-Gesetz „Immigration and Nationalit...</td>\n",
              "    </tr>\n",
              "    <tr>\n",
              "      <th>10</th>\n",
              "      <td>Dänemark will die Flüchtlingskonvention ändern</td>\n",
              "      <td>{                    \\vars\\\": {               ...</td>\n",
              "    </tr>\n",
              "    <tr>\n",
              "      <th>11</th>\n",
              "      <td>Glaube darf nicht über Gesetz stehen: Bundesju...</td>\n",
              "      <td>Bundesjustizminister Heiko Maas will Mehrfach-...</td>\n",
              "    </tr>\n",
              "    <tr>\n",
              "      <th>12</th>\n",
              "      <td>Gibt es ein Menschenrecht auf Migration?</td>\n",
              "      <td>{                    \\vars\\\": {               ...</td>\n",
              "    </tr>\n",
              "    <tr>\n",
              "      <th>13</th>\n",
              "      <td>Kabul nimmt abgelehnte Asylbewerber aus Deutsc...</td>\n",
              "      <td>{                    \\vars\\\": {               ...</td>\n",
              "    </tr>\n",
              "    <tr>\n",
              "      <th>14</th>\n",
              "      <td>EuGH-Urteil: Keine \\humanitären Visa\\\" in EU-A...</td>\n",
              "      <td>Die Behörde argumentierte, dass sich die Famil...</td>\n",
              "    </tr>\n",
              "    <tr>\n",
              "      <th>15</th>\n",
              "      <td>Kalifornien und Trump erklären einander den Kr...</td>\n",
              "      <td>„Das ist lächerlich“, so Trump über Kalifornie...</td>\n",
              "    </tr>\n",
              "    <tr>\n",
              "      <th>16</th>\n",
              "      <td>Kinder von Eltern zu trennen ist skrupellos – ...</td>\n",
              "      <td>{                    \\vars\\\": {               ...</td>\n",
              "    </tr>\n",
              "    <tr>\n",
              "      <th>17</th>\n",
              "      <td>EU will Ungarn „Recht auf Kontrolle eigener Gr...</td>\n",
              "      <td>Das EU-Rechtsstaatsverfahren gegen Ungarn stel...</td>\n",
              "    </tr>\n",
              "    <tr>\n",
              "      <th>18</th>\n",
              "      <td>Festung Europa - von Migranten und Flüchtlingen</td>\n",
              "      <td>Foto: Aziz Bozkurt STIMME RUSSLANDS Flüchtling...</td>\n",
              "    </tr>\n",
              "    <tr>\n",
              "      <th>19</th>\n",
              "      <td>Selbstanzeigen unter Flüchtlingen „wegen Terro...</td>\n",
              "      <td>Mehr als 408.000 Asylanträge hat das Bundesamt...</td>\n",
              "    </tr>\n",
              "  </tbody>\n",
              "</table>\n",
              "</div>"
            ],
            "text/plain": [
              "                                                    3  \\\n",
              "0   FDP-Chef Lindner: Merkels Flüchtlingspolitik f...   \n",
              "1   Experte: Rund 1,3 Millionen wehrpflichtige Ukr...   \n",
              "2   So präzisiert Nahles ihre Idee für Hartz IV-Al...   \n",
              "3   Trump beschränkt drastisch Asylgewährung für i...   \n",
              "4   Österreich drängt auf deutsches Flüchtlingskon...   \n",
              "5   Migrationskrise: Warschau wehrt sich gegen Mer...   \n",
              "6        Flüchtlingskrise: Ist Abriegeln eine Lösung?   \n",
              "7     Großbritannien will EU-Freizügigkeit verhindern   \n",
              "8   Rückkehr von Flüchtlingen: Syrischer Minister ...   \n",
              "9                          USA verschärfen Asyl-Recht   \n",
              "10     Dänemark will die Flüchtlingskonvention ändern   \n",
              "11  Glaube darf nicht über Gesetz stehen: Bundesju...   \n",
              "12           Gibt es ein Menschenrecht auf Migration?   \n",
              "13  Kabul nimmt abgelehnte Asylbewerber aus Deutsc...   \n",
              "14  EuGH-Urteil: Keine \\humanitären Visa\\\" in EU-A...   \n",
              "15  Kalifornien und Trump erklären einander den Kr...   \n",
              "16  Kinder von Eltern zu trennen ist skrupellos – ...   \n",
              "17  EU will Ungarn „Recht auf Kontrolle eigener Gr...   \n",
              "18    Festung Europa - von Migranten und Flüchtlingen   \n",
              "19  Selbstanzeigen unter Flüchtlingen „wegen Terro...   \n",
              "\n",
              "                                                    4  \n",
              "0   Der Satz „Wir schaffen das“ der Bundeskanzleri...  \n",
              "1   In letzter Zeit sei knapp einer halben Million...  \n",
              "2   {                    \\vars\\\": {               ...  \n",
              "3   {                    \\vars\\\": {               ...  \n",
              "4   {                    \\vars\\\": {               ...  \n",
              "5   {                    \\vars\\\": {               ...  \n",
              "6   {                    \\vars\\\": {               ...  \n",
              "7   Foto: EPA STIMME RUSSLANDS Die Regierung Großb...  \n",
              "8   Der syrische Minister für lokale Verwaltung un...  \n",
              "9   Nach dem US-Gesetz „Immigration and Nationalit...  \n",
              "10  {                    \\vars\\\": {               ...  \n",
              "11  Bundesjustizminister Heiko Maas will Mehrfach-...  \n",
              "12  {                    \\vars\\\": {               ...  \n",
              "13  {                    \\vars\\\": {               ...  \n",
              "14  Die Behörde argumentierte, dass sich die Famil...  \n",
              "15  „Das ist lächerlich“, so Trump über Kalifornie...  \n",
              "16  {                    \\vars\\\": {               ...  \n",
              "17  Das EU-Rechtsstaatsverfahren gegen Ungarn stel...  \n",
              "18  Foto: Aziz Bozkurt STIMME RUSSLANDS Flüchtling...  \n",
              "19  Mehr als 408.000 Asylanträge hat das Bundesamt...  "
            ]
          },
          "execution_count": 89,
          "metadata": {},
          "output_type": "execute_result"
        }
      ],
      "source": [
        "sputnikdata3 = sputnikdata1[[3,4]]\n",
        "\n",
        "sputnikdata3"
      ]
    },
    {
      "cell_type": "markdown",
      "metadata": {
        "id": "ohmDtLEJtd2J"
      },
      "source": [
        "## Select rows"
      ]
    },
    {
      "cell_type": "code",
      "execution_count": 90,
      "metadata": {},
      "outputs": [
        {
          "data": {
            "text/html": [
              "<div>\n",
              "<style scoped>\n",
              "    .dataframe tbody tr th:only-of-type {\n",
              "        vertical-align: middle;\n",
              "    }\n",
              "\n",
              "    .dataframe tbody tr th {\n",
              "        vertical-align: top;\n",
              "    }\n",
              "\n",
              "    .dataframe thead th {\n",
              "        text-align: right;\n",
              "    }\n",
              "</style>\n",
              "<table border=\"1\" class=\"dataframe\">\n",
              "  <thead>\n",
              "    <tr style=\"text-align: right;\">\n",
              "      <th></th>\n",
              "      <th>0</th>\n",
              "      <th>1</th>\n",
              "      <th>2</th>\n",
              "      <th>3</th>\n",
              "      <th>4</th>\n",
              "      <th>5</th>\n",
              "      <th>6</th>\n",
              "      <th>7</th>\n",
              "      <th>8</th>\n",
              "    </tr>\n",
              "  </thead>\n",
              "  <tbody>\n",
              "    <tr>\n",
              "      <th>0</th>\n",
              "      <td>http://de.sputniknews.compolitik/2016010730696...</td>\n",
              "      <td>http://web.archive.org/web/20170227192503/http...</td>\n",
              "      <td>20160107</td>\n",
              "      <td>FDP-Chef Lindner: Merkels Flüchtlingspolitik f...</td>\n",
              "      <td>Der Satz „Wir schaffen das“ der Bundeskanzleri...</td>\n",
              "      <td>OVER-THRESHOLD</td>\n",
              "      <td>flüchtlingen migranten flüchtlinge</td>\n",
              "      <td>70</td>\n",
              "      <td>0.572646</td>\n",
              "    </tr>\n",
              "    <tr>\n",
              "      <th>1</th>\n",
              "      <td>http://de.sputniknews.com/panorama/20150210/30...</td>\n",
              "      <td>http://web.archive.org/web/20150315163311/http...</td>\n",
              "      <td>20150210</td>\n",
              "      <td>Experte: Rund 1,3 Millionen wehrpflichtige Ukr...</td>\n",
              "      <td>In letzter Zeit sei knapp einer halben Million...</td>\n",
              "      <td>OVER-THRESHOLD</td>\n",
              "      <td>flüchtlingsstatus asyl flüchtlinge</td>\n",
              "      <td>43</td>\n",
              "      <td>0.549350</td>\n",
              "    </tr>\n",
              "    <tr>\n",
              "      <th>2</th>\n",
              "      <td>http://de.sputniknews.compolitik/2018111732299...</td>\n",
              "      <td>http://web.archive.org/web/20181117160304/http...</td>\n",
              "      <td>20181117</td>\n",
              "      <td>So präzisiert Nahles ihre Idee für Hartz IV-Al...</td>\n",
              "      <td>{                    \\vars\\\": {               ...</td>\n",
              "      <td>OVER-THRESHOLD</td>\n",
              "      <td>migration</td>\n",
              "      <td>884</td>\n",
              "      <td>0.549179</td>\n",
              "    </tr>\n",
              "    <tr>\n",
              "      <th>3</th>\n",
              "      <td>http://de.sputniknews.compolitik/2018110932290...</td>\n",
              "      <td>http://web.archive.org/web/20181123020955/http...</td>\n",
              "      <td>20181109</td>\n",
              "      <td>Trump beschränkt drastisch Asylgewährung für i...</td>\n",
              "      <td>{                    \\vars\\\": {               ...</td>\n",
              "      <td>OVER-THRESHOLD</td>\n",
              "      <td>einwanderer migranten asyl</td>\n",
              "      <td>998</td>\n",
              "      <td>0.548637</td>\n",
              "    </tr>\n",
              "  </tbody>\n",
              "</table>\n",
              "</div>"
            ],
            "text/plain": [
              "                                                   0  \\\n",
              "0  http://de.sputniknews.compolitik/2016010730696...   \n",
              "1  http://de.sputniknews.com/panorama/20150210/30...   \n",
              "2  http://de.sputniknews.compolitik/2018111732299...   \n",
              "3  http://de.sputniknews.compolitik/2018110932290...   \n",
              "\n",
              "                                                   1         2  \\\n",
              "0  http://web.archive.org/web/20170227192503/http...  20160107   \n",
              "1  http://web.archive.org/web/20150315163311/http...  20150210   \n",
              "2  http://web.archive.org/web/20181117160304/http...  20181117   \n",
              "3  http://web.archive.org/web/20181123020955/http...  20181109   \n",
              "\n",
              "                                                   3  \\\n",
              "0  FDP-Chef Lindner: Merkels Flüchtlingspolitik f...   \n",
              "1  Experte: Rund 1,3 Millionen wehrpflichtige Ukr...   \n",
              "2  So präzisiert Nahles ihre Idee für Hartz IV-Al...   \n",
              "3  Trump beschränkt drastisch Asylgewährung für i...   \n",
              "\n",
              "                                                   4               5  \\\n",
              "0  Der Satz „Wir schaffen das“ der Bundeskanzleri...  OVER-THRESHOLD   \n",
              "1  In letzter Zeit sei knapp einer halben Million...  OVER-THRESHOLD   \n",
              "2  {                    \\vars\\\": {               ...  OVER-THRESHOLD   \n",
              "3  {                    \\vars\\\": {               ...  OVER-THRESHOLD   \n",
              "\n",
              "                                    6    7         8  \n",
              "0  flüchtlingen migranten flüchtlinge   70  0.572646  \n",
              "1  flüchtlingsstatus asyl flüchtlinge   43  0.549350  \n",
              "2                           migration  884  0.549179  \n",
              "3          einwanderer migranten asyl  998  0.548637  "
            ]
          },
          "execution_count": 90,
          "metadata": {},
          "output_type": "execute_result"
        }
      ],
      "source": [
        "sputnikdata4 = sputnikdata1[0:4]\n",
        "\n",
        "sputnikdata4"
      ]
    },
    {
      "cell_type": "markdown",
      "metadata": {
        "id": "KzFPSMBgtd2M"
      },
      "source": [
        "## Exporting data from Pandas\n"
      ]
    },
    {
      "cell_type": "markdown",
      "metadata": {
        "id": "LOPvjGRDQWrZ"
      },
      "source": [
        "\n",
        "\n",
        "```\n",
        "# This is formatted as code\n",
        "```\n",
        "\n",
        "## Rename Columns\n",
        "\n"
      ]
    },
    {
      "cell_type": "code",
      "execution_count": null,
      "metadata": {
        "id": "t27XfwVfUx6S"
      },
      "outputs": [],
      "source": [
        "import pandas as pd \n",
        "import numpy as np\n",
        "\n",
        "df = pd.read_csv('/content/drive/MyDrive/Colab Notebooks/Oxford Text Analysis 22/Python QTA Drive Oxford 2022/Data/sputnikgerman20.tsv',sep='\\t',header=None)\n",
        "df"
      ]
    },
    {
      "cell_type": "code",
      "execution_count": null,
      "metadata": {
        "id": "LCh53J71W7Rk"
      },
      "outputs": [],
      "source": [
        "\n",
        "#what if I want to rename colimns?\n",
        "\n",
        "colnamedic = {0:\"link\", 1:\"link2\", 2:\"fleeb\", 3:\"slunk\"}\n",
        "\n",
        "sputnikdata1 = sputnikdata1.rename(colnamedic,axis=1)"
      ]
    },
    {
      "cell_type": "markdown",
      "metadata": {
        "id": "4Be418fmoefR"
      },
      "source": [
        "## Combining Datasets\n",
        "\n",
        "lets first partition our data set"
      ]
    },
    {
      "cell_type": "code",
      "execution_count": 91,
      "metadata": {
        "id": "HZLErE48U9mK"
      },
      "outputs": [
        {
          "data": {
            "text/html": [
              "<div>\n",
              "<style scoped>\n",
              "    .dataframe tbody tr th:only-of-type {\n",
              "        vertical-align: middle;\n",
              "    }\n",
              "\n",
              "    .dataframe tbody tr th {\n",
              "        vertical-align: top;\n",
              "    }\n",
              "\n",
              "    .dataframe thead th {\n",
              "        text-align: right;\n",
              "    }\n",
              "</style>\n",
              "<table border=\"1\" class=\"dataframe\">\n",
              "  <thead>\n",
              "    <tr style=\"text-align: right;\">\n",
              "      <th></th>\n",
              "      <th>drygroceries</th>\n",
              "      <th>milkproducts</th>\n",
              "      <th>drinks</th>\n",
              "    </tr>\n",
              "  </thead>\n",
              "  <tbody>\n",
              "    <tr>\n",
              "      <th>a</th>\n",
              "      <td>pasta</td>\n",
              "      <td>cheese</td>\n",
              "      <td>tea</td>\n",
              "    </tr>\n",
              "    <tr>\n",
              "      <th>b</th>\n",
              "      <td>rice</td>\n",
              "      <td>cream</td>\n",
              "      <td>coffee</td>\n",
              "    </tr>\n",
              "    <tr>\n",
              "      <th>c</th>\n",
              "      <td>coffee</td>\n",
              "      <td>sour cream</td>\n",
              "      <td>water</td>\n",
              "    </tr>\n",
              "    <tr>\n",
              "      <th>pterodactyl</th>\n",
              "      <td>beans</td>\n",
              "      <td>yogurt</td>\n",
              "      <td>juice</td>\n",
              "    </tr>\n",
              "  </tbody>\n",
              "</table>\n",
              "</div>"
            ],
            "text/plain": [
              "            drygroceries milkproducts  drinks\n",
              "a                  pasta       cheese     tea\n",
              "b                   rice        cream  coffee\n",
              "c                 coffee   sour cream   water\n",
              "pterodactyl        beans       yogurt   juice"
            ]
          },
          "execution_count": 91,
          "metadata": {},
          "output_type": "execute_result"
        }
      ],
      "source": [
        "df"
      ]
    },
    {
      "cell_type": "code",
      "execution_count": 92,
      "metadata": {
        "id": "j_5zyvZqQWrZ"
      },
      "outputs": [
        {
          "ename": "KeyError",
          "evalue": "\"None of [Index(['link1', 'link2', 'title'], dtype='object')] are in the [columns]\"",
          "output_type": "error",
          "traceback": [
            "\u001b[1;31m---------------------------------------------------------------------------\u001b[0m",
            "\u001b[1;31mKeyError\u001b[0m                                  Traceback (most recent call last)",
            "\u001b[1;32mc:\\Users\\tbrai\\Dropbox\\github_private\\PythonSocialDataScience\\Session4\\Session_4_Python23.ipynb Cell 114\u001b[0m in \u001b[0;36m<cell line: 1>\u001b[1;34m()\u001b[0m\n\u001b[1;32m----> <a href='vscode-notebook-cell:/c%3A/Users/tbrai/Dropbox/github_private/PythonSocialDataScience/Session4/Session_4_Python23.ipynb#Y214sZmlsZQ%3D%3D?line=0'>1</a>\u001b[0m df1 \u001b[39m=\u001b[39m df\u001b[39m.\u001b[39;49mloc[:, [\u001b[39m'\u001b[39;49m\u001b[39mlink1\u001b[39;49m\u001b[39m'\u001b[39;49m, \u001b[39m'\u001b[39;49m\u001b[39mlink2\u001b[39;49m\u001b[39m'\u001b[39;49m, \u001b[39m'\u001b[39;49m\u001b[39mtitle\u001b[39;49m\u001b[39m'\u001b[39;49m]]\n\u001b[0;32m      <a href='vscode-notebook-cell:/c%3A/Users/tbrai/Dropbox/github_private/PythonSocialDataScience/Session4/Session_4_Python23.ipynb#Y214sZmlsZQ%3D%3D?line=1'>2</a>\u001b[0m df2 \u001b[39m=\u001b[39m df\u001b[39m.\u001b[39mloc[:, [\u001b[39m'\u001b[39m\u001b[39mdate\u001b[39m\u001b[39m'\u001b[39m, \u001b[39m'\u001b[39m\u001b[39mtext\u001b[39m\u001b[39m'\u001b[39m,\u001b[39m'\u001b[39m\u001b[39mlink1\u001b[39m\u001b[39m'\u001b[39m]]\n",
            "File \u001b[1;32mc:\\Users\\tbrai\\Anaconda3\\envs\\py38\\lib\\site-packages\\pandas\\core\\indexing.py:961\u001b[0m, in \u001b[0;36m_LocationIndexer.__getitem__\u001b[1;34m(self, key)\u001b[0m\n\u001b[0;32m    959\u001b[0m     \u001b[39mif\u001b[39;00m \u001b[39mself\u001b[39m\u001b[39m.\u001b[39m_is_scalar_access(key):\n\u001b[0;32m    960\u001b[0m         \u001b[39mreturn\u001b[39;00m \u001b[39mself\u001b[39m\u001b[39m.\u001b[39mobj\u001b[39m.\u001b[39m_get_value(\u001b[39m*\u001b[39mkey, takeable\u001b[39m=\u001b[39m\u001b[39mself\u001b[39m\u001b[39m.\u001b[39m_takeable)\n\u001b[1;32m--> 961\u001b[0m     \u001b[39mreturn\u001b[39;00m \u001b[39mself\u001b[39;49m\u001b[39m.\u001b[39;49m_getitem_tuple(key)\n\u001b[0;32m    962\u001b[0m \u001b[39melse\u001b[39;00m:\n\u001b[0;32m    963\u001b[0m     \u001b[39m# we by definition only have the 0th axis\u001b[39;00m\n\u001b[0;32m    964\u001b[0m     axis \u001b[39m=\u001b[39m \u001b[39mself\u001b[39m\u001b[39m.\u001b[39maxis \u001b[39mor\u001b[39;00m \u001b[39m0\u001b[39m\n",
            "File \u001b[1;32mc:\\Users\\tbrai\\Anaconda3\\envs\\py38\\lib\\site-packages\\pandas\\core\\indexing.py:1149\u001b[0m, in \u001b[0;36m_LocIndexer._getitem_tuple\u001b[1;34m(self, tup)\u001b[0m\n\u001b[0;32m   1146\u001b[0m \u001b[39mif\u001b[39;00m \u001b[39mself\u001b[39m\u001b[39m.\u001b[39m_multi_take_opportunity(tup):\n\u001b[0;32m   1147\u001b[0m     \u001b[39mreturn\u001b[39;00m \u001b[39mself\u001b[39m\u001b[39m.\u001b[39m_multi_take(tup)\n\u001b[1;32m-> 1149\u001b[0m \u001b[39mreturn\u001b[39;00m \u001b[39mself\u001b[39;49m\u001b[39m.\u001b[39;49m_getitem_tuple_same_dim(tup)\n",
            "File \u001b[1;32mc:\\Users\\tbrai\\Anaconda3\\envs\\py38\\lib\\site-packages\\pandas\\core\\indexing.py:827\u001b[0m, in \u001b[0;36m_LocationIndexer._getitem_tuple_same_dim\u001b[1;34m(self, tup)\u001b[0m\n\u001b[0;32m    824\u001b[0m \u001b[39mif\u001b[39;00m com\u001b[39m.\u001b[39mis_null_slice(key):\n\u001b[0;32m    825\u001b[0m     \u001b[39mcontinue\u001b[39;00m\n\u001b[1;32m--> 827\u001b[0m retval \u001b[39m=\u001b[39m \u001b[39mgetattr\u001b[39;49m(retval, \u001b[39mself\u001b[39;49m\u001b[39m.\u001b[39;49mname)\u001b[39m.\u001b[39;49m_getitem_axis(key, axis\u001b[39m=\u001b[39;49mi)\n\u001b[0;32m    828\u001b[0m \u001b[39m# We should never have retval.ndim < self.ndim, as that should\u001b[39;00m\n\u001b[0;32m    829\u001b[0m \u001b[39m#  be handled by the _getitem_lowerdim call above.\u001b[39;00m\n\u001b[0;32m    830\u001b[0m \u001b[39massert\u001b[39;00m retval\u001b[39m.\u001b[39mndim \u001b[39m==\u001b[39m \u001b[39mself\u001b[39m\u001b[39m.\u001b[39mndim\n",
            "File \u001b[1;32mc:\\Users\\tbrai\\Anaconda3\\envs\\py38\\lib\\site-packages\\pandas\\core\\indexing.py:1191\u001b[0m, in \u001b[0;36m_LocIndexer._getitem_axis\u001b[1;34m(self, key, axis)\u001b[0m\n\u001b[0;32m   1188\u001b[0m     \u001b[39mif\u001b[39;00m \u001b[39mhasattr\u001b[39m(key, \u001b[39m\"\u001b[39m\u001b[39mndim\u001b[39m\u001b[39m\"\u001b[39m) \u001b[39mand\u001b[39;00m key\u001b[39m.\u001b[39mndim \u001b[39m>\u001b[39m \u001b[39m1\u001b[39m:\n\u001b[0;32m   1189\u001b[0m         \u001b[39mraise\u001b[39;00m \u001b[39mValueError\u001b[39;00m(\u001b[39m\"\u001b[39m\u001b[39mCannot index with multidimensional key\u001b[39m\u001b[39m\"\u001b[39m)\n\u001b[1;32m-> 1191\u001b[0m     \u001b[39mreturn\u001b[39;00m \u001b[39mself\u001b[39;49m\u001b[39m.\u001b[39;49m_getitem_iterable(key, axis\u001b[39m=\u001b[39;49maxis)\n\u001b[0;32m   1193\u001b[0m \u001b[39m# nested tuple slicing\u001b[39;00m\n\u001b[0;32m   1194\u001b[0m \u001b[39mif\u001b[39;00m is_nested_tuple(key, labels):\n",
            "File \u001b[1;32mc:\\Users\\tbrai\\Anaconda3\\envs\\py38\\lib\\site-packages\\pandas\\core\\indexing.py:1132\u001b[0m, in \u001b[0;36m_LocIndexer._getitem_iterable\u001b[1;34m(self, key, axis)\u001b[0m\n\u001b[0;32m   1129\u001b[0m \u001b[39mself\u001b[39m\u001b[39m.\u001b[39m_validate_key(key, axis)\n\u001b[0;32m   1131\u001b[0m \u001b[39m# A collection of keys\u001b[39;00m\n\u001b[1;32m-> 1132\u001b[0m keyarr, indexer \u001b[39m=\u001b[39m \u001b[39mself\u001b[39;49m\u001b[39m.\u001b[39;49m_get_listlike_indexer(key, axis)\n\u001b[0;32m   1133\u001b[0m \u001b[39mreturn\u001b[39;00m \u001b[39mself\u001b[39m\u001b[39m.\u001b[39mobj\u001b[39m.\u001b[39m_reindex_with_indexers(\n\u001b[0;32m   1134\u001b[0m     {axis: [keyarr, indexer]}, copy\u001b[39m=\u001b[39m\u001b[39mTrue\u001b[39;00m, allow_dups\u001b[39m=\u001b[39m\u001b[39mTrue\u001b[39;00m\n\u001b[0;32m   1135\u001b[0m )\n",
            "File \u001b[1;32mc:\\Users\\tbrai\\Anaconda3\\envs\\py38\\lib\\site-packages\\pandas\\core\\indexing.py:1327\u001b[0m, in \u001b[0;36m_LocIndexer._get_listlike_indexer\u001b[1;34m(self, key, axis)\u001b[0m\n\u001b[0;32m   1324\u001b[0m ax \u001b[39m=\u001b[39m \u001b[39mself\u001b[39m\u001b[39m.\u001b[39mobj\u001b[39m.\u001b[39m_get_axis(axis)\n\u001b[0;32m   1325\u001b[0m axis_name \u001b[39m=\u001b[39m \u001b[39mself\u001b[39m\u001b[39m.\u001b[39mobj\u001b[39m.\u001b[39m_get_axis_name(axis)\n\u001b[1;32m-> 1327\u001b[0m keyarr, indexer \u001b[39m=\u001b[39m ax\u001b[39m.\u001b[39;49m_get_indexer_strict(key, axis_name)\n\u001b[0;32m   1329\u001b[0m \u001b[39mreturn\u001b[39;00m keyarr, indexer\n",
            "File \u001b[1;32mc:\\Users\\tbrai\\Anaconda3\\envs\\py38\\lib\\site-packages\\pandas\\core\\indexes\\base.py:5782\u001b[0m, in \u001b[0;36mIndex._get_indexer_strict\u001b[1;34m(self, key, axis_name)\u001b[0m\n\u001b[0;32m   5779\u001b[0m \u001b[39melse\u001b[39;00m:\n\u001b[0;32m   5780\u001b[0m     keyarr, indexer, new_indexer \u001b[39m=\u001b[39m \u001b[39mself\u001b[39m\u001b[39m.\u001b[39m_reindex_non_unique(keyarr)\n\u001b[1;32m-> 5782\u001b[0m \u001b[39mself\u001b[39;49m\u001b[39m.\u001b[39;49m_raise_if_missing(keyarr, indexer, axis_name)\n\u001b[0;32m   5784\u001b[0m keyarr \u001b[39m=\u001b[39m \u001b[39mself\u001b[39m\u001b[39m.\u001b[39mtake(indexer)\n\u001b[0;32m   5785\u001b[0m \u001b[39mif\u001b[39;00m \u001b[39misinstance\u001b[39m(key, Index):\n\u001b[0;32m   5786\u001b[0m     \u001b[39m# GH 42790 - Preserve name from an Index\u001b[39;00m\n",
            "File \u001b[1;32mc:\\Users\\tbrai\\Anaconda3\\envs\\py38\\lib\\site-packages\\pandas\\core\\indexes\\base.py:5842\u001b[0m, in \u001b[0;36mIndex._raise_if_missing\u001b[1;34m(self, key, indexer, axis_name)\u001b[0m\n\u001b[0;32m   5840\u001b[0m     \u001b[39mif\u001b[39;00m use_interval_msg:\n\u001b[0;32m   5841\u001b[0m         key \u001b[39m=\u001b[39m \u001b[39mlist\u001b[39m(key)\n\u001b[1;32m-> 5842\u001b[0m     \u001b[39mraise\u001b[39;00m \u001b[39mKeyError\u001b[39;00m(\u001b[39mf\u001b[39m\u001b[39m\"\u001b[39m\u001b[39mNone of [\u001b[39m\u001b[39m{\u001b[39;00mkey\u001b[39m}\u001b[39;00m\u001b[39m] are in the [\u001b[39m\u001b[39m{\u001b[39;00maxis_name\u001b[39m}\u001b[39;00m\u001b[39m]\u001b[39m\u001b[39m\"\u001b[39m)\n\u001b[0;32m   5844\u001b[0m not_found \u001b[39m=\u001b[39m \u001b[39mlist\u001b[39m(ensure_index(key)[missing_mask\u001b[39m.\u001b[39mnonzero()[\u001b[39m0\u001b[39m]]\u001b[39m.\u001b[39munique())\n\u001b[0;32m   5845\u001b[0m \u001b[39mraise\u001b[39;00m \u001b[39mKeyError\u001b[39;00m(\u001b[39mf\u001b[39m\u001b[39m\"\u001b[39m\u001b[39m{\u001b[39;00mnot_found\u001b[39m}\u001b[39;00m\u001b[39m not in index\u001b[39m\u001b[39m\"\u001b[39m)\n",
            "\u001b[1;31mKeyError\u001b[0m: \"None of [Index(['link1', 'link2', 'title'], dtype='object')] are in the [columns]\""
          ]
        }
      ],
      "source": [
        "df1 = df.loc[:, ['link1', 'link2', 'title']]\n",
        "df2 = df.loc[:, ['date', 'text','link1']]"
      ]
    },
    {
      "cell_type": "code",
      "execution_count": null,
      "metadata": {
        "id": "EgNgKS5dUlRa"
      },
      "outputs": [],
      "source": [
        "df1"
      ]
    },
    {
      "cell_type": "code",
      "execution_count": null,
      "metadata": {
        "id": "8zWusFc7UmJ7"
      },
      "outputs": [],
      "source": [
        "df2"
      ]
    },
    {
      "cell_type": "markdown",
      "metadata": {
        "id": "eIHZ_PTzQWrZ"
      },
      "source": [
        "### Using `pd.concat`\n",
        "\n",
        "- axis: default is 0, if 1 is used then it means perfom a column-wise concatenation\n"
      ]
    },
    {
      "cell_type": "code",
      "execution_count": null,
      "metadata": {
        "id": "dhlvJJ-mQWrZ"
      },
      "outputs": [],
      "source": [
        "print(df1.shape)\n",
        "print(df2.shape)\n",
        "  "
      ]
    },
    {
      "cell_type": "code",
      "execution_count": null,
      "metadata": {
        "id": "Xn8Pstn9Pt5d"
      },
      "outputs": [],
      "source": [
        "#row wise concatenation\n",
        "\n",
        "print(pd.concat([df1, df2], axis=0, sort=False).shape)\n"
      ]
    },
    {
      "cell_type": "code",
      "execution_count": null,
      "metadata": {
        "id": "FVi-T3DYPwR5"
      },
      "outputs": [],
      "source": [
        "pd.concat([df1, df2], axis=0, sort=False) "
      ]
    },
    {
      "cell_type": "code",
      "execution_count": null,
      "metadata": {
        "id": "7ONTg-CpQWrZ"
      },
      "outputs": [],
      "source": [
        "print(df1.shape)\n",
        "print(df2.shape)\n",
        "print(pd.concat([df1, df2], axis=1).shape)\n",
        "\n",
        "pd.concat([df1, df2], axis=1)"
      ]
    },
    {
      "cell_type": "code",
      "execution_count": null,
      "metadata": {
        "id": "xaFDOxjWQWrZ"
      },
      "outputs": [],
      "source": [
        "df3 = df.sample(10).loc[:, ['keywords', 'score']]"
      ]
    },
    {
      "cell_type": "code",
      "execution_count": null,
      "metadata": {
        "id": "JtnA_YDyQWrZ"
      },
      "outputs": [],
      "source": [
        "pd.concat([df1, df2, df3], axis=1).info()\n",
        "# Check: why are there differing numbers of NAs?"
      ]
    },
    {
      "cell_type": "code",
      "execution_count": null,
      "metadata": {
        "id": "Aic2V9F9QWrZ"
      },
      "outputs": [],
      "source": [
        "# Check: How many columns, rows, and NAs will the following have?\n",
        "pd.concat([df1, df2, df3], axis=0).info()"
      ]
    },
    {
      "cell_type": "markdown",
      "metadata": {
        "id": "RTEz45CwQWrZ"
      },
      "source": [
        "### `pd.merge`"
      ]
    },
    {
      "cell_type": "code",
      "execution_count": null,
      "metadata": {
        "id": "DHCz3245QWrZ"
      },
      "outputs": [],
      "source": [
        "pd.merge(df1, df2, on=\"link1\")"
      ]
    },
    {
      "cell_type": "code",
      "execution_count": null,
      "metadata": {
        "id": "_ApPno5ZQWrZ"
      },
      "outputs": [],
      "source": [
        "df4 = df.sample(10).loc[:, ['date', 'link1']]"
      ]
    },
    {
      "cell_type": "code",
      "execution_count": null,
      "metadata": {
        "id": "3NdnlXU_Rdgy"
      },
      "outputs": [],
      "source": [
        "df1"
      ]
    },
    {
      "cell_type": "code",
      "execution_count": null,
      "metadata": {
        "id": "dK9pSnf5RrPc"
      },
      "outputs": [],
      "source": [
        "#delete from here"
      ]
    },
    {
      "cell_type": "code",
      "execution_count": null,
      "metadata": {
        "id": "1tb_jTPtQWrZ"
      },
      "outputs": [],
      "source": [
        "print(df1.index)\n",
        "print(df4.index)\n",
        "for join in ['inner', 'left', 'right', 'outer']:\n",
        "    print(pd.merge(df1, df4, how=join, on=\"link1\").shape)"
      ]
    },
    {
      "cell_type": "code",
      "execution_count": null,
      "metadata": {
        "id": "-cA9taMVQWrZ"
      },
      "outputs": [],
      "source": [
        "df4 = df4.rename({'finalserialno':'serialno'}, axis=1)\n",
        "df4"
      ]
    },
    {
      "cell_type": "code",
      "execution_count": null,
      "metadata": {
        "id": "pg0KPMhOQWra"
      },
      "outputs": [],
      "source": [
        "pd.merge(\n",
        "    df3, df4,\n",
        "    how=\"outer\", left_on=\"finalserialno\", right_on='serialno')"
      ]
    },
    {
      "cell_type": "code",
      "execution_count": null,
      "metadata": {
        "id": "djfN5HuPQWra"
      },
      "outputs": [],
      "source": [
        "# Can check the same with set operations\n",
        "len(set(df3['finalserialno']).intersection(set(df4['serialno'])))"
      ]
    },
    {
      "cell_type": "markdown",
      "metadata": {
        "id": "dCF0cqPxQWra"
      },
      "source": [
        "**Task**:\n",
        "\n",
        "Sample 100 rows of `df` to create a new dataframe and call it `df5`.\n",
        "\n",
        "Left-join `df5` on `df` on a unique key. How many rows and columns are in the resulting dataframe?"
      ]
    },
    {
      "cell_type": "markdown",
      "metadata": {
        "id": "C3v3R-eQUiGz"
      },
      "source": [
        "# Visualization"
      ]
    },
    {
      "cell_type": "markdown",
      "metadata": {
        "id": "JcRUtwIKSxXj"
      },
      "source": [
        "## lets clean our text first through a loop\n",
        "\n",
        "Task:\n",
        "\n",
        "1. Lower case\n",
        "2. Split text by white space\n",
        "3. remove numbers and punctuation\n",
        "4. remove german stopwords"
      ]
    },
    {
      "cell_type": "code",
      "execution_count": 93,
      "metadata": {
        "id": "D1sFZNqTSwxh"
      },
      "outputs": [
        {
          "name": "stderr",
          "output_type": "stream",
          "text": [
            "[nltk_data] Downloading package stopwords to\n",
            "[nltk_data]     C:\\Users\\tbrai\\AppData\\Roaming\\nltk_data...\n",
            "[nltk_data]   Unzipping corpora\\stopwords.zip.\n",
            "[nltk_data] Downloading package punkt to\n",
            "[nltk_data]     C:\\Users\\tbrai\\AppData\\Roaming\\nltk_data...\n",
            "[nltk_data]   Unzipping tokenizers\\punkt.zip.\n"
          ]
        },
        {
          "data": {
            "text/plain": [
              "True"
            ]
          },
          "execution_count": 93,
          "metadata": {},
          "output_type": "execute_result"
        }
      ],
      "source": [
        "import string\n",
        "exclude = set(string.punctuation) # if you see this not part of the punctuation -->”\n",
        "import nltk\n",
        "nltk.download('stopwords') #you can also download all libraries in nltk at once\n",
        "from nltk.corpus import stopwords\n",
        "stop_word_list = stopwords.words('german')\n",
        "nltk.download('punkt')\n",
        "\n",
        "\n",
        "\n"
      ]
    },
    {
      "cell_type": "code",
      "execution_count": null,
      "metadata": {},
      "outputs": [],
      "source": [
        "def nlpsimplepipeline(text):\n",
        "    text = text.lower()\n",
        "    text = text.split()\n",
        "    text = [token for token in text if token not in exclude and token.isalpha()]\n",
        "    text = [token for token in text if token not in stop_words_list]\n",
        "    return(text)"
      ]
    },
    {
      "cell_type": "code",
      "execution_count": 94,
      "metadata": {
        "id": "H-qMxNOjQxzt"
      },
      "outputs": [
        {
          "data": {
            "text/html": [
              "<div>\n",
              "<style scoped>\n",
              "    .dataframe tbody tr th:only-of-type {\n",
              "        vertical-align: middle;\n",
              "    }\n",
              "\n",
              "    .dataframe tbody tr th {\n",
              "        vertical-align: top;\n",
              "    }\n",
              "\n",
              "    .dataframe thead th {\n",
              "        text-align: right;\n",
              "    }\n",
              "</style>\n",
              "<table border=\"1\" class=\"dataframe\">\n",
              "  <thead>\n",
              "    <tr style=\"text-align: right;\">\n",
              "      <th></th>\n",
              "      <th>0</th>\n",
              "      <th>1</th>\n",
              "      <th>2</th>\n",
              "      <th>3</th>\n",
              "      <th>4</th>\n",
              "      <th>5</th>\n",
              "      <th>6</th>\n",
              "      <th>7</th>\n",
              "      <th>8</th>\n",
              "    </tr>\n",
              "  </thead>\n",
              "  <tbody>\n",
              "    <tr>\n",
              "      <th>0</th>\n",
              "      <td>http://de.sputniknews.compolitik/2016010730696...</td>\n",
              "      <td>http://web.archive.org/web/20170227192503/http...</td>\n",
              "      <td>20160107</td>\n",
              "      <td>FDP-Chef Lindner: Merkels Flüchtlingspolitik f...</td>\n",
              "      <td>Der Satz „Wir schaffen das“ der Bundeskanzleri...</td>\n",
              "      <td>OVER-THRESHOLD</td>\n",
              "      <td>flüchtlingen migranten flüchtlinge</td>\n",
              "      <td>70</td>\n",
              "      <td>0.572646</td>\n",
              "    </tr>\n",
              "    <tr>\n",
              "      <th>1</th>\n",
              "      <td>http://de.sputniknews.com/panorama/20150210/30...</td>\n",
              "      <td>http://web.archive.org/web/20150315163311/http...</td>\n",
              "      <td>20150210</td>\n",
              "      <td>Experte: Rund 1,3 Millionen wehrpflichtige Ukr...</td>\n",
              "      <td>In letzter Zeit sei knapp einer halben Million...</td>\n",
              "      <td>OVER-THRESHOLD</td>\n",
              "      <td>flüchtlingsstatus asyl flüchtlinge</td>\n",
              "      <td>43</td>\n",
              "      <td>0.549350</td>\n",
              "    </tr>\n",
              "    <tr>\n",
              "      <th>2</th>\n",
              "      <td>http://de.sputniknews.compolitik/2018111732299...</td>\n",
              "      <td>http://web.archive.org/web/20181117160304/http...</td>\n",
              "      <td>20181117</td>\n",
              "      <td>So präzisiert Nahles ihre Idee für Hartz IV-Al...</td>\n",
              "      <td>{                    \\vars\\\": {               ...</td>\n",
              "      <td>OVER-THRESHOLD</td>\n",
              "      <td>migration</td>\n",
              "      <td>884</td>\n",
              "      <td>0.549179</td>\n",
              "    </tr>\n",
              "    <tr>\n",
              "      <th>3</th>\n",
              "      <td>http://de.sputniknews.compolitik/2018110932290...</td>\n",
              "      <td>http://web.archive.org/web/20181123020955/http...</td>\n",
              "      <td>20181109</td>\n",
              "      <td>Trump beschränkt drastisch Asylgewährung für i...</td>\n",
              "      <td>{                    \\vars\\\": {               ...</td>\n",
              "      <td>OVER-THRESHOLD</td>\n",
              "      <td>einwanderer migranten asyl</td>\n",
              "      <td>998</td>\n",
              "      <td>0.548637</td>\n",
              "    </tr>\n",
              "    <tr>\n",
              "      <th>4</th>\n",
              "      <td>http://de.sputniknews.compolitik/2016030630828...</td>\n",
              "      <td>http://web.archive.org/web/20181126055753/http...</td>\n",
              "      <td>20160306</td>\n",
              "      <td>Österreich drängt auf deutsches Flüchtlingskon...</td>\n",
              "      <td>{                    \\vars\\\": {               ...</td>\n",
              "      <td>OVER-THRESHOLD</td>\n",
              "      <td>asyl flüchtlinge migranten asylanträge flüchtl...</td>\n",
              "      <td>699</td>\n",
              "      <td>0.547927</td>\n",
              "    </tr>\n",
              "    <tr>\n",
              "      <th>5</th>\n",
              "      <td>http://de.sputniknews.compolitik/2015101630498...</td>\n",
              "      <td>http://web.archive.org/web/20181123212339/http...</td>\n",
              "      <td>20151016</td>\n",
              "      <td>Migrationskrise: Warschau wehrt sich gegen Mer...</td>\n",
              "      <td>{                    \\vars\\\": {               ...</td>\n",
              "      <td>OVER-THRESHOLD</td>\n",
              "      <td>flüchtlingen migrationskrise migranten flüchtl...</td>\n",
              "      <td>805</td>\n",
              "      <td>0.544957</td>\n",
              "    </tr>\n",
              "    <tr>\n",
              "      <th>6</th>\n",
              "      <td>http://de.sputniknews.comkarikatur/20151020305...</td>\n",
              "      <td>http://web.archive.org/web/20181201153825/http...</td>\n",
              "      <td>20151020</td>\n",
              "      <td>Flüchtlingskrise: Ist Abriegeln eine Lösung?</td>\n",
              "      <td>{                    \\vars\\\": {               ...</td>\n",
              "      <td>OVER-THRESHOLD</td>\n",
              "      <td>migrationsproblem asylpolitik flüchtlinge</td>\n",
              "      <td>522</td>\n",
              "      <td>0.544158</td>\n",
              "    </tr>\n",
              "    <tr>\n",
              "      <th>7</th>\n",
              "      <td>http://de.sputniknews.com/german.ruvr.ru/news/...</td>\n",
              "      <td>http://web.archive.org/web/20150726055154/http...</td>\n",
              "      <td>20140106</td>\n",
              "      <td>Großbritannien will EU-Freizügigkeit verhindern</td>\n",
              "      <td>Foto: EPA STIMME RUSSLANDS Die Regierung Großb...</td>\n",
              "      <td>OVER-THRESHOLD</td>\n",
              "      <td>migranten</td>\n",
              "      <td>83</td>\n",
              "      <td>0.544010</td>\n",
              "    </tr>\n",
              "    <tr>\n",
              "      <th>8</th>\n",
              "      <td>http://de.sputniknews.compolitik/2018081332193...</td>\n",
              "      <td>http://web.archive.org/web/20180813172522/http...</td>\n",
              "      <td>20180813</td>\n",
              "      <td>Rückkehr von Flüchtlingen: Syrischer Minister ...</td>\n",
              "      <td>Der syrische Minister für lokale Verwaltung un...</td>\n",
              "      <td>OVER-THRESHOLD</td>\n",
              "      <td>flüchtlingen flüchtlinge</td>\n",
              "      <td>163</td>\n",
              "      <td>0.543707</td>\n",
              "    </tr>\n",
              "    <tr>\n",
              "      <th>9</th>\n",
              "      <td>http://de.sputniknews.compolitik/2017021931460...</td>\n",
              "      <td>http://web.archive.org/web/20170324060955/http...</td>\n",
              "      <td>20170219</td>\n",
              "      <td>USA verschärfen Asyl-Recht</td>\n",
              "      <td>Nach dem US-Gesetz „Immigration and Nationalit...</td>\n",
              "      <td>OVER-THRESHOLD</td>\n",
              "      <td>migration asylbewerber</td>\n",
              "      <td>79</td>\n",
              "      <td>0.543063</td>\n",
              "    </tr>\n",
              "    <tr>\n",
              "      <th>10</th>\n",
              "      <td>http://de.sputniknews.companorama/201512283068...</td>\n",
              "      <td>http://web.archive.org/web/20181123231931/http...</td>\n",
              "      <td>20151228</td>\n",
              "      <td>Dänemark will die Flüchtlingskonvention ändern</td>\n",
              "      <td>{                    \\vars\\\": {               ...</td>\n",
              "      <td>OVER-THRESHOLD</td>\n",
              "      <td>flüchtlingskrise asyl flüchtlinge</td>\n",
              "      <td>981</td>\n",
              "      <td>0.541940</td>\n",
              "    </tr>\n",
              "    <tr>\n",
              "      <th>11</th>\n",
              "      <td>http://de.sputniknews.compolitik/2016061431060...</td>\n",
              "      <td>http://web.archive.org/web/20171008021814/http...</td>\n",
              "      <td>20160614</td>\n",
              "      <td>Glaube darf nicht über Gesetz stehen: Bundesju...</td>\n",
              "      <td>Bundesjustizminister Heiko Maas will Mehrfach-...</td>\n",
              "      <td>OVER-THRESHOLD</td>\n",
              "      <td>migranten</td>\n",
              "      <td>135</td>\n",
              "      <td>0.539771</td>\n",
              "    </tr>\n",
              "    <tr>\n",
              "      <th>12</th>\n",
              "      <td>http://de.sputniknews.comgesellschaft/20181210...</td>\n",
              "      <td>http://web.archive.org/web/20181210233556/http...</td>\n",
              "      <td>20181210</td>\n",
              "      <td>Gibt es ein Menschenrecht auf Migration?</td>\n",
              "      <td>{                    \\vars\\\": {               ...</td>\n",
              "      <td>OVER-THRESHOLD</td>\n",
              "      <td>flüchtlingen asyl einwanderung flucht flüchtli...</td>\n",
              "      <td>1461</td>\n",
              "      <td>0.537198</td>\n",
              "    </tr>\n",
              "    <tr>\n",
              "      <th>13</th>\n",
              "      <td>http://de.sputniknews.compolitik/2015110230534...</td>\n",
              "      <td>http://web.archive.org/web/20181201040148/http...</td>\n",
              "      <td>20151102</td>\n",
              "      <td>Kabul nimmt abgelehnte Asylbewerber aus Deutsc...</td>\n",
              "      <td>{                    \\vars\\\": {               ...</td>\n",
              "      <td>OVER-THRESHOLD</td>\n",
              "      <td>migrationsproblem asylbewerber flüchtlinge</td>\n",
              "      <td>801</td>\n",
              "      <td>0.536986</td>\n",
              "    </tr>\n",
              "    <tr>\n",
              "      <th>14</th>\n",
              "      <td>http://de.sputniknews.companorama/201703073148...</td>\n",
              "      <td>http://web.archive.org/web/20170307115432/http...</td>\n",
              "      <td>20170307</td>\n",
              "      <td>EuGH-Urteil: Keine \\humanitären Visa\\\" in EU-A...</td>\n",
              "      <td>Die Behörde argumentierte, dass sich die Famil...</td>\n",
              "      <td>OVER-THRESHOLD</td>\n",
              "      <td>asylanträge asyl</td>\n",
              "      <td>116</td>\n",
              "      <td>0.536182</td>\n",
              "    </tr>\n",
              "    <tr>\n",
              "      <th>15</th>\n",
              "      <td>http://de.sputniknews.compolitik/2017020731442...</td>\n",
              "      <td>http://web.archive.org/web/20170209143833/http...</td>\n",
              "      <td>20170207</td>\n",
              "      <td>Kalifornien und Trump erklären einander den Kr...</td>\n",
              "      <td>„Das ist lächerlich“, so Trump über Kalifornie...</td>\n",
              "      <td>OVER-THRESHOLD</td>\n",
              "      <td>migranten</td>\n",
              "      <td>174</td>\n",
              "      <td>0.536121</td>\n",
              "    </tr>\n",
              "    <tr>\n",
              "      <th>16</th>\n",
              "      <td>http://de.sputniknews.comgesellschaft/20180619...</td>\n",
              "      <td>http://web.archive.org/web/20181225062127/http...</td>\n",
              "      <td>20180619</td>\n",
              "      <td>Kinder von Eltern zu trennen ist skrupellos – ...</td>\n",
              "      <td>{                    \\vars\\\": {               ...</td>\n",
              "      <td>OVER-THRESHOLD</td>\n",
              "      <td>einwanderer migranten</td>\n",
              "      <td>980</td>\n",
              "      <td>0.533417</td>\n",
              "    </tr>\n",
              "    <tr>\n",
              "      <th>17</th>\n",
              "      <td>http://de.sputniknews.compolitik/2018091432231...</td>\n",
              "      <td>http://web.archive.org/web/20180914185523/http...</td>\n",
              "      <td>20180914</td>\n",
              "      <td>EU will Ungarn „Recht auf Kontrolle eigener Gr...</td>\n",
              "      <td>Das EU-Rechtsstaatsverfahren gegen Ungarn stel...</td>\n",
              "      <td>OVER-THRESHOLD</td>\n",
              "      <td>flüchtlingen flüchtlingspolitik flüchtlinge</td>\n",
              "      <td>179</td>\n",
              "      <td>0.532563</td>\n",
              "    </tr>\n",
              "    <tr>\n",
              "      <th>18</th>\n",
              "      <td>http://de.sputniknews.com/german.ruvr.ru/2013_...</td>\n",
              "      <td>http://web.archive.org/web/20150722052852/http...</td>\n",
              "      <td>20131106</td>\n",
              "      <td>Festung Europa - von Migranten und Flüchtlingen</td>\n",
              "      <td>Foto: Aziz Bozkurt STIMME RUSSLANDS Flüchtling...</td>\n",
              "      <td>OVER-THRESHOLD</td>\n",
              "      <td>migration asylbewerber flüchtlinge</td>\n",
              "      <td>61</td>\n",
              "      <td>0.532313</td>\n",
              "    </tr>\n",
              "    <tr>\n",
              "      <th>19</th>\n",
              "      <td>http://de.sputniknews.companorama/201707153166...</td>\n",
              "      <td>http://web.archive.org/web/20170715150527/http...</td>\n",
              "      <td>20170715</td>\n",
              "      <td>Selbstanzeigen unter Flüchtlingen „wegen Terro...</td>\n",
              "      <td>Mehr als 408.000 Asylanträge hat das Bundesamt...</td>\n",
              "      <td>OVER-THRESHOLD</td>\n",
              "      <td>asylanträge migration asylbewerber flüchtlinge</td>\n",
              "      <td>128</td>\n",
              "      <td>0.531923</td>\n",
              "    </tr>\n",
              "  </tbody>\n",
              "</table>\n",
              "</div>"
            ],
            "text/plain": [
              "                                                    0  \\\n",
              "0   http://de.sputniknews.compolitik/2016010730696...   \n",
              "1   http://de.sputniknews.com/panorama/20150210/30...   \n",
              "2   http://de.sputniknews.compolitik/2018111732299...   \n",
              "3   http://de.sputniknews.compolitik/2018110932290...   \n",
              "4   http://de.sputniknews.compolitik/2016030630828...   \n",
              "5   http://de.sputniknews.compolitik/2015101630498...   \n",
              "6   http://de.sputniknews.comkarikatur/20151020305...   \n",
              "7   http://de.sputniknews.com/german.ruvr.ru/news/...   \n",
              "8   http://de.sputniknews.compolitik/2018081332193...   \n",
              "9   http://de.sputniknews.compolitik/2017021931460...   \n",
              "10  http://de.sputniknews.companorama/201512283068...   \n",
              "11  http://de.sputniknews.compolitik/2016061431060...   \n",
              "12  http://de.sputniknews.comgesellschaft/20181210...   \n",
              "13  http://de.sputniknews.compolitik/2015110230534...   \n",
              "14  http://de.sputniknews.companorama/201703073148...   \n",
              "15  http://de.sputniknews.compolitik/2017020731442...   \n",
              "16  http://de.sputniknews.comgesellschaft/20180619...   \n",
              "17  http://de.sputniknews.compolitik/2018091432231...   \n",
              "18  http://de.sputniknews.com/german.ruvr.ru/2013_...   \n",
              "19  http://de.sputniknews.companorama/201707153166...   \n",
              "\n",
              "                                                    1         2  \\\n",
              "0   http://web.archive.org/web/20170227192503/http...  20160107   \n",
              "1   http://web.archive.org/web/20150315163311/http...  20150210   \n",
              "2   http://web.archive.org/web/20181117160304/http...  20181117   \n",
              "3   http://web.archive.org/web/20181123020955/http...  20181109   \n",
              "4   http://web.archive.org/web/20181126055753/http...  20160306   \n",
              "5   http://web.archive.org/web/20181123212339/http...  20151016   \n",
              "6   http://web.archive.org/web/20181201153825/http...  20151020   \n",
              "7   http://web.archive.org/web/20150726055154/http...  20140106   \n",
              "8   http://web.archive.org/web/20180813172522/http...  20180813   \n",
              "9   http://web.archive.org/web/20170324060955/http...  20170219   \n",
              "10  http://web.archive.org/web/20181123231931/http...  20151228   \n",
              "11  http://web.archive.org/web/20171008021814/http...  20160614   \n",
              "12  http://web.archive.org/web/20181210233556/http...  20181210   \n",
              "13  http://web.archive.org/web/20181201040148/http...  20151102   \n",
              "14  http://web.archive.org/web/20170307115432/http...  20170307   \n",
              "15  http://web.archive.org/web/20170209143833/http...  20170207   \n",
              "16  http://web.archive.org/web/20181225062127/http...  20180619   \n",
              "17  http://web.archive.org/web/20180914185523/http...  20180914   \n",
              "18  http://web.archive.org/web/20150722052852/http...  20131106   \n",
              "19  http://web.archive.org/web/20170715150527/http...  20170715   \n",
              "\n",
              "                                                    3  \\\n",
              "0   FDP-Chef Lindner: Merkels Flüchtlingspolitik f...   \n",
              "1   Experte: Rund 1,3 Millionen wehrpflichtige Ukr...   \n",
              "2   So präzisiert Nahles ihre Idee für Hartz IV-Al...   \n",
              "3   Trump beschränkt drastisch Asylgewährung für i...   \n",
              "4   Österreich drängt auf deutsches Flüchtlingskon...   \n",
              "5   Migrationskrise: Warschau wehrt sich gegen Mer...   \n",
              "6        Flüchtlingskrise: Ist Abriegeln eine Lösung?   \n",
              "7     Großbritannien will EU-Freizügigkeit verhindern   \n",
              "8   Rückkehr von Flüchtlingen: Syrischer Minister ...   \n",
              "9                          USA verschärfen Asyl-Recht   \n",
              "10     Dänemark will die Flüchtlingskonvention ändern   \n",
              "11  Glaube darf nicht über Gesetz stehen: Bundesju...   \n",
              "12           Gibt es ein Menschenrecht auf Migration?   \n",
              "13  Kabul nimmt abgelehnte Asylbewerber aus Deutsc...   \n",
              "14  EuGH-Urteil: Keine \\humanitären Visa\\\" in EU-A...   \n",
              "15  Kalifornien und Trump erklären einander den Kr...   \n",
              "16  Kinder von Eltern zu trennen ist skrupellos – ...   \n",
              "17  EU will Ungarn „Recht auf Kontrolle eigener Gr...   \n",
              "18    Festung Europa - von Migranten und Flüchtlingen   \n",
              "19  Selbstanzeigen unter Flüchtlingen „wegen Terro...   \n",
              "\n",
              "                                                    4               5  \\\n",
              "0   Der Satz „Wir schaffen das“ der Bundeskanzleri...  OVER-THRESHOLD   \n",
              "1   In letzter Zeit sei knapp einer halben Million...  OVER-THRESHOLD   \n",
              "2   {                    \\vars\\\": {               ...  OVER-THRESHOLD   \n",
              "3   {                    \\vars\\\": {               ...  OVER-THRESHOLD   \n",
              "4   {                    \\vars\\\": {               ...  OVER-THRESHOLD   \n",
              "5   {                    \\vars\\\": {               ...  OVER-THRESHOLD   \n",
              "6   {                    \\vars\\\": {               ...  OVER-THRESHOLD   \n",
              "7   Foto: EPA STIMME RUSSLANDS Die Regierung Großb...  OVER-THRESHOLD   \n",
              "8   Der syrische Minister für lokale Verwaltung un...  OVER-THRESHOLD   \n",
              "9   Nach dem US-Gesetz „Immigration and Nationalit...  OVER-THRESHOLD   \n",
              "10  {                    \\vars\\\": {               ...  OVER-THRESHOLD   \n",
              "11  Bundesjustizminister Heiko Maas will Mehrfach-...  OVER-THRESHOLD   \n",
              "12  {                    \\vars\\\": {               ...  OVER-THRESHOLD   \n",
              "13  {                    \\vars\\\": {               ...  OVER-THRESHOLD   \n",
              "14  Die Behörde argumentierte, dass sich die Famil...  OVER-THRESHOLD   \n",
              "15  „Das ist lächerlich“, so Trump über Kalifornie...  OVER-THRESHOLD   \n",
              "16  {                    \\vars\\\": {               ...  OVER-THRESHOLD   \n",
              "17  Das EU-Rechtsstaatsverfahren gegen Ungarn stel...  OVER-THRESHOLD   \n",
              "18  Foto: Aziz Bozkurt STIMME RUSSLANDS Flüchtling...  OVER-THRESHOLD   \n",
              "19  Mehr als 408.000 Asylanträge hat das Bundesamt...  OVER-THRESHOLD   \n",
              "\n",
              "                                                    6     7         8  \n",
              "0                  flüchtlingen migranten flüchtlinge    70  0.572646  \n",
              "1                  flüchtlingsstatus asyl flüchtlinge    43  0.549350  \n",
              "2                                           migration   884  0.549179  \n",
              "3                          einwanderer migranten asyl   998  0.548637  \n",
              "4   asyl flüchtlinge migranten asylanträge flüchtl...   699  0.547927  \n",
              "5   flüchtlingen migrationskrise migranten flüchtl...   805  0.544957  \n",
              "6           migrationsproblem asylpolitik flüchtlinge   522  0.544158  \n",
              "7                                           migranten    83  0.544010  \n",
              "8                            flüchtlingen flüchtlinge   163  0.543707  \n",
              "9                              migration asylbewerber    79  0.543063  \n",
              "10                  flüchtlingskrise asyl flüchtlinge   981  0.541940  \n",
              "11                                          migranten   135  0.539771  \n",
              "12  flüchtlingen asyl einwanderung flucht flüchtli...  1461  0.537198  \n",
              "13         migrationsproblem asylbewerber flüchtlinge   801  0.536986  \n",
              "14                                   asylanträge asyl   116  0.536182  \n",
              "15                                          migranten   174  0.536121  \n",
              "16                              einwanderer migranten   980  0.533417  \n",
              "17        flüchtlingen flüchtlingspolitik flüchtlinge   179  0.532563  \n",
              "18                 migration asylbewerber flüchtlinge    61  0.532313  \n",
              "19     asylanträge migration asylbewerber flüchtlinge   128  0.531923  "
            ]
          },
          "execution_count": 94,
          "metadata": {},
          "output_type": "execute_result"
        }
      ],
      "source": [
        "dataframe = pd.read_csv('Data/sputnikgerman20.tsv',sep='\\t',header=None)\n",
        "dataframe"
      ]
    },
    {
      "cell_type": "markdown",
      "metadata": {
        "id": "-JfZ1qKTrdaU"
      },
      "source": [
        "Now lets count the 10 most common words"
      ]
    },
    {
      "cell_type": "markdown",
      "metadata": {
        "id": "J_8aIntLrhov"
      },
      "source": [
        "Next lets plot the 10 most common words"
      ]
    },
    {
      "cell_type": "code",
      "execution_count": null,
      "metadata": {
        "id": "L7XPPrAtMvcP"
      },
      "outputs": [],
      "source": [
        "dataframe[\"cleandatatitle\"]=dataframe[3].apply(nlpsimplepipeline)"
      ]
    },
    {
      "cell_type": "code",
      "execution_count": null,
      "metadata": {
        "id": "mPbmEdZIMvZx"
      },
      "outputs": [],
      "source": []
    },
    {
      "cell_type": "code",
      "execution_count": null,
      "metadata": {
        "id": "mCa_J55qMvXb"
      },
      "outputs": [],
      "source": []
    },
    {
      "cell_type": "code",
      "execution_count": null,
      "metadata": {
        "id": "JNz-KCHFMvVH"
      },
      "outputs": [],
      "source": []
    },
    {
      "cell_type": "code",
      "execution_count": null,
      "metadata": {
        "id": "F26HRN-FrkuH"
      },
      "outputs": [],
      "source": []
    },
    {
      "cell_type": "code",
      "execution_count": null,
      "metadata": {
        "id": "tGumbTzkrkr6"
      },
      "outputs": [],
      "source": []
    },
    {
      "cell_type": "code",
      "execution_count": null,
      "metadata": {
        "id": "KaWAzI1prkpr"
      },
      "outputs": [],
      "source": []
    },
    {
      "cell_type": "code",
      "execution_count": null,
      "metadata": {
        "id": "EmQ9sKHprklt"
      },
      "outputs": [],
      "source": []
    },
    {
      "cell_type": "code",
      "execution_count": null,
      "metadata": {
        "id": "1qDUlZtrrkjt"
      },
      "outputs": [],
      "source": []
    },
    {
      "cell_type": "code",
      "execution_count": null,
      "metadata": {
        "id": "0_Lp9Dulrkhg"
      },
      "outputs": [],
      "source": []
    },
    {
      "cell_type": "code",
      "execution_count": null,
      "metadata": {
        "id": "jswzTUL1rpLA"
      },
      "outputs": [],
      "source": []
    },
    {
      "cell_type": "code",
      "execution_count": null,
      "metadata": {
        "id": "_yvi6FqcrpI2"
      },
      "outputs": [],
      "source": []
    },
    {
      "cell_type": "code",
      "execution_count": null,
      "metadata": {
        "id": "_U9xjtjCrpGl"
      },
      "outputs": [],
      "source": []
    },
    {
      "cell_type": "code",
      "execution_count": null,
      "metadata": {
        "id": "IFN4B5KKrpEf"
      },
      "outputs": [],
      "source": []
    },
    {
      "cell_type": "code",
      "execution_count": null,
      "metadata": {
        "id": "Q6C-dT8drpCS"
      },
      "outputs": [],
      "source": []
    },
    {
      "cell_type": "code",
      "execution_count": null,
      "metadata": {
        "id": "qGzZCxT1ro_9"
      },
      "outputs": [],
      "source": []
    },
    {
      "cell_type": "code",
      "execution_count": null,
      "metadata": {
        "id": "SU9L59Rnro94"
      },
      "outputs": [],
      "source": []
    },
    {
      "cell_type": "code",
      "execution_count": null,
      "metadata": {
        "id": "UvtIodBjro7h"
      },
      "outputs": [],
      "source": []
    },
    {
      "cell_type": "code",
      "execution_count": null,
      "metadata": {
        "id": "Ob_2hlAOro5b"
      },
      "outputs": [],
      "source": []
    },
    {
      "cell_type": "code",
      "execution_count": null,
      "metadata": {
        "id": "610ulHlhro3F"
      },
      "outputs": [],
      "source": []
    },
    {
      "cell_type": "code",
      "execution_count": null,
      "metadata": {
        "id": "ZPIlaP7tro0v"
      },
      "outputs": [],
      "source": []
    },
    {
      "cell_type": "code",
      "execution_count": null,
      "metadata": {
        "id": "0frYGcNmroyd"
      },
      "outputs": [],
      "source": []
    },
    {
      "cell_type": "code",
      "execution_count": null,
      "metadata": {
        "id": "-EG-VNEsrowU"
      },
      "outputs": [],
      "source": []
    },
    {
      "cell_type": "code",
      "execution_count": null,
      "metadata": {
        "id": "hoQic-Ihrot2"
      },
      "outputs": [],
      "source": []
    },
    {
      "cell_type": "code",
      "execution_count": null,
      "metadata": {
        "id": "MbvjeTYnrkW7"
      },
      "outputs": [],
      "source": []
    },
    {
      "cell_type": "code",
      "execution_count": null,
      "metadata": {
        "id": "Z-SEi267MvSn"
      },
      "outputs": [],
      "source": []
    },
    {
      "cell_type": "markdown",
      "metadata": {
        "id": "vSenYPWESLfk"
      },
      "source": [
        "Sources\n",
        "\n",
        "http://introtopython.org/dictionaries.html#Looping-through-a-dictionary"
      ]
    },
    {
      "cell_type": "markdown",
      "metadata": {
        "id": "S9Cq5hGGMs53"
      },
      "source": [
        "Musashi Harakuwa 2020 Teaching Material"
      ]
    }
  ],
  "metadata": {
    "colab": {
      "authorship_tag": "ABX9TyM/sAeXaZJgAAelJY49zQe0",
      "include_colab_link": true,
      "mount_file_id": "1bcggm9lgIedubMkXT7GtY30wzAw4bAXn",
      "provenance": [],
      "toc_visible": true
    },
    "kernelspec": {
      "display_name": "py38",
      "language": "python",
      "name": "python3"
    },
    "language_info": {
      "codemirror_mode": {
        "name": "ipython",
        "version": 3
      },
      "file_extension": ".py",
      "mimetype": "text/x-python",
      "name": "python",
      "nbconvert_exporter": "python",
      "pygments_lexer": "ipython3",
      "version": "3.8.13"
    },
    "vscode": {
      "interpreter": {
        "hash": "bc78925e4e04b0d8d1e3f63c6d3274eb1d31795a10ccbdd7685240eaba8fc97b"
      }
    }
  },
  "nbformat": 4,
  "nbformat_minor": 0
}
